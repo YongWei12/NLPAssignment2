{
  "nbformat": 4,
  "nbformat_minor": 0,
  "metadata": {
    "kernelspec": {
      "display_name": "Python 3",
      "language": "python",
      "name": "python3"
    },
    "language_info": {
      "codemirror_mode": {
        "name": "ipython",
        "version": 3
      },
      "file_extension": ".py",
      "mimetype": "text/x-python",
      "name": "python",
      "nbconvert_exporter": "python",
      "pygments_lexer": "ipython3",
      "version": "3.6.4"
    },
    "colab": {
      "name": "q2_part_1to3.ipynb",
      "provenance": [],
      "collapsed_sections": [
        "Oqnoy0Um8Bvk"
      ]
    },
    "accelerator": "GPU"
  },
  "cells": [
    {
      "cell_type": "markdown",
      "metadata": {
        "id": "JOJnPECY8BvX"
      },
      "source": [
        "# End-to-end Sequence Labeling via Bi-directional LSTM-CNNs-CRF"
      ]
    },
    {
      "cell_type": "markdown",
      "metadata": {
        "id": "CDViC0-z8BvY"
      },
      "source": [
        "In this tutorial we will demonstrate how to implement a state of the art  Bi-directional LSTM-CNN-CRF architecture (Published at ACL'16. [Link To Paper](http://www.aclweb.org/anthology/P16-1101)) for Named Entity Recognition using Pytorch. \n",
        "\n",
        "The main aim of the tutorial is to make the audience comfortable with pytorch using this tutorial and give a step-by-step walk through of the Bi-LSTM-CNN-CRF architecture for NER. Some familiarity with pytorch (or any other deep learning framework) would definitely be a plus. \n",
        "\n",
        "The agenda of this tutorial is as follows:\n",
        "\n",
        "1. Getting Ready with the data \n",
        "2. Network Definition. This includes\n",
        "    * CNN Encoder for Character Level representation.\n",
        "    * Bi-directional LSTM for Word-Level Encoding.\n",
        "    * Conditional Random Fields(CRF) for output decoding\n",
        "3. Training \n",
        "4. Model testing\n",
        "\n",
        "This tutorial draws its content/design heavily from [this](https://github.com/ZhixiuYe/NER-pytorch) Github implementation of NER model. We reuse their data preprocessing/Model creation methodology. This helps in focussing more on explaining model architecture and it's translation from formulae to code. "
      ]
    },
    {
      "cell_type": "markdown",
      "metadata": {
        "id": "1pZTJKHS8BvY"
      },
      "source": [
        "**Authors:**\n",
        "[**Anirudh Ganesh**](https://www.linkedin.com/in/anirudh-ganesh95/),\n",
        "[**Peddamail Jayavardhan Reddy**](https://www.linkedin.com/in/jayavardhan-reddy-peddamail-6b4125a0/)"
      ]
    },
    {
      "cell_type": "markdown",
      "metadata": {
        "id": "9RqxTJGU8BvY"
      },
      "source": [
        "### Data Preparation\n",
        "\n",
        "The paper uses the English data from CoNLL 2003 shared task\\[1\\], which is present in the \"data\" directory of this project. We will later apply more preprocessing steps to generate tag mapping, word mapping and character  mapping. The data set contains four different types of named entities: PERSON, LOCATION, ORGANIZATION, and MISC and uses the BIO tagging scheme\n",
        "\n",
        "BIO tagging Scheme:\n",
        "\n",
        "    I - Word is inside a phrase of type TYPE\n",
        "    B - If two phrases of the same type immediately follow each other, the first word of the second phrase will have tag B-TYPE \n",
        "    O - Word is not part of a phrase\n",
        "    \n",
        "Example of English-NER sentence available in the data:\n",
        "    \n",
        "    U.N.         NNP  I-NP  I-ORG \n",
        "    official     NN   I-NP  O \n",
        "    Ekeus        NNP  I-NP  I-PER \n",
        "    heads        VBZ  I-VP  O \n",
        "    for          IN   I-PP  O \n",
        "    Baghdad      NNP  I-NP  I-LOC \n",
        "    .            .    O     O \n",
        "    \n",
        "Data Split(We use the same split as mentioned in paper):\n",
        "\n",
        "    Training Data - eng.train\n",
        "    Validation Data - eng.testa\n",
        "    Testing Data - eng.testb\n",
        "    \n",
        "\n",
        " To get started we first import the necessary libraries"
      ]
    },
    {
      "cell_type": "code",
      "metadata": {
        "id": "_bOBpxc18BvY"
      },
      "source": [
        "from collections import OrderedDict\n",
        "\n",
        "import torch\n",
        "import torch.nn as nn\n",
        "from torch.nn import init\n",
        "from torch.autograd import Variable\n",
        "from torch import autograd\n",
        "\n",
        "import time\n",
        "import pickle\n",
        "\n",
        "import urllib\n",
        "import matplotlib.pyplot as plt\n",
        "plt.rcParams['figure.dpi'] = 80\n",
        "plt.style.use('seaborn-pastel')\n",
        "\n",
        "import os\n",
        "import sys\n",
        "import re\n",
        "import numpy as np"
      ],
      "execution_count": 1,
      "outputs": []
    },
    {
      "cell_type": "markdown",
      "metadata": {
        "id": "kkGYH2cr3n3L"
      },
      "source": [
        "Connect to Google Drive to access data"
      ]
    },
    {
      "cell_type": "code",
      "metadata": {
        "colab": {
          "base_uri": "https://localhost:8080/"
        },
        "id": "nXiiWPO_3stO",
        "outputId": "db27d245-9b5f-41e3-e109-4197ad7ba274"
      },
      "source": [
        "from google.colab import drive\n",
        "drive.mount('/content/drive')"
      ],
      "execution_count": 2,
      "outputs": [
        {
          "output_type": "stream",
          "text": [
            "Drive already mounted at /content/drive; to attempt to forcibly remount, call drive.mount(\"/content/drive\", force_remount=True).\n"
          ],
          "name": "stdout"
        }
      ]
    },
    {
      "cell_type": "code",
      "metadata": {
        "id": "-yQDvMcP4TzW"
      },
      "source": [
        "base_path = '/content/drive/MyDrive/NLPAssignment2/'"
      ],
      "execution_count": 3,
      "outputs": []
    },
    {
      "cell_type": "markdown",
      "metadata": {
        "id": "8vuvlVlV8Bva"
      },
      "source": [
        "##### Define constants and paramaters"
      ]
    },
    {
      "cell_type": "markdown",
      "metadata": {
        "id": "v5962zo58Bva"
      },
      "source": [
        "We now define some constants and parameters that we will be using later"
      ]
    },
    {
      "cell_type": "code",
      "metadata": {
        "id": "W5mRS-1X8Bva"
      },
      "source": [
        "# parameters for the Model\n",
        "parameters = OrderedDict()\n",
        "parameters['train'] = base_path + 'data/eng.train' # Path to train data in Google Drive\n",
        "parameters['val'] = base_path + 'data/eng.testa' # Path to validation data in Google Drive\n",
        "parameters['test'] = base_path + 'data/eng.testb' # Path to test data in Google Drive\n",
        "parameters['tag_scheme'] = 'BIOES'  # BIO or BIOES\n",
        "parameters['lower'] = True  # Boolean variable to control lowercasing of words\n",
        "parameters['zeros'] =  True  # Boolean variable to control replacement of  all digits by 0 \n",
        "parameters['char_dim'] = 30  # Char embedding dimension\n",
        "parameters['word_dim'] = 100  # Token embedding dimension\n",
        "parameters['word_lstm_dim'] = 200  # Token LSTM hidden layer size\n",
        "parameters['word_bidirect'] = True  # Use a bidirectional LSTM for words\n",
        "parameters['embedding_path'] = base_path + 'data/glove.6B.100d.txt'  # Location of pretrained embeddings in Google Drive\n",
        "parameters['all_emb'] = 1  # Load all embeddings\n",
        "parameters['crf'] = 1  # Use CRF (0 to disable)\n",
        "parameters['dropout'] = 0.5  # Dropout rate on the input (0 = no dropout)\n",
        "parameters['epoch'] =  50  # Number of epochs to run\n",
        "parameters['weights'] = ''  # path to Pretrained weights from a previous run\n",
        "parameters['name'] = 'self-trained-model'  # Model name\n",
        "parameters['gradient_clip'] = 5.0\n",
        "parameters['char_mode'] = 'CNN'\n",
        "models_path = base_path + 'models/'  # path to saved models\n",
        "\n",
        "#GPU\n",
        "parameters['use_gpu'] = torch.cuda.is_available() # GPU Check\n",
        "use_gpu = parameters['use_gpu']\n",
        "\n",
        "parameters['reload'] = False  # base_path + 'models/pre-trained-model'\n",
        "\n",
        "#Constants\n",
        "START_TAG = '<START>'\n",
        "STOP_TAG = '<STOP>'"
      ],
      "execution_count": 4,
      "outputs": []
    },
    {
      "cell_type": "code",
      "metadata": {
        "id": "bVnkeWI_8Bvb"
      },
      "source": [
        "#paths to files \n",
        "#To stored mapping file\n",
        "mapping_file = base_path + 'data/mapping.pkl'\n",
        "\n",
        "#To stored model\n",
        "name = parameters['name']\n",
        "model_name = models_path + name  # get_name(parameters)\n",
        "\n",
        "if not os.path.exists(models_path):\n",
        "    os.makedirs(models_path)"
      ],
      "execution_count": 5,
      "outputs": []
    },
    {
      "cell_type": "markdown",
      "metadata": {
        "id": "gKHvqE0z8Bvb"
      },
      "source": [
        "##### Load data and preprocess"
      ]
    },
    {
      "cell_type": "markdown",
      "metadata": {
        "id": "aXadJugY8Bvb"
      },
      "source": [
        "Firstly, the data is loaded from the train, dev and test files into a list of sentences.\n",
        "\n",
        "Preprocessing:\n",
        "\n",
        "    * All the digits in the words are replaced by 0\n",
        "    \n",
        "Why this preprocessing step?\n",
        "    * For the Named Entity Recognition task, the information present in numerical digits doesnot help in predicting the entity. So, we replace all the digits by 0. So, now the model can concentrate on more important alphabets."
      ]
    },
    {
      "cell_type": "code",
      "metadata": {
        "id": "rNWaLXZ88Bvc"
      },
      "source": [
        "def zero_digits(string: str):\n",
        "    '''\n",
        "    Replace every digit in a string by a zero.\n",
        "    '''\n",
        "    return re.sub('\\d', '0', string)\n",
        "\n",
        "\n",
        "def load_sentences(data_path: str, zeros: bool):\n",
        "    '''\n",
        "    Load sentences. A line must contain at least a word and its tag.\n",
        "    Sentences are separated by empty lines.\n",
        "\n",
        "    :params:\n",
        "    - data_path (str): path to file that contains data\n",
        "    - zeros (bool): whether to substitute digits in sentences with zeros\n",
        "    '''\n",
        "    sentences = []\n",
        "    sentence = []\n",
        "\n",
        "    with open(data_path, mode='r', encoding='utf8') as data_file:\n",
        "      for line in data_file:\n",
        "          line = zero_digits(line.rstrip()) if zeros else line.rstrip()\n",
        "\n",
        "          if not line:\n",
        "              if len(sentence) > 0:\n",
        "                  if 'DOCSTART' not in sentence[0][0]:\n",
        "                      sentences.append(sentence)\n",
        "                  sentence = []\n",
        "          else:\n",
        "              word = line.split()\n",
        "              assert len(word) >= 2\n",
        "              sentence.append(word)\n",
        "      \n",
        "    if len(sentence) > 0:\n",
        "        if 'DOCSTART' not in sentence[0][0]:\n",
        "            sentences.append(sentence)\n",
        "    \n",
        "    return sentences"
      ],
      "execution_count": 6,
      "outputs": []
    },
    {
      "cell_type": "code",
      "metadata": {
        "id": "91sM-n4T8Bvc"
      },
      "source": [
        "train_sentences = load_sentences(parameters['train'], parameters['zeros'])\n",
        "val_sentences = load_sentences(parameters['val'], parameters['zeros'])\n",
        "test_sentences = load_sentences(parameters['test'], parameters['zeros'])"
      ],
      "execution_count": 7,
      "outputs": []
    },
    {
      "cell_type": "code",
      "metadata": {
        "colab": {
          "base_uri": "https://localhost:8080/"
        },
        "id": "X-JQpPPUD_Ug",
        "outputId": "96e21a77-de61-42f3-a387-8e1ceb1b3b47"
      },
      "source": [
        "# show a training sample to see what it is like\n",
        "print(train_sentences[0])"
      ],
      "execution_count": 8,
      "outputs": [
        {
          "output_type": "stream",
          "text": [
            "[['EU', 'NNP', 'I-NP', 'I-ORG'], ['rejects', 'VBZ', 'I-VP', 'O'], ['German', 'JJ', 'I-NP', 'I-MISC'], ['call', 'NN', 'I-NP', 'O'], ['to', 'TO', 'I-VP', 'O'], ['boycott', 'VB', 'I-VP', 'O'], ['British', 'JJ', 'I-NP', 'I-MISC'], ['lamb', 'NN', 'I-NP', 'O'], ['.', '.', 'O', 'O']]\n"
          ],
          "name": "stdout"
        }
      ]
    },
    {
      "cell_type": "markdown",
      "metadata": {
        "id": "48_dPwYe8Bvc"
      },
      "source": [
        "##### Update tagging scheme"
      ]
    },
    {
      "cell_type": "markdown",
      "metadata": {
        "id": "08AMhzkE8Bvc"
      },
      "source": [
        "Different types of tagging schemes can be used for NER. We update the tags for train, test and dev data ( depending on the parameters \\[ tag_scheme \\] ).\n",
        "\n",
        "In the paper, the authors use the tagging Scheme ( BIOES ) rather than BIO (which is used by the dataset). So, we need to first update the data to convert tag scheme from BIO to BIOES.\n",
        "\n",
        "BIOES tagging scheme:\n",
        "\n",
        "    I - Word is inside a phrase of type TYPE\n",
        "    B - If two phrases of the same type immediately follow each other, the first word of the second phrase will have tag B-TYPE \n",
        "    O - Word is not part of a phrase\n",
        "    E - End ( E will not appear in a prefix-only partial match )\n",
        "    S - Single"
      ]
    },
    {
      "cell_type": "code",
      "metadata": {
        "id": "Wfv7g7AW8Bvd"
      },
      "source": [
        "def iob2(tags):\n",
        "    '''\n",
        "    Check that tags have a valid BIO format.\n",
        "    Tags in BIO1 format are converted to BIO2.\n",
        "    '''\n",
        "    for i, tag in enumerate(tags):\n",
        "        if tag == 'O':\n",
        "            continue\n",
        "        \n",
        "        split = tag.split('-')\n",
        "        if len(split) != 2 or split[0] not in ['I', 'B']:\n",
        "            return False\n",
        "        \n",
        "        if split[0] == 'B':\n",
        "            continue\n",
        "        \n",
        "        elif i == 0 or tags[i - 1] == 'O':  # conversion IOB1 to IOB2\n",
        "            tags[i] = 'B' + tag[1:]\n",
        "        \n",
        "        elif tags[i - 1][1:] == tag[1:]:\n",
        "            continue\n",
        "        \n",
        "        else:  # conversion IOB1 to IOB2\n",
        "            tags[i] = 'B' + tag[1:]\n",
        "    \n",
        "    return True\n",
        "\n",
        "\n",
        "def iob_iobes(tags):\n",
        "    '''\n",
        "    the function is used to convert\n",
        "    BIO -> BIOES tagging\n",
        "    '''\n",
        "    new_tags = []\n",
        "\n",
        "    for i, tag in enumerate(tags):\n",
        "        if tag == 'O':\n",
        "            new_tags.append(tag)\n",
        "        \n",
        "        elif tag.split('-')[0] == 'B':\n",
        "            if i + 1 != len(tags) and \\\n",
        "               tags[i + 1].split('-')[0] == 'I':\n",
        "                new_tags.append(tag)\n",
        "            else:\n",
        "                new_tags.append(tag.replace('B-', 'S-'))\n",
        "        \n",
        "        elif tag.split('-')[0] == 'I':\n",
        "            if i + 1 < len(tags) and \\\n",
        "                    tags[i + 1].split('-')[0] == 'I':\n",
        "                new_tags.append(tag)\n",
        "            else:\n",
        "                new_tags.append(tag.replace('I-', 'E-'))\n",
        "        \n",
        "        else:\n",
        "            raise Exception('Invalid IOB format!')\n",
        "        \n",
        "    return new_tags\n",
        "\n",
        "\n",
        "def update_tag_scheme(sentences, tag_scheme):\n",
        "    '''\n",
        "    Check and update sentences tagging scheme to BIO2\n",
        "    Only BIO1 and BIO2 schemes are accepted for input data.\n",
        "\n",
        "    Modifies sentences in-place\n",
        "    '''\n",
        "    for i, sentence in enumerate(sentences):\n",
        "        tags = [word_with_tags[-1] for word_with_tags in sentence]\n",
        "\n",
        "        # Check that tags are given in the BIO format\n",
        "        if not iob2(tags):\n",
        "            s_str = '\\n'.join(' '.join(word_with_tags) for word_with_tags in sentence)\n",
        "            raise Exception(\n",
        "                f'Sentences should be given in BIO format! Please check sentence {i}:\\n{s_str}'\n",
        "            )\n",
        "        \n",
        "        if tag_scheme == 'BIOES':\n",
        "            new_tags = iob_iobes(tags)\n",
        "            for word_with_tags, new_tag in zip(sentence, new_tags):\n",
        "                word_with_tags[-1] = new_tag\n",
        "        \n",
        "        else:\n",
        "            raise Exception('Wrong tagging scheme!')"
      ],
      "execution_count": 9,
      "outputs": []
    },
    {
      "cell_type": "code",
      "metadata": {
        "id": "e73VpiU88Bvd"
      },
      "source": [
        "update_tag_scheme(train_sentences, parameters['tag_scheme'])\n",
        "update_tag_scheme(val_sentences, parameters['tag_scheme'])\n",
        "update_tag_scheme(test_sentences, parameters['tag_scheme'])"
      ],
      "execution_count": 10,
      "outputs": []
    },
    {
      "cell_type": "code",
      "metadata": {
        "colab": {
          "base_uri": "https://localhost:8080/"
        },
        "id": "bPKp1xUsEKn-",
        "outputId": "71306f6d-d8ab-4e89-d4a5-9761adb03dd3"
      },
      "source": [
        "# show a training sample to see what it is like\n",
        "print(train_sentences[0])"
      ],
      "execution_count": 11,
      "outputs": [
        {
          "output_type": "stream",
          "text": [
            "[['EU', 'NNP', 'I-NP', 'S-ORG'], ['rejects', 'VBZ', 'I-VP', 'O'], ['German', 'JJ', 'I-NP', 'S-MISC'], ['call', 'NN', 'I-NP', 'O'], ['to', 'TO', 'I-VP', 'O'], ['boycott', 'VB', 'I-VP', 'O'], ['British', 'JJ', 'I-NP', 'S-MISC'], ['lamb', 'NN', 'I-NP', 'O'], ['.', '.', 'O', 'O']]\n"
          ],
          "name": "stdout"
        }
      ]
    },
    {
      "cell_type": "markdown",
      "metadata": {
        "id": "dxcdHlMi8Bvd"
      },
      "source": [
        "##### Create Mappings for Words, Characters and Tags"
      ]
    },
    {
      "cell_type": "markdown",
      "metadata": {
        "id": "3aoKQOOl8Bvd"
      },
      "source": [
        "After we have updated the tag scheme. We now have a list of sentences which are words along with their modified tags. Now, we want to map these individual words, tags and characters in each word, to unique numerical ID's so that each unique word, character and tag in the vocabulary is represented by a particular integer ID. To do this, we first create a functions that do these mapping for us"
      ]
    },
    {
      "cell_type": "markdown",
      "metadata": {
        "id": "Jsh7IE7q8Bvd"
      },
      "source": [
        "##### Why mapping is important?"
      ]
    },
    {
      "cell_type": "markdown",
      "metadata": {
        "id": "uinD2Uki8Bvd"
      },
      "source": [
        "These indices for words, tags and characters help us employ matrix (tensor) operations inside the neural network architecture, which are considerably faster."
      ]
    },
    {
      "cell_type": "code",
      "metadata": {
        "id": "N9FKEO0c8Bvd"
      },
      "source": [
        "def create_dico(item_list):\n",
        "    '''\n",
        "    Create a dictionary of items from a list of list of items.\n",
        "    '''\n",
        "    assert type(item_list) is list\n",
        "    dico = {}\n",
        "    for items in item_list:\n",
        "        for item in items:\n",
        "            if item not in dico:\n",
        "                dico[item] = 1\n",
        "            else:\n",
        "                dico[item] += 1\n",
        "    return dico\n",
        "\n",
        "\n",
        "def create_mapping(dico):\n",
        "    '''\n",
        "    Create a mapping (item to ID / ID to item) from a dictionary.\n",
        "    Items are ordered by decreasing frequency.\n",
        "    '''\n",
        "    sorted_items = sorted(dico.items(), key=lambda x: (-x[1], x[0]))\n",
        "\n",
        "    id_to_item = {id: item[0] for id, item in enumerate(sorted_items)}\n",
        "    item_to_id = {item: id for id, item in id_to_item.items()}\n",
        "\n",
        "    return item_to_id, id_to_item\n",
        "\n",
        "\n",
        "def word_mapping(sentences, lower: bool):\n",
        "    '''\n",
        "    Create a dictionary and a mapping of words, sorted by frequency.\n",
        "    '''\n",
        "    words = [\n",
        "        [word_with_tags[0].lower() if lower else word_with_tags[0]\n",
        "         for word_with_tags in sentence] \n",
        "        for sentence in sentences\n",
        "    ]\n",
        "\n",
        "    dico = create_dico(words)\n",
        "    dico['<UNK>'] = 10000000  # UNK tag for unknown words\n",
        "\n",
        "    word_to_id, id_to_word = create_mapping(dico)\n",
        "    total_num_words = sum(len(word) for word in words)\n",
        "\n",
        "    print(f'Found {len(dico)} unique words ({total_num_words} in total)')\n",
        "\n",
        "    return dico, word_to_id, id_to_word\n",
        "\n",
        "\n",
        "def char_mapping(sentences):\n",
        "    '''\n",
        "    Create a dictionary and mapping of characters, sorted by frequency.\n",
        "    '''\n",
        "    chars = [\n",
        "        ''.join([word_with_tags[0] for word_with_tags in sentence])\n",
        "        for sentence in sentences\n",
        "    ]\n",
        "    \n",
        "    dico = create_dico(chars)\n",
        "    char_to_id, id_to_char = create_mapping(dico)\n",
        "    \n",
        "    print(f'Found {len(dico)} unique characters')\n",
        "    \n",
        "    return dico, char_to_id, id_to_char\n",
        "\n",
        "\n",
        "def tag_mapping(sentences):\n",
        "    '''\n",
        "    Create a dictionary and a mapping of tags, sorted by frequency.\n",
        "    '''\n",
        "    tags = [\n",
        "        [word_with_tags[-1] for word_with_tags in sentence]\n",
        "        for sentence in sentences\n",
        "    ]\n",
        "    dico = create_dico(tags)\n",
        "\n",
        "    dico[START_TAG] = -1\n",
        "    dico[STOP_TAG] = -2\n",
        "\n",
        "    tag_to_id, id_to_tag = create_mapping(dico)\n",
        "    print(f'Found {len(dico)} unique named entity tags')\n",
        "\n",
        "    return dico, tag_to_id, id_to_tag"
      ],
      "execution_count": 12,
      "outputs": []
    },
    {
      "cell_type": "code",
      "metadata": {
        "colab": {
          "base_uri": "https://localhost:8080/"
        },
        "id": "YkDO1jMC8Bvd",
        "outputId": "e8cadf00-9490-4a9f-ff96-f34beaa3e952"
      },
      "source": [
        "dico_words, word_to_id, id_to_word = word_mapping(train_sentences, parameters['lower'])\n",
        "dico_chars, char_to_id, id_to_char = char_mapping(train_sentences)\n",
        "dico_tags, tag_to_id, id_to_tag = tag_mapping(train_sentences)"
      ],
      "execution_count": 13,
      "outputs": [
        {
          "output_type": "stream",
          "text": [
            "Found 17493 unique words (203621 in total)\n",
            "Found 75 unique characters\n",
            "Found 19 unique named entity tags\n"
          ],
          "name": "stdout"
        }
      ]
    },
    {
      "cell_type": "code",
      "metadata": {
        "colab": {
          "base_uri": "https://localhost:8080/"
        },
        "id": "whdG6Cf-En50",
        "outputId": "db5277bf-fc28-41c2-b187-02009a1ce87f"
      },
      "source": [
        "# look at first word\n",
        "print(next(iter(dico_words)))\n",
        "\n",
        "# look at first character\n",
        "print(next(iter(dico_chars)))\n",
        "\n",
        "# look at tags\n",
        "print(dico_tags)"
      ],
      "execution_count": 14,
      "outputs": [
        {
          "output_type": "stream",
          "text": [
            "eu\n",
            "E\n",
            "{'S-ORG': 3836, 'O': 169578, 'S-MISC': 2580, 'B-PER': 4284, 'E-PER': 4284, 'S-LOC': 6099, 'B-ORG': 2485, 'E-ORG': 2485, 'I-PER': 244, 'S-PER': 2316, 'B-MISC': 858, 'I-MISC': 297, 'E-MISC': 858, 'I-ORG': 1219, 'B-LOC': 1041, 'E-LOC': 1041, 'I-LOC': 116, '<START>': -1, '<STOP>': -2}\n"
          ],
          "name": "stdout"
        }
      ]
    },
    {
      "cell_type": "markdown",
      "metadata": {
        "id": "v5IoB10i8Bvg"
      },
      "source": [
        "##### Preparing final dataset"
      ]
    },
    {
      "cell_type": "markdown",
      "metadata": {
        "id": "9DI1Dqoh8Bvg"
      },
      "source": [
        "The function prepare dataset returns a list of dictionaries ( one dictionary per each sentence )\n",
        "\n",
        "Each of the dictionary returned by the function contains\n",
        "    1. list of all words in the sentence\n",
        "    2. list of word index for all words in the sentence\n",
        "    3. list of lists, containing character id of each character for words in the sentence\n",
        "    4. list of tag for each word in the sentence."
      ]
    },
    {
      "cell_type": "code",
      "metadata": {
        "id": "9ECTHgyv8Bvg"
      },
      "source": [
        "def lower_case(string: str, lower=False):\n",
        "    return string.lower() if lower else string"
      ],
      "execution_count": 15,
      "outputs": []
    },
    {
      "cell_type": "code",
      "metadata": {
        "colab": {
          "base_uri": "https://localhost:8080/"
        },
        "id": "ag7c1CsB8Bvg",
        "outputId": "8c16aa2c-0041-412e-fb7f-983b4f92003d"
      },
      "source": [
        "def prepare_dataset(sentences, word_to_id, char_to_id, tag_to_id, lower=False):\n",
        "    '''\n",
        "    Prepare the dataset. Return a list of lists of dictionaries containing:\n",
        "        - word indexes\n",
        "        - word char indexes\n",
        "        - tag indexes\n",
        "    '''\n",
        "    data = []\n",
        "\n",
        "    for sentence in sentences:\n",
        "        str_words = [word_with_tags[0] for word_with_tags in sentence]\n",
        "        words = [\n",
        "            word_to_id[\n",
        "                lower_case(word, lower)\n",
        "                if lower_case(word, lower) in word_to_id else '<UNK>'\n",
        "            ]\n",
        "            for word in str_words\n",
        "        ]\n",
        "\n",
        "        # Skip characters that are not in the training set\n",
        "        chars = [\n",
        "            [char_to_id[char] for char in word if char in char_to_id]\n",
        "            for word in str_words\n",
        "        ]\n",
        "\n",
        "        tags = [\n",
        "            tag_to_id[word_with_tags[-1]]\n",
        "            for word_with_tags in sentence\n",
        "        ]\n",
        "\n",
        "        data.append({\n",
        "            'str_words': str_words,\n",
        "            'words': words,\n",
        "            'chars': chars,\n",
        "            'tags': tags,\n",
        "        })\n",
        "    \n",
        "    return data\n",
        "\n",
        "\n",
        "train_data = prepare_dataset(\n",
        "    train_sentences, word_to_id, char_to_id, tag_to_id, parameters['lower']\n",
        ")\n",
        "val_data = prepare_dataset(\n",
        "    val_sentences, word_to_id, char_to_id, tag_to_id, parameters['lower']\n",
        ")\n",
        "test_data = prepare_dataset(\n",
        "    test_sentences, word_to_id, char_to_id, tag_to_id, parameters['lower']\n",
        ")\n",
        "\n",
        "print(f'{len(train_data)} / {len(val_data)} / {len(test_data)} sentences in train / val / test.')"
      ],
      "execution_count": 16,
      "outputs": [
        {
          "output_type": "stream",
          "text": [
            "14041 / 3250 / 3453 sentences in train / val / test.\n"
          ],
          "name": "stdout"
        }
      ]
    },
    {
      "cell_type": "markdown",
      "metadata": {
        "id": "ofZ3BMom8Bvh"
      },
      "source": [
        "We are  done with the preprocessing step for input data. It ready to be given as input to the model ! ! !"
      ]
    },
    {
      "cell_type": "markdown",
      "metadata": {
        "id": "2z4h6jGN8Bvh"
      },
      "source": [
        "##### Load Word Embeddings\n",
        "\n",
        "Now, We move to the next step of loading the pre-trained word embeddings.\n",
        "\n",
        "The paper uses glove vectors 100 dimension vectors trained on the ( Wikipedia 2014 + Gigaword 5 ) corpus containing 6 Billion Words. The word embedding file ( glove.6B.100d.txt ) is placed in the data folder."
      ]
    },
    {
      "cell_type": "code",
      "metadata": {
        "id": "9Xe1zbZO8Bvh",
        "colab": {
          "base_uri": "https://localhost:8080/"
        },
        "outputId": "9149a2d3-a695-4017-dd7f-0cd92e5aed62"
      },
      "source": [
        "all_word_embeds = {}\n",
        "\n",
        "with open(parameters['embedding_path'], mode='r', encoding='utf-8') as embedding_file:\n",
        "  for i, line in enumerate(embedding_file):\n",
        "      s = line.strip().split()\n",
        "      if len(s) == parameters['word_dim'] + 1:\n",
        "          all_word_embeds[s[0]] = np.array([float(i) for i in s[1:]])\n",
        "\n",
        "#Intializing Word Embedding Matrix\n",
        "word_embeds = np.random.uniform(-np.sqrt(0.06), np.sqrt(0.06), (len(word_to_id), parameters['word_dim']))\n",
        "\n",
        "for word in word_to_id:\n",
        "    if word in all_word_embeds:\n",
        "        word_embeds[word_to_id[word]] = all_word_embeds[word]\n",
        "    \n",
        "    elif word.lower() in all_word_embeds:\n",
        "        word_embeds[word_to_id[word]] = all_word_embeds[word.lower()]\n",
        "\n",
        "print(f'Loaded {len(all_word_embeds)} pretrained embeddings.')"
      ],
      "execution_count": 17,
      "outputs": [
        {
          "output_type": "stream",
          "text": [
            "Loaded 400000 pretrained embeddings.\n"
          ],
          "name": "stdout"
        }
      ]
    },
    {
      "cell_type": "code",
      "metadata": {
        "colab": {
          "base_uri": "https://localhost:8080/"
        },
        "id": "Vo88SBD3GH_X",
        "outputId": "893bf89e-de40-4524-ba50-e24cc153f584"
      },
      "source": [
        "# look at one of the pretrained embeddings\n",
        "print(next(iter(word_embeds)))"
      ],
      "execution_count": 18,
      "outputs": [
        {
          "output_type": "stream",
          "text": [
            "[ 1.22271856e-01  1.86940035e-01  2.17597019e-04 -7.73046010e-02\n",
            " -2.43269859e-01 -3.06880006e-03 -1.80995868e-02 -9.36801707e-03\n",
            " -1.90166381e-01 -2.34792446e-01 -1.56593462e-01  7.18972758e-02\n",
            " -9.78628057e-02 -9.70424353e-02 -1.54800977e-01  1.55082001e-01\n",
            "  1.34324467e-01  3.42911935e-02 -1.86055333e-01 -1.15492594e-01\n",
            " -9.22319031e-02  1.81829563e-01 -1.02569018e-01 -1.95177084e-01\n",
            " -2.00789215e-01 -2.44228720e-01 -1.22541616e-01  1.65412121e-01\n",
            " -1.93272315e-01 -7.64080234e-02 -1.98551151e-01 -9.17850558e-02\n",
            "  2.29055484e-01  9.40406948e-02  2.15608599e-01  1.65880489e-01\n",
            "  1.82872681e-01 -1.15070074e-01 -2.32840633e-03 -2.06710966e-01\n",
            "  1.92775949e-02 -1.73045244e-01 -1.46746432e-01  1.70913316e-01\n",
            "  9.86413119e-02 -1.61567893e-01  8.81245184e-02  2.30041504e-01\n",
            "  1.59514353e-01  1.92989695e-01  1.19123559e-01  1.90860284e-01\n",
            " -2.43476737e-01  3.42431053e-02  1.36046977e-01 -1.50131105e-01\n",
            " -1.78937579e-01 -1.95228761e-01  1.05545905e-01 -2.66919776e-02\n",
            " -1.47201279e-01 -1.46159980e-01  1.10472214e-01 -2.01041775e-02\n",
            "  2.19716965e-01 -1.96327441e-01 -2.17959644e-01 -1.21868245e-01\n",
            " -1.98085795e-01 -1.41022891e-01 -8.27285746e-02  2.26644526e-02\n",
            "  1.35819669e-01 -2.93008843e-02  1.27481400e-01 -8.50396117e-02\n",
            "  1.55970074e-02 -4.13267259e-02  1.40733600e-01  7.17389508e-02\n",
            "  2.11786090e-01  8.87373346e-03  1.23131311e-01  1.41734275e-01\n",
            "  8.84859844e-02 -1.41528211e-01 -2.32544119e-01  1.28082650e-01\n",
            "  1.76969108e-01  1.44073804e-01 -6.21797439e-02  1.51584990e-01\n",
            "  2.21775435e-01 -6.24306111e-02  1.50091348e-01  5.87905040e-02\n",
            "  1.03418654e-01 -1.74049061e-01  9.44757429e-02  8.44898032e-02]\n"
          ],
          "name": "stdout"
        }
      ]
    },
    {
      "cell_type": "markdown",
      "metadata": {
        "id": "UyepZvTL8Bvh"
      },
      "source": [
        "##### Storing Processed Data for Reuse\n",
        "\n",
        "We can store the preprocessed data and the embedding matrix for future reuse. This helps us avoid the time taken by the step of preprocessing, when we are trying to tune the hyper parameters for the model."
      ]
    },
    {
      "cell_type": "code",
      "metadata": {
        "id": "JKk8Crsv8Bvh",
        "colab": {
          "base_uri": "https://localhost:8080/"
        },
        "outputId": "23fe4f91-da53-492e-ac93-9df85e98fb30"
      },
      "source": [
        "with open(mapping_file, 'wb') as f:\n",
        "    mappings = {\n",
        "        'word_to_id': word_to_id,\n",
        "        'tag_to_id': tag_to_id,\n",
        "        'char_to_id': char_to_id,\n",
        "        'parameters': parameters,\n",
        "        'word_embeds': word_embeds,\n",
        "    }\n",
        "    pickle.dump(mappings, f)\n",
        "\n",
        "print('word_to_id: ', len(word_to_id))"
      ],
      "execution_count": 19,
      "outputs": [
        {
          "output_type": "stream",
          "text": [
            "word_to_id:  17493\n"
          ],
          "name": "stdout"
        }
      ]
    },
    {
      "cell_type": "markdown",
      "metadata": {
        "id": "aUN1V-dk8Bvi"
      },
      "source": [
        "### Model\n"
      ]
    },
    {
      "cell_type": "markdown",
      "metadata": {
        "id": "6kYPYjVu8Bvi"
      },
      "source": [
        "The model that we are presenting is a complicated one, since its a hybridized network using LSTMs and CNNs. So in order to break down the complexity, we have attempted to simplify the process by splitting up operations into individual functions that we can go over part by part. This hopefully makes the whole thing more easily digestable and gives a more intuitive understanding of the whole process."
      ]
    },
    {
      "cell_type": "markdown",
      "metadata": {
        "id": "hjgmYV1k8Bvi"
      },
      "source": [
        "##### Initialization of weights"
      ]
    },
    {
      "cell_type": "markdown",
      "metadata": {
        "id": "7rJ2FVps8Bvi"
      },
      "source": [
        "We start with the init_embedding function, which just initializes the embedding layer by pooling from a random sample. \n",
        "\n",
        "The distribution is pooled from $-\\sqrt{\\frac{3}{V}}$ to $+\\sqrt{\\frac{3}{V}}$ where $V$ is the embedding dimension size."
      ]
    },
    {
      "cell_type": "code",
      "metadata": {
        "id": "KedyxLyA8Bvi"
      },
      "source": [
        "def init_embedding(input_embedding):\n",
        "    '''\n",
        "    Initialize embedding\n",
        "    '''\n",
        "    bias = np.sqrt(3.0 / input_embedding.size(1))\n",
        "    nn.init.uniform(input_embedding, -bias, bias)"
      ],
      "execution_count": 20,
      "outputs": []
    },
    {
      "cell_type": "markdown",
      "metadata": {
        "id": "OU-1HAq08Bvi"
      },
      "source": [
        "Similar to the initialization above, except this is for the linear layer."
      ]
    },
    {
      "cell_type": "code",
      "metadata": {
        "id": "aSVop1sr8Bvi"
      },
      "source": [
        "def init_linear(input_linear):\n",
        "    '''\n",
        "    Initialize linear transformation\n",
        "    '''\n",
        "    bias = np.sqrt(6.0 / (input_linear.weight.size(0) + input_linear.weight.size(1)))\n",
        "    nn.init.uniform(input_linear.weight, -bias, bias)\n",
        "    \n",
        "    if input_linear.bias is not None:\n",
        "        input_linear.bias.data.zero_()"
      ],
      "execution_count": 21,
      "outputs": []
    },
    {
      "cell_type": "markdown",
      "metadata": {
        "id": "FqtzP7O18Bvi"
      },
      "source": [
        "This is the initialization scheme for the LSTM layers. \n",
        "\n",
        "The LSTM layers are initialized by uniform sampling from $-\\sqrt{\\frac{6}{r+c}}$ to $+\\sqrt{\\frac{6}{r+c}}$. Where $r$ is the number of rows, $c$ is the number of columns (based on the shape of the weight matrix)."
      ]
    },
    {
      "cell_type": "code",
      "metadata": {
        "id": "Qxyvy6WD8Bvi"
      },
      "source": [
        "def init_lstm(input_lstm):\n",
        "    '''\n",
        "    Initialize lstm\n",
        "    \n",
        "    PyTorch weights parameters:\n",
        "    \n",
        "        weight_ih_l[k]: the learnable input-hidden weights of the k-th layer,\n",
        "            of shape `(hidden_size * input_size)` for `k = 0`. Otherwise, the shape is\n",
        "            `(hidden_size * hidden_size)`\n",
        "            \n",
        "        weight_hh_l[k]: the learnable hidden-hidden weights of the k-th layer,\n",
        "            of shape `(hidden_size * hidden_size)`            \n",
        "    '''\n",
        "    \n",
        "    # Weights init for forward layer\n",
        "    for i in range(0, input_lstm.num_layers):\n",
        "        ## Gets the weights Tensor from our model, for the input-hidden weights in our current layer\n",
        "        weight = eval(f'input_lstm.weight_ih_l{i}')\n",
        "        \n",
        "        # Initialize the sampling range\n",
        "        sampling_range = np.sqrt(6.0 / (weight.size(0) / 4 + weight.size(1)))\n",
        "        \n",
        "        # Randomly sample from our samping range using uniform distribution and apply it to our current layer\n",
        "        nn.init.uniform(weight, -sampling_range, sampling_range)\n",
        "        \n",
        "        # Similar to above but for the hidden-hidden weights of the current layer\n",
        "        weight = eval(f'input_lstm.weight_hh_l{i}')\n",
        "        sampling_range = np.sqrt(6.0 / (weight.size(0) / 4 + weight.size(1)))\n",
        "        nn.init.uniform(weight, -sampling_range, sampling_range)\n",
        "        \n",
        "    # We do the above again, for the backward layer if we are using a bi-directional LSTM (our final model uses this)\n",
        "    if input_lstm.bidirectional:\n",
        "        for i in range(0, input_lstm.num_layers):\n",
        "            weight = eval(f'input_lstm.weight_ih_l{i}_reverse')\n",
        "            sampling_range = np.sqrt(6.0 / (weight.size(0) / 4 + weight.size(1)))\n",
        "            nn.init.uniform(weight, -sampling_range, sampling_range)\n",
        "\n",
        "            weight = eval(f'input_lstm.weight_hh_l{i}_reverse')\n",
        "            sampling_range = np.sqrt(6.0 / (weight.size(0) / 4 + weight.size(1)))\n",
        "            nn.init.uniform(weight, -sampling_range, sampling_range)\n",
        "\n",
        "    # Bias initialization steps\n",
        "    \n",
        "    # We initialize them to zero except for the forget gate bias, which is initialized to 1\n",
        "    if input_lstm.bias:\n",
        "        for i in range(0, input_lstm.num_layers):\n",
        "            bias = eval(f'input_lstm.bias_ih_l{i}')\n",
        "            \n",
        "            # Initializing to zero\n",
        "            bias.data.zero_()\n",
        "            \n",
        "            # This is the range of indices for our forget gates for each LSTM cell\n",
        "            bias.data[input_lstm.hidden_size: 2 * input_lstm.hidden_size] = 1\n",
        "            \n",
        "            #Similar for the hidden-hidden layer\n",
        "            bias = eval(f'input_lstm.bias_hh_l{i}')\n",
        "            bias.data.zero_()\n",
        "            bias.data[input_lstm.hidden_size: 2 * input_lstm.hidden_size] = 1\n",
        "            \n",
        "        # Similar to above, we do for backward layer if we are using a bi-directional LSTM \n",
        "        if input_lstm.bidirectional:\n",
        "            for i in range(0, input_lstm.num_layers):\n",
        "                bias = eval(f'input_lstm.bias_ih_l{i}_reverse')\n",
        "                bias.data.zero_()\n",
        "                bias.data[input_lstm.hidden_size: 2 * input_lstm.hidden_size] = 1\n",
        "\n",
        "                bias = eval(f'input_lstm.bias_hh_l{i}_reverse')\n",
        "                bias.data.zero_()\n",
        "                bias.data[input_lstm.hidden_size: 2 * input_lstm.hidden_size] = 1"
      ],
      "execution_count": 22,
      "outputs": []
    },
    {
      "cell_type": "markdown",
      "metadata": {
        "id": "gFcmcAsd8Bvi"
      },
      "source": [
        "##### CRF Layer\n",
        "\n",
        "We have two options: \n",
        "\n",
        "* softmax: normalize the scores into a vector such that can be interpreted as the probability that the word belongs to class. Eventually, the probability of a sequence of tag $y$ is the product of all tags.\n",
        "\n",
        "\n",
        "* linear-chain CRF: the first method makes local choices. In other words, even if we capture some information from the context thanks to the bi-LSTM, the tagging decision is still local. We don’t make use of the neighbooring tagging decisions. Given a sequence of words $w_1,…,w_m$, a sequence of score vectors $s_1,…,s_m$ and a sequence of tags $y_1,…,y_m$, a linear-chain CRF defines a global score $C \\in \\mathbb{R}$ such that\n",
        "\n",
        "$$% <![CDATA[\n",
        "\\begin{align*}\n",
        "C(y_1, \\ldots, y_m) &= b[y_1] &+ \\sum_{t=1}^{m} s_t [y_t] &+ \\sum_{t=1}^{m-1} T[y_{t}, y_{t+1}] &+ e[y_m]\\\\\n",
        "                    &= \\text{begin} &+ \\text{scores} &+ \\text{transitions} &+ \\text{end}\n",
        "\\end{align*} %]]>$$\n",
        "\n",
        "where $T$ is a transition matrix in $R^{9×9}$ and $e,b \\in R^9$ are vectors of scores that capture the cost of beginning or ending with a given tag. The use of the matrix $T$ captures linear (one step) dependencies between tagging decisions.\n",
        "\n",
        "The motivation behind CRFs was to generate sentence level likelihoods for optimal tags. What that means is for each word we estimate maximum likelihood and then we use the Viterbi algorithm to decode the tag sequence optimally.\n",
        "\n",
        "\n",
        "**Advantages of CRF over Softmax:**\n",
        "* Softmax doesn't value any dependencies, this is a problem since NER the context heavily influences the tag that is assigned. This is solved by applying CRF as it takes into account the full sequence to assign the tag. \n",
        "* *Example: I-ORG cannot directly follow I-PER.*\n",
        "\n",
        "<img src = \"https://github.com/TheAnig/NER-LSTM-CNN-Pytorch/raw/master/images/crf_mode.png\"></img>\n",
        "<a href=\"https://arxiv.org/pdf/1508.01991.pdf\">(Image Source)</a>\n",
        "\n",
        "The figure shows a simple CRF network, in our case we have the inputs feeding in from our BiLSTMs, but otherwise the structure largely remains the same."
      ]
    },
    {
      "cell_type": "markdown",
      "metadata": {
        "id": "AFTFSAXQ8Bvi"
      },
      "source": [
        "##### Evaluation schemes: Forward pass and Viterbi algorithm"
      ]
    },
    {
      "cell_type": "markdown",
      "metadata": {
        "id": "Ar3kNOUH8Bvi"
      },
      "source": [
        "Recall that the CRF computes a conditional probability. Let $y$ be a tag sequence and $x$ an input sequence of words. Then we compute\n",
        "\n",
        "$$P(y|x) = \\frac{\\exp{(\\text{Score}(x, y)})}{\\sum_{y'} \\exp{(\\text{Score}(x, y')})}$$\n",
        "\n",
        "Where the score is determined by defining some log potentials $\\log \\psi_i(x,y)$ such that\n",
        "\n",
        "$$\\text{Score}(x,y) = \\sum_i \\log \\psi_i(x,y)$$\n",
        "\n",
        "In our model, we define two kinds of potentials: emission and transition. The emission potential for the word at index $i$ comes from the hidden state of the Bi-LSTM at timestep $i$. The transition scores are stored in a $|T|x|T|$ matrix $P$, where $T$ is the tag set. In my implementation, $P_{j,k}$ is the score of transitioning to tag $j$ from tag $k$. So:\n",
        "\n",
        "$$\\text{Score}(x,y) = \\sum_i \\log \\psi_\\text{EMIT}(y_i \\rightarrow x_i) + \\log \\psi_\\text{TRANS}(y_{i-1} \\rightarrow y_i)$$\n",
        "$$= \\sum_i h_i[y_i] + \\textbf{P}_{y_i, y_{i-1}}$$"
      ]
    },
    {
      "cell_type": "markdown",
      "metadata": {
        "id": "GW_cQfv_8Bvi"
      },
      "source": [
        "##### Helper Functions"
      ]
    },
    {
      "cell_type": "markdown",
      "metadata": {
        "id": "8bMk8W9X8Bvi"
      },
      "source": [
        "Now, we define some helper functions for numerical operations and score calculations"
      ]
    },
    {
      "cell_type": "code",
      "metadata": {
        "id": "jU-Nh6RC8Bvi"
      },
      "source": [
        "def log_sum_exp(vec):\n",
        "    '''\n",
        "    This function calculates the score explained above for the forward algorithm\n",
        "    vec 2D: 1 * tagset_size\n",
        "    '''\n",
        "    max_score = vec[0, argmax(vec)]\n",
        "    max_score_broadcast = max_score.view(1, -1).expand(1, vec.size()[1])\n",
        "    \n",
        "    return max_score + torch.log(torch.sum(torch.exp(vec - max_score_broadcast)))\n",
        "    \n",
        "\n",
        "def argmax(vec):\n",
        "    '''\n",
        "    This function returns the max index in a vector\n",
        "    '''\n",
        "    _, idx = torch.max(vec, 1)\n",
        "    return to_scalar(idx)\n",
        "\n",
        "\n",
        "def to_scalar(var):\n",
        "    '''\n",
        "    Function to convert pytorch tensor to a scalar\n",
        "    '''\n",
        "    return var.view(-1).data.tolist()[0]"
      ],
      "execution_count": 23,
      "outputs": []
    },
    {
      "cell_type": "markdown",
      "metadata": {
        "id": "Jp2PJ5xL8Bvj"
      },
      "source": [
        "##### Helper function to calculate score\n",
        "\n",
        "This is a score function for our sentences. \n",
        "\n",
        "This function takes two things, a list of ground truths that tell us what the corresponding tags are, the other are the features which contains the supposed tagged parts of the function. Which is then used to compute the score."
      ]
    },
    {
      "cell_type": "code",
      "metadata": {
        "id": "wzJide7F8Bvj"
      },
      "source": [
        "def score_sentences(self, feats, tags):\n",
        "    # tags is ground_truth, a list of ints, length is len(sentence)\n",
        "    # feats is a 2D tensor, len(sentence) * tagset_size\n",
        "    r = torch.LongTensor(range(feats.size()[0]))\n",
        "    if self.use_gpu:\n",
        "        r = r.cuda()\n",
        "        pad_start_tags = torch.cat([torch.cuda.LongTensor([self.tag_to_ix[START_TAG]]), tags])\n",
        "        pad_stop_tags = torch.cat([tags, torch.cuda.LongTensor([self.tag_to_ix[STOP_TAG]])])\n",
        "    else:\n",
        "        pad_start_tags = torch.cat([torch.LongTensor([self.tag_to_ix[START_TAG]]), tags])\n",
        "        pad_stop_tags = torch.cat([tags, torch.LongTensor([self.tag_to_ix[STOP_TAG]])])\n",
        "\n",
        "    score = torch.sum(self.transitions[pad_stop_tags, pad_start_tags]) + torch.sum(feats[r, tags])\n",
        "\n",
        "    return score"
      ],
      "execution_count": 24,
      "outputs": []
    },
    {
      "cell_type": "markdown",
      "metadata": {
        "id": "czeaWdC58Bvj"
      },
      "source": [
        "##### Implementation of Forward Algorithm"
      ]
    },
    {
      "cell_type": "code",
      "metadata": {
        "id": "Kj2ljTuG8Bvj"
      },
      "source": [
        "def forward_alg(self, feats):\n",
        "    '''\n",
        "    This function performs the forward algorithm explained above\n",
        "    '''\n",
        "    # calculate in log domain\n",
        "    # feats is len(sentence) * tagset_size\n",
        "    # initialize alpha with a Tensor with values all equal to -10000.\n",
        "    \n",
        "    # Do the forward algorithm to compute the partition function\n",
        "    init_alphas = torch.Tensor(1, self.tagset_size).fill_(-10000.)\n",
        "    \n",
        "    # START_TAG has all of the score.\n",
        "    init_alphas[0][self.tag_to_ix[START_TAG]] = 0.\n",
        "    \n",
        "    # Wrap in a variable so that we will get automatic backprop\n",
        "    forward_var = autograd.Variable(init_alphas)\n",
        "    if self.use_gpu:\n",
        "        forward_var = forward_var.cuda()\n",
        "        \n",
        "    # Iterate through the sentence\n",
        "    for feat in feats:\n",
        "        # broadcast the emission score: it is the same regardless of\n",
        "        # the previous tag\n",
        "        emit_score = feat.view(-1, 1)\n",
        "        \n",
        "        # the ith entry of trans_score is the score of transitioning to\n",
        "        # next_tag from i\n",
        "        tag_var = forward_var + self.transitions + emit_score\n",
        "        \n",
        "        # The ith entry of next_tag_var is the value for the\n",
        "        # edge (i -> next_tag) before we do log-sum-exp\n",
        "        max_tag_var, _ = torch.max(tag_var, dim=1)\n",
        "        \n",
        "        # The forward variable for this tag is log-sum-exp of all the scores.\n",
        "        tag_var = tag_var - max_tag_var.view(-1, 1)\n",
        "        \n",
        "        # Compute log sum exp in a numerically stable way for the forward algorithm\n",
        "        forward_var = max_tag_var + torch.log(torch.sum(torch.exp(tag_var), dim=1)).view(1, -1)\n",
        "    \n",
        "    terminal_var = (forward_var + self.transitions[self.tag_to_ix[STOP_TAG]]).view(1, -1)\n",
        "    alpha = log_sum_exp(terminal_var)\n",
        "    # Z(x)\n",
        "    return alpha"
      ],
      "execution_count": 25,
      "outputs": []
    },
    {
      "cell_type": "markdown",
      "metadata": {
        "id": "HawVp0-Z8Bvj"
      },
      "source": [
        "##### Viterbi decode"
      ]
    },
    {
      "cell_type": "markdown",
      "metadata": {
        "id": "G71q32kS8Bvj"
      },
      "source": [
        "Viterbi decode is basically applying dynamic programming to choosing our tag sequence. Let’s suppose that we have the solution $\\tilde{s}_{t+1} (y^{t+1})$ for time steps $t + 1, ...., m$ for sequences that start with $y^{t+1}$ for each of the possible $y^{t+1}$. Then the solution $\\tilde{s}_t(y_t)$ for time steps $t, ..., m$ that starts with $y_t$ verifies \n",
        "\n",
        "$$ % <![CDATA[\n",
        "\\begin{align*}\n",
        "\\tilde{s}_t(y_t) &= \\operatorname{argmax}_{y_t, \\ldots, y_m} C(y_t, \\ldots, y_m)\\\\\n",
        "            &= \\operatorname{argmax}_{y_{t+1}} s_t [y_t] + T[y_{t}, y_{t+1}] + \\tilde{s}_{t+1}(y^{t+1})\n",
        "\\end{align*} %]]>$$\n",
        "\n",
        "Then, we can easily define the probability of a given sequence of tags as\n",
        "\n",
        "$$ \\mathbb{P}(y_1, \\ldots, y_m) = \\frac{e^{C(y_1, \\ldots, y_m)}}{Z} $$"
      ]
    },
    {
      "cell_type": "markdown",
      "metadata": {
        "id": "3Qm16uvz8Bvj"
      },
      "source": [
        "##### Implementation of Viterbi Algorithm"
      ]
    },
    {
      "cell_type": "code",
      "metadata": {
        "id": "QnShxXEb8Bvj"
      },
      "source": [
        "def viterbi_algo(self, feats):\n",
        "    '''\n",
        "    In this function, we implement the viterbi algorithm explained above.\n",
        "    A Dynamic programming based approach to find the best tag sequence\n",
        "    '''\n",
        "    backpointers = []\n",
        "    # analogous to forward\n",
        "    \n",
        "    # Initialize the viterbi variables in log space\n",
        "    init_vvars = torch.Tensor(1, self.tagset_size).fill_(-10000.)\n",
        "    init_vvars[0][self.tag_to_ix[START_TAG]] = 0\n",
        "    \n",
        "    # forward_var at step i holds the viterbi variables for step i-1\n",
        "    forward_var = Variable(init_vvars)\n",
        "    if self.use_gpu:\n",
        "        forward_var = forward_var.cuda()\n",
        "    \n",
        "    for feat in feats:\n",
        "        next_tag_var = forward_var.view(1, -1).expand(self.tagset_size, self.tagset_size) + self.transitions\n",
        "        _, bptrs_t = torch.max(next_tag_var, dim=1)\n",
        "\n",
        "        bptrs_t = bptrs_t.squeeze().data.cpu().numpy()  # holds the backpointers for this step\n",
        "        next_tag_var = next_tag_var.data.cpu().numpy()\n",
        "\n",
        "        viterbivars_t = next_tag_var[range(len(bptrs_t)), bptrs_t]  # holds the viterbi variables for this step\n",
        "        viterbivars_t = Variable(torch.FloatTensor(viterbivars_t))\n",
        "\n",
        "        if self.use_gpu:\n",
        "            viterbivars_t = viterbivars_t.cuda()\n",
        "            \n",
        "        # Now add in the emission scores, and assign forward_var to the set\n",
        "        # of viterbi variables we just computed\n",
        "        forward_var = viterbivars_t + feat\n",
        "        backpointers.append(bptrs_t)\n",
        "\n",
        "    # Transition to STOP_TAG\n",
        "    terminal_var = forward_var + self.transitions[self.tag_to_ix[STOP_TAG]]\n",
        "    terminal_var.data[self.tag_to_ix[STOP_TAG]] = -10000.\n",
        "    terminal_var.data[self.tag_to_ix[START_TAG]] = -10000.\n",
        "\n",
        "    best_tag_id = argmax(terminal_var.unsqueeze(0))\n",
        "    path_score = terminal_var[best_tag_id]\n",
        "    \n",
        "    # Follow the back pointers to decode the best path.\n",
        "    best_path = [best_tag_id]\n",
        "    for bptrs_t in reversed(backpointers):\n",
        "        best_tag_id = bptrs_t[best_tag_id]\n",
        "        best_path.append(best_tag_id)\n",
        "        \n",
        "    # Pop off the start tag (we dont want to return that to the caller)\n",
        "    start = best_path.pop()\n",
        "    assert start == self.tag_to_ix[START_TAG] # Sanity check\n",
        "    \n",
        "    best_path.reverse()\n",
        "    return path_score, best_path"
      ],
      "execution_count": 26,
      "outputs": []
    },
    {
      "cell_type": "code",
      "metadata": {
        "id": "iYhWarUw8Bvj"
      },
      "source": [
        "def forward_calc(self, sentence, chars, chars2_length, d):\n",
        "    \n",
        "    '''\n",
        "    The function calls viterbi decode and generates the \n",
        "    most probable sequence of tags for the sentence\n",
        "    '''\n",
        "    \n",
        "    # Get the emission scores from the BiLSTM\n",
        "    feats = self._get_lstm_features(sentence, chars, chars2_length, d)\n",
        "    # viterbi to get tag_seq\n",
        "    \n",
        "    # Find the best path, given the features.\n",
        "    if self.use_crf:\n",
        "        score, tag_seq = self.viterbi_decode(feats)\n",
        "    else:\n",
        "        score, tag_seq = torch.max(feats, 1)\n",
        "        tag_seq = list(tag_seq.cpu().data)\n",
        "\n",
        "    return score, tag_seq"
      ],
      "execution_count": 27,
      "outputs": []
    },
    {
      "cell_type": "markdown",
      "metadata": {
        "id": "8eRZ7YY88Bvj"
      },
      "source": [
        "### Details fo the Model"
      ]
    },
    {
      "cell_type": "markdown",
      "metadata": {
        "id": "6FlX3l5y8Bvj"
      },
      "source": [
        "##### 1. CNN model for generating character embeddings\n",
        "\n",
        "\n",
        "Consider the word 'cat', we pad it on both ends to get our maximum word length ( this is mainly an implementation quirk since we can't have variable length layers at run time, our algorithm will ignore the pads).\n",
        "\n",
        "We then apply a convolution layer on top that generates spatial coherence across characters, we use a maxpool to extract meaningful features out of our convolution layer. This now gives us a dense vector representation of each word. This representation will be concatenated with the pre-trained GloVe embeddings using a simple lookup.\n",
        "\n",
        "\n",
        "<img src = \"https://github.com/TheAnig/NER-LSTM-CNN-Pytorch/raw/master/images/cnn_model.png\"></img>\n",
        "<a href=\"http://www.aclweb.org/anthology/P16-1101\">Image Source</a>\n",
        "\n",
        "\n",
        "This snippet shows us how the CNN is implemented in pytorch\n",
        "\n",
        "`self.char_cnn3 = nn.Conv2d(in_channels=1, out_channels=self.out_channels, kernel_size=(3, char_embedding_dim), padding=(2,0))`\n",
        "\n",
        "##### 2. Rest of the model (LSTM based) that generates tags for the given sequence\n",
        "\n",
        "The word-embeddings( glove+char embedding ) that we generated above, we feed to a bi-directional LSTM model. The LSTM model has 2 layers, \n",
        "* The forward layer takes in a sequence of word vectors and generates a new vector based on what it has seen so far in the forward direction (starting from the start word up until current word) this vector can be thought of as a summary of all the words it has seen. \n",
        "\n",
        "* The backwards layer does the same but in opposite direction, i.e., from the end of the sentence to the current word.\n",
        "\n",
        "The forward vector and the backwards vector at current word concatanate to generate a unified representation.\n",
        "\n",
        "<img src = \"https://github.com/TheAnig/NER-LSTM-CNN-Pytorch/raw/master/images/lstm_model.png\"></img>\n",
        "<a href=\"http://www.aclweb.org/anthology/P16-1101\">Image Source</a>\n",
        "\n",
        "This snippet shows us how the BiLSTM is implemented in pytorch\n",
        "\n",
        "`self.lstm = nn.LSTM(embedding_dim+self.out_channels, hidden_dim, bidirectional=True)`\n",
        "\n",
        "Finally, we have a linear layer to map hidden vectors to tag space."
      ]
    },
    {
      "cell_type": "markdown",
      "metadata": {
        "id": "5Y5tmQKK8Bvj"
      },
      "source": [
        "##### Main Model Implementation"
      ]
    },
    {
      "cell_type": "markdown",
      "metadata": {
        "id": "OlOctYSA8Bvj"
      },
      "source": [
        "The get_lstm_features function returns the LSTM's tag vectors. The function performs all the steps mentioned above for the model.\n",
        "\n",
        "Steps:\n",
        "1. It takes in characters, converts them to embeddings using our character CNN.\n",
        "2. We concat Character Embeding with glove vectors, use this as features that we feed to Bidirectional-LSTM. \n",
        "3. The Bidirectional-LSTM generates outputs based on these set of features.\n",
        "4. The output are passed through a linear layer to convert to tag space."
      ]
    },
    {
      "cell_type": "code",
      "metadata": {
        "id": "YFSOV-Lp8Bvj"
      },
      "source": [
        "def get_lstm_features(self, sentence, chars2, chars2_length, d):\n",
        "    if self.char_mode == 'LSTM':\n",
        "        chars_embeds = self.char_embeds(chars2).transpose(0, 1)\n",
        "        \n",
        "        packed = torch.nn.utils.rnn.pack_padded_sequence(chars_embeds, chars2_length)\n",
        "        \n",
        "        lstm_out, _ = self.char_lstm(packed)\n",
        "        \n",
        "        outputs, output_lengths = torch.nn.utils.rnn.pad_packed_sequence(lstm_out)\n",
        "        \n",
        "        outputs = outputs.transpose(0, 1)\n",
        "        \n",
        "        chars_embeds_temp = Variable(torch.FloatTensor(torch.zeros((outputs.size(0), outputs.size(2)))))\n",
        "        \n",
        "        if self.use_gpu:\n",
        "            chars_embeds_temp = chars_embeds_temp.cuda()\n",
        "        \n",
        "        for i, index in enumerate(output_lengths):\n",
        "            chars_embeds_temp[i] = torch.cat((outputs[i, index-1, :self.char_lstm_dim], outputs[i, 0, self.char_lstm_dim:]))\n",
        "        \n",
        "        chars_embeds = chars_embeds_temp.clone()\n",
        "        \n",
        "        for i in range(chars_embeds.size(0)):\n",
        "            chars_embeds[d[i]] = chars_embeds_temp[i]\n",
        "    \n",
        "    if self.char_mode == 'CNN':\n",
        "        chars_embeds = self.char_embeds(chars2).unsqueeze(1)\n",
        "\n",
        "        # Creating Character level representation using Convolutional Neural Network\n",
        "        # followed by a Maxpooling Layer\n",
        "        chars_cnn_out3 = self.char_cnn3(chars_embeds)\n",
        "        chars_embeds = nn.functional.max_pool2d(\n",
        "            chars_cnn_out3,\n",
        "            kernel_size=(chars_cnn_out3.size(2), 1)).view(chars_cnn_out3.size(0),\n",
        "            self.out_channels,\n",
        "        )\n",
        "\n",
        "    # Loading word embeddings\n",
        "    embeds = self.word_embeds(sentence)\n",
        "\n",
        "    # We concatenate the word embeddings and the character level representation\n",
        "    # to create unified representation for each word\n",
        "    embeds = torch.cat((embeds, chars_embeds), 1)\n",
        "\n",
        "    embeds = embeds.unsqueeze(1)\n",
        "\n",
        "    # Dropout on the unified embeddings\n",
        "    embeds = self.dropout(embeds)\n",
        "\n",
        "    # Word lstm\n",
        "    # Takes words as input and generates a output at each step\n",
        "    lstm_out, _ = self.lstm(embeds)\n",
        "\n",
        "    # Reshaping the outputs from the lstm layer\n",
        "    lstm_out = lstm_out.view(len(sentence), self.hidden_dim*2)\n",
        "\n",
        "    # Dropout on the lstm output\n",
        "    lstm_out = self.dropout(lstm_out)\n",
        "\n",
        "    # Linear layer converts the ouput vectors to tag space\n",
        "    lstm_feats = self.hidden2tag(lstm_out)\n",
        "    \n",
        "    return lstm_feats"
      ],
      "execution_count": 28,
      "outputs": []
    },
    {
      "cell_type": "markdown",
      "metadata": {
        "id": "0gTCbkRy8Bvj"
      },
      "source": [
        "##### Funtion for Negative log likelihood calculation"
      ]
    },
    {
      "cell_type": "markdown",
      "metadata": {
        "id": "fIl2kIpk8Bvj"
      },
      "source": [
        "This is a helper function that calculates the negative log likelihood. \n",
        "\n",
        "The functions takes as input the previously calulcated lstm features to use to calculate the sentence score and then perform a forward run score and compare it with our predicted score to generate a log likelihood. \n",
        "\n",
        "`Implementation detail: Notice we do not pump out any log conversion in this function that is supposedly about log likelihood calculation, this is because we have ensured that we get the scores from our helper functions in the log domain.`"
      ]
    },
    {
      "cell_type": "code",
      "metadata": {
        "id": "6D4Hm1r08Bvj"
      },
      "source": [
        "def get_neg_log_likelihood(self, sentence, tags, chars2, chars2_length, d):\n",
        "    # sentence, tags is a list of ints\n",
        "    # features is a 2D tensor, len(sentence) * self.tagset_size\n",
        "    feats = self._get_lstm_features(sentence, chars2, chars2_length, d)\n",
        "\n",
        "    if self.use_crf:\n",
        "        forward_score = self._forward_alg(feats)\n",
        "        gold_score = self._score_sentence(feats, tags)\n",
        "        return forward_score - gold_score\n",
        "    else:\n",
        "        tags = Variable(tags)\n",
        "        scores = nn.functional.cross_entropy(feats, tags)\n",
        "        return scores"
      ],
      "execution_count": 29,
      "outputs": []
    },
    {
      "cell_type": "markdown",
      "metadata": {
        "id": "ZDurdSsK8Bvj"
      },
      "source": [
        "##### Main Model Class"
      ]
    },
    {
      "cell_type": "code",
      "metadata": {
        "id": "JTuamq0Y8Bvj"
      },
      "source": [
        "class BiLSTM_CRF(nn.Module):\n",
        "    def __init__(\n",
        "        self, vocab_size, tag_to_ix, embedding_dim, hidden_dim,\n",
        "        char_to_ix=None, pre_word_embeds=None, char_out_dimension=25,\n",
        "        char_embedding_dim=25, use_gpu=False, use_crf=True, char_mode='CNN',\n",
        "    ):\n",
        "        '''\n",
        "        Input parameters:\n",
        "                \n",
        "            vocab_size= Size of vocabulary (int)\n",
        "            tag_to_ix = Dictionary that maps NER tags pacific rim themeto indices\n",
        "            embedding_dim = Dimension of word embeddings (int)\n",
        "            hidden_dim = The hidden dimension of the LSTM layer (int)\n",
        "            char_to_ix = Dictionary that maps characters to indices\n",
        "            pre_word_embeds = Numpy array which provides mapping from word embeddings to word indices\n",
        "            char_out_dimension = Output dimension from the CNN encoder for character\n",
        "            char_embedding_dim = Dimension of the character embeddings\n",
        "            use_gpu = defines availability of GPU, \n",
        "                when True: CUDA function calls are made\n",
        "                else: Normal CPU function calls are made\n",
        "            use_crf = parameter which decides if you want to use the CRF layer for output decoding\n",
        "        '''\n",
        "        \n",
        "        super(BiLSTM_CRF, self).__init__()\n",
        "        \n",
        "        # parameter initialization for the model\n",
        "        self.use_gpu = use_gpu\n",
        "        self.embedding_dim = embedding_dim\n",
        "        self.hidden_dim = hidden_dim\n",
        "        self.vocab_size = vocab_size\n",
        "        self.tag_to_ix = tag_to_ix\n",
        "        self.use_crf = use_crf\n",
        "        self.tagset_size = len(tag_to_ix)\n",
        "        self.out_channels = char_out_dimension\n",
        "        self.char_mode = char_mode\n",
        "\n",
        "        if char_embedding_dim is not None:\n",
        "            self.char_embedding_dim = char_embedding_dim\n",
        "            \n",
        "            # Initializing the character embedding layer\n",
        "            self.char_embeds = nn.Embedding(len(char_to_ix), char_embedding_dim)\n",
        "            init_embedding(self.char_embeds.weight)\n",
        "            \n",
        "            # Performing LSTM encoding on the character embeddings\n",
        "            if self.char_mode == 'LSTM':\n",
        "                self.char_lstm = nn.LSTM(char_embedding_dim, char_lstm_dim, num_layers=1, bidirectional=True)\n",
        "                init_lstm(self.char_lstm)\n",
        "                \n",
        "            # Performing CNN encoding on the character embeddings\n",
        "            if self.char_mode == 'CNN':\n",
        "                self.char_cnn3 = nn.Conv2d(in_channels=1, out_channels=self.out_channels, kernel_size=(3, char_embedding_dim), padding=(2,0))\n",
        "\n",
        "        # Creating Embedding layer with dimension of ( number of words * dimension of each word)\n",
        "        self.word_embeds = nn.Embedding(vocab_size, embedding_dim)\n",
        "        if pre_word_embeds is not None:\n",
        "            # Initializes the word embeddings with pretrained word embeddings\n",
        "            self.pre_word_embeds = True\n",
        "            self.word_embeds.weight = nn.Parameter(torch.FloatTensor(pre_word_embeds))\n",
        "        else:\n",
        "            self.pre_word_embeds = False\n",
        "    \n",
        "        # Initializing the dropout layer, with dropout specificed in parameters\n",
        "        self.dropout = nn.Dropout(parameters['dropout'])\n",
        "        \n",
        "        # Lstm Layer:\n",
        "        # input dimension: word embedding dimension + character level representation\n",
        "        # bidirectional=True, specifies that we are using the bidirectional LSTM\n",
        "        if self.char_mode == 'LSTM':\n",
        "            self.lstm = nn.LSTM(embedding_dim+char_lstm_dim*2, hidden_dim, bidirectional=True)\n",
        "        if self.char_mode == 'CNN':\n",
        "            self.lstm = nn.LSTM(embedding_dim+self.out_channels, hidden_dim, bidirectional=True)\n",
        "        \n",
        "        #Initializing the lstm layer using predefined function for initialization\n",
        "        init_lstm(self.lstm)\n",
        "        \n",
        "        # Linear layer which maps the output of the bidirectional LSTM into tag space.\n",
        "        self.hidden2tag = nn.Linear(hidden_dim*2, self.tagset_size)\n",
        "        \n",
        "        #Initializing the linear layer using predefined function for initialization\n",
        "        init_linear(self.hidden2tag) \n",
        "\n",
        "        if self.use_crf:\n",
        "            # Matrix of transition parameters.  Entry i,j is the score of transitioning *to* i *from* j.\n",
        "            # Matrix has a dimension of (total number of tags * total number of tags)\n",
        "            self.transitions = nn.Parameter(\n",
        "                torch.zeros(self.tagset_size, self.tagset_size))\n",
        "            \n",
        "            # These two statements enforce the constraint that we never transfer\n",
        "            # to the start tag and we never transfer from the stop tag\n",
        "            self.transitions.data[tag_to_ix[START_TAG], :] = -10000\n",
        "            self.transitions.data[:, tag_to_ix[STOP_TAG]] = -10000\n",
        "\n",
        "    # assigning the functions, which we have defined earlier\n",
        "    _score_sentence = score_sentences\n",
        "    _get_lstm_features = get_lstm_features\n",
        "    _forward_alg = forward_alg\n",
        "    viterbi_decode = viterbi_algo\n",
        "    neg_log_likelihood = get_neg_log_likelihood\n",
        "    forward = forward_calc"
      ],
      "execution_count": 30,
      "outputs": []
    },
    {
      "cell_type": "code",
      "metadata": {
        "id": "0n-Z7y7l8Bvj",
        "colab": {
          "base_uri": "https://localhost:8080/"
        },
        "outputId": "989dbd82-c65d-4cf0-8b67-46173544b129"
      },
      "source": [
        "# creating the model using the Class defined above\n",
        "model = BiLSTM_CRF(\n",
        "    vocab_size=len(word_to_id),\n",
        "    tag_to_ix=tag_to_id,\n",
        "    embedding_dim=parameters['word_dim'],\n",
        "    hidden_dim=parameters['word_lstm_dim'],\n",
        "    use_gpu=use_gpu,\n",
        "    char_to_ix=char_to_id,\n",
        "    pre_word_embeds=word_embeds,\n",
        "    use_crf=parameters['crf'],\n",
        "    char_mode=parameters['char_mode'],\n",
        ")\n",
        "print('Model Initialized!!!')"
      ],
      "execution_count": 31,
      "outputs": [
        {
          "output_type": "stream",
          "text": [
            "Model Initialized!!!\n"
          ],
          "name": "stdout"
        },
        {
          "output_type": "stream",
          "text": [
            "/usr/local/lib/python3.6/dist-packages/ipykernel_launcher.py:6: UserWarning: nn.init.uniform is now deprecated in favor of nn.init.uniform_.\n",
            "  \n",
            "/usr/local/lib/python3.6/dist-packages/ipykernel_launcher.py:24: UserWarning: nn.init.uniform is now deprecated in favor of nn.init.uniform_.\n",
            "/usr/local/lib/python3.6/dist-packages/ipykernel_launcher.py:29: UserWarning: nn.init.uniform is now deprecated in favor of nn.init.uniform_.\n",
            "/usr/local/lib/python3.6/dist-packages/ipykernel_launcher.py:36: UserWarning: nn.init.uniform is now deprecated in favor of nn.init.uniform_.\n",
            "/usr/local/lib/python3.6/dist-packages/ipykernel_launcher.py:40: UserWarning: nn.init.uniform is now deprecated in favor of nn.init.uniform_.\n"
          ],
          "name": "stderr"
        }
      ]
    },
    {
      "cell_type": "code",
      "metadata": {
        "id": "npKkuEhd8Bvk"
      },
      "source": [
        "# Reload a saved model, if parameter[\"reload\"] is set to a path\n",
        "if parameters['reload']:\n",
        "    if not os.path.exists(parameters['reload']):\n",
        "        print('downloading pre-trained model...')\n",
        "        model_url = 'https://github.com/TheAnig/NER-LSTM-CNN-Pytorch/raw/master/trained-model-cpu'\n",
        "        urllib.request.urlretrieve(model_url, parameters['reload'])\n",
        "    \n",
        "    model.load_state_dict(torch.load(parameters['reload']))\n",
        "    print(\"model reloaded :\", parameters['reload'])\n",
        "\n",
        "if use_gpu:\n",
        "    model.cuda()"
      ],
      "execution_count": 32,
      "outputs": []
    },
    {
      "cell_type": "markdown",
      "metadata": {
        "id": "6ef1i4E18Bvk"
      },
      "source": [
        "##### Training Paramaters"
      ]
    },
    {
      "cell_type": "code",
      "metadata": {
        "id": "NuYjGHi58Bvk"
      },
      "source": [
        "# Initializing the optimizer\n",
        "# The best results in the paper were achived using stochastic gradient descent (SGD) \n",
        "# learning rate=0.015 and momentum=0.9 \n",
        "# decay_rate=0.05 \n",
        "\n",
        "learning_rate = 0.015\n",
        "momentum = 0.9\n",
        "number_of_epochs = parameters['epoch'] \n",
        "decay_rate = 0.05\n",
        "gradient_clip = parameters['gradient_clip']\n",
        "optimizer = torch.optim.SGD(model.parameters(), lr=learning_rate, momentum=momentum)\n",
        "\n",
        "#variables which will used in training process\n",
        "losses = []  # list to store all losses\n",
        "loss = 0.0  # Loss Initialization\n",
        "\n",
        "best_train_F = -1.0  # Current best F-1 Score on Train Set\n",
        "best_val_F = -1.0  # Current best F-1 Score on Val Set\n",
        "best_test_F = -1.0  # Current best F-1 Score on Test Set\n",
        "all_F = [[0, 0, 0]]  # List storing all the F-1 Scores\n",
        "\n",
        "eval_every = len(train_data)  # Calculate F-1 Score after this many iterations\n",
        "plot_every = 2000  # Store loss after this many iterations\n",
        "# count = 0  #Counts the number of iterations"
      ],
      "execution_count": 33,
      "outputs": []
    },
    {
      "cell_type": "markdown",
      "metadata": {
        "id": "dkLzn27C8Bvk"
      },
      "source": [
        "### Evaluation"
      ]
    },
    {
      "cell_type": "markdown",
      "metadata": {
        "id": "Oqnoy0Um8Bvk"
      },
      "source": [
        "##### Helper functions for evaluation"
      ]
    },
    {
      "cell_type": "code",
      "metadata": {
        "id": "Ue04bPTD8Bvk"
      },
      "source": [
        "def get_chunk_type(tok, idx_to_tag):\n",
        "    '''\n",
        "    The function takes in a chunk (\"B-PER\") and then splits it into the tag (PER) and its class (B)\n",
        "    as defined in BIOES\n",
        "    \n",
        "    Args:\n",
        "        tok: id of token, ex 4\n",
        "        idx_to_tag: dictionary {4: \"B-PER\", ...}\n",
        "\n",
        "    Returns:\n",
        "        tuple: \"B\", \"PER\"\n",
        "\n",
        "    '''\n",
        "    tag_name = idx_to_tag[tok]\n",
        "    tag_class = tag_name.split('-')[0]\n",
        "    tag_type = tag_name.split('-')[-1]\n",
        "    \n",
        "    return tag_class, tag_type"
      ],
      "execution_count": 34,
      "outputs": []
    },
    {
      "cell_type": "code",
      "metadata": {
        "id": "nEwPjfgJ8Bvk"
      },
      "source": [
        "def get_chunks(seq, tags):\n",
        "    '''\n",
        "    Given a sequence of tags, group entities and their position\n",
        "\n",
        "    Args:\n",
        "        seq: [4, 4, 0, 0, ...] sequence of labels\n",
        "        tags: dict[\"O\"] = 4\n",
        "\n",
        "    Returns:\n",
        "        list of (chunk_type, chunk_start, chunk_end)\n",
        "\n",
        "    Example:\n",
        "        seq = [4, 5, 0, 3]\n",
        "        tags = {\"B-PER\": 4, \"I-PER\": 5, \"B-LOC\": 3}\n",
        "        result = [(\"PER\", 0, 2), (\"LOC\", 3, 4)]\n",
        "    '''\n",
        "    \n",
        "    # We assume by default the tags lie outside a named entity\n",
        "    default = tags['O']\n",
        "    \n",
        "    idx_to_tag = {idx: tag for tag, idx in tags.items()}\n",
        "    \n",
        "    chunks = []\n",
        "    \n",
        "    chunk_type, chunk_start = None, None\n",
        "\n",
        "    for i, tok in enumerate(seq):\n",
        "        # End of a chunk 1\n",
        "        if tok == default and chunk_type is not None:\n",
        "            # Add a chunk.\n",
        "            chunk = (chunk_type, chunk_start, i)\n",
        "            chunks.append(chunk)\n",
        "            chunk_type, chunk_start = None, None\n",
        "\n",
        "        # End of a chunk + start of a chunk!\n",
        "        elif tok != default:\n",
        "            tok_chunk_class, tok_chunk_type = get_chunk_type(tok, idx_to_tag)\n",
        "            if chunk_type is None:\n",
        "                # Initialize chunk for each entity\n",
        "                chunk_type, chunk_start = tok_chunk_type, i\n",
        "            \n",
        "            elif tok_chunk_type != chunk_type or tok_chunk_class == 'B':\n",
        "                # If chunk class is B, i.e., its a beginning of a new named entity\n",
        "                # or, if the chunk type is different from the previous one, then we\n",
        "                # start labelling it as a new entity\n",
        "                chunk = (chunk_type, chunk_start, i)\n",
        "                chunks.append(chunk)\n",
        "                chunk_type, chunk_start = tok_chunk_type, i\n",
        "        else:\n",
        "            pass\n",
        "\n",
        "    # end condition\n",
        "    if chunk_type is not None:\n",
        "        chunk = (chunk_type, chunk_start, len(seq))\n",
        "        chunks.append(chunk)\n",
        "\n",
        "    return chunks"
      ],
      "execution_count": 35,
      "outputs": []
    },
    {
      "cell_type": "code",
      "metadata": {
        "id": "oEdhuEm08Bvk"
      },
      "source": [
        "def evaluating(model, datas, best_F, dataset='Train'):\n",
        "    '''\n",
        "    The function takes as input the model, data and calcuates F-1 Score\n",
        "    It performs conditional updates \n",
        "     1) Flag to save the model \n",
        "     2) Best F-1 score\n",
        "    , if the F-1 score calculated improves on the previous F-1 score\n",
        "    '''\n",
        "    # Initializations\n",
        "    prediction = []  # A list that stores predicted tags\n",
        "    save = False  # Flag that tells us if the model needs to be saved\n",
        "    new_F = 0.0  # Variable to store the current F1-Score (may not be the best)\n",
        "    correct_preds, total_correct, total_preds = 0., 0., 0.  # Count variables\n",
        "    \n",
        "    for data in datas:\n",
        "        ground_truth_id = data['tags']\n",
        "        words = data['str_words']\n",
        "        chars2 = data['chars']\n",
        "        \n",
        "        if parameters['char_mode'] == 'LSTM':\n",
        "            chars2_sorted = sorted(chars2, key=lambda p: len(p), reverse=True)\n",
        "            d = {}\n",
        "\n",
        "            for i, ci in enumerate(chars2):\n",
        "                for j, cj in enumerate(chars2_sorted):\n",
        "                    if ci == cj and not j in d and not i in d.values():\n",
        "                        d[j] = i\n",
        "                        continue\n",
        "            \n",
        "            chars2_length = [len(c) for c in chars2_sorted]\n",
        "            char_maxl = max(chars2_length)\n",
        "            chars2_mask = np.zeros((len(chars2_sorted), char_maxl), dtype='int')\n",
        "\n",
        "            for i, c in enumerate(chars2_sorted):\n",
        "                chars2_mask[i, :chars2_length[i]] = c\n",
        "            chars2_mask = Variable(torch.LongTensor(chars2_mask))\n",
        "        \n",
        "        \n",
        "        if parameters['char_mode'] == 'CNN':\n",
        "            d = {} \n",
        "\n",
        "            # Padding the each word to max word size of that sentence\n",
        "            chars2_length = [len(c) for c in chars2]\n",
        "            char_maxl = max(chars2_length)\n",
        "            chars2_mask = np.zeros((len(chars2_length), char_maxl), dtype='int')\n",
        "\n",
        "            for i, c in enumerate(chars2):\n",
        "                chars2_mask[i, :chars2_length[i]] = c\n",
        "            chars2_mask = Variable(torch.LongTensor(chars2_mask))\n",
        "\n",
        "        dwords = Variable(torch.LongTensor(data['words']))\n",
        "        \n",
        "        # We are getting the predicted output from our model\n",
        "        if use_gpu:\n",
        "            val,out = model(dwords.cuda(), chars2_mask.cuda(), chars2_length, d)\n",
        "        else:\n",
        "            val,out = model(dwords, chars2_mask, chars2_length, d)\n",
        "        predicted_id = out\n",
        "    \n",
        "        # We use the get chunks function defined above to get the true chunks\n",
        "        # and the predicted chunks from true labels and predicted labels respectively\n",
        "        lab_chunks = set(get_chunks(ground_truth_id,tag_to_id))\n",
        "        lab_pred_chunks = set(get_chunks(predicted_id, tag_to_id))\n",
        "\n",
        "        # Updating the count variables\n",
        "        correct_preds += len(lab_chunks & lab_pred_chunks)\n",
        "        total_preds   += len(lab_pred_chunks)\n",
        "        total_correct += len(lab_chunks)\n",
        "    \n",
        "    # Calculating the F1-Score\n",
        "    p = correct_preds / total_preds if correct_preds > 0 else 0\n",
        "    r = correct_preds / total_correct if correct_preds > 0 else 0\n",
        "    new_F = 2 * p * r / (p + r) if correct_preds > 0 else 0\n",
        "\n",
        "    print(f'{dataset}: new_F: {new_F} best_F: {best_F} ')\n",
        "    \n",
        "    # If our current F1-Score is better than the previous best, we update the best\n",
        "    # to current F1 and we set the flag to indicate that we need to checkpoint this model\n",
        "    \n",
        "    if new_F > best_F:\n",
        "        best_F = new_F\n",
        "        save = True\n",
        "\n",
        "    return best_F, new_F, save"
      ],
      "execution_count": 36,
      "outputs": []
    },
    {
      "cell_type": "markdown",
      "metadata": {
        "id": "I6lOBcQe8Bvk"
      },
      "source": [
        "##### Helper function for performing Learning rate decay"
      ]
    },
    {
      "cell_type": "code",
      "metadata": {
        "id": "HWrJJH7f8Bvk"
      },
      "source": [
        "def adjust_learning_rate(optimizer, lr):\n",
        "    '''\n",
        "    shrink learning rate\n",
        "    '''\n",
        "    for param_group in optimizer.param_groups:\n",
        "        param_group['lr'] = lr"
      ],
      "execution_count": 37,
      "outputs": []
    },
    {
      "cell_type": "markdown",
      "metadata": {
        "id": "llXSthW48Bvk"
      },
      "source": [
        "### Training Step"
      ]
    },
    {
      "cell_type": "markdown",
      "metadata": {
        "id": "L55Q8SI58Bvk"
      },
      "source": [
        "If `parameters['reload']` is set, we already have a model to load of off, so we can skip the training. We have originally specified a pre-trained model since training is an expensive process, but we encourage readers to try this out once they're done with the tutorial."
      ]
    },
    {
      "cell_type": "code",
      "metadata": {
        "id": "yRX467sD8Bvk",
        "colab": {
          "base_uri": "https://localhost:8080/",
          "height": 1000
        },
        "outputId": "8cefa295-e256-4f06-a857-e2c63a37ea36"
      },
      "source": [
        "parameters['reload'] = False  # comment away to skip training\n",
        "\n",
        "if not parameters['reload']:\n",
        "    tr = time.time()\n",
        "    model.train(True)\n",
        "\n",
        "    for epoch in range(1, number_of_epochs):\n",
        "        for count, index in enumerate(np.random.permutation(len(train_data))):\n",
        "            data = train_data[index]\n",
        "\n",
        "            # gradient updates for each data entry\n",
        "            model.zero_grad()\n",
        "\n",
        "            sentence_in = data['words']\n",
        "            sentence_in = Variable(torch.LongTensor(sentence_in))\n",
        "            tags = data['tags']\n",
        "            chars2 = data['chars']\n",
        "            \n",
        "            if parameters['char_mode'] == 'LSTM':\n",
        "                chars2_sorted = sorted(chars2, key=lambda p: len(p), reverse=True)\n",
        "                d = {}\n",
        "\n",
        "                for i, ci in enumerate(chars2):\n",
        "                    for j, cj in enumerate(chars2_sorted):\n",
        "                        if ci == cj and not j in d and not i in d.values():\n",
        "                            d[j] = i\n",
        "                            continue\n",
        "                \n",
        "                chars2_length = [len(c) for c in chars2_sorted]\n",
        "                char_maxl = max(chars2_length)\n",
        "                chars2_mask = np.zeros((len(chars2_sorted), char_maxl), dtype='int')\n",
        "\n",
        "                for i, c in enumerate(chars2_sorted):\n",
        "                    chars2_mask[i, :chars2_length[i]] = c\n",
        "                chars2_mask = Variable(torch.LongTensor(chars2_mask))\n",
        "            \n",
        "            if parameters['char_mode'] == 'CNN':\n",
        "                d = {}\n",
        "\n",
        "                # Padding the each word to max word size of that sentence\n",
        "                chars2_length = [len(c) for c in chars2]\n",
        "                char_maxl = max(chars2_length)\n",
        "                chars2_mask = np.zeros((len(chars2_length), char_maxl), dtype='int')\n",
        "\n",
        "                for i, c in enumerate(chars2):\n",
        "                    chars2_mask[i, :chars2_length[i]] = c\n",
        "                chars2_mask = Variable(torch.LongTensor(chars2_mask))\n",
        "\n",
        "            targets = torch.LongTensor(tags)\n",
        "\n",
        "            # we calculate the negative log-likelihood for the predicted tags using the predefined function\n",
        "            if use_gpu:\n",
        "                neg_log_likelihood = model.neg_log_likelihood(sentence_in.cuda(), targets.cuda(), chars2_mask.cuda(), chars2_length, d)\n",
        "            else:\n",
        "                neg_log_likelihood = model.neg_log_likelihood(sentence_in, targets, chars2_mask, chars2_length, d)\n",
        "            \n",
        "            loss += neg_log_likelihood.data.item() / len(data['words'])  # loss += neg_log_likelihood.data[0] / len(data['words'])\n",
        "\n",
        "            neg_log_likelihood.backward()\n",
        "\n",
        "            # we use gradient clipping to avoid exploding gradients\n",
        "            torch.nn.utils.clip_grad_norm(model.parameters(), gradient_clip)\n",
        "            optimizer.step()\n",
        "\n",
        "            # Storing loss\n",
        "            if count % plot_every == 0:\n",
        "                loss /= plot_every\n",
        "                print(count, ': ', loss)\n",
        "\n",
        "                if losses == []:\n",
        "                    losses.append(loss)\n",
        "                \n",
        "                losses.append(loss)\n",
        "                loss = 0.0\n",
        "\n",
        "            # Evaluating on Train, Test, Dev Sets\n",
        "            if count % (eval_every) == 0 and count > (eval_every * 20) or count % (eval_every*4) == 0 and count < (eval_every * 20):\n",
        "                model.train(False)\n",
        "                best_train_F, new_train_F, _ = evaluating(model, train_data, best_train_F, 'Train')\n",
        "                best_val_F, new_val_F, save = evaluating(model, val_data, best_val_F, 'Val')\n",
        "\n",
        "                if save:\n",
        "                    print(f'Saving Model to {model_name}')\n",
        "                    torch.save(model.state_dict(), model_name)\n",
        "                \n",
        "                best_test_F, new_test_F, _ = evaluating(model, test_data, best_test_F, 'Test')\n",
        "\n",
        "                all_F.append([new_train_F, new_val_F, new_test_F])\n",
        "                model.train(True)\n",
        "\n",
        "            #Performing decay on the learning rate\n",
        "            if count % len(train_data) == 0:\n",
        "                adjust_learning_rate(optimizer, lr=learning_rate/(1+decay_rate*count/len(train_data)))\n",
        "\n",
        "    print(time.time() - tr)\n",
        "    plt.plot(losses)\n",
        "    plt.show()\n",
        "\n",
        "if not parameters['reload']:\n",
        "    #reload the best model saved from training\n",
        "    model.load_state_dict(torch.load(model_name))"
      ],
      "execution_count": 38,
      "outputs": [
        {
          "output_type": "stream",
          "text": [
            "/usr/local/lib/python3.6/dist-packages/ipykernel_launcher.py:62: UserWarning: torch.nn.utils.clip_grad_norm is now deprecated in favor of torch.nn.utils.clip_grad_norm_.\n"
          ],
          "name": "stderr"
        },
        {
          "output_type": "stream",
          "text": [
            "0 :  0.0014263998943826427\n",
            "Train: new_F: 0.033753395377833194 best_F: -1.0 \n",
            "Val: new_F: 0.03430943048189993 best_F: -1.0 \n",
            "Saving Model to /content/drive/MyDrive/NLPAssignment2/models/self-trained-model\n",
            "Test: new_F: 0.03396757640434131 best_F: -1.0 \n",
            "2000 :  0.47058373658636554\n",
            "4000 :  0.20134051007346732\n",
            "6000 :  0.16773594397332017\n",
            "8000 :  0.1551780408008025\n",
            "10000 :  0.1186672430565028\n",
            "12000 :  0.11932085253323388\n",
            "14000 :  0.11638591330305446\n",
            "0 :  0.0017957336214348254\n",
            "Train: new_F: 0.909783881613968 best_F: 0.033753395377833194 \n",
            "Val: new_F: 0.8658423753049037 best_F: 0.03430943048189993 \n",
            "Saving Model to /content/drive/MyDrive/NLPAssignment2/models/self-trained-model\n",
            "Test: new_F: 0.8146837682441398 best_F: 0.03396757640434131 \n",
            "2000 :  0.10361056218452067\n",
            "4000 :  0.10463049688703019\n",
            "6000 :  0.09630367323795128\n",
            "8000 :  0.08468831608475984\n",
            "10000 :  0.0972533794569197\n",
            "12000 :  0.0951734424184503\n",
            "14000 :  0.08567608319709925\n",
            "0 :  0.003394035082634778\n",
            "Train: new_F: 0.9399914821124361 best_F: 0.909783881613968 \n",
            "Val: new_F: 0.8935631018753168 best_F: 0.8658423753049037 \n",
            "Saving Model to /content/drive/MyDrive/NLPAssignment2/models/self-trained-model\n",
            "Test: new_F: 0.8466595593461265 best_F: 0.8146837682441398 \n",
            "2000 :  0.08096184776934072\n",
            "4000 :  0.07282029162813905\n",
            "6000 :  0.07872733471822393\n",
            "8000 :  0.07314556809594108\n",
            "10000 :  0.08080591350352193\n",
            "12000 :  0.0684472479467989\n",
            "14000 :  0.06745107248115015\n",
            "0 :  0.0015518551753407998\n",
            "Train: new_F: 0.9440105552127003 best_F: 0.9399914821124361 \n",
            "Val: new_F: 0.8814677037538046 best_F: 0.8935631018753168 \n",
            "Test: new_F: 0.8240633621073241 best_F: 0.8466595593461265 \n",
            "2000 :  0.06202029646083276\n",
            "4000 :  0.0632038321276693\n",
            "6000 :  0.06008000732501873\n",
            "8000 :  0.07216296546320647\n",
            "10000 :  0.06319868798533132\n",
            "12000 :  0.06708028232767559\n",
            "14000 :  0.053028487122016174\n",
            "0 :  0.0024416467232701595\n",
            "Train: new_F: 0.9590808132581583 best_F: 0.9440105552127003 \n",
            "Val: new_F: 0.8927306459773993 best_F: 0.8935631018753168 \n",
            "Test: new_F: 0.8480967627178939 best_F: 0.8466595593461265 \n",
            "2000 :  0.05959119477966136\n",
            "4000 :  0.04991770448455094\n",
            "6000 :  0.05355387261263499\n",
            "8000 :  0.06282613175716312\n",
            "10000 :  0.05876663648123736\n",
            "12000 :  0.04655287641922095\n",
            "14000 :  0.05468859152394708\n",
            "0 :  0.0008255329297709835\n",
            "Train: new_F: 0.9674612989892959 best_F: 0.9590808132581583 \n",
            "Val: new_F: 0.906154886709503 best_F: 0.8935631018753168 \n",
            "Saving Model to /content/drive/MyDrive/NLPAssignment2/models/self-trained-model\n",
            "Test: new_F: 0.8479886080455679 best_F: 0.8480967627178939 \n",
            "2000 :  0.05648835367883993\n",
            "4000 :  0.044937233917891034\n",
            "6000 :  0.050657540900469866\n",
            "8000 :  0.0424360221663438\n",
            "10000 :  0.046542921188086714\n",
            "12000 :  0.05488159010620748\n",
            "14000 :  0.04155815713405698\n",
            "0 :  0.0010633118844952736\n",
            "Train: new_F: 0.9723796939601892 best_F: 0.9674612989892959 \n",
            "Val: new_F: 0.8997546738854582 best_F: 0.906154886709503 \n",
            "Test: new_F: 0.8449522449343925 best_F: 0.8480967627178939 \n",
            "2000 :  0.05297818761745178\n",
            "4000 :  0.03856367717214779\n",
            "6000 :  0.05061855632971651\n",
            "8000 :  0.040765411104309084\n",
            "10000 :  0.0352567875411494\n",
            "12000 :  0.04804331550705825\n",
            "14000 :  0.04367502549378907\n",
            "0 :  0.0003109822645924725\n",
            "Train: new_F: 0.9762956325076277 best_F: 0.9723796939601892 \n",
            "Val: new_F: 0.899517480741556 best_F: 0.906154886709503 \n",
            "Test: new_F: 0.8491421459685305 best_F: 0.8480967627178939 \n",
            "2000 :  0.04303698810156216\n",
            "4000 :  0.04155362167029032\n",
            "6000 :  0.03872186879399304\n",
            "8000 :  0.031885752373742304\n",
            "10000 :  0.04448657545399295\n",
            "12000 :  0.044987240515578605\n",
            "14000 :  0.045677142507547425\n",
            "0 :  0.0013215738456227755\n",
            "Train: new_F: 0.9775132275132274 best_F: 0.9762956325076277 \n",
            "Val: new_F: 0.9026788741946423 best_F: 0.906154886709503 \n",
            "Test: new_F: 0.8429310037439828 best_F: 0.8491421459685305 \n",
            "2000 :  0.032869886689089904\n",
            "4000 :  0.04088784001751061\n",
            "6000 :  0.029499338356758543\n",
            "8000 :  0.03976339712368657\n",
            "10000 :  0.03738140876845098\n",
            "12000 :  0.043594233416154864\n",
            "14000 :  0.032803936462747894\n",
            "0 :  0.00029076648363820764\n",
            "Train: new_F: 0.9789890896692806 best_F: 0.9775132275132274 \n",
            "Val: new_F: 0.8989142328086861 best_F: 0.906154886709503 \n",
            "Test: new_F: 0.8419469026548673 best_F: 0.8491421459685305 \n",
            "2000 :  0.033918433277984786\n",
            "4000 :  0.032589278272495185\n",
            "6000 :  0.034197068157787516\n",
            "8000 :  0.0315225505583829\n",
            "10000 :  0.03438204012004062\n",
            "12000 :  0.032030200608118176\n",
            "14000 :  0.020928805644420075\n",
            "0 :  0.0006338357850162828\n",
            "Train: new_F: 0.9836429165511505 best_F: 0.9789890896692806 \n",
            "Val: new_F: 0.908783498182433 best_F: 0.906154886709503 \n",
            "Saving Model to /content/drive/MyDrive/NLPAssignment2/models/self-trained-model\n",
            "Test: new_F: 0.8517232166711195 best_F: 0.8491421459685305 \n",
            "2000 :  0.028836806243696916\n",
            "4000 :  0.03191084625423837\n",
            "6000 :  0.03306660001751668\n",
            "8000 :  0.026431220296886847\n",
            "10000 :  0.0354779860201226\n",
            "12000 :  0.029632842703457472\n",
            "14000 :  0.037206989775883985\n",
            "0 :  0.0019056574394476754\n",
            "Train: new_F: 0.983673643377808 best_F: 0.9836429165511505 \n",
            "Val: new_F: 0.9123368421052632 best_F: 0.908783498182433 \n",
            "Saving Model to /content/drive/MyDrive/NLPAssignment2/models/self-trained-model\n",
            "Test: new_F: 0.857016457264201 best_F: 0.8517232166711195 \n",
            "2000 :  0.03419536406654775\n",
            "4000 :  0.028718605942989403\n",
            "6000 :  0.02513823991034988\n",
            "8000 :  0.026857520983650508\n",
            "10000 :  0.02796683336352798\n",
            "12000 :  0.02405664826835622\n",
            "14000 :  0.035879772586837624\n",
            "0 :  0.00022396048923892776\n",
            "Train: new_F: 0.9860643511613041 best_F: 0.983673643377808 \n",
            "Val: new_F: 0.9021132713440406 best_F: 0.9123368421052632 \n",
            "Test: new_F: 0.8425357873210634 best_F: 0.857016457264201 \n",
            "2000 :  0.025108234824006453\n",
            "4000 :  0.019609421129505554\n",
            "6000 :  0.021925231222053098\n",
            "8000 :  0.027954172497434385\n",
            "10000 :  0.020815682802145245\n",
            "12000 :  0.027387121899723248\n",
            "14000 :  0.0268846086336664\n",
            "0 :  0.0004691625033980612\n",
            "Train: new_F: 0.9879677433118574 best_F: 0.9860643511613041 \n",
            "Val: new_F: 0.9108961303462322 best_F: 0.9123368421052632 \n",
            "Test: new_F: 0.8535647195634672 best_F: 0.857016457264201 \n",
            "2000 :  0.019384420089865982\n",
            "4000 :  0.025279433416008412\n",
            "6000 :  0.02705022401413721\n",
            "8000 :  0.02406097740834279\n",
            "10000 :  0.029033791975097967\n",
            "12000 :  0.025945747592737656\n",
            "14000 :  0.021324591786362306\n",
            "0 :  0.0003993407219998576\n",
            "Train: new_F: 0.9861332992523485 best_F: 0.9879677433118574 \n",
            "Val: new_F: 0.9087210780574625 best_F: 0.9123368421052632 \n",
            "Test: new_F: 0.8516370773485592 best_F: 0.857016457264201 \n",
            "2000 :  0.026568726498130486\n",
            "4000 :  0.023160514192307188\n",
            "6000 :  0.024066078752629352\n",
            "8000 :  0.0182496832083186\n",
            "10000 :  0.023165843601868075\n",
            "12000 :  0.024284126082422787\n",
            "14000 :  0.01794151865141553\n",
            "0 :  0.00025053023512746627\n",
            "Train: new_F: 0.9888742060616394 best_F: 0.9879677433118574 \n",
            "Val: new_F: 0.9082925181557169 best_F: 0.9123368421052632 \n",
            "Test: new_F: 0.8423015450186467 best_F: 0.857016457264201 \n",
            "2000 :  0.018933901969717646\n",
            "4000 :  0.0259666215360073\n",
            "6000 :  0.020255912710490664\n",
            "8000 :  0.020575248657517222\n",
            "10000 :  0.022761790697287988\n",
            "12000 :  0.016285274031781066\n",
            "14000 :  0.024514374150402144\n",
            "0 :  0.00021683261170183814\n",
            "Train: new_F: 0.989469645293315 best_F: 0.9888742060616394 \n",
            "Val: new_F: 0.910687151781192 best_F: 0.9123368421052632 \n",
            "Test: new_F: 0.854324060083548 best_F: 0.857016457264201 \n",
            "2000 :  0.02226327493263093\n",
            "4000 :  0.016642083026621957\n",
            "6000 :  0.023742715890373568\n",
            "8000 :  0.023673545508579828\n",
            "10000 :  0.021161668004113916\n",
            "12000 :  0.015055078189156988\n",
            "14000 :  0.017117025955958945\n",
            "0 :  0.00011472545201381929\n",
            "Train: new_F: 0.9901939884885952 best_F: 0.989469645293315 \n",
            "Val: new_F: 0.9142519219396806 best_F: 0.9123368421052632 \n",
            "Saving Model to /content/drive/MyDrive/NLPAssignment2/models/self-trained-model\n",
            "Test: new_F: 0.8570158278499022 best_F: 0.857016457264201 \n",
            "2000 :  0.01702200323788118\n",
            "4000 :  0.015608087197011537\n",
            "6000 :  0.01965801348610718\n",
            "8000 :  0.020122585171627495\n",
            "10000 :  0.02510242708308024\n",
            "12000 :  0.022097384367654325\n",
            "14000 :  0.024231854700111247\n",
            "0 :  4.190852845571246e-05\n",
            "Train: new_F: 0.990980617923623 best_F: 0.9901939884885952 \n",
            "Val: new_F: 0.8997120108419447 best_F: 0.9142519219396806 \n",
            "Test: new_F: 0.8382010392402794 best_F: 0.857016457264201 \n",
            "2000 :  0.020718664520859\n",
            "4000 :  0.014452249607301565\n",
            "6000 :  0.017154116993884746\n",
            "8000 :  0.014640801966924955\n",
            "10000 :  0.01812994201349858\n",
            "12000 :  0.023304011777010167\n",
            "14000 :  0.024780175288844398\n",
            "0 :  0.000710022441681091\n",
            "Train: new_F: 0.9920685685045414 best_F: 0.990980617923623 \n",
            "Val: new_F: 0.9047216111017091 best_F: 0.9142519219396806 \n",
            "Test: new_F: 0.842114663332738 best_F: 0.857016457264201 \n",
            "2000 :  0.013035320992588185\n",
            "4000 :  0.013307559700872548\n",
            "6000 :  0.02257617959547327\n",
            "8000 :  0.018051989322463616\n",
            "10000 :  0.01724857691363148\n",
            "12000 :  0.02230642804988936\n",
            "14000 :  0.016968119253979532\n",
            "0 :  0.0002692072016818637\n",
            "Train: new_F: 0.9920463995564748 best_F: 0.9920685685045414 \n",
            "Val: new_F: 0.8985360074468984 best_F: 0.9142519219396806 \n",
            "Test: new_F: 0.8425851434700993 best_F: 0.857016457264201 \n",
            "2000 :  0.015393405959068707\n",
            "4000 :  0.014932801966052595\n",
            "6000 :  0.02041791119529709\n",
            "8000 :  0.018241616169759563\n",
            "10000 :  0.016484842223577732\n",
            "12000 :  0.017285554169011626\n",
            "14000 :  0.0157079270260308\n",
            "0 :  0.0004468262022437402\n",
            "Train: new_F: 0.9937527984477942 best_F: 0.9920685685045414 \n",
            "Val: new_F: 0.9112295844969113 best_F: 0.9142519219396806 \n",
            "Test: new_F: 0.8441186986056488 best_F: 0.857016457264201 \n",
            "2000 :  0.012868189189596268\n",
            "4000 :  0.0129572000173939\n",
            "6000 :  0.015224824451396014\n",
            "8000 :  0.0174386865900862\n",
            "10000 :  0.0152739525835268\n",
            "12000 :  0.014761717245616948\n",
            "14000 :  0.014312460775637437\n",
            "0 :  0.00012170658645819265\n",
            "Train: new_F: 0.9936835815799581 best_F: 0.9937527984477942 \n",
            "Val: new_F: 0.8983712249745505 best_F: 0.9142519219396806 \n",
            "Test: new_F: 0.8401793721973093 best_F: 0.857016457264201 \n",
            "2000 :  0.011260925345234464\n",
            "4000 :  0.018482991398568707\n",
            "6000 :  0.015646527169089586\n",
            "8000 :  0.011826527711072132\n",
            "10000 :  0.015467669455532124\n",
            "12000 :  0.012445701961570344\n",
            "14000 :  0.01310076130668297\n",
            "0 :  0.000930932813400201\n",
            "Train: new_F: 0.994478200618271 best_F: 0.9937527984477942 \n",
            "Val: new_F: 0.9163930285425613 best_F: 0.9142519219396806 \n",
            "Saving Model to /content/drive/MyDrive/NLPAssignment2/models/self-trained-model\n",
            "Test: new_F: 0.8542588985301931 best_F: 0.857016457264201 \n",
            "2000 :  0.015547528251566745\n",
            "4000 :  0.015018836231996043\n",
            "6000 :  0.014257768615368671\n",
            "8000 :  0.01100065445291009\n",
            "10000 :  0.01808010120763513\n",
            "12000 :  0.016244015983944402\n",
            "14000 :  0.013783065068979309\n",
            "0 :  0.0006107152849470774\n",
            "Train: new_F: 0.9949892321797906 best_F: 0.994478200618271 \n",
            "Val: new_F: 0.9154464663563268 best_F: 0.9163930285425613 \n",
            "Test: new_F: 0.8574234443353271 best_F: 0.857016457264201 \n",
            "2000 :  0.015500135331361388\n",
            "4000 :  0.015296841808465973\n",
            "6000 :  0.011652068866932893\n",
            "8000 :  0.011076500288077544\n",
            "10000 :  0.015083045232715636\n",
            "12000 :  0.01222365686172088\n",
            "14000 :  0.012016037069044373\n",
            "0 :  9.644552648608473e-05\n",
            "Train: new_F: 0.9953730356724024 best_F: 0.9949892321797906 \n",
            "Val: new_F: 0.9183431952662723 best_F: 0.9163930285425613 \n",
            "Saving Model to /content/drive/MyDrive/NLPAssignment2/models/self-trained-model\n",
            "Test: new_F: 0.8591022443890274 best_F: 0.8574234443353271 \n",
            "2000 :  0.010024791244417235\n",
            "4000 :  0.015145856357009525\n",
            "6000 :  0.01493547693228233\n",
            "8000 :  0.011778964051468293\n",
            "10000 :  0.012488056300778556\n",
            "12000 :  0.012189733545416286\n",
            "14000 :  0.01691790480370805\n",
            "0 :  0.0003458896494278821\n",
            "Train: new_F: 0.9952008190602138 best_F: 0.9953730356724024 \n",
            "Val: new_F: 0.9135176261729647 best_F: 0.9183431952662723 \n",
            "Test: new_F: 0.862210338680927 best_F: 0.8591022443890274 \n",
            "2000 :  0.01303490884264862\n",
            "4000 :  0.011119480892383975\n",
            "6000 :  0.00792412494044\n",
            "8000 :  0.014663299698353902\n",
            "10000 :  0.010129418941060647\n",
            "12000 :  0.010591385816903668\n",
            "14000 :  0.014163972784183916\n",
            "0 :  6.301801222578327e-06\n",
            "Train: new_F: 0.9959044368600681 best_F: 0.9953730356724024 \n",
            "Val: new_F: 0.9169277669574053 best_F: 0.9183431952662723 \n",
            "Test: new_F: 0.863186077643909 best_F: 0.862210338680927 \n",
            "2000 :  0.014792956386792218\n",
            "4000 :  0.014305613971848622\n",
            "6000 :  0.010690529452990458\n",
            "8000 :  0.0073797943877016246\n",
            "10000 :  0.014047543071940593\n",
            "12000 :  0.009834146399733274\n",
            "14000 :  0.011471953779929062\n",
            "0 :  0.0008887460184826306\n",
            "Train: new_F: 0.9960548482715971 best_F: 0.9959044368600681 \n",
            "Val: new_F: 0.9142082061715835 best_F: 0.9183431952662723 \n",
            "Test: new_F: 0.8480571683787406 best_F: 0.863186077643909 \n",
            "2000 :  0.010964766577791364\n",
            "4000 :  0.012008589840315057\n",
            "6000 :  0.01233501876923598\n",
            "8000 :  0.012087438277244228\n",
            "10000 :  0.0103552866647297\n",
            "12000 :  0.013200398190535883\n",
            "14000 :  0.017527025428391577\n",
            "0 :  0.00021407928995004444\n",
            "Train: new_F: 0.9965665052995244 best_F: 0.9960548482715971 \n",
            "Val: new_F: 0.9083234847205808 best_F: 0.9183431952662723 \n",
            "Test: new_F: 0.8457234212629896 best_F: 0.863186077643909 \n",
            "2000 :  0.008900857950287087\n",
            "4000 :  0.013642118410982286\n",
            "6000 :  0.012176605900513542\n",
            "8000 :  0.01210616546415697\n",
            "10000 :  0.011467727064958128\n",
            "12000 :  0.013366560959442544\n",
            "14000 :  0.01613536807639772\n",
            "0 :  0.0003083412865974247\n",
            "Train: new_F: 0.996864133796958 best_F: 0.9965665052995244 \n",
            "Val: new_F: 0.9205141214273634 best_F: 0.9183431952662723 \n",
            "Saving Model to /content/drive/MyDrive/NLPAssignment2/models/self-trained-model\n",
            "Test: new_F: 0.8641425389755011 best_F: 0.863186077643909 \n",
            "2000 :  0.009735257700457812\n",
            "4000 :  0.015252966602374305\n",
            "6000 :  0.00815477349385153\n",
            "8000 :  0.010626114652436324\n",
            "10000 :  0.010706795756250156\n",
            "12000 :  0.012074663222933232\n",
            "14000 :  0.010516787085942586\n",
            "0 :  0.0008445648705834918\n",
            "Train: new_F: 0.9966943206295719 best_F: 0.996864133796958 \n",
            "Val: new_F: 0.913109756097561 best_F: 0.9205141214273634 \n",
            "Test: new_F: 0.8576280275270355 best_F: 0.8641425389755011 \n",
            "2000 :  0.013046513514008738\n",
            "4000 :  0.008596301054781624\n",
            "6000 :  0.012836148487973908\n",
            "8000 :  0.00863376835688904\n",
            "10000 :  0.012617370611219092\n",
            "12000 :  0.01073321524700906\n",
            "14000 :  0.009362840974515825\n",
            "0 :  8.563986320307537e-07\n",
            "Train: new_F: 0.9967799031838441 best_F: 0.996864133796958 \n",
            "Val: new_F: 0.916758404606656 best_F: 0.9205141214273634 \n",
            "Test: new_F: 0.860885839051778 best_F: 0.8641425389755011 \n",
            "2000 :  0.008165345718719819\n",
            "4000 :  0.008576488186195184\n",
            "6000 :  0.00886042136939658\n",
            "8000 :  0.011524985106709183\n",
            "10000 :  0.009169429738672854\n",
            "12000 :  0.013933917851030866\n",
            "14000 :  0.012017542397503913\n",
            "0 :  0.0001185937361017957\n",
            "Train: new_F: 0.9973128598848368 best_F: 0.996864133796958 \n",
            "Val: new_F: 0.9117796180496873 best_F: 0.9205141214273634 \n",
            "Test: new_F: 0.8572443181818181 best_F: 0.8641425389755011 \n",
            "2000 :  0.010800445447607093\n",
            "4000 :  0.010818892301087615\n",
            "6000 :  0.010065959167886716\n",
            "8000 :  0.013058216980004655\n",
            "10000 :  0.008654135017300457\n",
            "12000 :  0.014391686526099293\n",
            "14000 :  0.010903979825970892\n",
            "0 :  0.00032580294302990913\n",
            "Train: new_F: 0.9971417601638155 best_F: 0.9973128598848368 \n",
            "Val: new_F: 0.9091981132075471 best_F: 0.9205141214273634 \n",
            "Test: new_F: 0.8500487718364813 best_F: 0.8641425389755011 \n",
            "2000 :  0.011099071993692939\n",
            "4000 :  0.008804216678239569\n",
            "6000 :  0.012803673199673618\n",
            "8000 :  0.011266989408104115\n",
            "10000 :  0.006504501406118266\n",
            "12000 :  0.015907345930461784\n",
            "14000 :  0.01151630864370346\n",
            "0 :  2.2833034416948593e-05\n",
            "Train: new_F: 0.997505064505811 best_F: 0.9973128598848368 \n",
            "Val: new_F: 0.9198883343202775 best_F: 0.9205141214273634 \n",
            "Test: new_F: 0.8573466476462196 best_F: 0.8641425389755011 \n",
            "2000 :  0.007241539327450244\n",
            "4000 :  0.0064003310241948184\n",
            "6000 :  0.00844509049992786\n",
            "8000 :  0.005185612208199203\n",
            "10000 :  0.006406064872748356\n",
            "12000 :  0.009946357203819391\n",
            "14000 :  0.007856926173716063\n",
            "0 :  3.628575548439086e-05\n",
            "Train: new_F: 0.9973766715720775 best_F: 0.997505064505811 \n",
            "Val: new_F: 0.9184433164128595 best_F: 0.9205141214273634 \n",
            "Test: new_F: 0.8561759729272419 best_F: 0.8641425389755011 \n",
            "2000 :  0.00795138571792336\n",
            "4000 :  0.0073834069214293516\n",
            "6000 :  0.007810315052997091\n",
            "8000 :  0.00798502297006215\n",
            "10000 :  0.007583573553721518\n",
            "12000 :  0.009818617055465561\n",
            "14000 :  0.009871204926847194\n",
            "0 :  0.0007243982127345748\n",
            "Train: new_F: 0.9977817592355601 best_F: 0.997505064505811 \n",
            "Val: new_F: 0.9106447791504485 best_F: 0.9205141214273634 \n",
            "Test: new_F: 0.8577032810271042 best_F: 0.8641425389755011 \n",
            "2000 :  0.00719548232310429\n",
            "4000 :  0.00711623051989843\n",
            "6000 :  0.006403165722625572\n",
            "8000 :  0.010449695663891426\n",
            "10000 :  0.006406652464553272\n",
            "12000 :  0.012087584711459085\n",
            "14000 :  0.005378080169549275\n",
            "0 :  0.00018425496510713683\n",
            "Train: new_F: 0.9978675310274236 best_F: 0.9977817592355601 \n",
            "Val: new_F: 0.9147784917145757 best_F: 0.9205141214273634 \n",
            "Test: new_F: 0.8601978080727078 best_F: 0.8641425389755011 \n",
            "2000 :  0.006832175826997342\n",
            "4000 :  0.008998585913784874\n",
            "6000 :  0.010097449924134555\n",
            "8000 :  0.011333665129034337\n",
            "10000 :  0.00930615045837346\n",
            "12000 :  0.006443935252571074\n",
            "14000 :  0.007168237815149298\n",
            "0 :  4.015970923192144e-06\n",
            "Train: new_F: 0.9975903614457832 best_F: 0.9978675310274236 \n",
            "Val: new_F: 0.9133738601823709 best_F: 0.9205141214273634 \n",
            "Test: new_F: 0.8574220485031535 best_F: 0.8641425389755011 \n",
            "2000 :  0.008767006219274724\n",
            "4000 :  0.008777566710117746\n",
            "6000 :  0.007316367872232114\n",
            "8000 :  0.007067657348094105\n",
            "10000 :  0.010377727641673046\n",
            "12000 :  0.010674477024504024\n",
            "14000 :  0.008396781268976274\n",
            "0 :  7.593728473660997e-05\n",
            "Train: new_F: 0.9978247888765674 best_F: 0.9978675310274236 \n",
            "Val: new_F: 0.9130361364403918 best_F: 0.9205141214273634 \n",
            "Test: new_F: 0.848835141383603 best_F: 0.8641425389755011 \n",
            "2000 :  0.005860008497679941\n",
            "4000 :  0.008273303278799035\n",
            "6000 :  0.006798429911868032\n",
            "8000 :  0.0072321561598299765\n",
            "10000 :  0.008801459036664244\n",
            "12000 :  0.005245359721011485\n",
            "14000 :  0.008975997295303951\n",
            "0 :  0.00047543483383473824\n",
            "Train: new_F: 0.9978031353311293 best_F: 0.9978675310274236 \n",
            "Val: new_F: 0.9207451312447079 best_F: 0.9205141214273634 \n",
            "Saving Model to /content/drive/MyDrive/NLPAssignment2/models/self-trained-model\n",
            "Test: new_F: 0.8663158833496835 best_F: 0.8641425389755011 \n",
            "2000 :  0.008351947420844105\n",
            "4000 :  0.0067434843475335255\n",
            "6000 :  0.010067695535187708\n",
            "8000 :  0.005301536021728868\n",
            "10000 :  0.004745463897597108\n",
            "12000 :  0.00558108645104454\n",
            "14000 :  0.007718309313882925\n",
            "0 :  0.00024226977201630918\n",
            "Train: new_F: 0.9979742840693435 best_F: 0.9978675310274236 \n",
            "Val: new_F: 0.917497886728656 best_F: 0.9207451312447079 \n",
            "Test: new_F: 0.8615932354250111 best_F: 0.8663158833496835 \n",
            "2000 :  0.009919613258822152\n",
            "4000 :  0.0035045564821073105\n",
            "6000 :  0.0063465786509378785\n",
            "8000 :  0.005694877387466538\n",
            "10000 :  0.008778910187532825\n",
            "12000 :  0.012094947375093494\n",
            "14000 :  0.009173282254186217\n",
            "0 :  5.138129884603801e-06\n",
            "Train: new_F: 0.9982729579326667 best_F: 0.9979742840693435 \n",
            "Val: new_F: 0.9080634278002699 best_F: 0.9207451312447079 \n",
            "Test: new_F: 0.8513657325292657 best_F: 0.8663158833496835 \n",
            "2000 :  0.007109339678669047\n",
            "4000 :  0.007690629260898511\n",
            "6000 :  0.006183565383820208\n",
            "8000 :  0.005146141974756464\n",
            "10000 :  0.007940940892867461\n",
            "12000 :  0.006770530889482579\n",
            "14000 :  0.005708967038144465\n",
            "0 :  0.0004863848768175192\n",
            "Train: new_F: 0.9983154572787172 best_F: 0.9982729579326667 \n",
            "Val: new_F: 0.9090602043401165 best_F: 0.9207451312447079 \n",
            "Test: new_F: 0.8534681568210041 best_F: 0.8663158833496835 \n",
            "2000 :  0.004917473656706869\n",
            "4000 :  0.0036636931135249884\n",
            "6000 :  0.007179931968859464\n",
            "8000 :  0.00562053773470613\n",
            "10000 :  0.007215328961068239\n",
            "12000 :  0.006788398244228708\n",
            "14000 :  0.0060122654035135534\n",
            "0 :  8.092682866188818e-05\n",
            "Train: new_F: 0.9984644258658931 best_F: 0.9983154572787172 \n",
            "Val: new_F: 0.9126607989167231 best_F: 0.9207451312447079 \n",
            "Test: new_F: 0.8537803138373752 best_F: 0.8663158833496835 \n",
            "2000 :  0.006658613599884267\n",
            "4000 :  0.006803911533346293\n",
            "6000 :  0.00656604329586813\n",
            "8000 :  0.007078992704100361\n",
            "10000 :  0.010721294510764407\n",
            "12000 :  0.005945552619648815\n",
            "14000 :  0.008007291498696114\n",
            "0 :  0.00018787064578093548\n",
            "Train: new_F: 0.9985070807029517 best_F: 0.9984644258658931 \n",
            "Val: new_F: 0.9153000845308538 best_F: 0.9207451312447079 \n",
            "Test: new_F: 0.8610121168923734 best_F: 0.8663158833496835 \n",
            "2000 :  0.004142234819160417\n",
            "4000 :  0.008812632181355346\n",
            "6000 :  0.0061100326192641665\n",
            "8000 :  0.007474009902201221\n",
            "10000 :  0.0075096005200452655\n",
            "12000 :  0.004959954244856535\n",
            "14000 :  0.008911263447661532\n",
            "0 :  5.011288958903991e-07\n",
            "Train: new_F: 0.9984004777239865 best_F: 0.9985070807029517 \n",
            "Val: new_F: 0.9124081425796097 best_F: 0.9207451312447079 \n",
            "Test: new_F: 0.8601634683724235 best_F: 0.8663158833496835 \n",
            "2000 :  0.005960852625904161\n",
            "4000 :  0.006274798966767209\n",
            "6000 :  0.008222142073743333\n",
            "8000 :  0.008470371138905128\n",
            "10000 :  0.004209509230193533\n",
            "12000 :  0.0059576095701491145\n",
            "14000 :  0.012176825941801889\n",
            "0 :  0.00012771300492058174\n",
            "Train: new_F: 0.9985924504158669 best_F: 0.9985070807029517 \n",
            "Val: new_F: 0.9155382532159783 best_F: 0.9207451312447079 \n",
            "Test: new_F: 0.8603800517441342 best_F: 0.8663158833496835 \n",
            "2000 :  0.005831671535001437\n",
            "4000 :  0.006690725333677046\n",
            "6000 :  0.009028346804391548\n",
            "8000 :  0.00856473840233419\n",
            "10000 :  0.006023526819028846\n",
            "12000 :  0.007146239449695914\n",
            "14000 :  0.0065137964439250925\n",
            "12209.09756231308\n"
          ],
          "name": "stdout"
        },
        {
          "output_type": "display_data",
          "data": {
            "image/png": "[encoded data removed]",
            "text/plain": [
              "<Figure size 432x288 with 1 Axes>"
            ]
          },
          "metadata": {
            "tags": [],
            "needs_background": "light"
          }
        }
      ]
    },
    {
      "cell_type": "markdown",
      "metadata": {
        "id": "j3wM4Lkc8Bvk"
      },
      "source": [
        "### Model Testing\n",
        "\n",
        "This is where we provide our readers with some fun, they can try out how the trained model functions on the sentences that you throw at it. Feel free to play around.\n",
        "\n",
        "\n",
        "##### LIVE: PRODUCTION!"
      ]
    },
    {
      "cell_type": "code",
      "metadata": {
        "id": "rd73KZz38Bvk",
        "colab": {
          "base_uri": "https://localhost:8080/"
        },
        "outputId": "4931c904-88cc-43ca-bfba-901828c6f54b"
      },
      "source": [
        "model_testing_sentences = [\n",
        "    'NTU is a university in Singapore',\n",
        "    'The Moon completes one revolution around the Earth in about 28 days',\n",
        "    'Singapore is part of Southeast Asia',\n",
        "    'The capital of England is London',\n",
        "    'Lee Kuan Yew was the first prime minister of Singapore',\n",
        "    'George Washington was the first president of USA',\n",
        "]\n",
        "\n",
        "# parameters\n",
        "lower = parameters['lower']\n",
        "\n",
        "# preprocessing\n",
        "final_test_data = []\n",
        "for sentence in model_testing_sentences:\n",
        "    str_words = sentence.split()\n",
        "    words = [\n",
        "        word_to_id[lower_case(w,lower)\n",
        "        if lower_case(w,lower) in word_to_id else '<UNK>']\n",
        "        for w in str_words\n",
        "    ]\n",
        "    \n",
        "    # Skip characters that are not in the training set\n",
        "    chars = [\n",
        "        [char_to_id[c] for c in w if c in char_to_id]\n",
        "        for w in str_words\n",
        "    ]\n",
        "    \n",
        "    final_test_data.append({\n",
        "        'str_words': str_words,\n",
        "        'words': words,\n",
        "        'chars': chars,\n",
        "    })\n",
        "\n",
        "# prediction\n",
        "predictions = []\n",
        "print('Prediction:')\n",
        "print('word : tag')\n",
        "print('----------')\n",
        "\n",
        "for data in final_test_data:\n",
        "    words = data['str_words']\n",
        "    chars2 = data['chars']\n",
        "\n",
        "    d = {} \n",
        "    \n",
        "    # Padding the each word to max word size of that sentence\n",
        "    chars2_length = [len(c) for c in chars2]\n",
        "    char_maxl = max(chars2_length)\n",
        "    chars2_mask = np.zeros((len(chars2_length), char_maxl), dtype='int')\n",
        "    for i, c in enumerate(chars2):\n",
        "        chars2_mask[i, :chars2_length[i]] = c\n",
        "    chars2_mask = Variable(torch.LongTensor(chars2_mask))\n",
        "\n",
        "    dwords = Variable(torch.LongTensor(data['words']))\n",
        "\n",
        "    # We are getting the predicted output from our model\n",
        "    if use_gpu:\n",
        "        val,predicted_id = model(dwords.cuda(), chars2_mask.cuda(), chars2_length, d)\n",
        "    else:\n",
        "        val,predicted_id = model(dwords, chars2_mask, chars2_length, d)\n",
        "\n",
        "    pred_chunks = get_chunks(predicted_id,tag_to_id)\n",
        "    temp_list_tags=['NA']*len(words)\n",
        "    for p in pred_chunks:\n",
        "        temp_list_tags[p[1]]=p[0]\n",
        "        \n",
        "    for word,tag in zip(words,temp_list_tags):\n",
        "        print(word,':',tag)\n",
        "    print('\\n')"
      ],
      "execution_count": 44,
      "outputs": [
        {
          "output_type": "stream",
          "text": [
            "Prediction:\n",
            "word : tag\n",
            "----------\n",
            "NTU : NA\n",
            "is : NA\n",
            "a : NA\n",
            "university : NA\n",
            "in : NA\n",
            "Singapore : LOC\n",
            "\n",
            "\n",
            "The : NA\n",
            "Moon : NA\n",
            "completes : NA\n",
            "one : NA\n",
            "revolution : NA\n",
            "around : NA\n",
            "the : NA\n",
            "Earth : NA\n",
            "in : NA\n",
            "about : NA\n",
            "28 : NA\n",
            "days : NA\n",
            "\n",
            "\n",
            "Singapore : LOC\n",
            "is : NA\n",
            "part : NA\n",
            "of : NA\n",
            "Southeast : LOC\n",
            "Asia : NA\n",
            "\n",
            "\n",
            "The : NA\n",
            "capital : NA\n",
            "of : NA\n",
            "England : LOC\n",
            "is : NA\n",
            "London : LOC\n",
            "\n",
            "\n",
            "Lee : PER\n",
            "Kuan : NA\n",
            "Yew : NA\n",
            "was : NA\n",
            "the : NA\n",
            "first : NA\n",
            "prime : NA\n",
            "minister : NA\n",
            "of : NA\n",
            "Singapore : LOC\n",
            "\n",
            "\n",
            "George : PER\n",
            "Washington : NA\n",
            "was : NA\n",
            "the : NA\n",
            "first : NA\n",
            "president : NA\n",
            "of : NA\n",
            "USA : LOC\n",
            "\n",
            "\n"
          ],
          "name": "stdout"
        }
      ]
    },
    {
      "cell_type": "markdown",
      "metadata": {
        "id": "Wi_4XOiA8Bvl"
      },
      "source": [
        "### References"
      ]
    },
    {
      "cell_type": "markdown",
      "metadata": {
        "id": "WC7KwUzH8Bvl"
      },
      "source": [
        "1) Xuezhe Ma and Eduard Hovy. 2016. ** End-to-end Sequence Labeling via Bi-directional LSTM-CNNs-CRF .** In Proceedings of the 54th Annual Meeting of the Association for Computational Linguistics (Volume 1: LongPapers). Association for Computational Linguistics, Berlin, Germany ** (https://arxiv.org/pdf/1603.01354.pdf) **\n",
        "\n",
        "2) Official PyTorch Tutorial : [** Advanced: Making Dynamic Decisions and the Bi-LSTM CRF **](http://pytorch.org/tutorials/beginner/nlp/advanced_tutorial.html#sphx-glr-beginner-nlp-advanced-tutorial-py)\n",
        "\n",
        "3) [** Sequence Tagging with Tensorflow **](https://guillaumegenthial.github.io/sequence-tagging-with-tensorflow.html)  using bi-LSTM + CRF with character embeddings for NER and POS by Guillaume Genthial\n",
        "\n",
        "4) Github Repository - [** Reference Github Repository **](https://github.com/jayavardhanr/End-to-end-Sequence-Labeling-via-Bi-directional-LSTM-CNNs-CRF-Tutorial)\n"
      ]
    }
  ]
}