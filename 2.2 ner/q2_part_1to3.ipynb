{
  "nbformat": 4,
  "nbformat_minor": 0,
  "metadata": {
    "kernelspec": {
      "display_name": "Python 3",
      "language": "python",
      "name": "python3"
    },
    "language_info": {
      "codemirror_mode": {
        "name": "ipython",
        "version": 3
      },
      "file_extension": ".py",
      "mimetype": "text/x-python",
      "name": "python",
      "nbconvert_exporter": "python",
      "pygments_lexer": "ipython3",
      "version": "3.6.4"
    },
    "colab": {
      "name": "q2_part_1to3.ipynb",
      "provenance": [],
      "collapsed_sections": [
        "hjgmYV1k8Bvi",
        "AFTFSAXQ8Bvi",
        "GW_cQfv_8Bvi",
        "Jp2PJ5xL8Bvj",
        "czeaWdC58Bvj",
        "HawVp0-Z8Bvj",
        "3Qm16uvz8Bvj",
        "Oqnoy0Um8Bvk",
        "I6lOBcQe8Bvk"
      ]
    },
    "accelerator": "GPU"
  },
  "cells": [
    {
      "cell_type": "markdown",
      "metadata": {
        "id": "JOJnPECY8BvX"
      },
      "source": [
        "# End-to-end Sequence Labeling via Bi-directional LSTM-CNNs-CRF"
      ]
    },
    {
      "cell_type": "markdown",
      "metadata": {
        "id": "CDViC0-z8BvY"
      },
      "source": [
        "In this tutorial we will demonstrate how to implement a state of the art  Bi-directional LSTM-CNN-CRF architecture (Published at ACL'16. [Link To Paper](http://www.aclweb.org/anthology/P16-1101)) for Named Entity Recognition using Pytorch. \n",
        "\n",
        "The main aim of the tutorial is to make the audience comfortable with pytorch using this tutorial and give a step-by-step walk through of the Bi-LSTM-CNN-CRF architecture for NER. Some familiarity with pytorch (or any other deep learning framework) would definitely be a plus. \n",
        "\n",
        "The agenda of this tutorial is as follows:\n",
        "\n",
        "1. Getting Ready with the data \n",
        "2. Network Definition. This includes\n",
        "    * CNN Encoder for Character Level representation.\n",
        "    * Bi-directional LSTM for Word-Level Encoding.\n",
        "    * Conditional Random Fields(CRF) for output decoding\n",
        "3. Training \n",
        "4. Model testing\n",
        "\n",
        "This tutorial draws its content/design heavily from [this](https://github.com/ZhixiuYe/NER-pytorch) Github implementation of NER model. We reuse their data preprocessing/Model creation methodology. This helps in focussing more on explaining model architecture and it's translation from formulae to code. "
      ]
    },
    {
      "cell_type": "markdown",
      "metadata": {
        "id": "1pZTJKHS8BvY"
      },
      "source": [
        "**Authors:**\n",
        "[**Anirudh Ganesh**](https://www.linkedin.com/in/anirudh-ganesh95/),\n",
        "[**Peddamail Jayavardhan Reddy**](https://www.linkedin.com/in/jayavardhan-reddy-peddamail-6b4125a0/)"
      ]
    },
    {
      "cell_type": "markdown",
      "metadata": {
        "id": "9RqxTJGU8BvY"
      },
      "source": [
        "### Data Preparation\n",
        "\n",
        "The paper uses the English data from CoNLL 2003 shared task\\[1\\], which is present in the \"data\" directory of this project. We will later apply more preprocessing steps to generate tag mapping, word mapping and character  mapping. The data set contains four different types of named entities: PERSON, LOCATION, ORGANIZATION, and MISC and uses the BIO tagging scheme\n",
        "\n",
        "BIO tagging Scheme:\n",
        "\n",
        "    I - Word is inside a phrase of type TYPE\n",
        "    B - If two phrases of the same type immediately follow each other, the first word of the second phrase will have tag B-TYPE \n",
        "    O - Word is not part of a phrase\n",
        "    \n",
        "Example of English-NER sentence available in the data:\n",
        "    \n",
        "    U.N.         NNP  I-NP  I-ORG \n",
        "    official     NN   I-NP  O \n",
        "    Ekeus        NNP  I-NP  I-PER \n",
        "    heads        VBZ  I-VP  O \n",
        "    for          IN   I-PP  O \n",
        "    Baghdad      NNP  I-NP  I-LOC \n",
        "    .            .    O     O \n",
        "    \n",
        "Data Split(We use the same split as mentioned in paper):\n",
        "\n",
        "    Training Data - eng.train\n",
        "    Validation Data - eng.testa\n",
        "    Testing Data - eng.testb\n",
        "    \n",
        "\n",
        " To get started we first import the necessary libraries"
      ]
    },
    {
      "cell_type": "code",
      "metadata": {
        "id": "_bOBpxc18BvY"
      },
      "source": [
        "from collections import OrderedDict\n",
        "\n",
        "import torch\n",
        "import torch.nn as nn\n",
        "from torch.nn import init\n",
        "from torch.autograd import Variable\n",
        "from torch import autograd\n",
        "\n",
        "import time\n",
        "import pickle\n",
        "\n",
        "import urllib\n",
        "import matplotlib.pyplot as plt\n",
        "plt.rcParams['figure.dpi'] = 80\n",
        "plt.style.use('seaborn-pastel')\n",
        "\n",
        "import os\n",
        "import sys\n",
        "import re\n",
        "import numpy as np"
      ],
      "execution_count": 1,
      "outputs": []
    },
    {
      "cell_type": "markdown",
      "metadata": {
        "id": "kkGYH2cr3n3L"
      },
      "source": [
        "Connect to Google Drive to access data"
      ]
    },
    {
      "cell_type": "code",
      "metadata": {
        "colab": {
          "base_uri": "https://localhost:8080/"
        },
        "id": "nXiiWPO_3stO",
        "outputId": "d4c63970-42ed-44f6-999a-58365ddd4c44"
      },
      "source": [
        "from google.colab import drive\n",
        "drive.mount('/content/drive')"
      ],
      "execution_count": 2,
      "outputs": [
        {
          "output_type": "stream",
          "text": [
            "Drive already mounted at /content/drive; to attempt to forcibly remount, call drive.mount(\"/content/drive\", force_remount=True).\n"
          ],
          "name": "stdout"
        }
      ]
    },
    {
      "cell_type": "code",
      "metadata": {
        "id": "-yQDvMcP4TzW"
      },
      "source": [
        "base_path = '/content/drive/MyDrive/NLPAssignment2/'"
      ],
      "execution_count": 3,
      "outputs": []
    },
    {
      "cell_type": "markdown",
      "metadata": {
        "id": "8vuvlVlV8Bva"
      },
      "source": [
        "##### Define constants and paramaters"
      ]
    },
    {
      "cell_type": "markdown",
      "metadata": {
        "id": "v5962zo58Bva"
      },
      "source": [
        "We now define some constants and parameters that we will be using later"
      ]
    },
    {
      "cell_type": "code",
      "metadata": {
        "id": "W5mRS-1X8Bva"
      },
      "source": [
        "# parameters for the Model\n",
        "parameters = OrderedDict()\n",
        "parameters['train'] = base_path + 'data/eng.train' # Path to train data in Google Drive\n",
        "parameters['val'] = base_path + 'data/eng.testa' # Path to validation data in Google Drive\n",
        "parameters['test'] = base_path + 'data/eng.testb' # Path to test data in Google Drive\n",
        "parameters['tag_scheme'] = 'BIOES'  # BIO or BIOES\n",
        "parameters['lower'] = True  # Boolean variable to control lowercasing of words\n",
        "parameters['zeros'] =  True  # Boolean variable to control replacement of  all digits by 0 \n",
        "parameters['char_dim'] = 30  # Char embedding dimension\n",
        "parameters['word_dim'] = 100  # Token embedding dimension\n",
        "parameters['word_lstm_dim'] = 200  # Token LSTM hidden layer size\n",
        "parameters['word_bidirect'] = True  # Use a bidirectional LSTM for words\n",
        "parameters['embedding_path'] = base_path + 'data/glove.6B.100d.txt'  # Location of pretrained embeddings in Google Drive\n",
        "parameters['all_emb'] = 1  # Load all embeddings\n",
        "parameters['crf'] = 1  # Use CRF (0 to disable)\n",
        "parameters['dropout'] = 0.5  # Dropout rate on the input (0 = no dropout)\n",
        "parameters['epoch'] =  50  # Number of epochs to run\n",
        "parameters['weights'] = ''  # path to Pretrained weights from a previous run\n",
        "parameters['name'] = 'self-trained-model-lstm'  # Model name\n",
        "parameters['gradient_clip'] = 5.0\n",
        "parameters['char_mode'] = 'CNN'\n",
        "models_path = base_path + 'models/'  # path to saved models\n",
        "\n",
        "#GPU\n",
        "parameters['use_gpu'] = torch.cuda.is_available() # GPU Check\n",
        "use_gpu = parameters['use_gpu']\n",
        "\n",
        "parameters['reload'] = False  # base_path + 'models/pre-trained-model'\n",
        "\n",
        "#Constants\n",
        "START_TAG = '<START>'\n",
        "STOP_TAG = '<STOP>'"
      ],
      "execution_count": 4,
      "outputs": []
    },
    {
      "cell_type": "code",
      "metadata": {
        "id": "bVnkeWI_8Bvb"
      },
      "source": [
        "#paths to files \n",
        "#To stored mapping file\n",
        "mapping_file = base_path + 'data/mapping.pkl'\n",
        "\n",
        "#To stored model\n",
        "name = parameters['name']\n",
        "model_name = models_path + name  # get_name(parameters)\n",
        "\n",
        "if not os.path.exists(models_path):\n",
        "    os.makedirs(models_path)"
      ],
      "execution_count": 5,
      "outputs": []
    },
    {
      "cell_type": "markdown",
      "metadata": {
        "id": "gKHvqE0z8Bvb"
      },
      "source": [
        "##### Load data and preprocess"
      ]
    },
    {
      "cell_type": "markdown",
      "metadata": {
        "id": "aXadJugY8Bvb"
      },
      "source": [
        "Firstly, the data is loaded from the train, dev and test files into a list of sentences.\n",
        "\n",
        "Preprocessing:\n",
        "\n",
        "    * All the digits in the words are replaced by 0\n",
        "    \n",
        "Why this preprocessing step?\n",
        "    * For the Named Entity Recognition task, the information present in numerical digits does not help in predicting the entity. So, we replace all the digits by 0. So, now the model can concentrate on more important alphabets."
      ]
    },
    {
      "cell_type": "code",
      "metadata": {
        "id": "rNWaLXZ88Bvc"
      },
      "source": [
        "def zero_digits(string: str):\n",
        "    '''\n",
        "    Replace every digit in a string by a zero.\n",
        "    '''\n",
        "    return re.sub('\\d', '0', string)\n",
        "\n",
        "\n",
        "def load_sentences(data_path: str, zeros: bool):\n",
        "    '''\n",
        "    Load sentences. A line must contain at least a word and its tag.\n",
        "    Sentences are separated by empty lines.\n",
        "\n",
        "    :params:\n",
        "    - data_path (str): path to file that contains data\n",
        "    - zeros (bool): whether to substitute digits in sentences with zeros\n",
        "    '''\n",
        "    sentences = []\n",
        "    sentence = []\n",
        "\n",
        "    with open(data_path, mode='r', encoding='utf8') as data_file:\n",
        "      for line in data_file:\n",
        "          line = zero_digits(line.rstrip()) if zeros else line.rstrip()\n",
        "\n",
        "          if not line:\n",
        "              if len(sentence) > 0:\n",
        "                  if 'DOCSTART' not in sentence[0][0]:\n",
        "                      sentences.append(sentence)\n",
        "                  sentence = []\n",
        "          else:\n",
        "              word = line.split()\n",
        "              assert len(word) >= 2\n",
        "              sentence.append(word)\n",
        "      \n",
        "    if len(sentence) > 0:\n",
        "        if 'DOCSTART' not in sentence[0][0]:\n",
        "            sentences.append(sentence)\n",
        "    \n",
        "    return sentences"
      ],
      "execution_count": 6,
      "outputs": []
    },
    {
      "cell_type": "code",
      "metadata": {
        "id": "91sM-n4T8Bvc"
      },
      "source": [
        "train_sentences = load_sentences(parameters['train'], parameters['zeros'])\n",
        "val_sentences = load_sentences(parameters['val'], parameters['zeros'])\n",
        "test_sentences = load_sentences(parameters['test'], parameters['zeros'])"
      ],
      "execution_count": 7,
      "outputs": []
    },
    {
      "cell_type": "code",
      "metadata": {
        "colab": {
          "base_uri": "https://localhost:8080/"
        },
        "id": "X-JQpPPUD_Ug",
        "outputId": "96ad1767-e968-476a-bbbf-64df311e0f6f"
      },
      "source": [
        "# show a training sample to see what it is like\n",
        "print(train_sentences[0])"
      ],
      "execution_count": 8,
      "outputs": [
        {
          "output_type": "stream",
          "text": [
            "[['EU', 'NNP', 'I-NP', 'I-ORG'], ['rejects', 'VBZ', 'I-VP', 'O'], ['German', 'JJ', 'I-NP', 'I-MISC'], ['call', 'NN', 'I-NP', 'O'], ['to', 'TO', 'I-VP', 'O'], ['boycott', 'VB', 'I-VP', 'O'], ['British', 'JJ', 'I-NP', 'I-MISC'], ['lamb', 'NN', 'I-NP', 'O'], ['.', '.', 'O', 'O']]\n"
          ],
          "name": "stdout"
        }
      ]
    },
    {
      "cell_type": "markdown",
      "metadata": {
        "id": "48_dPwYe8Bvc"
      },
      "source": [
        "##### Update tagging scheme"
      ]
    },
    {
      "cell_type": "markdown",
      "metadata": {
        "id": "08AMhzkE8Bvc"
      },
      "source": [
        "Different types of tagging schemes can be used for NER. We update the tags for train, test and dev data ( depending on the parameters \\[ tag_scheme \\] ).\n",
        "\n",
        "In the paper, the authors use the tagging Scheme ( BIOES ) rather than BIO (which is used by the dataset). So, we need to first update the data to convert tag scheme from BIO to BIOES.\n",
        "\n",
        "BIOES tagging scheme:\n",
        "\n",
        "    I - Word is inside a phrase of type TYPE\n",
        "    B - If two phrases of the same type immediately follow each other, the first word of the second phrase will have tag B-TYPE \n",
        "    O - Word is not part of a phrase\n",
        "    E - End ( E will not appear in a prefix-only partial match )\n",
        "    S - Single"
      ]
    },
    {
      "cell_type": "code",
      "metadata": {
        "id": "Wfv7g7AW8Bvd"
      },
      "source": [
        "def iob2(tags):\n",
        "    '''\n",
        "    Check that tags have a valid BIO format.\n",
        "    Tags in BIO1 format are converted to BIO2.\n",
        "    '''\n",
        "    for i, tag in enumerate(tags):\n",
        "        if tag == 'O':\n",
        "            continue\n",
        "        \n",
        "        split = tag.split('-')\n",
        "        if len(split) != 2 or split[0] not in ['I', 'B']:\n",
        "            return False\n",
        "        \n",
        "        if split[0] == 'B':\n",
        "            continue\n",
        "        \n",
        "        elif i == 0 or tags[i - 1] == 'O':  # conversion IOB1 to IOB2\n",
        "            tags[i] = 'B' + tag[1:]\n",
        "        \n",
        "        elif tags[i - 1][1:] == tag[1:]:\n",
        "            continue\n",
        "        \n",
        "        else:  # conversion IOB1 to IOB2\n",
        "            tags[i] = 'B' + tag[1:]\n",
        "    \n",
        "    return True\n",
        "\n",
        "\n",
        "def iob_iobes(tags):\n",
        "    '''\n",
        "    the function is used to convert\n",
        "    BIO -> BIOES tagging\n",
        "    '''\n",
        "    new_tags = []\n",
        "\n",
        "    for i, tag in enumerate(tags):\n",
        "        if tag == 'O':\n",
        "            new_tags.append(tag)\n",
        "        \n",
        "        elif tag.split('-')[0] == 'B':\n",
        "            if i + 1 != len(tags) and \\\n",
        "               tags[i + 1].split('-')[0] == 'I':\n",
        "                new_tags.append(tag)\n",
        "            else:\n",
        "                new_tags.append(tag.replace('B-', 'S-'))\n",
        "        \n",
        "        elif tag.split('-')[0] == 'I':\n",
        "            if i + 1 < len(tags) and \\\n",
        "                    tags[i + 1].split('-')[0] == 'I':\n",
        "                new_tags.append(tag)\n",
        "            else:\n",
        "                new_tags.append(tag.replace('I-', 'E-'))\n",
        "        \n",
        "        else:\n",
        "            raise Exception('Invalid IOB format!')\n",
        "        \n",
        "    return new_tags\n",
        "\n",
        "\n",
        "def update_tag_scheme(sentences, tag_scheme):\n",
        "    '''\n",
        "    Check and update sentences tagging scheme to BIO2\n",
        "    Only BIO1 and BIO2 schemes are accepted for input data.\n",
        "\n",
        "    Modifies sentences in-place\n",
        "    '''\n",
        "    for i, sentence in enumerate(sentences):\n",
        "        tags = [word_with_tags[-1] for word_with_tags in sentence]\n",
        "\n",
        "        # Check that tags are given in the BIO format\n",
        "        if not iob2(tags):\n",
        "            s_str = '\\n'.join(' '.join(word_with_tags) for word_with_tags in sentence)\n",
        "            raise Exception(\n",
        "                f'Sentences should be given in BIO format! Please check sentence {i}:\\n{s_str}'\n",
        "            )\n",
        "        \n",
        "        if tag_scheme == 'BIOES':\n",
        "            new_tags = iob_iobes(tags)\n",
        "            for word_with_tags, new_tag in zip(sentence, new_tags):\n",
        "                word_with_tags[-1] = new_tag\n",
        "        \n",
        "        else:\n",
        "            raise Exception('Wrong tagging scheme!')"
      ],
      "execution_count": 9,
      "outputs": []
    },
    {
      "cell_type": "code",
      "metadata": {
        "id": "e73VpiU88Bvd"
      },
      "source": [
        "update_tag_scheme(train_sentences, parameters['tag_scheme'])\n",
        "update_tag_scheme(val_sentences, parameters['tag_scheme'])\n",
        "update_tag_scheme(test_sentences, parameters['tag_scheme'])"
      ],
      "execution_count": 10,
      "outputs": []
    },
    {
      "cell_type": "code",
      "metadata": {
        "colab": {
          "base_uri": "https://localhost:8080/"
        },
        "id": "bPKp1xUsEKn-",
        "outputId": "7f446b44-cdcf-4c19-fea3-8524ce25704f"
      },
      "source": [
        "# show a training sample to see what it is like\n",
        "print(train_sentences[0])"
      ],
      "execution_count": 11,
      "outputs": [
        {
          "output_type": "stream",
          "text": [
            "[['EU', 'NNP', 'I-NP', 'S-ORG'], ['rejects', 'VBZ', 'I-VP', 'O'], ['German', 'JJ', 'I-NP', 'S-MISC'], ['call', 'NN', 'I-NP', 'O'], ['to', 'TO', 'I-VP', 'O'], ['boycott', 'VB', 'I-VP', 'O'], ['British', 'JJ', 'I-NP', 'S-MISC'], ['lamb', 'NN', 'I-NP', 'O'], ['.', '.', 'O', 'O']]\n"
          ],
          "name": "stdout"
        }
      ]
    },
    {
      "cell_type": "markdown",
      "metadata": {
        "id": "dxcdHlMi8Bvd"
      },
      "source": [
        "##### Create Mappings for Words, Characters and Tags"
      ]
    },
    {
      "cell_type": "markdown",
      "metadata": {
        "id": "3aoKQOOl8Bvd"
      },
      "source": [
        "After we have updated the tag scheme. We now have a list of sentences which are words along with their modified tags. Now, we want to map these individual words, tags and characters in each word, to unique numerical ID's so that each unique word, character and tag in the vocabulary is represented by a particular integer ID. To do this, we first create a functions that do these mapping for us"
      ]
    },
    {
      "cell_type": "markdown",
      "metadata": {
        "id": "Jsh7IE7q8Bvd"
      },
      "source": [
        "##### Why mapping is important?"
      ]
    },
    {
      "cell_type": "markdown",
      "metadata": {
        "id": "uinD2Uki8Bvd"
      },
      "source": [
        "These indices for words, tags and characters help us employ matrix (tensor) operations inside the neural network architecture, which are considerably faster."
      ]
    },
    {
      "cell_type": "code",
      "metadata": {
        "id": "N9FKEO0c8Bvd"
      },
      "source": [
        "def create_dico(item_list):\n",
        "    '''\n",
        "    Create a dictionary of items from a list of list of items.\n",
        "    '''\n",
        "    assert type(item_list) is list\n",
        "    dico = {}\n",
        "    for items in item_list:\n",
        "        for item in items:\n",
        "            if item not in dico:\n",
        "                dico[item] = 1\n",
        "            else:\n",
        "                dico[item] += 1\n",
        "    return dico\n",
        "\n",
        "\n",
        "def create_mapping(dico):\n",
        "    '''\n",
        "    Create a mapping (item to ID / ID to item) from a dictionary.\n",
        "    Items are ordered by decreasing frequency.\n",
        "    '''\n",
        "    sorted_items = sorted(dico.items(), key=lambda x: (-x[1], x[0]))\n",
        "\n",
        "    id_to_item = {id: item[0] for id, item in enumerate(sorted_items)}\n",
        "    item_to_id = {item: id for id, item in id_to_item.items()}\n",
        "\n",
        "    return item_to_id, id_to_item\n",
        "\n",
        "\n",
        "def word_mapping(sentences, lower: bool):\n",
        "    '''\n",
        "    Create a dictionary and a mapping of words, sorted by frequency.\n",
        "    '''\n",
        "    words = [\n",
        "        [word_with_tags[0].lower() if lower else word_with_tags[0]\n",
        "         for word_with_tags in sentence] \n",
        "        for sentence in sentences\n",
        "    ]\n",
        "\n",
        "    dico = create_dico(words)\n",
        "    dico['<UNK>'] = 10000000  # UNK tag for unknown words\n",
        "\n",
        "    word_to_id, id_to_word = create_mapping(dico)\n",
        "    total_num_words = sum(len(word) for word in words)\n",
        "\n",
        "    print(f'Found {len(dico)} unique words ({total_num_words} in total)')\n",
        "\n",
        "    return dico, word_to_id, id_to_word\n",
        "\n",
        "\n",
        "def char_mapping(sentences):\n",
        "    '''\n",
        "    Create a dictionary and mapping of characters, sorted by frequency.\n",
        "    '''\n",
        "    chars = [\n",
        "        ''.join([word_with_tags[0] for word_with_tags in sentence])\n",
        "        for sentence in sentences\n",
        "    ]\n",
        "    \n",
        "    dico = create_dico(chars)\n",
        "    char_to_id, id_to_char = create_mapping(dico)\n",
        "    \n",
        "    print(f'Found {len(dico)} unique characters')\n",
        "    \n",
        "    return dico, char_to_id, id_to_char\n",
        "\n",
        "\n",
        "def tag_mapping(sentences):\n",
        "    '''\n",
        "    Create a dictionary and a mapping of tags, sorted by frequency.\n",
        "    '''\n",
        "    tags = [\n",
        "        [word_with_tags[-1] for word_with_tags in sentence]\n",
        "        for sentence in sentences\n",
        "    ]\n",
        "    dico = create_dico(tags)\n",
        "\n",
        "    dico[START_TAG] = -1\n",
        "    dico[STOP_TAG] = -2\n",
        "\n",
        "    tag_to_id, id_to_tag = create_mapping(dico)\n",
        "    print(f'Found {len(dico)} unique named entity tags')\n",
        "\n",
        "    return dico, tag_to_id, id_to_tag"
      ],
      "execution_count": 12,
      "outputs": []
    },
    {
      "cell_type": "code",
      "metadata": {
        "colab": {
          "base_uri": "https://localhost:8080/"
        },
        "id": "YkDO1jMC8Bvd",
        "outputId": "5ea85aa5-94a1-4e99-df80-1f2fc9a3cfa8"
      },
      "source": [
        "dico_words, word_to_id, id_to_word = word_mapping(train_sentences, parameters['lower'])\n",
        "dico_chars, char_to_id, id_to_char = char_mapping(train_sentences)\n",
        "dico_tags, tag_to_id, id_to_tag = tag_mapping(train_sentences)"
      ],
      "execution_count": 13,
      "outputs": [
        {
          "output_type": "stream",
          "text": [
            "Found 17493 unique words (203621 in total)\n",
            "Found 75 unique characters\n",
            "Found 19 unique named entity tags\n"
          ],
          "name": "stdout"
        }
      ]
    },
    {
      "cell_type": "code",
      "metadata": {
        "colab": {
          "base_uri": "https://localhost:8080/"
        },
        "id": "whdG6Cf-En50",
        "outputId": "a09bbea3-a8fc-42a8-ca85-c113cf739814"
      },
      "source": [
        "# look at first word\n",
        "print(next(iter(dico_words)))\n",
        "\n",
        "# look at first character\n",
        "print(next(iter(dico_chars)))\n",
        "\n",
        "# look at tags\n",
        "print(dico_tags)"
      ],
      "execution_count": 14,
      "outputs": [
        {
          "output_type": "stream",
          "text": [
            "eu\n",
            "E\n",
            "{'S-ORG': 3836, 'O': 169578, 'S-MISC': 2580, 'B-PER': 4284, 'E-PER': 4284, 'S-LOC': 6099, 'B-ORG': 2485, 'E-ORG': 2485, 'I-PER': 244, 'S-PER': 2316, 'B-MISC': 858, 'I-MISC': 297, 'E-MISC': 858, 'I-ORG': 1219, 'B-LOC': 1041, 'E-LOC': 1041, 'I-LOC': 116, '<START>': -1, '<STOP>': -2}\n"
          ],
          "name": "stdout"
        }
      ]
    },
    {
      "cell_type": "markdown",
      "metadata": {
        "id": "v5IoB10i8Bvg"
      },
      "source": [
        "##### Preparing final dataset"
      ]
    },
    {
      "cell_type": "markdown",
      "metadata": {
        "id": "9DI1Dqoh8Bvg"
      },
      "source": [
        "The function prepare dataset returns a list of dictionaries ( one dictionary per each sentence )\n",
        "\n",
        "Each of the dictionary returned by the function contains\n",
        "    1. list of all words in the sentence\n",
        "    2. list of word index for all words in the sentence\n",
        "    3. list of lists, containing character id of each character for words in the sentence\n",
        "    4. list of tag for each word in the sentence."
      ]
    },
    {
      "cell_type": "code",
      "metadata": {
        "id": "9ECTHgyv8Bvg"
      },
      "source": [
        "def lower_case(string: str, lower=False):\n",
        "    return string.lower() if lower else string"
      ],
      "execution_count": 15,
      "outputs": []
    },
    {
      "cell_type": "code",
      "metadata": {
        "colab": {
          "base_uri": "https://localhost:8080/"
        },
        "id": "ag7c1CsB8Bvg",
        "outputId": "84f22a67-6b91-40fa-9f58-d7e0807cb323"
      },
      "source": [
        "def prepare_dataset(sentences, word_to_id, char_to_id, tag_to_id, lower=False):\n",
        "    '''\n",
        "    Prepare the dataset. Return a list of lists of dictionaries containing:\n",
        "        - word indexes\n",
        "        - word char indexes\n",
        "        - tag indexes\n",
        "    '''\n",
        "    data = []\n",
        "\n",
        "    for sentence in sentences:\n",
        "        str_words = [word_with_tags[0] for word_with_tags in sentence]\n",
        "        words = [\n",
        "            word_to_id[\n",
        "                lower_case(word, lower)\n",
        "                if lower_case(word, lower) in word_to_id else '<UNK>'\n",
        "            ]\n",
        "            for word in str_words\n",
        "        ]\n",
        "\n",
        "        # Skip characters that are not in the training set\n",
        "        chars = [\n",
        "            [char_to_id[char] for char in word if char in char_to_id]\n",
        "            for word in str_words\n",
        "        ]\n",
        "\n",
        "        tags = [\n",
        "            tag_to_id[word_with_tags[-1]]\n",
        "            for word_with_tags in sentence\n",
        "        ]\n",
        "\n",
        "        data.append({\n",
        "            'str_words': str_words,\n",
        "            'words': words,\n",
        "            'chars': chars,\n",
        "            'tags': tags,\n",
        "        })\n",
        "    \n",
        "    return data\n",
        "\n",
        "\n",
        "train_data = prepare_dataset(\n",
        "    train_sentences, word_to_id, char_to_id, tag_to_id, parameters['lower']\n",
        ")\n",
        "val_data = prepare_dataset(\n",
        "    val_sentences, word_to_id, char_to_id, tag_to_id, parameters['lower']\n",
        ")\n",
        "test_data = prepare_dataset(\n",
        "    test_sentences, word_to_id, char_to_id, tag_to_id, parameters['lower']\n",
        ")\n",
        "\n",
        "print(f'{len(train_data)} / {len(val_data)} / {len(test_data)} sentences in train / val / test.')"
      ],
      "execution_count": 16,
      "outputs": [
        {
          "output_type": "stream",
          "text": [
            "14041 / 3250 / 3453 sentences in train / val / test.\n"
          ],
          "name": "stdout"
        }
      ]
    },
    {
      "cell_type": "markdown",
      "metadata": {
        "id": "ofZ3BMom8Bvh"
      },
      "source": [
        "We are  done with the preprocessing step for input data. It ready to be given as input to the model ! ! !"
      ]
    },
    {
      "cell_type": "markdown",
      "metadata": {
        "id": "2z4h6jGN8Bvh"
      },
      "source": [
        "##### Load Word Embeddings\n",
        "\n",
        "Now, We move to the next step of loading the pre-trained word embeddings.\n",
        "\n",
        "The paper uses glove vectors 100 dimension vectors trained on the ( Wikipedia 2014 + Gigaword 5 ) corpus containing 6 Billion Words. The word embedding file ( glove.6B.100d.txt ) is placed in the data folder."
      ]
    },
    {
      "cell_type": "code",
      "metadata": {
        "id": "9Xe1zbZO8Bvh",
        "colab": {
          "base_uri": "https://localhost:8080/"
        },
        "outputId": "fbaebb3a-b39e-4ab1-ee38-ab330301a6b2"
      },
      "source": [
        "all_word_embeds = {}\n",
        "\n",
        "with open(parameters['embedding_path'], mode='r', encoding='utf-8') as embedding_file:\n",
        "  for i, line in enumerate(embedding_file):\n",
        "      s = line.strip().split()\n",
        "      if len(s) == parameters['word_dim'] + 1:\n",
        "          all_word_embeds[s[0]] = np.array([float(i) for i in s[1:]])\n",
        "\n",
        "#Intializing Word Embedding Matrix\n",
        "word_embeds = np.random.uniform(-np.sqrt(0.06), np.sqrt(0.06), (len(word_to_id), parameters['word_dim']))\n",
        "\n",
        "for word in word_to_id:\n",
        "    if word in all_word_embeds:\n",
        "        word_embeds[word_to_id[word]] = all_word_embeds[word]\n",
        "    \n",
        "    elif word.lower() in all_word_embeds:\n",
        "        word_embeds[word_to_id[word]] = all_word_embeds[word.lower()]\n",
        "\n",
        "print(f'Loaded {len(all_word_embeds)} pretrained embeddings.')"
      ],
      "execution_count": 17,
      "outputs": [
        {
          "output_type": "stream",
          "text": [
            "Loaded 400000 pretrained embeddings.\n"
          ],
          "name": "stdout"
        }
      ]
    },
    {
      "cell_type": "code",
      "metadata": {
        "colab": {
          "base_uri": "https://localhost:8080/"
        },
        "id": "Vo88SBD3GH_X",
        "outputId": "d6e16969-0bb4-4c9f-f314-ed9c9df2c119"
      },
      "source": [
        "# look at one of the pretrained embeddings\n",
        "print(next(iter(word_embeds)))"
      ],
      "execution_count": 18,
      "outputs": [
        {
          "output_type": "stream",
          "text": [
            "[ 0.10626286  0.0305088  -0.13653112  0.10091597  0.00231464 -0.13443587\n",
            " -0.21984937  0.22391546 -0.1919355  -0.12110399 -0.05243522 -0.08642971\n",
            "  0.19003525 -0.20124834 -0.09836742 -0.07165625  0.09833548  0.00795834\n",
            "  0.08162958 -0.07754919 -0.10217956  0.0570831  -0.06659535  0.13174534\n",
            "  0.18782724  0.22667811  0.19330407 -0.1432609   0.13244185  0.23894485\n",
            " -0.19599304 -0.09476492  0.11825001 -0.02733444  0.00080099 -0.12207602\n",
            " -0.03685656  0.12320973 -0.1401302   0.02072298  0.04821095 -0.04909915\n",
            "  0.24061161  0.13850542  0.01999042  0.10774765  0.03537816 -0.01155142\n",
            " -0.01375589  0.18846035  0.19275418 -0.06869905 -0.09181731  0.10139039\n",
            " -0.06231223  0.09319588  0.15034432 -0.23414882 -0.20857923  0.2336205\n",
            " -0.22800246 -0.07058097 -0.14657815 -0.17161995  0.19987907 -0.1820948\n",
            "  0.09842479  0.21299674  0.13510483  0.09768058  0.09461689  0.18435933\n",
            "  0.05150003  0.04980342  0.13813889 -0.20832848 -0.23582553 -0.02124291\n",
            "  0.18291762 -0.18951676 -0.09495086 -0.06958846 -0.12294696 -0.17584678\n",
            " -0.14460368 -0.15033448  0.06331232  0.14457087  0.20909763  0.12259962\n",
            "  0.08143338 -0.16405802 -0.1699963  -0.08201777 -0.08816608  0.13970717\n",
            " -0.00463238  0.16009748 -0.13859715  0.02357479]\n"
          ],
          "name": "stdout"
        }
      ]
    },
    {
      "cell_type": "markdown",
      "metadata": {
        "id": "UyepZvTL8Bvh"
      },
      "source": [
        "##### Storing Processed Data for Reuse\n",
        "\n",
        "We can store the preprocessed data and the embedding matrix for future reuse. This helps us avoid the time taken by the step of preprocessing, when we are trying to tune the hyper parameters for the model."
      ]
    },
    {
      "cell_type": "code",
      "metadata": {
        "id": "JKk8Crsv8Bvh",
        "colab": {
          "base_uri": "https://localhost:8080/"
        },
        "outputId": "5c15a3e0-3014-463e-8d9e-efbe37eae377"
      },
      "source": [
        "with open(mapping_file, 'wb') as f:\n",
        "    mappings = {\n",
        "        'word_to_id': word_to_id,\n",
        "        'tag_to_id': tag_to_id,\n",
        "        'char_to_id': char_to_id,\n",
        "        'parameters': parameters,\n",
        "        'word_embeds': word_embeds,\n",
        "    }\n",
        "    pickle.dump(mappings, f)\n",
        "\n",
        "print('word_to_id: ', len(word_to_id))"
      ],
      "execution_count": 19,
      "outputs": [
        {
          "output_type": "stream",
          "text": [
            "word_to_id:  17493\n"
          ],
          "name": "stdout"
        }
      ]
    },
    {
      "cell_type": "markdown",
      "metadata": {
        "id": "aUN1V-dk8Bvi"
      },
      "source": [
        "### Model\n"
      ]
    },
    {
      "cell_type": "markdown",
      "metadata": {
        "id": "6kYPYjVu8Bvi"
      },
      "source": [
        "The model that we are presenting is a complicated one, since its a hybridized network using LSTMs and CNNs. So in order to break down the complexity, we have attempted to simplify the process by splitting up operations into individual functions that we can go over part by part. This hopefully makes the whole thing more easily digestable and gives a more intuitive understanding of the whole process."
      ]
    },
    {
      "cell_type": "markdown",
      "metadata": {
        "id": "hjgmYV1k8Bvi"
      },
      "source": [
        "##### Initialization of weights"
      ]
    },
    {
      "cell_type": "markdown",
      "metadata": {
        "id": "7rJ2FVps8Bvi"
      },
      "source": [
        "We start with the init_embedding function, which just initializes the embedding layer by pooling from a random sample. \n",
        "\n",
        "The distribution is pooled from $-\\sqrt{\\frac{3}{V}}$ to $+\\sqrt{\\frac{3}{V}}$ where $V$ is the embedding dimension size."
      ]
    },
    {
      "cell_type": "code",
      "metadata": {
        "id": "KedyxLyA8Bvi"
      },
      "source": [
        "def init_embedding(input_embedding):\n",
        "    '''\n",
        "    Initialize embedding\n",
        "    '''\n",
        "    bias = np.sqrt(3.0 / input_embedding.size(1))\n",
        "    nn.init.uniform(input_embedding, -bias, bias)"
      ],
      "execution_count": 20,
      "outputs": []
    },
    {
      "cell_type": "markdown",
      "metadata": {
        "id": "OU-1HAq08Bvi"
      },
      "source": [
        "Similar to the initialization above, except this is for the linear layer."
      ]
    },
    {
      "cell_type": "code",
      "metadata": {
        "id": "aSVop1sr8Bvi"
      },
      "source": [
        "def init_linear(input_linear):\n",
        "    '''\n",
        "    Initialize linear transformation\n",
        "    '''\n",
        "    bias = np.sqrt(6.0 / (input_linear.weight.size(0) + input_linear.weight.size(1)))\n",
        "    nn.init.uniform(input_linear.weight, -bias, bias)\n",
        "    \n",
        "    if input_linear.bias is not None:\n",
        "        input_linear.bias.data.zero_()"
      ],
      "execution_count": 21,
      "outputs": []
    },
    {
      "cell_type": "markdown",
      "metadata": {
        "id": "FqtzP7O18Bvi"
      },
      "source": [
        "This is the initialization scheme for the LSTM layers. \n",
        "\n",
        "The LSTM layers are initialized by uniform sampling from $-\\sqrt{\\frac{6}{r+c}}$ to $+\\sqrt{\\frac{6}{r+c}}$. Where $r$ is the number of rows, $c$ is the number of columns (based on the shape of the weight matrix)."
      ]
    },
    {
      "cell_type": "code",
      "metadata": {
        "id": "Qxyvy6WD8Bvi"
      },
      "source": [
        "def init_lstm(input_lstm):\n",
        "    '''\n",
        "    Initialize lstm\n",
        "    \n",
        "    PyTorch weights parameters:\n",
        "    \n",
        "        weight_ih_l[k]: the learnable input-hidden weights of the k-th layer,\n",
        "            of shape `(hidden_size * input_size)` for `k = 0`. Otherwise, the shape is\n",
        "            `(hidden_size * hidden_size)`\n",
        "            \n",
        "        weight_hh_l[k]: the learnable hidden-hidden weights of the k-th layer,\n",
        "            of shape `(hidden_size * hidden_size)`            \n",
        "    '''\n",
        "    \n",
        "    # Weights init for forward layer\n",
        "    for i in range(0, input_lstm.num_layers):\n",
        "        ## Gets the weights Tensor from our model, for the input-hidden weights in our current layer\n",
        "        weight = eval(f'input_lstm.weight_ih_l{i}')\n",
        "        \n",
        "        # Initialize the sampling range\n",
        "        sampling_range = np.sqrt(6.0 / (weight.size(0) / 4 + weight.size(1)))\n",
        "        \n",
        "        # Randomly sample from our samping range using uniform distribution and apply it to our current layer\n",
        "        nn.init.uniform(weight, -sampling_range, sampling_range)\n",
        "        \n",
        "        # Similar to above but for the hidden-hidden weights of the current layer\n",
        "        weight = eval(f'input_lstm.weight_hh_l{i}')\n",
        "        sampling_range = np.sqrt(6.0 / (weight.size(0) / 4 + weight.size(1)))\n",
        "        nn.init.uniform(weight, -sampling_range, sampling_range)\n",
        "        \n",
        "    # We do the above again, for the backward layer if we are using a bi-directional LSTM (our final model uses this)\n",
        "    if input_lstm.bidirectional:\n",
        "        for i in range(0, input_lstm.num_layers):\n",
        "            weight = eval(f'input_lstm.weight_ih_l{i}_reverse')\n",
        "            sampling_range = np.sqrt(6.0 / (weight.size(0) / 4 + weight.size(1)))\n",
        "            nn.init.uniform(weight, -sampling_range, sampling_range)\n",
        "\n",
        "            weight = eval(f'input_lstm.weight_hh_l{i}_reverse')\n",
        "            sampling_range = np.sqrt(6.0 / (weight.size(0) / 4 + weight.size(1)))\n",
        "            nn.init.uniform(weight, -sampling_range, sampling_range)\n",
        "\n",
        "    # Bias initialization steps\n",
        "    \n",
        "    # We initialize them to zero except for the forget gate bias, which is initialized to 1\n",
        "    if input_lstm.bias:\n",
        "        for i in range(0, input_lstm.num_layers):\n",
        "            bias = eval(f'input_lstm.bias_ih_l{i}')\n",
        "            \n",
        "            # Initializing to zero\n",
        "            bias.data.zero_()\n",
        "            \n",
        "            # This is the range of indices for our forget gates for each LSTM cell\n",
        "            bias.data[input_lstm.hidden_size: 2 * input_lstm.hidden_size] = 1\n",
        "            \n",
        "            #Similar for the hidden-hidden layer\n",
        "            bias = eval(f'input_lstm.bias_hh_l{i}')\n",
        "            bias.data.zero_()\n",
        "            bias.data[input_lstm.hidden_size: 2 * input_lstm.hidden_size] = 1\n",
        "            \n",
        "        # Similar to above, we do for backward layer if we are using a bi-directional LSTM \n",
        "        if input_lstm.bidirectional:\n",
        "            for i in range(0, input_lstm.num_layers):\n",
        "                bias = eval(f'input_lstm.bias_ih_l{i}_reverse')\n",
        "                bias.data.zero_()\n",
        "                bias.data[input_lstm.hidden_size: 2 * input_lstm.hidden_size] = 1\n",
        "\n",
        "                bias = eval(f'input_lstm.bias_hh_l{i}_reverse')\n",
        "                bias.data.zero_()\n",
        "                bias.data[input_lstm.hidden_size: 2 * input_lstm.hidden_size] = 1"
      ],
      "execution_count": 22,
      "outputs": []
    },
    {
      "cell_type": "markdown",
      "metadata": {
        "id": "gFcmcAsd8Bvi"
      },
      "source": [
        "##### CRF Layer\n",
        "\n",
        "We have two options: \n",
        "\n",
        "* softmax: normalize the scores into a vector such that can be interpreted as the probability that the word belongs to class. Eventually, the probability of a sequence of tag $y$ is the product of all tags.\n",
        "\n",
        "\n",
        "* linear-chain CRF: the first method makes local choices. In other words, even if we capture some information from the context thanks to the bi-LSTM, the tagging decision is still local. We don’t make use of the neighbooring tagging decisions. Given a sequence of words $w_1,…,w_m$, a sequence of score vectors $s_1,…,s_m$ and a sequence of tags $y_1,…,y_m$, a linear-chain CRF defines a global score $C \\in \\mathbb{R}$ such that\n",
        "\n",
        "$$% <![CDATA[\n",
        "\\begin{align*}\n",
        "C(y_1, \\ldots, y_m) &= b[y_1] &+ \\sum_{t=1}^{m} s_t [y_t] &+ \\sum_{t=1}^{m-1} T[y_{t}, y_{t+1}] &+ e[y_m]\\\\\n",
        "                    &= \\text{begin} &+ \\text{scores} &+ \\text{transitions} &+ \\text{end}\n",
        "\\end{align*} %]]>$$\n",
        "\n",
        "where $T$ is a transition matrix in $R^{9×9}$ and $e,b \\in R^9$ are vectors of scores that capture the cost of beginning or ending with a given tag. The use of the matrix $T$ captures linear (one step) dependencies between tagging decisions.\n",
        "\n",
        "The motivation behind CRFs was to generate sentence level likelihoods for optimal tags. What that means is for each word we estimate maximum likelihood and then we use the Viterbi algorithm to decode the tag sequence optimally.\n",
        "\n",
        "\n",
        "**Advantages of CRF over Softmax:**\n",
        "* Softmax doesn't value any dependencies, this is a problem since NER the context heavily influences the tag that is assigned. This is solved by applying CRF as it takes into account the full sequence to assign the tag. \n",
        "* *Example: I-ORG cannot directly follow I-PER.*\n",
        "\n",
        "<img src = \"https://github.com/TheAnig/NER-LSTM-CNN-Pytorch/raw/master/images/crf_mode.png\"></img>\n",
        "<a href=\"https://arxiv.org/pdf/1508.01991.pdf\">(Image Source)</a>\n",
        "\n",
        "The figure shows a simple CRF network, in our case we have the inputs feeding in from our BiLSTMs, but otherwise the structure largely remains the same."
      ]
    },
    {
      "cell_type": "markdown",
      "metadata": {
        "id": "AFTFSAXQ8Bvi"
      },
      "source": [
        "##### Evaluation schemes: Forward pass and Viterbi algorithm"
      ]
    },
    {
      "cell_type": "markdown",
      "metadata": {
        "id": "Ar3kNOUH8Bvi"
      },
      "source": [
        "Recall that the CRF computes a conditional probability. Let $y$ be a tag sequence and $x$ an input sequence of words. Then we compute\n",
        "\n",
        "$$P(y|x) = \\frac{\\exp{(\\text{Score}(x, y)})}{\\sum_{y'} \\exp{(\\text{Score}(x, y')})}$$\n",
        "\n",
        "Where the score is determined by defining some log potentials $\\log \\psi_i(x,y)$ such that\n",
        "\n",
        "$$\\text{Score}(x,y) = \\sum_i \\log \\psi_i(x,y)$$\n",
        "\n",
        "In our model, we define two kinds of potentials: emission and transition. The emission potential for the word at index $i$ comes from the hidden state of the Bi-LSTM at timestep $i$. The transition scores are stored in a $|T|x|T|$ matrix $P$, where $T$ is the tag set. In my implementation, $P_{j,k}$ is the score of transitioning to tag $j$ from tag $k$. So:\n",
        "\n",
        "$$\\text{Score}(x,y) = \\sum_i \\log \\psi_\\text{EMIT}(y_i \\rightarrow x_i) + \\log \\psi_\\text{TRANS}(y_{i-1} \\rightarrow y_i)$$\n",
        "$$= \\sum_i h_i[y_i] + \\textbf{P}_{y_i, y_{i-1}}$$"
      ]
    },
    {
      "cell_type": "markdown",
      "metadata": {
        "id": "GW_cQfv_8Bvi"
      },
      "source": [
        "##### Helper Functions"
      ]
    },
    {
      "cell_type": "markdown",
      "metadata": {
        "id": "8bMk8W9X8Bvi"
      },
      "source": [
        "Now, we define some helper functions for numerical operations and score calculations"
      ]
    },
    {
      "cell_type": "code",
      "metadata": {
        "id": "jU-Nh6RC8Bvi"
      },
      "source": [
        "def log_sum_exp(vec):\n",
        "    '''\n",
        "    This function calculates the score explained above for the forward algorithm\n",
        "    vec 2D: 1 * tagset_size\n",
        "    '''\n",
        "    max_score = vec[0, argmax(vec)]\n",
        "    max_score_broadcast = max_score.view(1, -1).expand(1, vec.size()[1])\n",
        "    \n",
        "    return max_score + torch.log(torch.sum(torch.exp(vec - max_score_broadcast)))\n",
        "    \n",
        "\n",
        "def argmax(vec):\n",
        "    '''\n",
        "    This function returns the max index in a vector\n",
        "    '''\n",
        "    _, idx = torch.max(vec, 1)\n",
        "    return to_scalar(idx)\n",
        "\n",
        "\n",
        "def to_scalar(var):\n",
        "    '''\n",
        "    Function to convert pytorch tensor to a scalar\n",
        "    '''\n",
        "    return var.view(-1).data.tolist()[0]"
      ],
      "execution_count": 23,
      "outputs": []
    },
    {
      "cell_type": "markdown",
      "metadata": {
        "id": "Jp2PJ5xL8Bvj"
      },
      "source": [
        "##### Helper function to calculate score\n",
        "\n",
        "This is a score function for our sentences. \n",
        "\n",
        "This function takes two things, a list of ground truths that tell us what the corresponding tags are, the other are the features which contains the supposed tagged parts of the function. Which is then used to compute the score."
      ]
    },
    {
      "cell_type": "code",
      "metadata": {
        "id": "wzJide7F8Bvj"
      },
      "source": [
        "def score_sentences(self, feats, tags):\n",
        "    # tags is ground_truth, a list of ints, length is len(sentence)\n",
        "    # feats is a 2D tensor, len(sentence) * tagset_size\n",
        "    r = torch.LongTensor(range(feats.size()[0]))\n",
        "    if self.use_gpu:\n",
        "        r = r.cuda()\n",
        "        pad_start_tags = torch.cat([torch.cuda.LongTensor([self.tag_to_ix[START_TAG]]), tags])\n",
        "        pad_stop_tags = torch.cat([tags, torch.cuda.LongTensor([self.tag_to_ix[STOP_TAG]])])\n",
        "    else:\n",
        "        pad_start_tags = torch.cat([torch.LongTensor([self.tag_to_ix[START_TAG]]), tags])\n",
        "        pad_stop_tags = torch.cat([tags, torch.LongTensor([self.tag_to_ix[STOP_TAG]])])\n",
        "\n",
        "    score = torch.sum(self.transitions[pad_stop_tags, pad_start_tags]) + torch.sum(feats[r, tags])\n",
        "\n",
        "    return score"
      ],
      "execution_count": 24,
      "outputs": []
    },
    {
      "cell_type": "markdown",
      "metadata": {
        "id": "czeaWdC58Bvj"
      },
      "source": [
        "##### Implementation of Forward Algorithm"
      ]
    },
    {
      "cell_type": "code",
      "metadata": {
        "id": "Kj2ljTuG8Bvj"
      },
      "source": [
        "def forward_alg(self, feats):\n",
        "    '''\n",
        "    This function performs the forward algorithm explained above\n",
        "    '''\n",
        "    # calculate in log domain\n",
        "    # feats is len(sentence) * tagset_size\n",
        "    # initialize alpha with a Tensor with values all equal to -10000.\n",
        "    \n",
        "    # Do the forward algorithm to compute the partition function\n",
        "    init_alphas = torch.Tensor(1, self.tagset_size).fill_(-10000.)\n",
        "    \n",
        "    # START_TAG has all of the score.\n",
        "    init_alphas[0][self.tag_to_ix[START_TAG]] = 0.\n",
        "    \n",
        "    # Wrap in a variable so that we will get automatic backprop\n",
        "    forward_var = autograd.Variable(init_alphas)\n",
        "    if self.use_gpu:\n",
        "        forward_var = forward_var.cuda()\n",
        "        \n",
        "    # Iterate through the sentence\n",
        "    for feat in feats:\n",
        "        # broadcast the emission score: it is the same regardless of\n",
        "        # the previous tag\n",
        "        emit_score = feat.view(-1, 1)\n",
        "        \n",
        "        # the ith entry of trans_score is the score of transitioning to\n",
        "        # next_tag from i\n",
        "        tag_var = forward_var + self.transitions + emit_score\n",
        "        \n",
        "        # The ith entry of next_tag_var is the value for the\n",
        "        # edge (i -> next_tag) before we do log-sum-exp\n",
        "        max_tag_var, _ = torch.max(tag_var, dim=1)\n",
        "        \n",
        "        # The forward variable for this tag is log-sum-exp of all the scores.\n",
        "        tag_var = tag_var - max_tag_var.view(-1, 1)\n",
        "        \n",
        "        # Compute log sum exp in a numerically stable way for the forward algorithm\n",
        "        forward_var = max_tag_var + torch.log(torch.sum(torch.exp(tag_var), dim=1)).view(1, -1)\n",
        "    \n",
        "    terminal_var = (forward_var + self.transitions[self.tag_to_ix[STOP_TAG]]).view(1, -1)\n",
        "    alpha = log_sum_exp(terminal_var)\n",
        "    # Z(x)\n",
        "    return alpha"
      ],
      "execution_count": 25,
      "outputs": []
    },
    {
      "cell_type": "markdown",
      "metadata": {
        "id": "HawVp0-Z8Bvj"
      },
      "source": [
        "##### Viterbi decode"
      ]
    },
    {
      "cell_type": "markdown",
      "metadata": {
        "id": "G71q32kS8Bvj"
      },
      "source": [
        "Viterbi decode is basically applying dynamic programming to choosing our tag sequence. Let’s suppose that we have the solution $\\tilde{s}_{t+1} (y^{t+1})$ for time steps $t + 1, ...., m$ for sequences that start with $y^{t+1}$ for each of the possible $y^{t+1}$. Then the solution $\\tilde{s}_t(y_t)$ for time steps $t, ..., m$ that starts with $y_t$ verifies \n",
        "\n",
        "$$ % <![CDATA[\n",
        "\\begin{align*}\n",
        "\\tilde{s}_t(y_t) &= \\operatorname{argmax}_{y_t, \\ldots, y_m} C(y_t, \\ldots, y_m)\\\\\n",
        "            &= \\operatorname{argmax}_{y_{t+1}} s_t [y_t] + T[y_{t}, y_{t+1}] + \\tilde{s}_{t+1}(y^{t+1})\n",
        "\\end{align*} %]]>$$\n",
        "\n",
        "Then, we can easily define the probability of a given sequence of tags as\n",
        "\n",
        "$$ \\mathbb{P}(y_1, \\ldots, y_m) = \\frac{e^{C(y_1, \\ldots, y_m)}}{Z} $$"
      ]
    },
    {
      "cell_type": "markdown",
      "metadata": {
        "id": "3Qm16uvz8Bvj"
      },
      "source": [
        "##### Implementation of Viterbi Algorithm"
      ]
    },
    {
      "cell_type": "code",
      "metadata": {
        "id": "QnShxXEb8Bvj"
      },
      "source": [
        "def viterbi_algo(self, feats):\n",
        "    '''\n",
        "    In this function, we implement the viterbi algorithm explained above.\n",
        "    A Dynamic programming based approach to find the best tag sequence\n",
        "    '''\n",
        "    backpointers = []\n",
        "    # analogous to forward\n",
        "    \n",
        "    # Initialize the viterbi variables in log space\n",
        "    init_vvars = torch.Tensor(1, self.tagset_size).fill_(-10000.)\n",
        "    init_vvars[0][self.tag_to_ix[START_TAG]] = 0\n",
        "    \n",
        "    # forward_var at step i holds the viterbi variables for step i-1\n",
        "    forward_var = Variable(init_vvars)\n",
        "    if self.use_gpu:\n",
        "        forward_var = forward_var.cuda()\n",
        "    \n",
        "    for feat in feats:\n",
        "        next_tag_var = forward_var.view(1, -1).expand(self.tagset_size, self.tagset_size) + self.transitions\n",
        "        _, bptrs_t = torch.max(next_tag_var, dim=1)\n",
        "\n",
        "        bptrs_t = bptrs_t.squeeze().data.cpu().numpy()  # holds the backpointers for this step\n",
        "        next_tag_var = next_tag_var.data.cpu().numpy()\n",
        "\n",
        "        viterbivars_t = next_tag_var[range(len(bptrs_t)), bptrs_t]  # holds the viterbi variables for this step\n",
        "        viterbivars_t = Variable(torch.FloatTensor(viterbivars_t))\n",
        "\n",
        "        if self.use_gpu:\n",
        "            viterbivars_t = viterbivars_t.cuda()\n",
        "            \n",
        "        # Now add in the emission scores, and assign forward_var to the set\n",
        "        # of viterbi variables we just computed\n",
        "        forward_var = viterbivars_t + feat\n",
        "        backpointers.append(bptrs_t)\n",
        "\n",
        "    # Transition to STOP_TAG\n",
        "    terminal_var = forward_var + self.transitions[self.tag_to_ix[STOP_TAG]]\n",
        "    terminal_var.data[self.tag_to_ix[STOP_TAG]] = -10000.\n",
        "    terminal_var.data[self.tag_to_ix[START_TAG]] = -10000.\n",
        "\n",
        "    best_tag_id = argmax(terminal_var.unsqueeze(0))\n",
        "    path_score = terminal_var[best_tag_id]\n",
        "    \n",
        "    # Follow the back pointers to decode the best path.\n",
        "    best_path = [best_tag_id]\n",
        "    for bptrs_t in reversed(backpointers):\n",
        "        best_tag_id = bptrs_t[best_tag_id]\n",
        "        best_path.append(best_tag_id)\n",
        "        \n",
        "    # Pop off the start tag (we dont want to return that to the caller)\n",
        "    start = best_path.pop()\n",
        "    assert start == self.tag_to_ix[START_TAG] # Sanity check\n",
        "    \n",
        "    best_path.reverse()\n",
        "    return path_score, best_path"
      ],
      "execution_count": 26,
      "outputs": []
    },
    {
      "cell_type": "code",
      "metadata": {
        "id": "iYhWarUw8Bvj"
      },
      "source": [
        "def forward_calc(self, sentence, chars, chars2_length, d):\n",
        "    \n",
        "    '''\n",
        "    The function calls viterbi decode and generates the \n",
        "    most probable sequence of tags for the sentence\n",
        "    '''\n",
        "    \n",
        "    # Get the emission scores from the BiLSTM\n",
        "    feats = self._get_lstm_features(sentence, chars, chars2_length, d)\n",
        "    # viterbi to get tag_seq\n",
        "    \n",
        "    # Find the best path, given the features.\n",
        "    if self.use_crf:\n",
        "        score, tag_seq = self.viterbi_decode(feats)\n",
        "    else:\n",
        "        score, tag_seq = torch.max(feats, 1)\n",
        "        tag_seq = list(tag_seq.cpu().data)\n",
        "\n",
        "    return score, tag_seq"
      ],
      "execution_count": 27,
      "outputs": []
    },
    {
      "cell_type": "markdown",
      "metadata": {
        "id": "8eRZ7YY88Bvj"
      },
      "source": [
        "### Details for the Model"
      ]
    },
    {
      "cell_type": "markdown",
      "metadata": {
        "id": "6FlX3l5y8Bvj"
      },
      "source": [
        "##### 1. CNN model for generating character embeddings\n",
        "\n",
        "\n",
        "Consider the word 'cat', we pad it on both ends to get our maximum word length ( this is mainly an implementation quirk since we can't have variable length layers at run time, our algorithm will ignore the pads).\n",
        "\n",
        "We then apply a convolution layer on top that generates spatial coherence across characters, we use a maxpool to extract meaningful features out of our convolution layer. This now gives us a dense vector representation of each word. This representation will be concatenated with the pre-trained GloVe embeddings using a simple lookup.\n",
        "\n",
        "\n",
        "<img src = \"https://github.com/TheAnig/NER-LSTM-CNN-Pytorch/raw/master/images/cnn_model.png\"></img>\n",
        "<a href=\"http://www.aclweb.org/anthology/P16-1101\">Image Source</a>\n",
        "\n",
        "\n",
        "This snippet shows us how the CNN is implemented in pytorch\n",
        "\n",
        "`self.char_cnn3 = nn.Conv2d(in_channels=1, out_channels=self.out_channels, kernel_size=(3, char_embedding_dim), padding=(2,0))`\n",
        "\n",
        "##### 2. Rest of the model (LSTM based) that generates tags for the given sequence\n",
        "\n",
        "The word-embeddings( glove+char embedding ) that we generated above, we feed to a bi-directional LSTM model. The LSTM model has 2 layers, \n",
        "* The forward layer takes in a sequence of word vectors and generates a new vector based on what it has seen so far in the forward direction (starting from the start word up until current word) this vector can be thought of as a summary of all the words it has seen. \n",
        "\n",
        "* The backwards layer does the same but in opposite direction, i.e., from the end of the sentence to the current word.\n",
        "\n",
        "The forward vector and the backwards vector at current word concatanate to generate a unified representation.\n",
        "\n",
        "<img src = \"https://github.com/TheAnig/NER-LSTM-CNN-Pytorch/raw/master/images/lstm_model.png\"></img>\n",
        "<a href=\"http://www.aclweb.org/anthology/P16-1101\">Image Source</a>\n",
        "\n",
        "This snippet shows us how the BiLSTM is implemented in pytorch\n",
        "\n",
        "`self.lstm = nn.LSTM(embedding_dim+self.out_channels, hidden_dim, bidirectional=True)`\n",
        "\n",
        "Finally, we have a linear layer to map hidden vectors to tag space."
      ]
    },
    {
      "cell_type": "markdown",
      "metadata": {
        "id": "5Y5tmQKK8Bvj"
      },
      "source": [
        "##### Main Model Implementation"
      ]
    },
    {
      "cell_type": "markdown",
      "metadata": {
        "id": "OlOctYSA8Bvj"
      },
      "source": [
        "The get_lstm_features function returns the LSTM's tag vectors. The function performs all the steps mentioned above for the model.\n",
        "\n",
        "Steps:\n",
        "1. It takes in characters, converts them to embeddings using our character CNN.\n",
        "2. We concat Character Embeding with glove vectors, use this as features that we feed to Bidirectional-LSTM. \n",
        "3. The Bidirectional-LSTM generates outputs based on these set of features.\n",
        "4. The output are passed through a linear layer to convert to tag space."
      ]
    },
    {
      "cell_type": "code",
      "metadata": {
        "id": "YFSOV-Lp8Bvj"
      },
      "source": [
        "def get_lstm_features(self, sentence, chars2, chars2_length, d):\n",
        "    if self.char_mode == 'LSTM':\n",
        "        chars_embeds = self.char_embeds(chars2).transpose(0, 1)\n",
        "        \n",
        "        packed = torch.nn.utils.rnn.pack_padded_sequence(chars_embeds, chars2_length)\n",
        "        \n",
        "        lstm_out, _ = self.char_lstm(packed)\n",
        "        \n",
        "        outputs, output_lengths = torch.nn.utils.rnn.pad_packed_sequence(lstm_out)\n",
        "        \n",
        "        outputs = outputs.transpose(0, 1)\n",
        "        \n",
        "        chars_embeds_temp = Variable(torch.FloatTensor(torch.zeros((outputs.size(0), outputs.size(2)))))\n",
        "        \n",
        "        if self.use_gpu:\n",
        "            chars_embeds_temp = chars_embeds_temp.cuda()\n",
        "        \n",
        "        for i, index in enumerate(output_lengths):\n",
        "            chars_embeds_temp[i] = torch.cat((outputs[i, index-1, :self.char_lstm_dim], outputs[i, 0, self.char_lstm_dim:]))\n",
        "        \n",
        "        chars_embeds = chars_embeds_temp.clone()\n",
        "        \n",
        "        for i in range(chars_embeds.size(0)):\n",
        "            chars_embeds[d[i]] = chars_embeds_temp[i]\n",
        "    \n",
        "    if self.char_mode == 'CNN':\n",
        "        chars_embeds = self.char_embeds(chars2).unsqueeze(1)\n",
        "\n",
        "        # Creating Character level representation using Convolutional Neural Network\n",
        "        # followed by a Maxpooling Layer\n",
        "        chars_cnn_out3 = self.char_cnn3(chars_embeds)\n",
        "        chars_embeds = nn.functional.max_pool2d(\n",
        "            chars_cnn_out3,\n",
        "            kernel_size=(chars_cnn_out3.size(2), 1)).view(chars_cnn_out3.size(0),\n",
        "            self.out_channels,\n",
        "        )\n",
        "\n",
        "    # Loading word embeddings\n",
        "    embeds = self.word_embeds(sentence)\n",
        "\n",
        "    # We concatenate the word embeddings and the character level representation\n",
        "    # to create unified representation for each word\n",
        "    embeds = torch.cat((embeds, chars_embeds), 1)\n",
        "\n",
        "    embeds = embeds.unsqueeze(1)\n",
        "\n",
        "    # Dropout on the unified embeddings\n",
        "    embeds = self.dropout(embeds)\n",
        "\n",
        "    # Word lstm\n",
        "    # Takes words as input and generates a output at each step\n",
        "    lstm_out, _ = self.lstm(embeds)\n",
        "\n",
        "    # Reshaping the outputs from the lstm layer\n",
        "    lstm_out = lstm_out.view(len(sentence), self.hidden_dim*2)\n",
        "\n",
        "    # Dropout on the lstm output\n",
        "    lstm_out = self.dropout(lstm_out)\n",
        "\n",
        "    # Linear layer converts the ouput vectors to tag space\n",
        "    lstm_feats = self.hidden2tag(lstm_out)\n",
        "    \n",
        "    return lstm_feats"
      ],
      "execution_count": 28,
      "outputs": []
    },
    {
      "cell_type": "markdown",
      "metadata": {
        "id": "0gTCbkRy8Bvj"
      },
      "source": [
        "##### Funtion for Negative log likelihood calculation"
      ]
    },
    {
      "cell_type": "markdown",
      "metadata": {
        "id": "fIl2kIpk8Bvj"
      },
      "source": [
        "This is a helper function that calculates the negative log likelihood. \n",
        "\n",
        "The functions takes as input the previously calulcated lstm features to use to calculate the sentence score and then perform a forward run score and compare it with our predicted score to generate a log likelihood. \n",
        "\n",
        "`Implementation detail: Notice we do not pump out any log conversion in this function that is supposedly about log likelihood calculation, this is because we have ensured that we get the scores from our helper functions in the log domain.`"
      ]
    },
    {
      "cell_type": "code",
      "metadata": {
        "id": "6D4Hm1r08Bvj"
      },
      "source": [
        "def get_neg_log_likelihood(self, sentence, tags, chars2, chars2_length, d):\n",
        "    # sentence, tags is a list of ints\n",
        "    # features is a 2D tensor, len(sentence) * self.tagset_size\n",
        "    feats = self._get_lstm_features(sentence, chars2, chars2_length, d)\n",
        "\n",
        "    if self.use_crf:\n",
        "        forward_score = self._forward_alg(feats)\n",
        "        gold_score = self._score_sentence(feats, tags)\n",
        "        return forward_score - gold_score\n",
        "    else:\n",
        "        tags = Variable(tags)\n",
        "        scores = nn.functional.cross_entropy(feats, tags)\n",
        "        return scores"
      ],
      "execution_count": 29,
      "outputs": []
    },
    {
      "cell_type": "markdown",
      "metadata": {
        "id": "ZDurdSsK8Bvj"
      },
      "source": [
        "##### Main Model Class"
      ]
    },
    {
      "cell_type": "code",
      "metadata": {
        "id": "JTuamq0Y8Bvj"
      },
      "source": [
        "class BiLSTM_CRF(nn.Module):\n",
        "    def __init__(\n",
        "        self, vocab_size, tag_to_ix, embedding_dim, hidden_dim,\n",
        "        char_to_ix=None, pre_word_embeds=None, char_out_dimension=25,\n",
        "        char_embedding_dim=25, use_gpu=False, use_crf=True, char_mode='CNN',\n",
        "    ):\n",
        "        '''\n",
        "        Input parameters:\n",
        "                \n",
        "            vocab_size= Size of vocabulary (int)\n",
        "            tag_to_ix = Dictionary that maps NER tags pacific rim themeto indices\n",
        "            embedding_dim = Dimension of word embeddings (int)\n",
        "            hidden_dim = The hidden dimension of the LSTM layer (int)\n",
        "            char_to_ix = Dictionary that maps characters to indices\n",
        "            pre_word_embeds = Numpy array which provides mapping from word embeddings to word indices\n",
        "            char_out_dimension = Output dimension from the CNN encoder for character\n",
        "            char_embedding_dim = Dimension of the character embeddings\n",
        "            use_gpu = defines availability of GPU, \n",
        "                when True: CUDA function calls are made\n",
        "                else: Normal CPU function calls are made\n",
        "            use_crf = parameter which decides if you want to use the CRF layer for output decoding\n",
        "        '''\n",
        "        \n",
        "        super(BiLSTM_CRF, self).__init__()\n",
        "        \n",
        "        # parameter initialization for the model\n",
        "        self.use_gpu = use_gpu\n",
        "        self.embedding_dim = embedding_dim\n",
        "        self.hidden_dim = hidden_dim\n",
        "        self.vocab_size = vocab_size\n",
        "        self.tag_to_ix = tag_to_ix\n",
        "        self.use_crf = use_crf\n",
        "        self.tagset_size = len(tag_to_ix)\n",
        "        self.out_channels = char_out_dimension\n",
        "        self.char_mode = char_mode\n",
        "\n",
        "        if char_embedding_dim is not None:\n",
        "            self.char_embedding_dim = char_embedding_dim\n",
        "            \n",
        "            # Initializing the character embedding layer\n",
        "            self.char_embeds = nn.Embedding(len(char_to_ix), char_embedding_dim)\n",
        "            init_embedding(self.char_embeds.weight)\n",
        "            \n",
        "            # Performing LSTM encoding on the character embeddings\n",
        "            if self.char_mode == 'LSTM':\n",
        "                self.char_lstm = nn.LSTM(char_embedding_dim, char_lstm_dim, num_layers=1, bidirectional=True)\n",
        "                init_lstm(self.char_lstm)\n",
        "                \n",
        "            # Performing CNN encoding on the character embeddings\n",
        "            if self.char_mode == 'CNN':\n",
        "                self.char_cnn3 = nn.Conv2d(in_channels=1, out_channels=self.out_channels, kernel_size=(3, char_embedding_dim), padding=(2,0))\n",
        "\n",
        "        # Creating Embedding layer with dimension of ( number of words * dimension of each word)\n",
        "        self.word_embeds = nn.Embedding(vocab_size, embedding_dim)\n",
        "        if pre_word_embeds is not None:\n",
        "            # Initializes the word embeddings with pretrained word embeddings\n",
        "            self.pre_word_embeds = True\n",
        "            self.word_embeds.weight = nn.Parameter(torch.FloatTensor(pre_word_embeds))\n",
        "        else:\n",
        "            self.pre_word_embeds = False\n",
        "    \n",
        "        # Initializing the dropout layer, with dropout specificed in parameters\n",
        "        self.dropout = nn.Dropout(parameters['dropout'])\n",
        "        \n",
        "        # Lstm Layer:\n",
        "        # input dimension: word embedding dimension + character level representation\n",
        "        # bidirectional=True, specifies that we are using the bidirectional LSTM\n",
        "        if self.char_mode == 'LSTM':\n",
        "            self.lstm = nn.LSTM(embedding_dim+char_lstm_dim*2, hidden_dim, bidirectional=True)\n",
        "        if self.char_mode == 'CNN':\n",
        "            self.lstm = nn.LSTM(embedding_dim+self.out_channels, hidden_dim, bidirectional=True)\n",
        "        \n",
        "        #Initializing the lstm layer using predefined function for initialization\n",
        "        init_lstm(self.lstm)\n",
        "        \n",
        "        # Linear layer which maps the output of the bidirectional LSTM into tag space.\n",
        "        self.hidden2tag = nn.Linear(hidden_dim*2, self.tagset_size)\n",
        "        \n",
        "        #Initializing the linear layer using predefined function for initialization\n",
        "        init_linear(self.hidden2tag) \n",
        "\n",
        "        if self.use_crf:\n",
        "            # Matrix of transition parameters.  Entry i,j is the score of transitioning *to* i *from* j.\n",
        "            # Matrix has a dimension of (total number of tags * total number of tags)\n",
        "            self.transitions = nn.Parameter(\n",
        "                torch.zeros(self.tagset_size, self.tagset_size))\n",
        "            \n",
        "            # These two statements enforce the constraint that we never transfer\n",
        "            # to the start tag and we never transfer from the stop tag\n",
        "            self.transitions.data[tag_to_ix[START_TAG], :] = -10000\n",
        "            self.transitions.data[:, tag_to_ix[STOP_TAG]] = -10000\n",
        "\n",
        "    # assigning the functions, which we have defined earlier\n",
        "    _score_sentence = score_sentences\n",
        "    _get_lstm_features = get_lstm_features\n",
        "    _forward_alg = forward_alg\n",
        "    viterbi_decode = viterbi_algo\n",
        "    neg_log_likelihood = get_neg_log_likelihood\n",
        "    forward = forward_calc"
      ],
      "execution_count": 30,
      "outputs": []
    },
    {
      "cell_type": "code",
      "metadata": {
        "id": "0n-Z7y7l8Bvj",
        "colab": {
          "base_uri": "https://localhost:8080/"
        },
        "outputId": "637fb828-3b0e-4ce2-b17d-876e5074d874"
      },
      "source": [
        "# creating the model using the Class defined above\n",
        "model = BiLSTM_CRF(\n",
        "    vocab_size=len(word_to_id),\n",
        "    tag_to_ix=tag_to_id,\n",
        "    embedding_dim=parameters['word_dim'],\n",
        "    hidden_dim=parameters['word_lstm_dim'],\n",
        "    use_gpu=use_gpu,\n",
        "    char_to_ix=char_to_id,\n",
        "    pre_word_embeds=word_embeds,\n",
        "    use_crf=parameters['crf'],\n",
        "    char_mode=parameters['char_mode'],\n",
        ")\n",
        "print('Model Initialized!!!')"
      ],
      "execution_count": 31,
      "outputs": [
        {
          "output_type": "stream",
          "text": [
            "Model Initialized!!!\n"
          ],
          "name": "stdout"
        },
        {
          "output_type": "stream",
          "text": [
            "/usr/local/lib/python3.6/dist-packages/ipykernel_launcher.py:6: UserWarning: nn.init.uniform is now deprecated in favor of nn.init.uniform_.\n",
            "  \n",
            "/usr/local/lib/python3.6/dist-packages/ipykernel_launcher.py:24: UserWarning: nn.init.uniform is now deprecated in favor of nn.init.uniform_.\n",
            "/usr/local/lib/python3.6/dist-packages/ipykernel_launcher.py:29: UserWarning: nn.init.uniform is now deprecated in favor of nn.init.uniform_.\n",
            "/usr/local/lib/python3.6/dist-packages/ipykernel_launcher.py:36: UserWarning: nn.init.uniform is now deprecated in favor of nn.init.uniform_.\n",
            "/usr/local/lib/python3.6/dist-packages/ipykernel_launcher.py:40: UserWarning: nn.init.uniform is now deprecated in favor of nn.init.uniform_.\n"
          ],
          "name": "stderr"
        }
      ]
    },
    {
      "cell_type": "code",
      "metadata": {
        "id": "npKkuEhd8Bvk"
      },
      "source": [
        "# Reload a saved model, if parameter[\"reload\"] is set to a path\n",
        "if parameters['reload']:\n",
        "    if not os.path.exists(parameters['reload']):\n",
        "        print('downloading pre-trained model...')\n",
        "        model_url = 'https://github.com/TheAnig/NER-LSTM-CNN-Pytorch/raw/master/trained-model-cpu'\n",
        "        urllib.request.urlretrieve(model_url, parameters['reload'])\n",
        "    \n",
        "    model.load_state_dict(torch.load(parameters['reload']))\n",
        "    print(\"model reloaded :\", parameters['reload'])\n",
        "\n",
        "if use_gpu:\n",
        "    model.cuda()"
      ],
      "execution_count": 32,
      "outputs": []
    },
    {
      "cell_type": "markdown",
      "metadata": {
        "id": "6ef1i4E18Bvk"
      },
      "source": [
        "##### Training Paramaters"
      ]
    },
    {
      "cell_type": "code",
      "metadata": {
        "id": "NuYjGHi58Bvk"
      },
      "source": [
        "# Initializing the optimizer\n",
        "# The best results in the paper were achived using stochastic gradient descent (SGD) \n",
        "# learning rate=0.015 and momentum=0.9 \n",
        "# decay_rate=0.05 \n",
        "\n",
        "learning_rate = 0.015\n",
        "momentum = 0.9\n",
        "number_of_epochs = parameters['epoch'] \n",
        "decay_rate = 0.05\n",
        "gradient_clip = parameters['gradient_clip']\n",
        "optimizer = torch.optim.SGD(model.parameters(), lr=learning_rate, momentum=momentum)\n",
        "\n",
        "#variables which will used in training process\n",
        "losses = []  # list to store all losses\n",
        "loss = 0.0  # Loss Initialization\n",
        "\n",
        "best_train_F = -1.0  # Current best F-1 Score on Train Set\n",
        "best_val_F = -1.0  # Current best F-1 Score on Val Set\n",
        "best_test_F = -1.0  # Current best F-1 Score on Test Set\n",
        "all_F = [[0, 0, 0]]  # List storing all the F-1 Scores\n",
        "\n",
        "eval_every = len(train_data)  # Calculate F-1 Score after this many iterations\n",
        "plot_every = 2000  # Store loss after this many iterations\n",
        "count = 0  # Counts the number of iterations"
      ],
      "execution_count": 33,
      "outputs": []
    },
    {
      "cell_type": "markdown",
      "metadata": {
        "id": "dkLzn27C8Bvk"
      },
      "source": [
        "### Evaluation"
      ]
    },
    {
      "cell_type": "markdown",
      "metadata": {
        "id": "Oqnoy0Um8Bvk"
      },
      "source": [
        "##### Helper functions for evaluation"
      ]
    },
    {
      "cell_type": "code",
      "metadata": {
        "id": "Ue04bPTD8Bvk"
      },
      "source": [
        "def get_chunk_type(tok, idx_to_tag):\n",
        "    '''\n",
        "    The function takes in a chunk (\"B-PER\") and then splits it into the tag (PER) and its class (B)\n",
        "    as defined in BIOES\n",
        "    \n",
        "    Args:\n",
        "        tok: id of token, ex 4\n",
        "        idx_to_tag: dictionary {4: \"B-PER\", ...}\n",
        "\n",
        "    Returns:\n",
        "        tuple: \"B\", \"PER\"\n",
        "\n",
        "    '''\n",
        "    tag_name = idx_to_tag[tok]\n",
        "    tag_class = tag_name.split('-')[0]\n",
        "    tag_type = tag_name.split('-')[-1]\n",
        "    \n",
        "    return tag_class, tag_type"
      ],
      "execution_count": 34,
      "outputs": []
    },
    {
      "cell_type": "code",
      "metadata": {
        "id": "nEwPjfgJ8Bvk"
      },
      "source": [
        "def get_chunks(seq, tags):\n",
        "    '''\n",
        "    Given a sequence of tags, group entities and their position\n",
        "\n",
        "    Args:\n",
        "        seq: [4, 4, 0, 0, ...] sequence of labels\n",
        "        tags: dict[\"O\"] = 4\n",
        "\n",
        "    Returns:\n",
        "        list of (chunk_type, chunk_start, chunk_end)\n",
        "\n",
        "    Example:\n",
        "        seq = [4, 5, 0, 3]\n",
        "        tags = {\"B-PER\": 4, \"I-PER\": 5, \"B-LOC\": 3}\n",
        "        result = [(\"PER\", 0, 2), (\"LOC\", 3, 4)]\n",
        "    '''\n",
        "    \n",
        "    # We assume by default the tags lie outside a named entity\n",
        "    default = tags['O']\n",
        "    \n",
        "    idx_to_tag = {idx: tag for tag, idx in tags.items()}\n",
        "    \n",
        "    chunks = []\n",
        "    \n",
        "    chunk_type, chunk_start = None, None\n",
        "\n",
        "    for i, tok in enumerate(seq):\n",
        "        # End of a chunk 1\n",
        "        if tok == default and chunk_type is not None:\n",
        "            # Add a chunk.\n",
        "            chunk = (chunk_type, chunk_start, i)\n",
        "            chunks.append(chunk)\n",
        "            chunk_type, chunk_start = None, None\n",
        "\n",
        "        # End of a chunk + start of a chunk!\n",
        "        elif tok != default:\n",
        "            tok_chunk_class, tok_chunk_type = get_chunk_type(tok, idx_to_tag)\n",
        "            if chunk_type is None:\n",
        "                # Initialize chunk for each entity\n",
        "                chunk_type, chunk_start = tok_chunk_type, i\n",
        "            \n",
        "            elif tok_chunk_type != chunk_type or tok_chunk_class == 'B':\n",
        "                # If chunk class is B, i.e., its a beginning of a new named entity\n",
        "                # or, if the chunk type is different from the previous one, then we\n",
        "                # start labelling it as a new entity\n",
        "                chunk = (chunk_type, chunk_start, i)\n",
        "                chunks.append(chunk)\n",
        "                chunk_type, chunk_start = tok_chunk_type, i\n",
        "        else:\n",
        "            pass\n",
        "\n",
        "    # end condition\n",
        "    if chunk_type is not None:\n",
        "        chunk = (chunk_type, chunk_start, len(seq))\n",
        "        chunks.append(chunk)\n",
        "\n",
        "    return chunks"
      ],
      "execution_count": 35,
      "outputs": []
    },
    {
      "cell_type": "code",
      "metadata": {
        "id": "oEdhuEm08Bvk"
      },
      "source": [
        "def evaluating(model, datas, best_F, dataset='Train'):\n",
        "    '''\n",
        "    The function takes as input the model, data and calcuates F-1 Score\n",
        "    It performs conditional updates \n",
        "     1) Flag to save the model \n",
        "     2) Best F-1 score\n",
        "    , if the F-1 score calculated improves on the previous F-1 score\n",
        "    '''\n",
        "    # Initializations\n",
        "    prediction = []  # A list that stores predicted tags\n",
        "    save = False  # Flag that tells us if the model needs to be saved\n",
        "    new_F = 0.0  # Variable to store the current F1-Score (may not be the best)\n",
        "    correct_preds, total_correct, total_preds = 0., 0., 0.  # Count variables\n",
        "    \n",
        "    for data in datas:\n",
        "        ground_truth_id = data['tags']\n",
        "        words = data['str_words']\n",
        "        chars2 = data['chars']\n",
        "        \n",
        "        if parameters['char_mode'] == 'LSTM':\n",
        "            chars2_sorted = sorted(chars2, key=lambda p: len(p), reverse=True)\n",
        "            d = {}\n",
        "\n",
        "            for i, ci in enumerate(chars2):\n",
        "                for j, cj in enumerate(chars2_sorted):\n",
        "                    if ci == cj and not j in d and not i in d.values():\n",
        "                        d[j] = i\n",
        "                        continue\n",
        "            \n",
        "            chars2_length = [len(c) for c in chars2_sorted]\n",
        "            char_maxl = max(chars2_length)\n",
        "            chars2_mask = np.zeros((len(chars2_sorted), char_maxl), dtype='int')\n",
        "\n",
        "            for i, c in enumerate(chars2_sorted):\n",
        "                chars2_mask[i, :chars2_length[i]] = c\n",
        "            chars2_mask = Variable(torch.LongTensor(chars2_mask))\n",
        "        \n",
        "        \n",
        "        if parameters['char_mode'] == 'CNN':\n",
        "            d = {} \n",
        "\n",
        "            # Padding the each word to max word size of that sentence\n",
        "            chars2_length = [len(c) for c in chars2]\n",
        "            char_maxl = max(chars2_length)\n",
        "            chars2_mask = np.zeros((len(chars2_length), char_maxl), dtype='int')\n",
        "\n",
        "            for i, c in enumerate(chars2):\n",
        "                chars2_mask[i, :chars2_length[i]] = c\n",
        "            chars2_mask = Variable(torch.LongTensor(chars2_mask))\n",
        "\n",
        "        dwords = Variable(torch.LongTensor(data['words']))\n",
        "        \n",
        "        # We are getting the predicted output from our model\n",
        "        if use_gpu:\n",
        "            val,out = model(dwords.cuda(), chars2_mask.cuda(), chars2_length, d)\n",
        "        else:\n",
        "            val,out = model(dwords, chars2_mask, chars2_length, d)\n",
        "        predicted_id = out\n",
        "    \n",
        "        # We use the get chunks function defined above to get the true chunks\n",
        "        # and the predicted chunks from true labels and predicted labels respectively\n",
        "        lab_chunks = set(get_chunks(ground_truth_id,tag_to_id))\n",
        "        lab_pred_chunks = set(get_chunks(predicted_id, tag_to_id))\n",
        "\n",
        "        # Updating the count variables\n",
        "        correct_preds += len(lab_chunks & lab_pred_chunks)\n",
        "        total_preds   += len(lab_pred_chunks)\n",
        "        total_correct += len(lab_chunks)\n",
        "    \n",
        "    # Calculating the F1-Score\n",
        "    p = correct_preds / total_preds if correct_preds > 0 else 0\n",
        "    r = correct_preds / total_correct if correct_preds > 0 else 0\n",
        "    new_F = 2 * p * r / (p + r) if correct_preds > 0 else 0\n",
        "\n",
        "    print(f'{dataset}: new_F: {new_F} best_F: {best_F} ')\n",
        "    \n",
        "    # If our current F1-Score is better than the previous best, we update the best\n",
        "    # to current F1 and we set the flag to indicate that we need to checkpoint this model\n",
        "    \n",
        "    if new_F > best_F:\n",
        "        best_F = new_F\n",
        "        save = True\n",
        "\n",
        "    return best_F, new_F, save"
      ],
      "execution_count": 36,
      "outputs": []
    },
    {
      "cell_type": "markdown",
      "metadata": {
        "id": "I6lOBcQe8Bvk"
      },
      "source": [
        "##### Helper function for performing Learning rate decay"
      ]
    },
    {
      "cell_type": "code",
      "metadata": {
        "id": "HWrJJH7f8Bvk"
      },
      "source": [
        "def adjust_learning_rate(optimizer, lr):\n",
        "    '''\n",
        "    shrink learning rate\n",
        "    '''\n",
        "    for param_group in optimizer.param_groups:\n",
        "        param_group['lr'] = lr"
      ],
      "execution_count": 37,
      "outputs": []
    },
    {
      "cell_type": "markdown",
      "metadata": {
        "id": "llXSthW48Bvk"
      },
      "source": [
        "### Training Step"
      ]
    },
    {
      "cell_type": "markdown",
      "metadata": {
        "id": "L55Q8SI58Bvk"
      },
      "source": [
        "If `parameters['reload']` is set, we already have a model to load of off, so we can skip the training. We have originally specified a pre-trained model since training is an expensive process, but we encourage readers to try this out once they're done with the tutorial."
      ]
    },
    {
      "cell_type": "code",
      "metadata": {
        "id": "yRX467sD8Bvk",
        "colab": {
          "base_uri": "https://localhost:8080/"
        },
        "outputId": "283e5db5-75ff-48b2-c09d-6dc53beb0c5e"
      },
      "source": [
        "parameters['reload'] = False  # comment away to skip training\n",
        "\n",
        "if not parameters['reload']:\n",
        "    start_time = time.time()\n",
        "    model.train(True)\n",
        "\n",
        "    for epoch in range(1, number_of_epochs):\n",
        "        print(f'\\nepoch: {epoch}')\n",
        "\n",
        "        for i, index in enumerate(np.random.permutation(len(train_data))):\n",
        "            count += 1\n",
        "            data = train_data[index]\n",
        "\n",
        "            # gradient updates for each data entry\n",
        "            model.zero_grad()\n",
        "\n",
        "            sentence_in = data['words']\n",
        "            sentence_in = Variable(torch.LongTensor(sentence_in))\n",
        "            tags = data['tags']\n",
        "            chars2 = data['chars']\n",
        "            \n",
        "            if parameters['char_mode'] == 'LSTM':\n",
        "                chars2_sorted = sorted(chars2, key=lambda p: len(p), reverse=True)\n",
        "                d = {}\n",
        "\n",
        "                for i, ci in enumerate(chars2):\n",
        "                    for j, cj in enumerate(chars2_sorted):\n",
        "                        if ci == cj and not j in d and not i in d.values():\n",
        "                            d[j] = i\n",
        "                            continue\n",
        "                \n",
        "                chars2_length = [len(c) for c in chars2_sorted]\n",
        "                char_maxl = max(chars2_length)\n",
        "                chars2_mask = np.zeros((len(chars2_sorted), char_maxl), dtype='int')\n",
        "\n",
        "                for i, c in enumerate(chars2_sorted):\n",
        "                    chars2_mask[i, :chars2_length[i]] = c\n",
        "                chars2_mask = Variable(torch.LongTensor(chars2_mask))\n",
        "            \n",
        "            if parameters['char_mode'] == 'CNN':\n",
        "                d = {}\n",
        "\n",
        "                # Padding the each word to max word size of that sentence\n",
        "                chars2_length = [len(c) for c in chars2]\n",
        "                char_maxl = max(chars2_length)\n",
        "                chars2_mask = np.zeros((len(chars2_length), char_maxl), dtype='int')\n",
        "\n",
        "                for i, c in enumerate(chars2):\n",
        "                    chars2_mask[i, :chars2_length[i]] = c\n",
        "                chars2_mask = Variable(torch.LongTensor(chars2_mask))\n",
        "\n",
        "            targets = torch.LongTensor(tags)\n",
        "\n",
        "            # we calculate the negative log-likelihood for the predicted tags using the predefined function\n",
        "            if use_gpu:\n",
        "                neg_log_likelihood = model.neg_log_likelihood(sentence_in.cuda(), targets.cuda(), chars2_mask.cuda(), chars2_length, d)\n",
        "            else:\n",
        "                neg_log_likelihood = model.neg_log_likelihood(sentence_in, targets, chars2_mask, chars2_length, d)\n",
        "            \n",
        "            loss += neg_log_likelihood.data.item() / len(data['words'])  # loss += neg_log_likelihood.data[0] / len(data['words'])\n",
        "\n",
        "            neg_log_likelihood.backward()\n",
        "\n",
        "            # we use gradient clipping to avoid exploding gradients\n",
        "            torch.nn.utils.clip_grad_norm(model.parameters(), gradient_clip)\n",
        "            optimizer.step()\n",
        "\n",
        "            # Storing loss\n",
        "            if count % plot_every == 0:\n",
        "                loss /= plot_every\n",
        "                print(f'loss at iteration {count}: {loss}')\n",
        "\n",
        "                if losses == []:\n",
        "                    losses.append(loss)\n",
        "                \n",
        "                losses.append(loss)\n",
        "                loss = 0.0\n",
        "\n",
        "            # Evaluating on Train, Test, Dev Sets\n",
        "            if count % (eval_every) == 0 and count > (eval_every * 20) or count % (eval_every*4) == 0 and count < (eval_every * 20):\n",
        "                model.train(False)\n",
        "                best_train_F, new_train_F, _ = evaluating(model, train_data, best_train_F, 'Train')\n",
        "                best_val_F, new_val_F, save = evaluating(model, val_data, best_val_F, 'Val')\n",
        "\n",
        "                if save:\n",
        "                    print(f'Saving Model to {model_name}')\n",
        "                    torch.save(model.state_dict(), model_name)\n",
        "                \n",
        "                best_test_F, new_test_F, _ = evaluating(model, test_data, best_test_F, 'Test')\n",
        "\n",
        "                all_F.append([new_train_F, new_val_F, new_test_F])\n",
        "                model.train(True)\n",
        "\n",
        "            #Performing decay on the learning rate\n",
        "            if count % len(train_data) == 0:\n",
        "                adjust_learning_rate(optimizer, lr=learning_rate/(1+decay_rate*count/len(train_data)))\n",
        "\n",
        "    time_taken = time.time() - start_time\n",
        "    print(f'time taken: {time_taken}')\n",
        "\n",
        "if not parameters['reload']:\n",
        "    #reload the best model saved from training\n",
        "    model.load_state_dict(torch.load(model_name))"
      ],
      "execution_count": 38,
      "outputs": [
        {
          "output_type": "stream",
          "text": [
            "\n",
            "epoch: 1\n"
          ],
          "name": "stdout"
        },
        {
          "output_type": "stream",
          "text": [
            "/usr/local/lib/python3.6/dist-packages/ipykernel_launcher.py:65: UserWarning: torch.nn.utils.clip_grad_norm is now deprecated in favor of torch.nn.utils.clip_grad_norm_.\n"
          ],
          "name": "stderr"
        },
        {
          "output_type": "stream",
          "text": [
            "loss at iteration 2000: 0.4579715741203999\n",
            "loss at iteration 4000: 0.20408049362863362\n",
            "loss at iteration 6000: 0.16244090065039926\n",
            "loss at iteration 8000: 0.14472951539416004\n",
            "loss at iteration 10000: 0.12578434530663363\n",
            "loss at iteration 12000: 0.118772978523196\n",
            "loss at iteration 14000: 0.11910407205122452\n",
            "\n",
            "epoch: 2\n",
            "loss at iteration 16000: 0.09560766514179687\n",
            "loss at iteration 18000: 0.0959879529120157\n",
            "loss at iteration 20000: 0.10722027989941287\n",
            "loss at iteration 22000: 0.08634039541414887\n",
            "loss at iteration 24000: 0.09221827116178903\n",
            "loss at iteration 26000: 0.09165424722171192\n",
            "loss at iteration 28000: 0.08927583345165298\n",
            "\n",
            "epoch: 3\n",
            "loss at iteration 30000: 0.0843961621893592\n",
            "loss at iteration 32000: 0.06809980041402568\n",
            "loss at iteration 34000: 0.06808896623047656\n",
            "loss at iteration 36000: 0.06762595607889475\n",
            "loss at iteration 38000: 0.0704117364435165\n",
            "loss at iteration 40000: 0.0740033530277089\n",
            "loss at iteration 42000: 0.0735771364469849\n",
            "\n",
            "epoch: 4\n",
            "loss at iteration 44000: 0.054449827680162044\n",
            "loss at iteration 46000: 0.0662097689002926\n",
            "loss at iteration 48000: 0.06549062009208723\n",
            "loss at iteration 50000: 0.049788059409418765\n",
            "loss at iteration 52000: 0.06803302791206818\n",
            "loss at iteration 54000: 0.07237238500028036\n",
            "loss at iteration 56000: 0.05643577270089363\n",
            "Train: new_F: 0.9642507137074439 best_F: -1.0 \n",
            "Val: new_F: 0.9084945332211943 best_F: -1.0 \n",
            "Saving Model to /content/drive/MyDrive/NLPAssignment2/models/self-trained-model-lstm\n",
            "Test: new_F: 0.8628525952780971 best_F: -1.0 \n",
            "\n",
            "epoch: 5\n",
            "loss at iteration 58000: 0.06346757769758038\n",
            "loss at iteration 60000: 0.06313154043112643\n",
            "loss at iteration 62000: 0.0477844114626205\n",
            "loss at iteration 64000: 0.049373742504609006\n",
            "loss at iteration 66000: 0.05198702969376112\n",
            "loss at iteration 68000: 0.03927241334304126\n",
            "loss at iteration 70000: 0.041580873700466855\n",
            "\n",
            "epoch: 6\n",
            "loss at iteration 72000: 0.04757760070012685\n",
            "loss at iteration 74000: 0.04114096121590915\n",
            "loss at iteration 76000: 0.0381376905643527\n",
            "loss at iteration 78000: 0.04598744951922128\n",
            "loss at iteration 80000: 0.050903242377948105\n",
            "loss at iteration 82000: 0.05925229236532006\n",
            "loss at iteration 84000: 0.0461262237885399\n",
            "\n",
            "epoch: 7\n",
            "loss at iteration 86000: 0.03653916976661801\n",
            "loss at iteration 88000: 0.045279490720342916\n",
            "loss at iteration 90000: 0.036369119684447546\n",
            "loss at iteration 92000: 0.03298403037887862\n",
            "loss at iteration 94000: 0.04208383403766337\n",
            "loss at iteration 96000: 0.04146457144197268\n",
            "loss at iteration 98000: 0.03694886891618389\n",
            "\n",
            "epoch: 8\n",
            "loss at iteration 100000: 0.03897905813086526\n",
            "loss at iteration 102000: 0.04248914093567475\n",
            "loss at iteration 104000: 0.03383108504011601\n",
            "loss at iteration 106000: 0.041402072618776695\n",
            "loss at iteration 108000: 0.036620807674174596\n",
            "loss at iteration 110000: 0.030588327366234853\n",
            "loss at iteration 112000: 0.03768942263648024\n",
            "Train: new_F: 0.9805218355983188 best_F: 0.9642507137074439 \n",
            "Val: new_F: 0.9119232064668239 best_F: 0.9084945332211943 \n",
            "Saving Model to /content/drive/MyDrive/NLPAssignment2/models/self-trained-model-lstm\n",
            "Test: new_F: 0.8716487040171017 best_F: 0.8628525952780971 \n",
            "\n",
            "epoch: 9\n",
            "loss at iteration 114000: 0.03717222349251815\n",
            "loss at iteration 116000: 0.0320895715893973\n",
            "loss at iteration 118000: 0.033164173526748206\n",
            "loss at iteration 120000: 0.031874759315934496\n",
            "loss at iteration 122000: 0.03439662239076337\n",
            "loss at iteration 124000: 0.0380199276070082\n",
            "loss at iteration 126000: 0.03165200219159495\n",
            "\n",
            "epoch: 10\n",
            "loss at iteration 128000: 0.03267562583082538\n",
            "loss at iteration 130000: 0.024895366707788236\n",
            "loss at iteration 132000: 0.03425945340580116\n",
            "loss at iteration 134000: 0.03050520105264431\n",
            "loss at iteration 136000: 0.03468945874812437\n",
            "loss at iteration 138000: 0.028063349180115264\n",
            "loss at iteration 140000: 0.02976415182892357\n",
            "\n",
            "epoch: 11\n",
            "loss at iteration 142000: 0.025940297377438266\n",
            "loss at iteration 144000: 0.021279370631314607\n",
            "loss at iteration 146000: 0.02962674509507188\n",
            "loss at iteration 148000: 0.03096440567879459\n",
            "loss at iteration 150000: 0.026051457061030008\n",
            "loss at iteration 152000: 0.02475389422668765\n",
            "loss at iteration 154000: 0.025447495922500077\n",
            "\n",
            "epoch: 12\n",
            "loss at iteration 156000: 0.02642427594850521\n",
            "loss at iteration 158000: 0.025481939757821655\n",
            "loss at iteration 160000: 0.023375118917766318\n",
            "loss at iteration 162000: 0.025135891080901022\n",
            "loss at iteration 164000: 0.032186525756147555\n",
            "loss at iteration 166000: 0.02150169916038861\n",
            "loss at iteration 168000: 0.029170257153408947\n",
            "Train: new_F: 0.984763124199744 best_F: 0.9805218355983188 \n",
            "Val: new_F: 0.9139475908706679 best_F: 0.9119232064668239 \n",
            "Saving Model to /content/drive/MyDrive/NLPAssignment2/models/self-trained-model-lstm\n",
            "Test: new_F: 0.8688041439671339 best_F: 0.8716487040171017 \n",
            "\n",
            "epoch: 13\n",
            "loss at iteration 170000: 0.025437748258251267\n",
            "loss at iteration 172000: 0.02514427609631493\n",
            "loss at iteration 174000: 0.02111327446827021\n",
            "loss at iteration 176000: 0.021610527716928177\n",
            "loss at iteration 178000: 0.02198456819249461\n",
            "loss at iteration 180000: 0.03174709615920001\n",
            "loss at iteration 182000: 0.01928451577363282\n",
            "\n",
            "epoch: 14\n",
            "loss at iteration 184000: 0.026926298349262568\n",
            "loss at iteration 186000: 0.01770173107866692\n",
            "loss at iteration 188000: 0.02622118240664808\n",
            "loss at iteration 190000: 0.02242993966763786\n",
            "loss at iteration 192000: 0.021544536985594782\n",
            "loss at iteration 194000: 0.020523897094875093\n",
            "loss at iteration 196000: 0.02250343447476794\n",
            "\n",
            "epoch: 15\n",
            "loss at iteration 198000: 0.01991095569213614\n",
            "loss at iteration 200000: 0.022279671699620897\n",
            "loss at iteration 202000: 0.01657553342407984\n",
            "loss at iteration 204000: 0.018676395436337645\n",
            "loss at iteration 206000: 0.02192590438243553\n",
            "loss at iteration 208000: 0.020768074132510007\n",
            "loss at iteration 210000: 0.017442760587053158\n",
            "\n",
            "epoch: 16\n",
            "loss at iteration 212000: 0.018257823767580752\n",
            "loss at iteration 214000: 0.021631881696415858\n",
            "loss at iteration 216000: 0.016308312998622797\n",
            "loss at iteration 218000: 0.022086941461088284\n",
            "loss at iteration 220000: 0.018464383120023308\n",
            "loss at iteration 222000: 0.020596228058496042\n",
            "loss at iteration 224000: 0.02273252764849695\n",
            "Train: new_F: 0.9902577330576222 best_F: 0.984763124199744 \n",
            "Val: new_F: 0.9214448092952766 best_F: 0.9139475908706679 \n",
            "Saving Model to /content/drive/MyDrive/NLPAssignment2/models/self-trained-model-lstm\n",
            "Test: new_F: 0.874612317235268 best_F: 0.8716487040171017 \n",
            "\n",
            "epoch: 17\n",
            "loss at iteration 226000: 0.0164353756992574\n",
            "loss at iteration 228000: 0.021446246063427838\n",
            "loss at iteration 230000: 0.019514337239405575\n",
            "loss at iteration 232000: 0.021747757072738943\n",
            "loss at iteration 234000: 0.015586517007204759\n",
            "loss at iteration 236000: 0.021762500258623637\n",
            "loss at iteration 238000: 0.014648418775350149\n",
            "\n",
            "epoch: 18\n",
            "loss at iteration 240000: 0.01790329273294407\n",
            "loss at iteration 242000: 0.017577684954193207\n",
            "loss at iteration 244000: 0.01687625691656722\n",
            "loss at iteration 246000: 0.01329373624612203\n",
            "loss at iteration 248000: 0.017655507908554604\n",
            "loss at iteration 250000: 0.01856228555224351\n",
            "loss at iteration 252000: 0.013568181130845416\n",
            "\n",
            "epoch: 19\n",
            "loss at iteration 254000: 0.020151293299836965\n",
            "loss at iteration 256000: 0.015488057179466707\n",
            "loss at iteration 258000: 0.018542538071400726\n",
            "loss at iteration 260000: 0.013414822859774194\n",
            "loss at iteration 262000: 0.016027416093312537\n",
            "loss at iteration 264000: 0.020913850833392075\n",
            "loss at iteration 266000: 0.01896256532228404\n",
            "\n",
            "epoch: 20\n",
            "loss at iteration 268000: 0.014446469130651953\n",
            "loss at iteration 270000: 0.018188051096152333\n",
            "loss at iteration 272000: 0.019551732018950253\n",
            "loss at iteration 274000: 0.015557825994585541\n",
            "loss at iteration 276000: 0.017920635425333443\n",
            "loss at iteration 278000: 0.018475298013554232\n",
            "loss at iteration 280000: 0.013531477488515993\n",
            "\n",
            "epoch: 21\n",
            "loss at iteration 282000: 0.011614664931817153\n",
            "loss at iteration 284000: 0.016593375543572816\n",
            "loss at iteration 286000: 0.012522996550597848\n",
            "loss at iteration 288000: 0.015372292709280847\n",
            "loss at iteration 290000: 0.013012867207710724\n",
            "loss at iteration 292000: 0.017345448135217486\n",
            "loss at iteration 294000: 0.014030765080200276\n",
            "Train: new_F: 0.9930919790200844 best_F: 0.9902577330576222 \n",
            "Val: new_F: 0.9179280188361925 best_F: 0.9214448092952766 \n",
            "Test: new_F: 0.8746676121255096 best_F: 0.874612317235268 \n",
            "\n",
            "epoch: 22\n",
            "loss at iteration 296000: 0.013252280645971781\n",
            "loss at iteration 298000: 0.011985553309590481\n",
            "loss at iteration 300000: 0.01804447066862444\n",
            "loss at iteration 302000: 0.013369240001118752\n",
            "loss at iteration 304000: 0.012278319425899149\n",
            "loss at iteration 306000: 0.01329772606867063\n",
            "loss at iteration 308000: 0.015960941756089853\n",
            "Train: new_F: 0.9941580316404418 best_F: 0.9930919790200844 \n",
            "Val: new_F: 0.9178370195946514 best_F: 0.9214448092952766 \n",
            "Test: new_F: 0.8751107174490699 best_F: 0.8746676121255096 \n",
            "\n",
            "epoch: 23\n",
            "loss at iteration 310000: 0.012073943008469033\n",
            "loss at iteration 312000: 0.015282179219549523\n",
            "loss at iteration 314000: 0.010768944803748024\n",
            "loss at iteration 316000: 0.011727211632574742\n",
            "loss at iteration 318000: 0.012038699482201497\n",
            "loss at iteration 320000: 0.012894902617198799\n",
            "loss at iteration 322000: 0.015667212712260976\n",
            "Train: new_F: 0.9945604641737239 best_F: 0.9941580316404418 \n",
            "Val: new_F: 0.9183260209247384 best_F: 0.9214448092952766 \n",
            "Test: new_F: 0.8760242251514071 best_F: 0.8751107174490699 \n",
            "\n",
            "epoch: 24\n",
            "loss at iteration 324000: 0.012151773343494604\n",
            "loss at iteration 326000: 0.009782427934151312\n",
            "loss at iteration 328000: 0.011469554529006028\n",
            "loss at iteration 330000: 0.011328054044155761\n",
            "loss at iteration 332000: 0.010391787172058195\n",
            "loss at iteration 334000: 0.010994887254756865\n",
            "loss at iteration 336000: 0.014112289046637035\n",
            "Train: new_F: 0.9947952218430034 best_F: 0.9945604641737239 \n",
            "Val: new_F: 0.9203002445812599 best_F: 0.9214448092952766 \n",
            "Test: new_F: 0.87546699875467 best_F: 0.8760242251514071 \n",
            "\n",
            "epoch: 25\n",
            "loss at iteration 338000: 0.01851176764596988\n",
            "loss at iteration 340000: 0.00834047658904716\n",
            "loss at iteration 342000: 0.011032650124303567\n",
            "loss at iteration 344000: 0.016566925241772317\n",
            "loss at iteration 346000: 0.009632769005092648\n",
            "loss at iteration 348000: 0.008355813324506191\n",
            "loss at iteration 350000: 0.014455775404612032\n",
            "Train: new_F: 0.9950093840641528 best_F: 0.9947952218430034 \n",
            "Val: new_F: 0.9207018727855576 best_F: 0.9214448092952766 \n",
            "Test: new_F: 0.8726755049381617 best_F: 0.8760242251514071 \n",
            "\n",
            "epoch: 26\n",
            "loss at iteration 352000: 0.010595486581214354\n",
            "loss at iteration 354000: 0.009532478282265793\n",
            "loss at iteration 356000: 0.012723554486753096\n",
            "loss at iteration 358000: 0.008372107530746662\n",
            "loss at iteration 360000: 0.010257961002446032\n",
            "loss at iteration 362000: 0.010203962958746895\n",
            "loss at iteration 364000: 0.015997819933940022\n",
            "Train: new_F: 0.9950528829750939 best_F: 0.9950093840641528 \n",
            "Val: new_F: 0.918278123423575 best_F: 0.9214448092952766 \n",
            "Test: new_F: 0.8753212228622066 best_F: 0.8760242251514071 \n",
            "\n",
            "epoch: 27\n",
            "loss at iteration 366000: 0.009732362164326361\n",
            "loss at iteration 368000: 0.0081642069770009\n",
            "loss at iteration 370000: 0.011447848143227222\n",
            "loss at iteration 372000: 0.009718670368086288\n",
            "loss at iteration 374000: 0.012003966003511926\n",
            "loss at iteration 376000: 0.009511570328070833\n",
            "loss at iteration 378000: 0.013551856179072619\n",
            "Train: new_F: 0.995392688025255 best_F: 0.9950528829750939 \n",
            "Val: new_F: 0.9172071085656531 best_F: 0.9214448092952766 \n",
            "Test: new_F: 0.8685917370057753 best_F: 0.8760242251514071 \n",
            "\n",
            "epoch: 28\n",
            "loss at iteration 380000: 0.00932548079121065\n",
            "loss at iteration 382000: 0.008476643551453063\n",
            "loss at iteration 384000: 0.006979519830662663\n",
            "loss at iteration 386000: 0.012392710607783027\n",
            "loss at iteration 388000: 0.01358920008143449\n",
            "loss at iteration 390000: 0.010865359472192906\n",
            "loss at iteration 392000: 0.01145248517188581\n",
            "Train: new_F: 0.9948604209763067 best_F: 0.995392688025255 \n",
            "Val: new_F: 0.9200404858299596 best_F: 0.9214448092952766 \n",
            "Test: new_F: 0.8740991191387134 best_F: 0.8760242251514071 \n",
            "\n",
            "epoch: 29\n",
            "loss at iteration 394000: 0.015047065996949148\n",
            "loss at iteration 396000: 0.009446473968338243\n",
            "loss at iteration 398000: 0.010910413447027529\n",
            "loss at iteration 400000: 0.0075729699141343695\n",
            "loss at iteration 402000: 0.007383563059026554\n",
            "loss at iteration 404000: 0.011312044749775358\n",
            "loss at iteration 406000: 0.007947018859419763\n",
            "Train: new_F: 0.995883896009725 best_F: 0.995392688025255 \n",
            "Val: new_F: 0.9243115391113363 best_F: 0.9214448092952766 \n",
            "Saving Model to /content/drive/MyDrive/NLPAssignment2/models/self-trained-model-lstm\n",
            "Test: new_F: 0.8781400320684125 best_F: 0.8760242251514071 \n",
            "\n",
            "epoch: 30\n",
            "loss at iteration 408000: 0.008072851715573072\n",
            "loss at iteration 410000: 0.012342802818649344\n",
            "loss at iteration 412000: 0.00834305126843788\n",
            "loss at iteration 414000: 0.009212901176831127\n",
            "loss at iteration 416000: 0.010403536922069155\n",
            "loss at iteration 418000: 0.010423765400980741\n",
            "loss at iteration 420000: 0.007760986871922256\n",
            "Train: new_F: 0.996502154161157 best_F: 0.995883896009725 \n",
            "Val: new_F: 0.9222465845842469 best_F: 0.9243115391113363 \n",
            "Test: new_F: 0.8743646901471244 best_F: 0.8781400320684125 \n",
            "\n",
            "epoch: 31\n",
            "loss at iteration 422000: 0.00896977244921184\n",
            "loss at iteration 424000: 0.011734393145928041\n",
            "loss at iteration 426000: 0.010509838807745074\n",
            "loss at iteration 428000: 0.011937642688245875\n",
            "loss at iteration 430000: 0.007253119291568204\n",
            "loss at iteration 432000: 0.007076452731959598\n",
            "loss at iteration 434000: 0.007642930713961017\n",
            "Train: new_F: 0.996524297929505 best_F: 0.996502154161157 \n",
            "Val: new_F: 0.922752927301828 best_F: 0.9243115391113363 \n",
            "Test: new_F: 0.878529568460309 best_F: 0.8781400320684125 \n",
            "\n",
            "epoch: 32\n",
            "loss at iteration 436000: 0.012656167109820258\n",
            "loss at iteration 438000: 0.015577240736627222\n",
            "loss at iteration 440000: 0.010017783301841231\n",
            "loss at iteration 442000: 0.010061842293955585\n",
            "loss at iteration 444000: 0.010321603574461307\n",
            "loss at iteration 446000: 0.012109284327641327\n",
            "loss at iteration 448000: 0.007899795289506536\n",
            "Train: new_F: 0.9966299803771009 best_F: 0.996524297929505 \n",
            "Val: new_F: 0.922752927301828 best_F: 0.9243115391113363 \n",
            "Test: new_F: 0.8785612535612536 best_F: 0.878529568460309 \n",
            "\n",
            "epoch: 33\n",
            "loss at iteration 450000: 0.008523961529569586\n",
            "loss at iteration 452000: 0.0077875872469599415\n",
            "loss at iteration 454000: 0.008780468162774838\n",
            "loss at iteration 456000: 0.007658258533158793\n",
            "loss at iteration 458000: 0.009155143464030785\n",
            "loss at iteration 460000: 0.007588579424388558\n",
            "loss at iteration 462000: 0.008405832986969147\n",
            "Train: new_F: 0.9968851339819083 best_F: 0.9966299803771009 \n",
            "Val: new_F: 0.9266768035141071 best_F: 0.9243115391113363 \n",
            "Saving Model to /content/drive/MyDrive/NLPAssignment2/models/self-trained-model-lstm\n",
            "Test: new_F: 0.8821795444394819 best_F: 0.8785612535612536 \n",
            "\n",
            "epoch: 34\n",
            "loss at iteration 464000: 0.007982591777561844\n",
            "loss at iteration 466000: 0.009012559587695078\n",
            "loss at iteration 468000: 0.007914182366201804\n",
            "loss at iteration 470000: 0.007575038871898778\n",
            "loss at iteration 472000: 0.010435269006834199\n",
            "loss at iteration 474000: 0.006189421561315515\n",
            "loss at iteration 476000: 0.009296342938870496\n",
            "Train: new_F: 0.9972271990444501 best_F: 0.9968851339819083 \n",
            "Val: new_F: 0.9243711617733658 best_F: 0.9266768035141071 \n",
            "Test: new_F: 0.8777195630938637 best_F: 0.8821795444394819 \n",
            "\n",
            "epoch: 35\n",
            "loss at iteration 478000: 0.006983019837931902\n",
            "loss at iteration 480000: 0.00881207339472042\n",
            "loss at iteration 482000: 0.009437844326745253\n",
            "loss at iteration 484000: 0.011693649690500994\n",
            "loss at iteration 486000: 0.009880095950153643\n",
            "loss at iteration 488000: 0.0076603484468212996\n",
            "loss at iteration 490000: 0.009403528358543281\n",
            "Train: new_F: 0.997142125917079 best_F: 0.9972271990444501 \n",
            "Val: new_F: 0.9243584350021035 best_F: 0.9266768035141071 \n",
            "Test: new_F: 0.8758968907786341 best_F: 0.8821795444394819 \n",
            "\n",
            "epoch: 36\n",
            "loss at iteration 492000: 0.00633335174381789\n",
            "loss at iteration 494000: 0.006468768974771715\n",
            "loss at iteration 496000: 0.009350703725392321\n",
            "loss at iteration 498000: 0.005296247188458657\n",
            "loss at iteration 500000: 0.00908053264555274\n",
            "loss at iteration 502000: 0.0068601281476638395\n",
            "loss at iteration 504000: 0.010094110477384488\n",
            "Train: new_F: 0.9975045323664283 best_F: 0.9972271990444501 \n",
            "Val: new_F: 0.9223390828775768 best_F: 0.9266768035141071 \n",
            "Test: new_F: 0.8774262164318 best_F: 0.8821795444394819 \n",
            "\n",
            "epoch: 37\n",
            "loss at iteration 506000: 0.007912428942130487\n",
            "loss at iteration 508000: 0.008212760052012831\n",
            "loss at iteration 510000: 0.006219537401439029\n",
            "loss at iteration 512000: 0.009796493798574016\n",
            "loss at iteration 514000: 0.007105038314394931\n",
            "loss at iteration 516000: 0.008530741714874881\n",
            "loss at iteration 518000: 0.004840101281623017\n",
            "Train: new_F: 0.9972275538494348 best_F: 0.9975045323664283 \n",
            "Val: new_F: 0.9245680573114201 best_F: 0.9266768035141071 \n",
            "Test: new_F: 0.8792459541170194 best_F: 0.8821795444394819 \n",
            "\n",
            "epoch: 38\n",
            "loss at iteration 520000: 0.008760772397595378\n",
            "loss at iteration 522000: 0.007246694277834871\n",
            "loss at iteration 524000: 0.007212319791820912\n",
            "loss at iteration 526000: 0.0050082430019157635\n",
            "loss at iteration 528000: 0.009504128793894378\n",
            "loss at iteration 530000: 0.008496649197002356\n",
            "loss at iteration 532000: 0.007701507657875908\n",
            "Train: new_F: 0.9976965405451521 best_F: 0.9975045323664283 \n",
            "Val: new_F: 0.9216776149570489 best_F: 0.9266768035141071 \n",
            "Test: new_F: 0.8777234326367274 best_F: 0.8821795444394819 \n",
            "\n",
            "epoch: 39\n",
            "loss at iteration 534000: 0.007067199546817147\n",
            "loss at iteration 536000: 0.006911471494811833\n",
            "loss at iteration 538000: 0.007010310309879964\n",
            "loss at iteration 540000: 0.007536700923470454\n",
            "loss at iteration 542000: 0.006578362824646868\n",
            "loss at iteration 544000: 0.00926451973097883\n",
            "loss at iteration 546000: 0.006745573752239042\n",
            "Train: new_F: 0.9972918221558801 best_F: 0.9976965405451521 \n",
            "Val: new_F: 0.9235813366960908 best_F: 0.9266768035141071 \n",
            "Test: new_F: 0.8785378404755568 best_F: 0.8821795444394819 \n",
            "\n",
            "epoch: 40\n",
            "loss at iteration 548000: 0.007945644646241142\n",
            "loss at iteration 550000: 0.008395335671425131\n",
            "loss at iteration 552000: 0.007178948835577095\n",
            "loss at iteration 554000: 0.010940607025928778\n",
            "loss at iteration 556000: 0.006065445162661925\n",
            "loss at iteration 558000: 0.006113524849111394\n",
            "loss at iteration 560000: 0.007323489009879013\n",
            "Train: new_F: 0.9975473991767793 best_F: 0.9976965405451521 \n",
            "Val: new_F: 0.9234655215963627 best_F: 0.9266768035141071 \n",
            "Test: new_F: 0.8802985870434551 best_F: 0.8821795444394819 \n",
            "\n",
            "epoch: 41\n",
            "loss at iteration 562000: 0.006023224047708493\n",
            "loss at iteration 564000: 0.010186972466765436\n",
            "loss at iteration 566000: 0.010017045119315686\n",
            "loss at iteration 568000: 0.005245420692826455\n",
            "loss at iteration 570000: 0.007750050886767425\n",
            "loss at iteration 572000: 0.007590299819090858\n",
            "loss at iteration 574000: 0.00684841530090987\n",
            "Train: new_F: 0.9980381285452297 best_F: 0.9976965405451521 \n",
            "Val: new_F: 0.9260006727211572 best_F: 0.9266768035141071 \n",
            "Test: new_F: 0.8779621904677377 best_F: 0.8821795444394819 \n",
            "\n",
            "epoch: 42\n",
            "loss at iteration 576000: 0.005508582380303187\n",
            "loss at iteration 578000: 0.008396768471601774\n",
            "loss at iteration 580000: 0.005176369131173397\n",
            "loss at iteration 582000: 0.006926725521124804\n",
            "loss at iteration 584000: 0.007055342131828347\n",
            "loss at iteration 586000: 0.005470931873863833\n",
            "loss at iteration 588000: 0.007729627337247275\n",
            "Train: new_F: 0.9978887206500181 best_F: 0.9980381285452297 \n",
            "Val: new_F: 0.9237637941201247 best_F: 0.9266768035141071 \n",
            "Test: new_F: 0.8780574579738505 best_F: 0.8821795444394819 \n",
            "\n",
            "epoch: 43\n",
            "loss at iteration 590000: 0.00587972268159082\n",
            "loss at iteration 592000: 0.004307280676942086\n",
            "loss at iteration 594000: 0.006427604706787703\n",
            "loss at iteration 596000: 0.006176586821602628\n",
            "loss at iteration 598000: 0.007668593061899128\n",
            "loss at iteration 600000: 0.006221704651041953\n",
            "loss at iteration 602000: 0.006061693522875391\n",
            "Train: new_F: 0.9978460685419376 best_F: 0.9980381285452297 \n",
            "Val: new_F: 0.9240346597122907 best_F: 0.9266768035141071 \n",
            "Test: new_F: 0.8796090626388272 best_F: 0.8821795444394819 \n",
            "\n",
            "epoch: 44\n",
            "loss at iteration 604000: 0.005472911409686294\n",
            "loss at iteration 606000: 0.007830470644842404\n",
            "loss at iteration 608000: 0.004978182845085903\n",
            "loss at iteration 610000: 0.008053571145409782\n",
            "loss at iteration 612000: 0.005529466212653121\n",
            "loss at iteration 614000: 0.0051704133547338625\n",
            "loss at iteration 616000: 0.004822832399441699\n",
            "Train: new_F: 0.9980802866771896 best_F: 0.9980381285452297 \n",
            "Val: new_F: 0.9218723690857047 best_F: 0.9266768035141071 \n",
            "Test: new_F: 0.8751778093883358 best_F: 0.8821795444394819 \n",
            "\n",
            "epoch: 45\n",
            "loss at iteration 618000: 0.0063660595186391155\n",
            "loss at iteration 620000: 0.007884546869690118\n",
            "loss at iteration 622000: 0.008238316537958817\n",
            "loss at iteration 624000: 0.00723482544916992\n",
            "loss at iteration 626000: 0.0048188431704449175\n",
            "loss at iteration 628000: 0.004794649414101816\n",
            "loss at iteration 630000: 0.004619469456693619\n",
            "Train: new_F: 0.9981443167032827 best_F: 0.9980802866771896 \n",
            "Val: new_F: 0.9250989973881538 best_F: 0.9266768035141071 \n",
            "Test: new_F: 0.8784180992250825 best_F: 0.8821795444394819 \n",
            "\n",
            "epoch: 46\n",
            "loss at iteration 632000: 0.006947468392020166\n",
            "loss at iteration 634000: 0.005577066917087864\n",
            "loss at iteration 636000: 0.007154494343878452\n",
            "loss at iteration 638000: 0.00898852755471011\n",
            "loss at iteration 640000: 0.00882434640722212\n",
            "loss at iteration 642000: 0.00449096051499552\n",
            "loss at iteration 644000: 0.008243983071946844\n",
            "Train: new_F: 0.9982723685613736 best_F: 0.9981443167032827 \n",
            "Val: new_F: 0.9218079286255366 best_F: 0.9266768035141071 \n",
            "Test: new_F: 0.8764543920419221 best_F: 0.8821795444394819 \n",
            "\n",
            "epoch: 47\n",
            "loss at iteration 646000: 0.006948630258980134\n",
            "loss at iteration 648000: 0.006148017103066788\n",
            "loss at iteration 650000: 0.005957246754770592\n",
            "loss at iteration 652000: 0.005356098750539705\n",
            "loss at iteration 654000: 0.004874429885609932\n",
            "loss at iteration 656000: 0.007033299327793326\n",
            "loss at iteration 658000: 0.005913715040118871\n",
            "Train: new_F: 0.9981442375375952 best_F: 0.9982723685613736 \n",
            "Val: new_F: 0.9225067385444743 best_F: 0.9266768035141071 \n",
            "Test: new_F: 0.8782918149466192 best_F: 0.8821795444394819 \n",
            "\n",
            "epoch: 48\n",
            "loss at iteration 660000: 0.009844001751029266\n",
            "loss at iteration 662000: 0.005181349971270888\n",
            "loss at iteration 664000: 0.0046391383967703485\n",
            "loss at iteration 666000: 0.0045307832138683874\n",
            "loss at iteration 668000: 0.007763274099840532\n",
            "loss at iteration 670000: 0.00709487549435016\n",
            "loss at iteration 672000: 0.007275643004315862\n",
            "Train: new_F: 0.9983363194266701 best_F: 0.9982723685613736 \n",
            "Val: new_F: 0.9229475100942128 best_F: 0.9266768035141071 \n",
            "Test: new_F: 0.8794956042980197 best_F: 0.8821795444394819 \n",
            "\n",
            "epoch: 49\n",
            "loss at iteration 674000: 0.006131300704256899\n",
            "loss at iteration 676000: 0.005751314030824356\n",
            "loss at iteration 678000: 0.004699574179871028\n",
            "loss at iteration 680000: 0.007124986380002522\n",
            "loss at iteration 682000: 0.007221432642105968\n",
            "loss at iteration 684000: 0.004370131835073993\n",
            "loss at iteration 686000: 0.0053865281032562055\n",
            "loss at iteration 688000: 0.0075546781068754855\n",
            "Train: new_F: 0.9984855917923341 best_F: 0.9983363194266701 \n",
            "Val: new_F: 0.9216263995285799 best_F: 0.9266768035141071 \n",
            "Test: new_F: 0.8780877910076418 best_F: 0.8821795444394819 \n",
            "time taken: 10854.733521938324\n"
          ],
          "name": "stdout"
        }
      ]
    },
    {
      "cell_type": "code",
      "metadata": {
        "colab": {
          "base_uri": "https://localhost:8080/",
          "height": 279
        },
        "id": "sTuQfwGM6f_f",
        "outputId": "3061e07d-606f-4ffd-8133-827a89bcdcd3"
      },
      "source": [
        "plt.plot(losses)\n",
        "plt.xlabel('step (1 step = 2000 iterations)')\n",
        "plt.ylabel('loss (negative log likelihood)')\n",
        "plt.show()"
      ],
      "execution_count": 39,
      "outputs": [
        {
          "output_type": "display_data",
          "data": {
            "image/png": "[encoded data removed]",
            "text/plain": [
              "<Figure size 432x288 with 1 Axes>"
            ]
          },
          "metadata": {
            "tags": [],
            "needs_background": "light"
          }
        }
      ]
    },
    {
      "cell_type": "code",
      "metadata": {
        "colab": {
          "base_uri": "https://localhost:8080/",
          "height": 279
        },
        "id": "SAH0y5gNkCC7",
        "outputId": "45ebac6b-02a8-4c7f-af5f-370e23dc48d1"
      },
      "source": [
        "# plot F scores\n",
        "evaluation_steps = list(range(len(all_F)))\n",
        "\n",
        "train_F_scores = []\n",
        "val_F_scores = []\n",
        "test_F_scores = []\n",
        "\n",
        "for scores in all_F:\n",
        "    train_F_scores.append(scores[0])\n",
        "    val_F_scores.append(scores[1])\n",
        "    test_F_scores.append(scores[2])\n",
        "\n",
        "plt.plot(evaluation_steps, train_F_scores, label='train')\n",
        "plt.plot(evaluation_steps, val_F_scores, label='val')\n",
        "plt.plot(evaluation_steps, test_F_scores, label='test')\n",
        "\n",
        "plt.legend()\n",
        "plt.xlabel('evaluation step')\n",
        "plt.ylabel('F1-scores')\n",
        "\n",
        "plt.show()"
      ],
      "execution_count": 43,
      "outputs": [
        {
          "output_type": "display_data",
          "data": {
            "image/png": "[encoded data removed]",
            "text/plain": [
              "<Figure size 432x288 with 1 Axes>"
            ]
          },
          "metadata": {
            "tags": [],
            "needs_background": "light"
          }
        }
      ]
    },
    {
      "cell_type": "markdown",
      "metadata": {
        "id": "j3wM4Lkc8Bvk"
      },
      "source": [
        "### Model Testing\n",
        "\n",
        "This is where we provide our readers with some fun, they can try out how the trained model functions on the sentences that you throw at it. Feel free to play around.\n",
        "\n",
        "\n",
        "##### LIVE: PRODUCTION!"
      ]
    },
    {
      "cell_type": "code",
      "metadata": {
        "id": "rd73KZz38Bvk",
        "colab": {
          "base_uri": "https://localhost:8080/"
        },
        "outputId": "b89c663b-4922-4353-92e6-952310206238"
      },
      "source": [
        "model_testing_sentences = [\n",
        "    'NTU is a university in Singapore',\n",
        "    'The Moon completes one revolution around the Earth in about 28 days',\n",
        "    'Singapore is part of Southeast Asia and ASEAN',\n",
        "    'The capital of England is London',\n",
        "    'Lee Kuan Yew was the first prime minister of Singapore',\n",
        "    'George Washington was the first president of USA',\n",
        "    'Bill Gates and his wife set up the Bill & Melinda Gates Foundation'\n",
        "]\n",
        "\n",
        "# parameters\n",
        "lower = parameters['lower']\n",
        "\n",
        "# preprocessing\n",
        "final_test_data = []\n",
        "for sentence in model_testing_sentences:\n",
        "    str_words = sentence.split()\n",
        "    words = [\n",
        "        word_to_id[lower_case(w,lower)\n",
        "        if lower_case(w,lower) in word_to_id else '<UNK>']\n",
        "        for w in str_words\n",
        "    ]\n",
        "    \n",
        "    # Skip characters that are not in the training set\n",
        "    chars = [\n",
        "        [char_to_id[c] for c in w if c in char_to_id]\n",
        "        for w in str_words\n",
        "    ]\n",
        "    \n",
        "    final_test_data.append({\n",
        "        'str_words': str_words,\n",
        "        'words': words,\n",
        "        'chars': chars,\n",
        "    })\n",
        "\n",
        "# prediction\n",
        "predictions = []\n",
        "print('Prediction:')\n",
        "print('word : tag')\n",
        "print('----------')\n",
        "\n",
        "for data in final_test_data:\n",
        "    words = data['str_words']\n",
        "    chars2 = data['chars']\n",
        "\n",
        "    d = {} \n",
        "    \n",
        "    # Padding the each word to max word size of that sentence\n",
        "    chars2_length = [len(c) for c in chars2]\n",
        "    char_maxl = max(chars2_length)\n",
        "    chars2_mask = np.zeros((len(chars2_length), char_maxl), dtype='int')\n",
        "    for i, c in enumerate(chars2):\n",
        "        chars2_mask[i, :chars2_length[i]] = c\n",
        "    chars2_mask = Variable(torch.LongTensor(chars2_mask))\n",
        "\n",
        "    dwords = Variable(torch.LongTensor(data['words']))\n",
        "\n",
        "    # We are getting the predicted output from our model\n",
        "    if use_gpu:\n",
        "        val,predicted_id = model(dwords.cuda(), chars2_mask.cuda(), chars2_length, d)\n",
        "    else:\n",
        "        val,predicted_id = model(dwords, chars2_mask, chars2_length, d)\n",
        "\n",
        "    pred_chunks = get_chunks(predicted_id,tag_to_id)\n",
        "    temp_list_tags=['NA']*len(words)\n",
        "    for p in pred_chunks:\n",
        "        temp_list_tags[p[1]]=p[0]\n",
        "        \n",
        "    for word,tag in zip(words,temp_list_tags):\n",
        "        print(word,':',tag)\n",
        "    print('\\n')"
      ],
      "execution_count": 44,
      "outputs": [
        {
          "output_type": "stream",
          "text": [
            "Prediction:\n",
            "word : tag\n",
            "----------\n",
            "NTU : PER\n",
            "is : NA\n",
            "a : NA\n",
            "university : NA\n",
            "in : NA\n",
            "Singapore : LOC\n",
            "\n",
            "\n",
            "The : NA\n",
            "Moon : ORG\n",
            "completes : NA\n",
            "one : NA\n",
            "revolution : NA\n",
            "around : NA\n",
            "the : NA\n",
            "Earth : ORG\n",
            "in : NA\n",
            "about : NA\n",
            "28 : NA\n",
            "days : NA\n",
            "\n",
            "\n",
            "Singapore : LOC\n",
            "is : NA\n",
            "part : NA\n",
            "of : NA\n",
            "Southeast : LOC\n",
            "Asia : NA\n",
            "and : NA\n",
            "ASEAN : ORG\n",
            "\n",
            "\n",
            "The : NA\n",
            "capital : NA\n",
            "of : NA\n",
            "England : LOC\n",
            "is : NA\n",
            "London : LOC\n",
            "\n",
            "\n",
            "Lee : PER\n",
            "Kuan : NA\n",
            "Yew : NA\n",
            "was : NA\n",
            "the : NA\n",
            "first : NA\n",
            "prime : NA\n",
            "minister : NA\n",
            "of : NA\n",
            "Singapore : LOC\n",
            "\n",
            "\n",
            "George : PER\n",
            "Washington : NA\n",
            "was : NA\n",
            "the : NA\n",
            "first : NA\n",
            "president : NA\n",
            "of : NA\n",
            "USA : LOC\n",
            "\n",
            "\n",
            "Bill : PER\n",
            "Gates : NA\n",
            "and : NA\n",
            "his : NA\n",
            "wife : NA\n",
            "set : NA\n",
            "up : NA\n",
            "the : NA\n",
            "Bill : ORG\n",
            "& : NA\n",
            "Melinda : NA\n",
            "Gates : NA\n",
            "Foundation : NA\n",
            "\n",
            "\n"
          ],
          "name": "stdout"
        }
      ]
    },
    {
      "cell_type": "markdown",
      "metadata": {
        "id": "Wi_4XOiA8Bvl"
      },
      "source": [
        "### References"
      ]
    },
    {
      "cell_type": "markdown",
      "metadata": {
        "id": "WC7KwUzH8Bvl"
      },
      "source": [
        "1) Xuezhe Ma and Eduard Hovy. 2016. ** End-to-end Sequence Labeling via Bi-directional LSTM-CNNs-CRF .** In Proceedings of the 54th Annual Meeting of the Association for Computational Linguistics (Volume 1: LongPapers). Association for Computational Linguistics, Berlin, Germany ** (https://arxiv.org/pdf/1603.01354.pdf) **\n",
        "\n",
        "2) Official PyTorch Tutorial : [** Advanced: Making Dynamic Decisions and the Bi-LSTM CRF **](http://pytorch.org/tutorials/beginner/nlp/advanced_tutorial.html#sphx-glr-beginner-nlp-advanced-tutorial-py)\n",
        "\n",
        "3) [** Sequence Tagging with Tensorflow **](https://guillaumegenthial.github.io/sequence-tagging-with-tensorflow.html)  using bi-LSTM + CRF with character embeddings for NER and POS by Guillaume Genthial\n",
        "\n",
        "4) Github Repository - [** Reference Github Repository **](https://github.com/jayavardhanr/End-to-end-Sequence-Labeling-via-Bi-directional-LSTM-CNNs-CRF-Tutorial)\n"
      ]
    }
  ]
}