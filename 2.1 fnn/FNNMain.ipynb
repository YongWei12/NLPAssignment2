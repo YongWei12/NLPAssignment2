{
 "cells": [
  {
   "cell_type": "markdown",
   "metadata": {
    "id": "bahPjR3cTqaN"
   },
   "source": [
    "# Import and declaring certain arguments"
   ]
  },
  {
   "cell_type": "code",
   "execution_count": 1,
   "metadata": {
    "executionInfo": {
     "elapsed": 5618,
     "status": "ok",
     "timestamp": 1606635726018,
     "user": {
      "displayName": "yong wei",
      "photoUrl": "https://lh3.googleusercontent.com/a-/AOh14GhYJ6D3p-i8GPWEqh4u2s4VniV_lHZd6l3-eHSaqA=s64",
      "userId": "07110467073693299033"
     },
     "user_tz": -480
    },
    "id": "NZqzJsCjTXu_"
   },
   "outputs": [],
   "source": [
    "# coding: utf-8\n",
    "import argparse\n",
    "import time\n",
    "import math\n",
    "import os\n",
    "import torch\n",
    "import torch.nn as nn\n",
    "import torch.onnx\n",
    "import data\n",
    "import model\n",
    "import torch.optim as optim\n",
    "import matplotlib.pyplot as plt\n",
    "import numpy as np\n",
    "import math"
   ]
  },
  {
   "cell_type": "code",
   "execution_count": 2,
   "metadata": {
    "executionInfo": {
     "elapsed": 5468,
     "status": "ok",
     "timestamp": 1606635726020,
     "user": {
      "displayName": "yong wei",
      "photoUrl": "https://lh3.googleusercontent.com/a-/AOh14GhYJ6D3p-i8GPWEqh4u2s4VniV_lHZd6l3-eHSaqA=s64",
      "userId": "07110467073693299033"
     },
     "user_tz": -480
    },
    "id": "ogqV14bhTkAV"
   },
   "outputs": [],
   "source": [
    "\n",
    "class Args:\n",
    "  data = './data/wikitext-2'\n",
    "  model = 'FNNModel'\n",
    "  emsize = 200\n",
    "  context_size = 8\n",
    "  nhid = 200\n",
    "  nlayers = 2\n",
    "  lr = 20\n",
    "  clip = 0.25\n",
    "  epochs = 40\n",
    "  batch_size = 8\n",
    "  bptt = 35\n",
    "  dropout = 0.2\n",
    "  tied = True\n",
    "  seed = 1111\n",
    "  cuda = True\n",
    "  log_interval = 200\n",
    "  save = 'model.pt'\n",
    "  onnx_export = ''\n",
    "  nhead = 2\n",
    "  dry_run =  True\n",
    "\n",
    "args=Args()"
   ]
  },
  {
   "cell_type": "code",
   "execution_count": 3,
   "metadata": {
    "executionInfo": {
     "elapsed": 5333,
     "status": "ok",
     "timestamp": 1606635726021,
     "user": {
      "displayName": "yong wei",
      "photoUrl": "https://lh3.googleusercontent.com/a-/AOh14GhYJ6D3p-i8GPWEqh4u2s4VniV_lHZd6l3-eHSaqA=s64",
      "userId": "07110467073693299033"
     },
     "user_tz": -480
    },
    "id": "x1HKajQETmPN"
   },
   "outputs": [],
   "source": [
    "torch.manual_seed(args.seed)\n",
    "if torch.cuda.is_available():\n",
    "    if not args.cuda:\n",
    "        print(\"WARNING: You have a CUDA device, so you should probably run with --cuda\")\n",
    "\n",
    "device = torch.device(\"cuda\" if args.cuda else \"cpu\")\n",
    "\n"
   ]
  },
  {
   "cell_type": "markdown",
   "metadata": {
    "id": "Os7w9It9TzTz"
   },
   "source": [
    "# Loading the data"
   ]
  },
  {
   "cell_type": "code",
   "execution_count": 4,
   "metadata": {
    "executionInfo": {
     "elapsed": 8219,
     "status": "ok",
     "timestamp": 1606635729217,
     "user": {
      "displayName": "yong wei",
      "photoUrl": "https://lh3.googleusercontent.com/a-/AOh14GhYJ6D3p-i8GPWEqh4u2s4VniV_lHZd6l3-eHSaqA=s64",
      "userId": "07110467073693299033"
     },
     "user_tz": -480
    },
    "id": "EVggFpzQToVN"
   },
   "outputs": [],
   "source": [
    "###############################################################################\n",
    "# Load data\n",
    "###############################################################################\n",
    "\n",
    "corpus = data.Corpus(args.data)\n",
    "\n",
    "# Starting from sequential data, batchify arranges the dataset into columns.\n",
    "# For instance, with the alphabet as the sequence and batch size 4, we'd get\n",
    "# ┌ a g m s ┐\n",
    "# │ b h n t │\n",
    "# │ c i o u │\n",
    "# │ d j p v │\n",
    "# │ e k q w │\n",
    "# └ f l r x ┘.\n",
    "# These columns are treated as independent by the model, which means that the\n",
    "# dependence of e. g. 'g' on 'f' can not be learned, but allows more efficient\n",
    "# batch processing.\n"
   ]
  },
  {
   "cell_type": "code",
   "execution_count": 5,
   "metadata": {
    "colab": {
     "base_uri": "https://localhost:8080/"
    },
    "executionInfo": {
     "elapsed": 7086,
     "status": "ok",
     "timestamp": 1606635729218,
     "user": {
      "displayName": "yong wei",
      "photoUrl": "https://lh3.googleusercontent.com/a-/AOh14GhYJ6D3p-i8GPWEqh4u2s4VniV_lHZd6l3-eHSaqA=s64",
      "userId": "07110467073693299033"
     },
     "user_tz": -480
    },
    "id": "q0qGqrxwskp4",
    "outputId": "1ece5a0b-6ebf-4d23-d552-845bfc234cac"
   },
   "outputs": [
    {
     "name": "stdout",
     "output_type": "stream",
     "text": [
      "tensor([    0,     1,     2,     3,     4,     1,     0,     0,     5,     6,\n",
      "            2,     7,     8,     9,     3,    10,    11,     8,    12,    13,\n",
      "           14,    15,     2,    16,    17,    18,     7,    19,    13,    20,\n",
      "           21,    22,    23,     2,     3,     4,    24,    25,    13,    26,\n",
      "           27,    28,    29,    30,    31,    32,    33,    34,    35,    36,\n",
      "           37,    38,    39,    17,    40,    41,    15,    42,    43,    44,\n",
      "           45,    43,    25,    13,    46,    26,    17,    47,    33,    43,\n",
      "           17,     2,    48,    15,     9,    17,    49,    50,    16,    28,\n",
      "           37,    51,    30,    52,    53,    23,    54,    55,    13,    17,\n",
      "           56,    57,    58,    22,    17,    59,    33,    37,    60,    17,\n",
      "         ...,    93,   622,    22,  5002,    78,  6656,  7628,    43,   293,\n",
      "         1043,    15,  5277,  4726,   284, 23960,    26,   494,   489,   151,\n",
      "        27535,   348,  4737,    43, 17444,    39,    17,  2532,   212,  6014,\n",
      "          212,   348,   581,   721,  7990,    15,     0,  6963, 32212,    78,\n",
      "        15399,    39,  5833,    43,   246,  4854,  2490,    15,    83,  9616,\n",
      "           26, 10660,    37,    16,   159,   915,    13,   494,    46,    26,\n",
      "            9,   310,   665,   154,     9,    15,   491, 23123,   819,    46,\n",
      "         1222,   209,     9,    61,   525,  7096,    13,   564,  1362,   151,\n",
      "         1575,   209,    61,    15,  5824,   221, 11403,  1571,    13,    46,\n",
      "         1575,   808,   209,  3083,    23,   147,  2234,  2112,    15,     0,\n",
      "            0])\n"
     ]
    }
   ],
   "source": [
    "torch.set_printoptions(edgeitems=100)\n",
    "print(corpus.train)"
   ]
  },
  {
   "cell_type": "code",
   "execution_count": 6,
   "metadata": {
    "executionInfo": {
     "elapsed": 5275,
     "status": "ok",
     "timestamp": 1606635729218,
     "user": {
      "displayName": "yong wei",
      "photoUrl": "https://lh3.googleusercontent.com/a-/AOh14GhYJ6D3p-i8GPWEqh4u2s4VniV_lHZd6l3-eHSaqA=s64",
      "userId": "07110467073693299033"
     },
     "user_tz": -480
    },
    "id": "tUDx6VSxT4Dq"
   },
   "outputs": [],
   "source": [
    "# # we want to return a tensor with ascending batch \n",
    "\n",
    "# def batchify(data, bsz):\n",
    "#     # Work out how cleanly we can divide the dataset into bsz parts.\n",
    "#     nbatch = data.size(0) // bsz\n",
    "#     # Trim off any extra elements that wouldn't cleanly fit (remainders).\n",
    "#     data = data.narrow(0, 0, nbatch * bsz)\n",
    "#     # Evenly divide the data across the bsz batches.\n",
    "#     data = data.view(-1, bsz).contiguous()\n",
    "#     return data.to(device)\n",
    "\n",
    "# eval_batch_size = 8\n",
    "# train_data = batchify(corpus.train, args.batch_size)\n",
    "# val_data = batchify(corpus.valid, eval_batch_size)\n",
    "# test_data = batchify(corpus.test, eval_batch_size)"
   ]
  },
  {
   "cell_type": "code",
   "execution_count": 7,
   "metadata": {
    "executionInfo": {
     "elapsed": 4220,
     "status": "ok",
     "timestamp": 1606635729219,
     "user": {
      "displayName": "yong wei",
      "photoUrl": "https://lh3.googleusercontent.com/a-/AOh14GhYJ6D3p-i8GPWEqh4u2s4VniV_lHZd6l3-eHSaqA=s64",
      "userId": "07110467073693299033"
     },
     "user_tz": -480
    },
    "id": "UgnCUtQgskp6"
   },
   "outputs": [],
   "source": [
    "def batchify(data, bsz):\n",
    "    value=[]\n",
    "    data = data.numpy()\n",
    "    for i,word in enumerate(data):\n",
    "        if i+bsz>= len(data):\n",
    "            # sentence boundary reached\n",
    "            # ignoring sentence less than 3 words\n",
    "            break\n",
    "        # convert word to id\n",
    "        value1 = []\n",
    "        for j in range(bsz+1):\n",
    "            value1.append(data[i+j])\n",
    "        value.append(value1)\n",
    "    value = torch.LongTensor(value)\n",
    "    return value.to(device)"
   ]
  },
  {
   "cell_type": "code",
   "execution_count": 8,
   "metadata": {
    "executionInfo": {
     "elapsed": 24137,
     "status": "ok",
     "timestamp": 1606635749311,
     "user": {
      "displayName": "yong wei",
      "photoUrl": "https://lh3.googleusercontent.com/a-/AOh14GhYJ6D3p-i8GPWEqh4u2s4VniV_lHZd6l3-eHSaqA=s64",
      "userId": "07110467073693299033"
     },
     "user_tz": -480
    },
    "id": "8aFmzNuDskp6"
   },
   "outputs": [],
   "source": [
    "eval_batch_size = 8\n",
    "train_data = batchify(corpus.train, args.context_size)\n",
    "val_data = batchify(corpus.valid, eval_batch_size)\n",
    "test_data = batchify(corpus.test, eval_batch_size)"
   ]
  },
  {
   "cell_type": "code",
   "execution_count": 9,
   "metadata": {
    "colab": {
     "base_uri": "https://localhost:8080/"
    },
    "executionInfo": {
     "elapsed": 23755,
     "status": "ok",
     "timestamp": 1606635749319,
     "user": {
      "displayName": "yong wei",
      "photoUrl": "https://lh3.googleusercontent.com/a-/AOh14GhYJ6D3p-i8GPWEqh4u2s4VniV_lHZd6l3-eHSaqA=s64",
      "userId": "07110467073693299033"
     },
     "user_tz": -480
    },
    "id": "5DwL5-hhskp6",
    "outputId": "50573950-cde3-4109-c904-19e807f218f5"
   },
   "outputs": [
    {
     "name": "stdout",
     "output_type": "stream",
     "text": [
      "tensor([[    0,     1,     2,     3,     4,     1,     0,     0,     5],\n",
      "        [    1,     2,     3,     4,     1,     0,     0,     5,     6],\n",
      "        [    2,     3,     4,     1,     0,     0,     5,     6,     2],\n",
      "        [    3,     4,     1,     0,     0,     5,     6,     2,     7],\n",
      "        [    4,     1,     0,     0,     5,     6,     2,     7,     8],\n",
      "        [    1,     0,     0,     5,     6,     2,     7,     8,     9],\n",
      "        [    0,     0,     5,     6,     2,     7,     8,     9,     3],\n",
      "        [    0,     5,     6,     2,     7,     8,     9,     3,    10],\n",
      "        [    5,     6,     2,     7,     8,     9,     3,    10,    11],\n",
      "        [    6,     2,     7,     8,     9,     3,    10,    11,     8],\n",
      "        [    2,     7,     8,     9,     3,    10,    11,     8,    12],\n",
      "        [    7,     8,     9,     3,    10,    11,     8,    12,    13],\n",
      "        [    8,     9,     3,    10,    11,     8,    12,    13,    14],\n",
      "        [    9,     3,    10,    11,     8,    12,    13,    14,    15],\n",
      "        [    3,    10,    11,     8,    12,    13,    14,    15,     2],\n",
      "        [   10,    11,     8,    12,    13,    14,    15,     2,    16],\n",
      "        [   11,     8,    12,    13,    14,    15,     2,    16,    17],\n",
      "        [    8,    12,    13,    14,    15,     2,    16,    17,    18],\n",
      "        [   12,    13,    14,    15,     2,    16,    17,    18,     7],\n",
      "        [   13,    14,    15,     2,    16,    17,    18,     7,    19],\n",
      "        [   14,    15,     2,    16,    17,    18,     7,    19,    13],\n",
      "        [   15,     2,    16,    17,    18,     7,    19,    13,    20],\n",
      "        [    2,    16,    17,    18,     7,    19,    13,    20,    21],\n",
      "        [   16,    17,    18,     7,    19,    13,    20,    21,    22],\n",
      "        [   17,    18,     7,    19,    13,    20,    21,    22,    23],\n",
      "        [   18,     7,    19,    13,    20,    21,    22,    23,     2],\n",
      "        [    7,    19,    13,    20,    21,    22,    23,     2,     3],\n",
      "        [   19,    13,    20,    21,    22,    23,     2,     3,     4],\n",
      "        [   13,    20,    21,    22,    23,     2,     3,     4,    24],\n",
      "        [   20,    21,    22,    23,     2,     3,     4,    24,    25],\n",
      "        [   21,    22,    23,     2,     3,     4,    24,    25,    13],\n",
      "        [   22,    23,     2,     3,     4,    24,    25,    13,    26],\n",
      "        [   23,     2,     3,     4,    24,    25,    13,    26,    27],\n",
      "        [    2,     3,     4,    24,    25,    13,    26,    27,    28],\n",
      "        [    3,     4,    24,    25,    13,    26,    27,    28,    29],\n",
      "        [    4,    24,    25,    13,    26,    27,    28,    29,    30],\n",
      "        [   24,    25,    13,    26,    27,    28,    29,    30,    31],\n",
      "        [   25,    13,    26,    27,    28,    29,    30,    31,    32],\n",
      "        [   13,    26,    27,    28,    29,    30,    31,    32,    33],\n",
      "        [   26,    27,    28,    29,    30,    31,    32,    33,    34],\n",
      "        [   27,    28,    29,    30,    31,    32,    33,    34,    35],\n",
      "        [   28,    29,    30,    31,    32,    33,    34,    35,    36],\n",
      "        [   29,    30,    31,    32,    33,    34,    35,    36,    37],\n",
      "        [   30,    31,    32,    33,    34,    35,    36,    37,    38],\n",
      "        [   31,    32,    33,    34,    35,    36,    37,    38,    39],\n",
      "        [   32,    33,    34,    35,    36,    37,    38,    39,    17],\n",
      "        [   33,    34,    35,    36,    37,    38,    39,    17,    40],\n",
      "        [   34,    35,    36,    37,    38,    39,    17,    40,    41],\n",
      "        [   35,    36,    37,    38,    39,    17,    40,    41,    15],\n",
      "        [   36,    37,    38,    39,    17,    40,    41,    15,    42],\n",
      "        [   37,    38,    39,    17,    40,    41,    15,    42,    43],\n",
      "        [   38,    39,    17,    40,    41,    15,    42,    43,    44],\n",
      "        [   39,    17,    40,    41,    15,    42,    43,    44,    45],\n",
      "        [   17,    40,    41,    15,    42,    43,    44,    45,    43],\n",
      "        [   40,    41,    15,    42,    43,    44,    45,    43,    25],\n",
      "        [   41,    15,    42,    43,    44,    45,    43,    25,    13],\n",
      "        [   15,    42,    43,    44,    45,    43,    25,    13,    46],\n",
      "        [   42,    43,    44,    45,    43,    25,    13,    46,    26],\n",
      "        [   43,    44,    45,    43,    25,    13,    46,    26,    17],\n",
      "        [   44,    45,    43,    25,    13,    46,    26,    17,    47],\n",
      "        [   45,    43,    25,    13,    46,    26,    17,    47,    33],\n",
      "        [   43,    25,    13,    46,    26,    17,    47,    33,    43],\n",
      "        [   25,    13,    46,    26,    17,    47,    33,    43,    17],\n",
      "        [   13,    46,    26,    17,    47,    33,    43,    17,     2],\n",
      "        [   46,    26,    17,    47,    33,    43,    17,     2,    48],\n",
      "        [   26,    17,    47,    33,    43,    17,     2,    48,    15],\n",
      "        [   17,    47,    33,    43,    17,     2,    48,    15,     9],\n",
      "        [   47,    33,    43,    17,     2,    48,    15,     9,    17],\n",
      "        [   33,    43,    17,     2,    48,    15,     9,    17,    49],\n",
      "        [   43,    17,     2,    48,    15,     9,    17,    49,    50],\n",
      "        [   17,     2,    48,    15,     9,    17,    49,    50,    16],\n",
      "        [    2,    48,    15,     9,    17,    49,    50,    16,    28],\n",
      "        [   48,    15,     9,    17,    49,    50,    16,    28,    37],\n",
      "        [   15,     9,    17,    49,    50,    16,    28,    37,    51],\n",
      "        [    9,    17,    49,    50,    16,    28,    37,    51,    30],\n",
      "        [   17,    49,    50,    16,    28,    37,    51,    30,    52],\n",
      "        [   49,    50,    16,    28,    37,    51,    30,    52,    53],\n",
      "        [   50,    16,    28,    37,    51,    30,    52,    53,    23],\n",
      "        [   16,    28,    37,    51,    30,    52,    53,    23,    54],\n",
      "        [   28,    37,    51,    30,    52,    53,    23,    54,    55],\n",
      "        [   37,    51,    30,    52,    53,    23,    54,    55,    13],\n",
      "        [   51,    30,    52,    53,    23,    54,    55,    13,    17],\n",
      "        [   30,    52,    53,    23,    54,    55,    13,    17,    56],\n",
      "        [   52,    53,    23,    54,    55,    13,    17,    56,    57],\n",
      "        [   53,    23,    54,    55,    13,    17,    56,    57,    58],\n",
      "        [   23,    54,    55,    13,    17,    56,    57,    58,    22],\n",
      "        [   54,    55,    13,    17,    56,    57,    58,    22,    17],\n",
      "        [   55,    13,    17,    56,    57,    58,    22,    17,    59],\n",
      "        [   13,    17,    56,    57,    58,    22,    17,    59,    33],\n",
      "        [   17,    56,    57,    58,    22,    17,    59,    33,    37],\n",
      "        [   56,    57,    58,    22,    17,    59,    33,    37,    60],\n",
      "        [   57,    58,    22,    17,    59,    33,    37,    60,    17],\n",
      "        [   58,    22,    17,    59,    33,    37,    60,    17,    61],\n",
      "        [   22,    17,    59,    33,    37,    60,    17,    61,    62],\n",
      "        [   17,    59,    33,    37,    60,    17,    61,    62,    61],\n",
      "        [   59,    33,    37,    60,    17,    61,    62,    61,    13],\n",
      "        [   33,    37,    60,    17,    61,    62,    61,    13,    27],\n",
      "        [   37,    60,    17,    61,    62,    61,    13,    27,    63],\n",
      "        [   60,    17,    61,    62,    61,    13,    27,    63,    64],\n",
      "        [   17,    61,    62,    61,    13,    27,    63,    64,    65],\n",
      "        ...,\n",
      "        [  212,  2163,  5907,   247,   423,   310,  1399,   247,    93],\n",
      "        [ 2163,  5907,   247,   423,   310,  1399,   247,    93,   622],\n",
      "        [ 5907,   247,   423,   310,  1399,   247,    93,   622,    22],\n",
      "        [  247,   423,   310,  1399,   247,    93,   622,    22,  5002],\n",
      "        [  423,   310,  1399,   247,    93,   622,    22,  5002,    78],\n",
      "        [  310,  1399,   247,    93,   622,    22,  5002,    78,  6656],\n",
      "        [ 1399,   247,    93,   622,    22,  5002,    78,  6656,  7628],\n",
      "        [  247,    93,   622,    22,  5002,    78,  6656,  7628,    43],\n",
      "        [   93,   622,    22,  5002,    78,  6656,  7628,    43,   293],\n",
      "        [  622,    22,  5002,    78,  6656,  7628,    43,   293,  1043],\n",
      "        [   22,  5002,    78,  6656,  7628,    43,   293,  1043,    15],\n",
      "        [ 5002,    78,  6656,  7628,    43,   293,  1043,    15,  5277],\n",
      "        [   78,  6656,  7628,    43,   293,  1043,    15,  5277,  4726],\n",
      "        [ 6656,  7628,    43,   293,  1043,    15,  5277,  4726,   284],\n",
      "        [ 7628,    43,   293,  1043,    15,  5277,  4726,   284, 23960],\n",
      "        [   43,   293,  1043,    15,  5277,  4726,   284, 23960,    26],\n",
      "        [  293,  1043,    15,  5277,  4726,   284, 23960,    26,   494],\n",
      "        [ 1043,    15,  5277,  4726,   284, 23960,    26,   494,   489],\n",
      "        [   15,  5277,  4726,   284, 23960,    26,   494,   489,   151],\n",
      "        [ 5277,  4726,   284, 23960,    26,   494,   489,   151, 27535],\n",
      "        [ 4726,   284, 23960,    26,   494,   489,   151, 27535,   348],\n",
      "        [  284, 23960,    26,   494,   489,   151, 27535,   348,  4737],\n",
      "        [23960,    26,   494,   489,   151, 27535,   348,  4737,    43],\n",
      "        [   26,   494,   489,   151, 27535,   348,  4737,    43, 17444],\n",
      "        [  494,   489,   151, 27535,   348,  4737,    43, 17444,    39],\n",
      "        [  489,   151, 27535,   348,  4737,    43, 17444,    39,    17],\n",
      "        [  151, 27535,   348,  4737,    43, 17444,    39,    17,  2532],\n",
      "        [27535,   348,  4737,    43, 17444,    39,    17,  2532,   212],\n",
      "        [  348,  4737,    43, 17444,    39,    17,  2532,   212,  6014],\n",
      "        [ 4737,    43, 17444,    39,    17,  2532,   212,  6014,   212],\n",
      "        [   43, 17444,    39,    17,  2532,   212,  6014,   212,   348],\n",
      "        [17444,    39,    17,  2532,   212,  6014,   212,   348,   581],\n",
      "        [   39,    17,  2532,   212,  6014,   212,   348,   581,   721],\n",
      "        [   17,  2532,   212,  6014,   212,   348,   581,   721,  7990],\n",
      "        [ 2532,   212,  6014,   212,   348,   581,   721,  7990,    15],\n",
      "        [  212,  6014,   212,   348,   581,   721,  7990,    15,     0],\n",
      "        [ 6014,   212,   348,   581,   721,  7990,    15,     0,  6963],\n",
      "        [  212,   348,   581,   721,  7990,    15,     0,  6963, 32212],\n",
      "        [  348,   581,   721,  7990,    15,     0,  6963, 32212,    78],\n",
      "        [  581,   721,  7990,    15,     0,  6963, 32212,    78, 15399],\n",
      "        [  721,  7990,    15,     0,  6963, 32212,    78, 15399,    39],\n",
      "        [ 7990,    15,     0,  6963, 32212,    78, 15399,    39,  5833],\n",
      "        [   15,     0,  6963, 32212,    78, 15399,    39,  5833,    43],\n",
      "        [    0,  6963, 32212,    78, 15399,    39,  5833,    43,   246],\n",
      "        [ 6963, 32212,    78, 15399,    39,  5833,    43,   246,  4854],\n",
      "        [32212,    78, 15399,    39,  5833,    43,   246,  4854,  2490],\n",
      "        [   78, 15399,    39,  5833,    43,   246,  4854,  2490,    15],\n",
      "        [15399,    39,  5833,    43,   246,  4854,  2490,    15,    83],\n",
      "        [   39,  5833,    43,   246,  4854,  2490,    15,    83,  9616],\n",
      "        [ 5833,    43,   246,  4854,  2490,    15,    83,  9616,    26],\n",
      "        [   43,   246,  4854,  2490,    15,    83,  9616,    26, 10660],\n",
      "        [  246,  4854,  2490,    15,    83,  9616,    26, 10660,    37],\n",
      "        [ 4854,  2490,    15,    83,  9616,    26, 10660,    37,    16],\n",
      "        [ 2490,    15,    83,  9616,    26, 10660,    37,    16,   159],\n",
      "        [   15,    83,  9616,    26, 10660,    37,    16,   159,   915],\n",
      "        [   83,  9616,    26, 10660,    37,    16,   159,   915,    13],\n",
      "        [ 9616,    26, 10660,    37,    16,   159,   915,    13,   494],\n",
      "        [   26, 10660,    37,    16,   159,   915,    13,   494,    46],\n",
      "        [10660,    37,    16,   159,   915,    13,   494,    46,    26],\n",
      "        [   37,    16,   159,   915,    13,   494,    46,    26,     9],\n",
      "        [   16,   159,   915,    13,   494,    46,    26,     9,   310],\n",
      "        [  159,   915,    13,   494,    46,    26,     9,   310,   665],\n",
      "        [  915,    13,   494,    46,    26,     9,   310,   665,   154],\n",
      "        [   13,   494,    46,    26,     9,   310,   665,   154,     9],\n",
      "        [  494,    46,    26,     9,   310,   665,   154,     9,    15],\n",
      "        [   46,    26,     9,   310,   665,   154,     9,    15,   491],\n",
      "        [   26,     9,   310,   665,   154,     9,    15,   491, 23123],\n",
      "        [    9,   310,   665,   154,     9,    15,   491, 23123,   819],\n",
      "        [  310,   665,   154,     9,    15,   491, 23123,   819,    46],\n",
      "        [  665,   154,     9,    15,   491, 23123,   819,    46,  1222],\n",
      "        [  154,     9,    15,   491, 23123,   819,    46,  1222,   209],\n",
      "        [    9,    15,   491, 23123,   819,    46,  1222,   209,     9],\n",
      "        [   15,   491, 23123,   819,    46,  1222,   209,     9,    61],\n",
      "        [  491, 23123,   819,    46,  1222,   209,     9,    61,   525],\n",
      "        [23123,   819,    46,  1222,   209,     9,    61,   525,  7096],\n",
      "        [  819,    46,  1222,   209,     9,    61,   525,  7096,    13],\n",
      "        [   46,  1222,   209,     9,    61,   525,  7096,    13,   564],\n",
      "        [ 1222,   209,     9,    61,   525,  7096,    13,   564,  1362],\n",
      "        [  209,     9,    61,   525,  7096,    13,   564,  1362,   151],\n",
      "        [    9,    61,   525,  7096,    13,   564,  1362,   151,  1575],\n",
      "        [   61,   525,  7096,    13,   564,  1362,   151,  1575,   209],\n",
      "        [  525,  7096,    13,   564,  1362,   151,  1575,   209,    61],\n",
      "        [ 7096,    13,   564,  1362,   151,  1575,   209,    61,    15],\n",
      "        [   13,   564,  1362,   151,  1575,   209,    61,    15,  5824],\n",
      "        [  564,  1362,   151,  1575,   209,    61,    15,  5824,   221],\n",
      "        [ 1362,   151,  1575,   209,    61,    15,  5824,   221, 11403],\n",
      "        [  151,  1575,   209,    61,    15,  5824,   221, 11403,  1571],\n",
      "        [ 1575,   209,    61,    15,  5824,   221, 11403,  1571,    13],\n",
      "        [  209,    61,    15,  5824,   221, 11403,  1571,    13,    46],\n",
      "        [   61,    15,  5824,   221, 11403,  1571,    13,    46,  1575],\n",
      "        [   15,  5824,   221, 11403,  1571,    13,    46,  1575,   808],\n",
      "        [ 5824,   221, 11403,  1571,    13,    46,  1575,   808,   209],\n",
      "        [  221, 11403,  1571,    13,    46,  1575,   808,   209,  3083],\n",
      "        [11403,  1571,    13,    46,  1575,   808,   209,  3083,    23],\n",
      "        [ 1571,    13,    46,  1575,   808,   209,  3083,    23,   147],\n",
      "        [   13,    46,  1575,   808,   209,  3083,    23,   147,  2234],\n",
      "        [   46,  1575,   808,   209,  3083,    23,   147,  2234,  2112],\n",
      "        [ 1575,   808,   209,  3083,    23,   147,  2234,  2112,    15],\n",
      "        [  808,   209,  3083,    23,   147,  2234,  2112,    15,     0],\n",
      "        [  209,  3083,    23,   147,  2234,  2112,    15,     0,     0]],\n",
      "       device='cuda:0')\n"
     ]
    }
   ],
   "source": [
    "torch.set_printoptions(edgeitems=100)\n",
    "print(train_data)"
   ]
  },
  {
   "cell_type": "markdown",
   "metadata": {
    "id": "0DkpDwi-w2Wf"
   },
   "source": [
    "# Declaring data loader functions "
   ]
  },
  {
   "cell_type": "code",
   "execution_count": 10,
   "metadata": {
    "executionInfo": {
     "elapsed": 23209,
     "status": "ok",
     "timestamp": 1606635749321,
     "user": {
      "displayName": "yong wei",
      "photoUrl": "https://lh3.googleusercontent.com/a-/AOh14GhYJ6D3p-i8GPWEqh4u2s4VniV_lHZd6l3-eHSaqA=s64",
      "userId": "07110467073693299033"
     },
     "user_tz": -480
    },
    "id": "6_R5kUkpw0x_"
   },
   "outputs": [],
   "source": [
    "# get the train and target for the train values\n",
    "def get_batch(source, i):\n",
    "    seq_len = min(args.bptt, len(source) - 1 - i)\n",
    "    data = source[i:i+seq_len, 0:args.context_size]\n",
    "    target = source[i+1:i+1+seq_len, args.context_size-1:args.context_size]\n",
    "    target = target.narrow(1,0,1).contiguous().view(-1)\n",
    "    return data, target"
   ]
  },
  {
   "cell_type": "code",
   "execution_count": 11,
   "metadata": {
    "executionInfo": {
     "elapsed": 22991,
     "status": "ok",
     "timestamp": 1606635749323,
     "user": {
      "displayName": "yong wei",
      "photoUrl": "https://lh3.googleusercontent.com/a-/AOh14GhYJ6D3p-i8GPWEqh4u2s4VniV_lHZd6l3-eHSaqA=s64",
      "userId": "07110467073693299033"
     },
     "user_tz": -480
    },
    "id": "P1VORrg9xHkO"
   },
   "outputs": [],
   "source": [
    "data, target = get_batch(train_data, 0)"
   ]
  },
  {
   "cell_type": "code",
   "execution_count": 12,
   "metadata": {
    "colab": {
     "base_uri": "https://localhost:8080/"
    },
    "executionInfo": {
     "elapsed": 22104,
     "status": "ok",
     "timestamp": 1606635749324,
     "user": {
      "displayName": "yong wei",
      "photoUrl": "https://lh3.googleusercontent.com/a-/AOh14GhYJ6D3p-i8GPWEqh4u2s4VniV_lHZd6l3-eHSaqA=s64",
      "userId": "07110467073693299033"
     },
     "user_tz": -480
    },
    "id": "dgp2OOLGyQz1",
    "outputId": "a98d9497-cff7-4443-f407-45c838cb8c57"
   },
   "outputs": [
    {
     "name": "stdout",
     "output_type": "stream",
     "text": [
      "tensor([[ 0,  1,  2,  3,  4,  1,  0,  0],\n",
      "        [ 1,  2,  3,  4,  1,  0,  0,  5],\n",
      "        [ 2,  3,  4,  1,  0,  0,  5,  6],\n",
      "        [ 3,  4,  1,  0,  0,  5,  6,  2],\n",
      "        [ 4,  1,  0,  0,  5,  6,  2,  7],\n",
      "        [ 1,  0,  0,  5,  6,  2,  7,  8],\n",
      "        [ 0,  0,  5,  6,  2,  7,  8,  9],\n",
      "        [ 0,  5,  6,  2,  7,  8,  9,  3],\n",
      "        [ 5,  6,  2,  7,  8,  9,  3, 10],\n",
      "        [ 6,  2,  7,  8,  9,  3, 10, 11],\n",
      "        [ 2,  7,  8,  9,  3, 10, 11,  8],\n",
      "        [ 7,  8,  9,  3, 10, 11,  8, 12],\n",
      "        [ 8,  9,  3, 10, 11,  8, 12, 13],\n",
      "        [ 9,  3, 10, 11,  8, 12, 13, 14],\n",
      "        [ 3, 10, 11,  8, 12, 13, 14, 15],\n",
      "        [10, 11,  8, 12, 13, 14, 15,  2],\n",
      "        [11,  8, 12, 13, 14, 15,  2, 16],\n",
      "        [ 8, 12, 13, 14, 15,  2, 16, 17],\n",
      "        [12, 13, 14, 15,  2, 16, 17, 18],\n",
      "        [13, 14, 15,  2, 16, 17, 18,  7],\n",
      "        [14, 15,  2, 16, 17, 18,  7, 19],\n",
      "        [15,  2, 16, 17, 18,  7, 19, 13],\n",
      "        [ 2, 16, 17, 18,  7, 19, 13, 20],\n",
      "        [16, 17, 18,  7, 19, 13, 20, 21],\n",
      "        [17, 18,  7, 19, 13, 20, 21, 22],\n",
      "        [18,  7, 19, 13, 20, 21, 22, 23],\n",
      "        [ 7, 19, 13, 20, 21, 22, 23,  2],\n",
      "        [19, 13, 20, 21, 22, 23,  2,  3],\n",
      "        [13, 20, 21, 22, 23,  2,  3,  4],\n",
      "        [20, 21, 22, 23,  2,  3,  4, 24],\n",
      "        [21, 22, 23,  2,  3,  4, 24, 25],\n",
      "        [22, 23,  2,  3,  4, 24, 25, 13],\n",
      "        [23,  2,  3,  4, 24, 25, 13, 26],\n",
      "        [ 2,  3,  4, 24, 25, 13, 26, 27],\n",
      "        [ 3,  4, 24, 25, 13, 26, 27, 28]], device='cuda:0')\n"
     ]
    }
   ],
   "source": [
    "print(data)"
   ]
  },
  {
   "cell_type": "code",
   "execution_count": 13,
   "metadata": {
    "colab": {
     "base_uri": "https://localhost:8080/"
    },
    "executionInfo": {
     "elapsed": 21713,
     "status": "ok",
     "timestamp": 1606635749325,
     "user": {
      "displayName": "yong wei",
      "photoUrl": "https://lh3.googleusercontent.com/a-/AOh14GhYJ6D3p-i8GPWEqh4u2s4VniV_lHZd6l3-eHSaqA=s64",
      "userId": "07110467073693299033"
     },
     "user_tz": -480
    },
    "id": "9t6gVANMyUhE",
    "outputId": "d3d9d87d-728d-486c-c4b2-1f64b4bd9a07",
    "scrolled": true
   },
   "outputs": [
    {
     "name": "stdout",
     "output_type": "stream",
     "text": [
      "tensor([ 5,  6,  2,  7,  8,  9,  3, 10, 11,  8, 12, 13, 14, 15,  2, 16, 17, 18,\n",
      "         7, 19, 13, 20, 21, 22, 23,  2,  3,  4, 24, 25, 13, 26, 27, 28, 29],\n",
      "       device='cuda:0')\n"
     ]
    }
   ],
   "source": [
    "print(target)"
   ]
  },
  {
   "cell_type": "markdown",
   "metadata": {
    "id": "ixljmNNiwzci"
   },
   "source": [
    "# Building the model"
   ]
  },
  {
   "cell_type": "code",
   "execution_count": 18,
   "metadata": {
    "executionInfo": {
     "elapsed": 21178,
     "status": "ok",
     "timestamp": 1606635749326,
     "user": {
      "displayName": "yong wei",
      "photoUrl": "https://lh3.googleusercontent.com/a-/AOh14GhYJ6D3p-i8GPWEqh4u2s4VniV_lHZd6l3-eHSaqA=s64",
      "userId": "07110467073693299033"
     },
     "user_tz": -480
    },
    "id": "lS2NDk_JGcTb"
   },
   "outputs": [],
   "source": [
    "# New FNN class\n",
    "# creating our FNN model \n",
    "\n",
    "# Trigram Neural Network Model\n",
    "class FNNModel(nn.Module):\n",
    "    # Here context_size should be 8( because its 8 gram model ), embedding dimension is 200, h is number of hidden layers , can set it to 200\n",
    "    def __init__(self, vocab_size, embedding_dim, context_size, h, tie_weights=False):\n",
    "        super(FNNModel, self).__init__()\n",
    "        self.context_size = context_size\n",
    "        self.embedding_dim = embedding_dim\n",
    "        self.embeddings = nn.Embedding(vocab_size, embedding_dim)\n",
    "        self.linear1 = nn.Linear(context_size * embedding_dim, h)\n",
    "        # Linear 2 is the decoder that returns a variable based on vocab size \n",
    "        self.linear2 = nn.Linear(h, vocab_size, bias = False)\n",
    "\n",
    "        #tying the weigths of embeddings and linear decoder together \n",
    "        if tie_weights:\n",
    "          if h != embedding_dim:\n",
    "              raise ValueError('When using the tied flag, nhid must be equal to emsize')\n",
    "          self.linear2.weight = self.embeddings.weight\n",
    "\n",
    "        #initiating the weights \n",
    "        self.init_weights()\n",
    "\n",
    "    #function initiainng the weights \n",
    "    def init_weights(self):\n",
    "        initrange = 0.1\n",
    "        nn.init.uniform_(self.embeddings.weight, -initrange, initrange)\n",
    "        nn.init.zeros_(self.linear2.weight)\n",
    "        nn.init.uniform_(self.linear2.weight, -initrange, initrange)\n",
    "\n",
    "\n",
    "    def forward(self, inputs):\n",
    "        # compute x': concatenation of all the 8 words in 8 gram model \n",
    "        embeds = self.embeddings(inputs).view((-1,self.context_size * self.embedding_dim))\n",
    "        # compute h: tanh(W_1.x' + b)\n",
    "        out = torch.tanh(self.linear1(embeds))\n",
    "        # compute W_2.h\n",
    "        out = self.linear2(out)\n",
    "        # compute y: log_softmax(W_2.h)\n",
    "        log_probs = torch.nn.functional.log_softmax(out, dim=1)\n",
    "        # return log probabilities\n",
    "        # BATCH_SIZE x len(vocab)\n",
    "        return log_probs"
   ]
  },
  {
   "cell_type": "markdown",
   "metadata": {
    "id": "Xn3SErKE8VWM"
   },
   "source": [
    "# Declaring the helper functions  "
   ]
  },
  {
   "cell_type": "code",
   "execution_count": 33,
   "metadata": {
    "executionInfo": {
     "elapsed": 17592,
     "status": "ok",
     "timestamp": 1606635749328,
     "user": {
      "displayName": "yong wei",
      "photoUrl": "https://lh3.googleusercontent.com/a-/AOh14GhYJ6D3p-i8GPWEqh4u2s4VniV_lHZd6l3-eHSaqA=s64",
      "userId": "07110467073693299033"
     },
     "user_tz": -480
    },
    "id": "5b0MbgDyqde5"
   },
   "outputs": [],
   "source": [
    "# helper function to get accuracy from log probabilities\n",
    "def get_accuracy_from_log_probs(log_probs, labels):\n",
    "    probs = torch.exp(log_probs)\n",
    "    predicted_label = torch.argmax(probs, dim=1)\n",
    "    acc = (predicted_label == labels).float().mean()\n",
    "    return acc\n",
    "\n",
    "\n",
    "\n",
    "# helper function to evaluate model on dev data\n",
    "def evaluate(model, criterion, data_source):\n",
    "    model.eval()\n",
    "\n",
    "    mean_acc, mean_loss = 0, 0\n",
    "    count = 0\n",
    "\n",
    "    with torch.no_grad():\n",
    "        dev_st = time.time()\n",
    "        for it, data_tensor in enumerate(range(0, data_source.size(0) - 1, args.bptt)):\n",
    "            context_tensor, target_tensor = get_batch(data_source, data_tensor)\n",
    "#             context_tensor = data_tensor[:,0:2]\n",
    "#             target_tensor = data_tensor[:,2]\n",
    "            context_tensor, target_tensor = context_tensor.to(device), target_tensor.to(device)\n",
    "            log_probs = model(context_tensor)\n",
    "            mean_loss += criterion(log_probs, target_tensor).item()\n",
    "            mean_acc += get_accuracy_from_log_probs(log_probs, target_tensor)\n",
    "            count += 1\n",
    "            if it % 500 == 0: \n",
    "                print(\"Dev Iteration {} complete. Mean Loss: {}; Mean Acc:{}; Time taken (s): {}\".format(it, mean_loss / count, mean_acc / count, (time.time()-dev_st)))\n",
    "                dev_st = time.time()\n",
    "\n",
    "    return mean_acc / count, mean_loss / count\n"
   ]
  },
  {
   "cell_type": "markdown",
   "metadata": {
    "id": "UPvjarqo8cis"
   },
   "source": [
    "# Training the model and evaluating on val set"
   ]
  },
  {
   "cell_type": "code",
   "execution_count": null,
   "metadata": {
    "colab": {
     "base_uri": "https://localhost:8080/"
    },
    "executionInfo": {
     "elapsed": 6248251,
     "status": "ok",
     "timestamp": 1606628616731,
     "user": {
      "displayName": "yong wei",
      "photoUrl": "https://lh3.googleusercontent.com/a-/AOh14GhYJ6D3p-i8GPWEqh4u2s4VniV_lHZd6l3-eHSaqA=s64",
      "userId": "07110467073693299033"
     },
     "user_tz": -480
    },
    "id": "ReILiFEdqt3X",
    "outputId": "86f18681-fbb7-426a-b392-51a240714ed7"
   },
   "outputs": [
    {
     "name": "stdout",
     "output_type": "stream",
     "text": [
      "\n",
      "--- Training model Epoch: 1 ---\n",
      "Training Iteration 0 of epoch 0 complete. Loss: 10.411506652832031; Acc:0.0; Time taken (s): 0.010044574737548828| ppl 33239.91\n",
      "Training Iteration 10000 of epoch 0 complete. Loss: 6.365409851074219; Acc:0.2857142984867096; Time taken (s): 68.67393183708191| ppl   581.38\n",
      "Training Iteration 20000 of epoch 0 complete. Loss: 6.992609977722168; Acc:0.20000000298023224; Time taken (s): 69.02897691726685| ppl  1088.56\n",
      "Training Iteration 30000 of epoch 0 complete. Loss: 4.205486297607422; Acc:0.34285715222358704; Time taken (s): 69.06005120277405| ppl    67.05\n",
      "Training Iteration 40000 of epoch 0 complete. Loss: 4.922150611877441; Acc:0.37142857909202576; Time taken (s): 69.09920072555542| ppl   137.30\n",
      "Training Iteration 50000 of epoch 0 complete. Loss: 7.231809139251709; Acc:0.08571428805589676; Time taken (s): 69.14919567108154| ppl  1382.72\n",
      "\n",
      "--- Evaluating model on dev data ---\n",
      "Dev Iteration 0 complete. Mean Loss: 5.581138610839844; Mean Acc:0.22857142984867096; Time taken (s): 0.0013110637664794922\n",
      "Dev Iteration 500 complete. Mean Loss: 6.5034552760228905; Mean Acc:0.17228394746780396; Time taken (s): 0.3954894542694092\n",
      "Dev Iteration 1000 complete. Mean Loss: 6.4979898761678765; Mean Acc:0.1687738448381424; Time taken (s): 0.3941483497619629\n",
      "Dev Iteration 1500 complete. Mean Loss: 6.511423516082891; Mean Acc:0.1674499660730362; Time taken (s): 0.393873929977417\n",
      "Dev Iteration 2000 complete. Mean Loss: 6.519259647808332; Mean Acc:0.16593116521835327; Time taken (s): 0.399336576461792\n",
      "Dev Iteration 2500 complete. Mean Loss: 6.497518427845765; Mean Acc:0.1688123643398285; Time taken (s): 0.39661192893981934\n",
      "Dev Iteration 3000 complete. Mean Loss: 6.535734784678593; Mean Acc:0.16670624911785126; Time taken (s): 0.3998847007751465\n",
      "Dev Iteration 3500 complete. Mean Loss: 6.543904801975894; Mean Acc:0.1659688651561737; Time taken (s): 0.41066837310791016\n",
      "Dev Iteration 4000 complete. Mean Loss: 6.541703927639096; Mean Acc:0.1653088629245758; Time taken (s): 0.41985297203063965\n",
      "Dev Iteration 4500 complete. Mean Loss: 6.533860507156552; Mean Acc:0.16567769646644592; Time taken (s): 0.3956727981567383\n",
      "Dev Iteration 5000 complete. Mean Loss: 6.531169585765921; Mean Acc:0.1657557338476181; Time taken (s): 0.3940095901489258\n",
      "Dev Iteration 5500 complete. Mean Loss: 6.55662741736485; Mean Acc:0.16442738473415375; Time taken (s): 0.39821791648864746\n",
      "Dev Iteration 6000 complete. Mean Loss: 6.566808147760972; Mean Acc:0.16391068696975708; Time taken (s): 0.4004654884338379\n",
      "Epoch 0 complete! Development Accuracy: 0.1632920354604721; Development Loss: 6.573010288340655;  Development ppl: 715.5205275201984\n",
      "Best validation perplexity improved from 9999999999999999 to 715.5205275201984, saving model...\n",
      "\n",
      "--- Training model Epoch: 2 ---\n",
      "Training Iteration 0 of epoch 1 complete. Loss: 9.065016746520996; Acc:0.1428571492433548; Time taken (s): 0.007730960845947266| ppl  8647.42\n",
      "Training Iteration 10000 of epoch 1 complete. Loss: 5.976591110229492; Acc:0.22857142984867096; Time taken (s): 69.15372323989868| ppl   394.09\n",
      "Training Iteration 20000 of epoch 1 complete. Loss: 7.418850421905518; Acc:0.1428571492433548; Time taken (s): 69.16826343536377| ppl  1667.12\n",
      "Training Iteration 30000 of epoch 1 complete. Loss: 4.505645275115967; Acc:0.4000000059604645; Time taken (s): 69.1942229270935| ppl    90.53\n",
      "Training Iteration 40000 of epoch 1 complete. Loss: 4.773289680480957; Acc:0.34285715222358704; Time taken (s): 69.16237092018127| ppl   118.31\n",
      "Training Iteration 50000 of epoch 1 complete. Loss: 7.207721710205078; Acc:0.17142857611179352; Time taken (s): 69.19616961479187| ppl  1349.81\n",
      "\n",
      "--- Evaluating model on dev data ---\n",
      "Dev Iteration 0 complete. Mean Loss: 6.1216535568237305; Mean Acc:0.2571428716182709; Time taken (s): 0.0013523101806640625\n",
      "Dev Iteration 500 complete. Mean Loss: 6.437505922393647; Mean Acc:0.17912732064723969; Time taken (s): 0.39324951171875\n",
      "Dev Iteration 1000 complete. Mean Loss: 6.4124340796685; Mean Acc:0.1768229454755783; Time taken (s): 0.3982729911804199\n",
      "Dev Iteration 1500 complete. Mean Loss: 6.420556820526987; Mean Acc:0.1759396195411682; Time taken (s): 0.4103209972381592\n",
      "Dev Iteration 2000 complete. Mean Loss: 6.432826843933723; Mean Acc:0.1738700568675995; Time taken (s): 0.43686437606811523\n",
      "Dev Iteration 2500 complete. Mean Loss: 6.415891421027109; Mean Acc:0.1756896823644638; Time taken (s): 0.4277527332305908\n",
      "Dev Iteration 3000 complete. Mean Loss: 6.451252583383282; Mean Acc:0.17383712530136108; Time taken (s): 0.43454957008361816\n",
      "Dev Iteration 3500 complete. Mean Loss: 6.460559794168001; Mean Acc:0.17323215305805206; Time taken (s): 0.44241952896118164\n",
      "Dev Iteration 4000 complete. Mean Loss: 6.46055600846359; Mean Acc:0.17294983565807343; Time taken (s): 0.4050586223602295\n",
      "Dev Iteration 4500 complete. Mean Loss: 6.453359461339201; Mean Acc:0.17316818237304688; Time taken (s): 0.40305089950561523\n",
      "Dev Iteration 5000 complete. Mean Loss: 6.45153220561332; Mean Acc:0.1731201559305191; Time taken (s): 0.3976428508758545\n",
      "Dev Iteration 5500 complete. Mean Loss: 6.475141487605267; Mean Acc:0.17199000716209412; Time taken (s): 0.39539504051208496\n",
      "Dev Iteration 6000 complete. Mean Loss: 6.4841963358470505; Mean Acc:0.17149075865745544; Time taken (s): 0.39985060691833496\n",
      "Epoch 1 complete! Development Accuracy: 0.17112018167972565; Development Loss: 6.4901176360780966;  Development ppl: 658.6008338775873\n",
      "Best validation perplexity improved from 715.5205275201984 to 658.6008338775873, saving model...\n",
      "\n",
      "--- Training model Epoch: 3 ---\n",
      "Training Iteration 0 of epoch 2 complete. Loss: 9.091748237609863; Acc:0.1428571492433548; Time taken (s): 0.007995367050170898| ppl  8881.70\n",
      "Training Iteration 10000 of epoch 2 complete. Loss: 5.748777866363525; Acc:0.2571428716182709; Time taken (s): 69.07180380821228| ppl   313.81\n",
      "Training Iteration 20000 of epoch 2 complete. Loss: 7.233276844024658; Acc:0.1428571492433548; Time taken (s): 69.07924008369446| ppl  1384.75\n",
      "Training Iteration 30000 of epoch 2 complete. Loss: 4.276622772216797; Acc:0.34285715222358704; Time taken (s): 69.1000702381134| ppl    72.00\n",
      "Training Iteration 40000 of epoch 2 complete. Loss: 4.468686580657959; Acc:0.4000000059604645; Time taken (s): 69.02444839477539| ppl    87.24\n",
      "Training Iteration 50000 of epoch 2 complete. Loss: 6.931968688964844; Acc:0.17142857611179352; Time taken (s): 69.13655042648315| ppl  1024.51\n",
      "\n",
      "--- Evaluating model on dev data ---\n",
      "Dev Iteration 0 complete. Mean Loss: 6.151546955108643; Mean Acc:0.20000000298023224; Time taken (s): 0.0014934539794921875\n",
      "Dev Iteration 500 complete. Mean Loss: 6.421829165574795; Mean Acc:0.184316948056221; Time taken (s): 0.3958926200866699\n",
      "Dev Iteration 1000 complete. Mean Loss: 6.4083315698536; Mean Acc:0.18073327839374542; Time taken (s): 0.39752840995788574\n",
      "Dev Iteration 1500 complete. Mean Loss: 6.415004029661556; Mean Acc:0.17982256412506104; Time taken (s): 0.404862642288208\n",
      "Dev Iteration 2000 complete. Mean Loss: 6.4215190653083685; Mean Acc:0.17785368859767914; Time taken (s): 0.40815305709838867\n",
      "Dev Iteration 2500 complete. Mean Loss: 6.408216577727811; Mean Acc:0.17993944883346558; Time taken (s): 0.3986978530883789\n",
      "Dev Iteration 3000 complete. Mean Loss: 6.442839036858587; Mean Acc:0.1777789443731308; Time taken (s): 0.39926981925964355\n",
      "Dev Iteration 3500 complete. Mean Loss: 6.4523458259850015; Mean Acc:0.17674946784973145; Time taken (s): 0.400723934173584\n",
      "Dev Iteration 4000 complete. Mean Loss: 6.453884074372728; Mean Acc:0.1762704849243164; Time taken (s): 0.40471911430358887\n",
      "Dev Iteration 4500 complete. Mean Loss: 6.4445334891694515; Mean Acc:0.17669779062271118; Time taken (s): 0.4053521156311035\n",
      "Dev Iteration 5000 complete. Mean Loss: 6.438874449474386; Mean Acc:0.17681115865707397; Time taken (s): 0.39371824264526367\n",
      "Dev Iteration 5500 complete. Mean Loss: 6.465256621048377; Mean Acc:0.17523641884326935; Time taken (s): 0.3948483467102051\n",
      "Dev Iteration 6000 complete. Mean Loss: 6.472465533074727; Mean Acc:0.1746281087398529; Time taken (s): 0.3921170234680176\n",
      "Epoch 2 complete! Development Accuracy: 0.1741982102394104; Development Loss: 6.479353890558554;  Development ppl: 651.5498377429852\n",
      "Best validation perplexity improved from 658.6008338775873 to 651.5498377429852, saving model...\n",
      "\n",
      "--- Training model Epoch: 4 ---\n",
      "Training Iteration 0 of epoch 3 complete. Loss: 8.735936164855957; Acc:0.17142857611179352; Time taken (s): 0.0077342987060546875| ppl  6222.56\n",
      "Training Iteration 10000 of epoch 3 complete. Loss: 6.036594867706299; Acc:0.20000000298023224; Time taken (s): 69.1395947933197| ppl   418.47\n",
      "Training Iteration 20000 of epoch 3 complete. Loss: 7.214922904968262; Acc:0.11428571492433548; Time taken (s): 69.09958052635193| ppl  1359.57\n",
      "Training Iteration 30000 of epoch 3 complete. Loss: 4.410275459289551; Acc:0.34285715222358704; Time taken (s): 69.05730938911438| ppl    82.29\n",
      "Training Iteration 40000 of epoch 3 complete. Loss: 4.5476226806640625; Acc:0.3142857253551483; Time taken (s): 69.09902739524841| ppl    94.41\n",
      "Training Iteration 50000 of epoch 3 complete. Loss: 6.540352821350098; Acc:0.22857142984867096; Time taken (s): 69.10842537879944| ppl   692.53\n",
      "\n",
      "--- Evaluating model on dev data ---\n",
      "Dev Iteration 0 complete. Mean Loss: 5.5665459632873535; Mean Acc:0.22857142984867096; Time taken (s): 0.0016546249389648438\n",
      "Dev Iteration 500 complete. Mean Loss: 6.3996510731721825; Mean Acc:0.18146555125713348; Time taken (s): 0.4316902160644531\n",
      "Dev Iteration 1000 complete. Mean Loss: 6.385568199219642; Mean Acc:0.1775650680065155; Time taken (s): 0.3959071636199951\n",
      "Dev Iteration 1500 complete. Mean Loss: 6.392498120159249; Mean Acc:0.17614901065826416; Time taken (s): 0.40128111839294434\n",
      "Dev Iteration 2000 complete. Mean Loss: 6.397953833716325; Mean Acc:0.17355601489543915; Time taken (s): 0.39900708198547363\n",
      "Dev Iteration 2500 complete. Mean Loss: 6.384883704208365; Mean Acc:0.17532412707805634; Time taken (s): 0.3945341110229492\n",
      "Dev Iteration 3000 complete. Mean Loss: 6.420013054376124; Mean Acc:0.17356105148792267; Time taken (s): 0.4037754535675049\n",
      "Dev Iteration 3500 complete. Mean Loss: 6.429066794015993; Mean Acc:0.172823965549469; Time taken (s): 0.4102015495300293\n",
      "Dev Iteration 4000 complete. Mean Loss: 6.428723189330822; Mean Acc:0.17267131805419922; Time taken (s): 0.42708802223205566\n",
      "Dev Iteration 4500 complete. Mean Loss: 6.42574602936247; Mean Acc:0.17270472645759583; Time taken (s): 0.40691065788269043\n",
      "Dev Iteration 5000 complete. Mean Loss: 6.422335106524151; Mean Acc:0.172634556889534; Time taken (s): 0.3971264362335205\n",
      "Dev Iteration 5500 complete. Mean Loss: 6.448090368607893; Mean Acc:0.1712004691362381; Time taken (s): 0.3966562747955322\n",
      "Dev Iteration 6000 complete. Mean Loss: 6.457255318490213; Mean Acc:0.17084795236587524; Time taken (s): 0.3997008800506592\n",
      "Epoch 3 complete! Development Accuracy: 0.170430988073349; Development Loss: 6.463219594066023;  Development ppl: 641.1218894976644\n",
      "Best validation perplexity improved from 651.5498377429852 to 641.1218894976644, saving model...\n",
      "\n",
      "--- Training model Epoch: 5 ---\n",
      "Training Iteration 0 of epoch 4 complete. Loss: 9.06884479522705; Acc:0.1428571492433548; Time taken (s): 0.00787353515625| ppl  8680.59\n",
      "Training Iteration 10000 of epoch 4 complete. Loss: 5.824723720550537; Acc:0.20000000298023224; Time taken (s): 69.0333604812622| ppl   338.57\n",
      "Training Iteration 20000 of epoch 4 complete. Loss: 7.158183574676514; Acc:0.17142857611179352; Time taken (s): 69.0565881729126| ppl  1284.58\n",
      "Training Iteration 30000 of epoch 4 complete. Loss: 4.814058780670166; Acc:0.4000000059604645; Time taken (s): 69.09149384498596| ppl   123.23\n",
      "Training Iteration 40000 of epoch 4 complete. Loss: 4.394642353057861; Acc:0.4285714328289032; Time taken (s): 69.01646518707275| ppl    81.02\n",
      "Training Iteration 50000 of epoch 4 complete. Loss: 6.673602104187012; Acc:0.17142857611179352; Time taken (s): 69.02335405349731| ppl   791.24\n",
      "\n",
      "--- Evaluating model on dev data ---\n",
      "Dev Iteration 0 complete. Mean Loss: 5.881453514099121; Mean Acc:0.22857142984867096; Time taken (s): 0.0013968944549560547\n",
      "Dev Iteration 500 complete. Mean Loss: 6.3883832241008855; Mean Acc:0.18146547675132751; Time taken (s): 0.3931448459625244\n",
      "Dev Iteration 1000 complete. Mean Loss: 6.381289829502811; Mean Acc:0.1801052987575531; Time taken (s): 0.3936920166015625\n",
      "Dev Iteration 1500 complete. Mean Loss: 6.392060643668813; Mean Acc:0.1793278157711029; Time taken (s): 0.42389726638793945\n",
      "Dev Iteration 2000 complete. Mean Loss: 6.39844365795513; Mean Acc:0.17648297548294067; Time taken (s): 0.434828519821167\n",
      "Dev Iteration 2500 complete. Mean Loss: 6.378999876766288; Mean Acc:0.17949368059635162; Time taken (s): 0.400942325592041\n",
      "Dev Iteration 3000 complete. Mean Loss: 6.416756189850639; Mean Acc:0.17762643098831177; Time taken (s): 0.39502382278442383\n",
      "Dev Iteration 3500 complete. Mean Loss: 6.425356251619367; Mean Acc:0.1763656884431839; Time taken (s): 0.40983080863952637\n",
      "Dev Iteration 4000 complete. Mean Loss: 6.4269865457191075; Mean Acc:0.17579896748065948; Time taken (s): 0.4310438632965088\n",
      "Dev Iteration 4500 complete. Mean Loss: 6.421078962634548; Mean Acc:0.17568160593509674; Time taken (s): 0.43331074714660645\n",
      "Dev Iteration 5000 complete. Mean Loss: 6.4161753080959585; Mean Acc:0.17544516921043396; Time taken (s): 0.40494513511657715\n",
      "Dev Iteration 5500 complete. Mean Loss: 6.44175855976043; Mean Acc:0.17405180633068085; Time taken (s): 0.4000434875488281\n",
      "Dev Iteration 6000 complete. Mean Loss: 6.45259656939501; Mean Acc:0.1735663115978241; Time taken (s): 0.3993387222290039\n",
      "Epoch 4 complete! Development Accuracy: 0.17310917377471924; Development Loss: 6.459216482828315;  Development ppl: 638.5605373662762\n",
      "Best validation perplexity improved from 641.1218894976644 to 638.5605373662762, saving model...\n",
      "\n",
      "--- Training model Epoch: 6 ---\n",
      "Training Iteration 0 of epoch 5 complete. Loss: 8.960617065429688; Acc:0.1428571492433548; Time taken (s): 0.008007049560546875| ppl  7790.16\n",
      "Training Iteration 10000 of epoch 5 complete. Loss: 5.869211196899414; Acc:0.17142857611179352; Time taken (s): 69.03831958770752| ppl   353.97\n",
      "Training Iteration 20000 of epoch 5 complete. Loss: 7.466296195983887; Acc:0.1428571492433548; Time taken (s): 69.05517673492432| ppl  1748.12\n",
      "Training Iteration 30000 of epoch 5 complete. Loss: 4.641306400299072; Acc:0.3142857253551483; Time taken (s): 68.97923827171326| ppl   103.68\n",
      "Training Iteration 40000 of epoch 5 complete. Loss: 4.550024032592773; Acc:0.37142857909202576; Time taken (s): 68.98458242416382| ppl    94.63\n",
      "Training Iteration 50000 of epoch 5 complete. Loss: 6.882518291473389; Acc:0.11428571492433548; Time taken (s): 69.09161639213562| ppl   975.08\n",
      "\n",
      "--- Evaluating model on dev data ---\n",
      "Dev Iteration 0 complete. Mean Loss: 6.299355506896973; Mean Acc:0.20000000298023224; Time taken (s): 0.001355886459350586\n",
      "Dev Iteration 500 complete. Mean Loss: 6.371156948293279; Mean Acc:0.18408888578414917; Time taken (s): 0.3934895992279053\n",
      "Dev Iteration 1000 complete. Mean Loss: 6.364172927983157; Mean Acc:0.18158958852291107; Time taken (s): 0.4148099422454834\n",
      "Dev Iteration 1500 complete. Mean Loss: 6.369887231509738; Mean Acc:0.17961318790912628; Time taken (s): 0.3938932418823242\n",
      "Dev Iteration 2000 complete. Mean Loss: 6.376445214013229; Mean Acc:0.17749667167663574; Time taken (s): 0.42240190505981445\n",
      "Dev Iteration 2500 complete. Mean Loss: 6.356439019002613; Mean Acc:0.17921972274780273; Time taken (s): 0.3920938968658447\n",
      "Dev Iteration 3000 complete. Mean Loss: 6.395536296687814; Mean Acc:0.17746473848819733; Time taken (s): 0.39798641204833984\n",
      "Dev Iteration 3500 complete. Mean Loss: 6.404340019399049; Mean Acc:0.17649665474891663; Time taken (s): 0.4012339115142822\n",
      "Dev Iteration 4000 complete. Mean Loss: 6.407534942690118; Mean Acc:0.1759277731180191; Time taken (s): 0.3933098316192627\n",
      "Dev Iteration 4500 complete. Mean Loss: 6.403005498511292; Mean Acc:0.17601212859153748; Time taken (s): 0.4005272388458252\n",
      "Dev Iteration 5000 complete. Mean Loss: 6.398668931188928; Mean Acc:0.17605115473270416; Time taken (s): 0.39283108711242676\n",
      "Dev Iteration 5500 complete. Mean Loss: 6.422683121680866; Mean Acc:0.17493507266044617; Time taken (s): 0.3943202495574951\n",
      "Dev Iteration 6000 complete. Mean Loss: 6.4316644673545325; Mean Acc:0.17454251646995544; Time taken (s): 0.39934802055358887\n",
      "Epoch 5 complete! Development Accuracy: 0.1741844117641449; Development Loss: 6.438082306748093;  Development ppl: 625.206694802967\n",
      "Best validation perplexity improved from 638.5605373662762 to 625.206694802967, saving model...\n",
      "\n",
      "--- Training model Epoch: 7 ---\n",
      "Training Iteration 0 of epoch 6 complete. Loss: 8.914468765258789; Acc:0.20000000298023224; Time taken (s): 0.008197546005249023| ppl  7438.83\n",
      "Training Iteration 10000 of epoch 6 complete. Loss: 5.861390113830566; Acc:0.17142857611179352; Time taken (s): 69.0737361907959| ppl   351.21\n",
      "Training Iteration 20000 of epoch 6 complete. Loss: 7.263907432556152; Acc:0.17142857611179352; Time taken (s): 69.076256275177| ppl  1427.82\n",
      "Training Iteration 30000 of epoch 6 complete. Loss: 4.414772033691406; Acc:0.34285715222358704; Time taken (s): 69.05753827095032| ppl    82.66\n",
      "Training Iteration 40000 of epoch 6 complete. Loss: 4.4217023849487305; Acc:0.37142857909202576; Time taken (s): 69.02794027328491| ppl    83.24\n",
      "Training Iteration 50000 of epoch 6 complete. Loss: 7.039193153381348; Acc:0.17142857611179352; Time taken (s): 69.09963083267212| ppl  1140.47\n",
      "\n",
      "--- Evaluating model on dev data ---\n",
      "Dev Iteration 0 complete. Mean Loss: 6.531866550445557; Mean Acc:0.11428571492433548; Time taken (s): 0.0015985965728759766\n",
      "Dev Iteration 500 complete. Mean Loss: 6.364831966078448; Mean Acc:0.18254896998405457; Time taken (s): 0.437868595123291\n",
      "Dev Iteration 1000 complete. Mean Loss: 6.3546908774695074; Mean Acc:0.18007679283618927; Time taken (s): 0.3934619426727295\n",
      "Dev Iteration 1500 complete. Mean Loss: 6.3637166556162015; Mean Acc:0.1795942783355713; Time taken (s): 0.39562559127807617\n",
      "Dev Iteration 2000 complete. Mean Loss: 6.369694143876262; Mean Acc:0.17726828157901764; Time taken (s): 0.3990020751953125\n",
      "Dev Iteration 2500 complete. Mean Loss: 6.353173894102408; Mean Acc:0.1796765774488449; Time taken (s): 0.3900187015533447\n",
      "Dev Iteration 3000 complete. Mean Loss: 6.389926800724666; Mean Acc:0.17759783565998077; Time taken (s): 0.3944242000579834\n",
      "Dev Iteration 3500 complete. Mean Loss: 6.3990513433629665; Mean Acc:0.17677392065525055; Time taken (s): 0.39235711097717285\n",
      "Dev Iteration 4000 complete. Mean Loss: 6.397991417140193; Mean Acc:0.17609883844852448; Time taken (s): 0.3921239376068115\n",
      "Dev Iteration 4500 complete. Mean Loss: 6.392956716885595; Mean Acc:0.1766149252653122; Time taken (s): 0.39415884017944336\n",
      "Dev Iteration 5000 complete. Mean Loss: 6.3878192455619365; Mean Acc:0.17631939053535461; Time taken (s): 0.40590834617614746\n",
      "Dev Iteration 5500 complete. Mean Loss: 6.412618954405744; Mean Acc:0.17537614703178406; Time taken (s): 0.4301595687866211\n",
      "Dev Iteration 6000 complete. Mean Loss: 6.421958063129901; Mean Acc:0.17518000304698944; Time taken (s): 0.39423394203186035\n",
      "Epoch 6 complete! Development Accuracy: 0.174702987074852; Development Loss: 6.429022806272339;  Development ppl: 619.568213928632\n",
      "Best validation perplexity improved from 625.206694802967 to 619.568213928632, saving model...\n",
      "\n",
      "--- Training model Epoch: 8 ---\n",
      "Training Iteration 0 of epoch 7 complete. Loss: 8.629289627075195; Acc:0.22857142984867096; Time taken (s): 0.007843732833862305| ppl  5593.10\n",
      "Training Iteration 10000 of epoch 7 complete. Loss: 5.722082614898682; Acc:0.2857142984867096; Time taken (s): 68.98681855201721| ppl   305.54\n",
      "Training Iteration 20000 of epoch 7 complete. Loss: 6.886892795562744; Acc:0.22857142984867096; Time taken (s): 68.9603636264801| ppl   979.35\n",
      "Training Iteration 30000 of epoch 7 complete. Loss: 4.158554553985596; Acc:0.37142857909202576; Time taken (s): 68.98684763908386| ppl    63.98\n",
      "Training Iteration 40000 of epoch 7 complete. Loss: 4.388915061950684; Acc:0.37142857909202576; Time taken (s): 68.93101501464844| ppl    80.55\n",
      "Training Iteration 50000 of epoch 7 complete. Loss: 6.735853672027588; Acc:0.08571428805589676; Time taken (s): 68.93292951583862| ppl   842.06\n",
      "\n",
      "--- Evaluating model on dev data ---\n",
      "Dev Iteration 0 complete. Mean Loss: 6.159678936004639; Mean Acc:0.17142857611179352; Time taken (s): 0.0013623237609863281\n",
      "Dev Iteration 500 complete. Mean Loss: 6.36887019575237; Mean Acc:0.18374666571617126; Time taken (s): 0.3926222324371338\n",
      "Dev Iteration 1000 complete. Mean Loss: 6.355764391777161; Mean Acc:0.18227458000183105; Time taken (s): 0.3898165225982666\n",
      "Dev Iteration 1500 complete. Mean Loss: 6.360979978995352; Mean Acc:0.1819736212491989; Time taken (s): 0.3960237503051758\n",
      "Dev Iteration 2000 complete. Mean Loss: 6.366269552904269; Mean Acc:0.17936722934246063; Time taken (s): 0.39450550079345703\n",
      "Dev Iteration 2500 complete. Mean Loss: 6.351532877802325; Mean Acc:0.1815386414527893; Time taken (s): 0.3925306797027588\n",
      "Dev Iteration 3000 complete. Mean Loss: 6.389157440733091; Mean Acc:0.17914019525051117; Time taken (s): 0.3949766159057617\n",
      "Dev Iteration 3500 complete. Mean Loss: 6.397173398394341; Mean Acc:0.17808787524700165; Time taken (s): 0.3891913890838623\n",
      "Dev Iteration 4000 complete. Mean Loss: 6.398521055700898; Mean Acc:0.1774701178073883; Time taken (s): 0.3913540840148926\n",
      "Dev Iteration 4500 complete. Mean Loss: 6.395415851816128; Mean Acc:0.1776561290025711; Time taken (s): 0.3962116241455078\n",
      "Dev Iteration 5000 complete. Mean Loss: 6.392869311150396; Mean Acc:0.17723950743675232; Time taken (s): 0.39377427101135254\n",
      "Dev Iteration 5500 complete. Mean Loss: 6.417980974120588; Mean Acc:0.17572973668575287; Time taken (s): 0.39377427101135254\n",
      "Dev Iteration 6000 complete. Mean Loss: 6.428136640480212; Mean Acc:0.1756233274936676; Time taken (s): 0.3913424015045166\n",
      "Epoch 7 complete! Development Accuracy: 0.17514465749263763; Development Loss: 6.435169727995112;  Development ppl: 623.3883803449049\n",
      "\n",
      "--- Training model Epoch: 9 ---\n",
      "Training Iteration 0 of epoch 8 complete. Loss: 8.707627296447754; Acc:0.11428571492433548; Time taken (s): 0.0073664188385009766| ppl  6048.87\n",
      "Training Iteration 10000 of epoch 8 complete. Loss: 5.881509780883789; Acc:0.2571428716182709; Time taken (s): 68.80599474906921| ppl   358.35\n",
      "Training Iteration 20000 of epoch 8 complete. Loss: 6.885527610778809; Acc:0.20000000298023224; Time taken (s): 68.78338313102722| ppl   978.02\n",
      "Training Iteration 30000 of epoch 8 complete. Loss: 4.289660930633545; Acc:0.2857142984867096; Time taken (s): 68.74986696243286| ppl    72.94\n",
      "Training Iteration 40000 of epoch 8 complete. Loss: 4.31361198425293; Acc:0.4285714328289032; Time taken (s): 68.78695464134216| ppl    74.71\n",
      "Training Iteration 50000 of epoch 8 complete. Loss: 6.806983947753906; Acc:0.1428571492433548; Time taken (s): 68.70204401016235| ppl   904.14\n",
      "\n",
      "--- Evaluating model on dev data ---\n",
      "Dev Iteration 0 complete. Mean Loss: 5.990408897399902; Mean Acc:0.2571428716182709; Time taken (s): 0.0013453960418701172\n",
      "Dev Iteration 500 complete. Mean Loss: 6.36893764822307; Mean Acc:0.1827201545238495; Time taken (s): 0.390702486038208\n",
      "Dev Iteration 1000 complete. Mean Loss: 6.3575893004576525; Mean Acc:0.18079030513763428; Time taken (s): 0.3867170810699463\n",
      "Dev Iteration 1500 complete. Mean Loss: 6.366459959828798; Mean Acc:0.17963218688964844; Time taken (s): 0.39922285079956055\n",
      "Dev Iteration 2000 complete. Mean Loss: 6.368853477940805; Mean Acc:0.17778216302394867; Time taken (s): 0.41031885147094727\n",
      "Dev Iteration 2500 complete. Mean Loss: 6.353832818612439; Mean Acc:0.1796877682209015; Time taken (s): 0.3877077102661133\n",
      "Dev Iteration 3000 complete. Mean Loss: 6.391835419148932; Mean Acc:0.17738832533359528; Time taken (s): 0.3937067985534668\n",
      "Dev Iteration 3500 complete. Mean Loss: 6.401062548824529; Mean Acc:0.17608019709587097; Time taken (s): 0.3884012699127197\n",
      "Dev Iteration 4000 complete. Mean Loss: 6.401850741614523; Mean Acc:0.17548483610153198; Time taken (s): 0.3931117057800293\n",
      "Dev Iteration 4500 complete. Mean Loss: 6.396610329771434; Mean Acc:0.17561212182044983; Time taken (s): 0.3933727741241455\n",
      "Dev Iteration 5000 complete. Mean Loss: 6.393652357308537; Mean Acc:0.17572548985481262; Time taken (s): 0.3890378475189209\n",
      "Dev Iteration 5500 complete. Mean Loss: 6.419507649481849; Mean Acc:0.1746753305196762; Time taken (s): 0.3905777931213379\n",
      "Dev Iteration 6000 complete. Mean Loss: 6.428254234574275; Mean Acc:0.17447572946548462; Time taken (s): 0.3988785743713379\n",
      "Epoch 8 complete! Development Accuracy: 0.17395910620689392; Development Loss: 6.436133138771934;  Development ppl: 623.9892488237836\n",
      "\n",
      "--- Training model Epoch: 10 ---\n",
      "Training Iteration 0 of epoch 9 complete. Loss: 8.372889518737793; Acc:0.1428571492433548; Time taken (s): 0.008705377578735352| ppl  4328.12\n",
      "Training Iteration 10000 of epoch 9 complete. Loss: 5.8796515464782715; Acc:0.2571428716182709; Time taken (s): 68.74839377403259| ppl   357.68\n",
      "Training Iteration 20000 of epoch 9 complete. Loss: 6.915250301361084; Acc:0.20000000298023224; Time taken (s): 68.72651362419128| ppl  1007.52\n",
      "Training Iteration 30000 of epoch 9 complete. Loss: 4.360115051269531; Acc:0.34285715222358704; Time taken (s): 68.70625305175781| ppl    78.27\n",
      "Training Iteration 40000 of epoch 9 complete. Loss: 4.2578864097595215; Acc:0.34285715222358704; Time taken (s): 68.7302885055542| ppl    70.66\n",
      "Training Iteration 50000 of epoch 9 complete. Loss: 6.77313756942749; Acc:0.17142857611179352; Time taken (s): 68.79679298400879| ppl   874.05\n",
      "\n",
      "--- Evaluating model on dev data ---\n",
      "Dev Iteration 0 complete. Mean Loss: 5.831057548522949; Mean Acc:0.2857142984867096; Time taken (s): 0.0013766288757324219\n",
      "Dev Iteration 500 complete. Mean Loss: 6.366108941698741; Mean Acc:0.17929846048355103; Time taken (s): 0.3904283046722412\n",
      "Dev Iteration 1000 complete. Mean Loss: 6.348746956526102; Mean Acc:0.18127571046352386; Time taken (s): 0.3947441577911377\n",
      "Dev Iteration 1500 complete. Mean Loss: 6.354615004597942; Mean Acc:0.18041284382343292; Time taken (s): 0.3925635814666748\n",
      "Dev Iteration 2000 complete. Mean Loss: 6.362683735925636; Mean Acc:0.17763957381248474; Time taken (s): 0.394733190536499\n",
      "Dev Iteration 2500 complete. Mean Loss: 6.3474384180215395; Mean Acc:0.1799508035182953; Time taken (s): 0.38918232917785645\n",
      "Dev Iteration 3000 complete. Mean Loss: 6.384663659586425; Mean Acc:0.17801684141159058; Time taken (s): 0.39975666999816895\n",
      "Dev Iteration 3500 complete. Mean Loss: 6.394319639516469; Mean Acc:0.1771329939365387; Time taken (s): 0.40043091773986816\n",
      "Dev Iteration 4000 complete. Mean Loss: 6.393747469151923; Mean Acc:0.1769418567419052; Time taken (s): 0.39339590072631836\n",
      "Dev Iteration 4500 complete. Mean Loss: 6.388674014251885; Mean Acc:0.17716114223003387; Time taken (s): 0.4194149971008301\n",
      "Dev Iteration 5000 complete. Mean Loss: 6.38600899300273; Mean Acc:0.1769881546497345; Time taken (s): 0.43377065658569336\n",
      "Dev Iteration 5500 complete. Mean Loss: 6.412402406039617; Mean Acc:0.17542845010757446; Time taken (s): 0.41376781463623047\n",
      "Dev Iteration 6000 complete. Mean Loss: 6.421351543487539; Mean Acc:0.17511841654777527; Time taken (s): 0.393291711807251\n",
      "Epoch 9 complete! Development Accuracy: 0.17448747158050537; Development Loss: 6.429079408526018;  Development ppl: 619.6032838783577\n",
      "\n",
      "--- Training model Epoch: 11 ---\n",
      "Training Iteration 0 of epoch 10 complete. Loss: 8.528494834899902; Acc:0.20000000298023224; Time taken (s): 0.00734400749206543| ppl  5056.83\n",
      "Training Iteration 10000 of epoch 10 complete. Loss: 5.757309436798096; Acc:0.2571428716182709; Time taken (s): 68.72779130935669| ppl   316.50\n",
      "Training Iteration 20000 of epoch 10 complete. Loss: 6.992902755737305; Acc:0.20000000298023224; Time taken (s): 68.74643063545227| ppl  1088.88\n",
      "Training Iteration 30000 of epoch 10 complete. Loss: 4.550850868225098; Acc:0.2857142984867096; Time taken (s): 68.7236979007721| ppl    94.71\n",
      "Training Iteration 40000 of epoch 10 complete. Loss: 4.364335536956787; Acc:0.34285715222358704; Time taken (s): 68.70134258270264| ppl    78.60\n",
      "Training Iteration 50000 of epoch 10 complete. Loss: 6.56190299987793; Acc:0.11428571492433548; Time taken (s): 68.65105175971985| ppl   707.62\n",
      "\n",
      "--- Evaluating model on dev data ---\n",
      "Dev Iteration 0 complete. Mean Loss: 5.931873798370361; Mean Acc:0.2571428716182709; Time taken (s): 0.0013136863708496094\n",
      "Dev Iteration 500 complete. Mean Loss: 6.358614411182746; Mean Acc:0.18414589762687683; Time taken (s): 0.39200663566589355\n",
      "Dev Iteration 1000 complete. Mean Loss: 6.3471184754586005; Mean Acc:0.18204624950885773; Time taken (s): 0.39641237258911133\n",
      "Dev Iteration 1500 complete. Mean Loss: 6.347800116551709; Mean Acc:0.18073652684688568; Time taken (s): 0.3928539752960205\n",
      "Dev Iteration 2000 complete. Mean Loss: 6.3545425525014245; Mean Acc:0.17803935706615448; Time taken (s): 0.40512847900390625\n",
      "Dev Iteration 2500 complete. Mean Loss: 6.342666148329105; Mean Acc:0.1796652376651764; Time taken (s): 0.40310025215148926\n",
      "Dev Iteration 3000 complete. Mean Loss: 6.378644921349828; Mean Acc:0.17770245671272278; Time taken (s): 0.4216620922088623\n",
      "Dev Iteration 3500 complete. Mean Loss: 6.38758850502852; Mean Acc:0.17737770080566406; Time taken (s): 0.3902571201324463\n",
      "Dev Iteration 4000 complete. Mean Loss: 6.3866631614956315; Mean Acc:0.17711998522281647; Time taken (s): 0.4236140251159668\n",
      "Dev Iteration 4500 complete. Mean Loss: 6.381246174819944; Mean Acc:0.17764966189861298; Time taken (s): 0.4103538990020752\n",
      "Dev Iteration 5000 complete. Mean Loss: 6.3802381196133595; Mean Acc:0.17732489109039307; Time taken (s): 0.39424896240234375\n",
      "Dev Iteration 5500 complete. Mean Loss: 6.406335175351606; Mean Acc:0.175765722990036; Time taken (s): 0.3936607837677002\n",
      "Dev Iteration 6000 complete. Mean Loss: 6.416603589630031; Mean Acc:0.17554661631584167; Time taken (s): 0.39502954483032227\n",
      "Epoch 10 complete! Development Accuracy: 0.17496022582054138; Development Loss: 6.423853319755875;  Development ppl: 616.3736286975662\n",
      "Best validation perplexity improved from 619.568213928632 to 616.3736286975662, saving model...\n",
      "\n",
      "--- Training model Epoch: 12 ---\n",
      "Training Iteration 0 of epoch 11 complete. Loss: 8.554855346679688; Acc:0.20000000298023224; Time taken (s): 0.007901191711425781| ppl  5191.90\n",
      "Training Iteration 10000 of epoch 11 complete. Loss: 5.426889419555664; Acc:0.2571428716182709; Time taken (s): 68.80160522460938| ppl   227.44\n",
      "Training Iteration 20000 of epoch 11 complete. Loss: 6.905734539031982; Acc:0.1428571492433548; Time taken (s): 68.69598269462585| ppl   997.98\n",
      "Training Iteration 30000 of epoch 11 complete. Loss: 4.684505462646484; Acc:0.2857142984867096; Time taken (s): 68.66949224472046| ppl   108.26\n",
      "Training Iteration 40000 of epoch 11 complete. Loss: 4.6172661781311035; Acc:0.37142857909202576; Time taken (s): 68.7202455997467| ppl   101.22\n",
      "Training Iteration 50000 of epoch 11 complete. Loss: 6.437967777252197; Acc:0.11428571492433548; Time taken (s): 68.73289799690247| ppl   625.14\n",
      "\n",
      "--- Evaluating model on dev data ---\n",
      "Dev Iteration 0 complete. Mean Loss: 5.896197319030762; Mean Acc:0.2857142984867096; Time taken (s): 0.001352548599243164\n",
      "Dev Iteration 500 complete. Mean Loss: 6.360906878869215; Mean Acc:0.18180763721466064; Time taken (s): 0.39154529571533203\n",
      "Dev Iteration 1000 complete. Mean Loss: 6.34539139628053; Mean Acc:0.18218888342380524; Time taken (s): 0.3900480270385742\n",
      "Dev Iteration 1500 complete. Mean Loss: 6.348884167232805; Mean Acc:0.18102192878723145; Time taken (s): 0.4083223342895508\n",
      "Dev Iteration 2000 complete. Mean Loss: 6.3542187761390645; Mean Acc:0.1783677190542221; Time taken (s): 0.4267125129699707\n",
      "Dev Iteration 2500 complete. Mean Loss: 6.341254887843981; Mean Acc:0.18009918928146362; Time taken (s): 0.39305853843688965\n",
      "Dev Iteration 3000 complete. Mean Loss: 6.379288254519853; Mean Acc:0.17762650549411774; Time taken (s): 0.3923609256744385\n",
      "Dev Iteration 3500 complete. Mean Loss: 6.3897495024955395; Mean Acc:0.17687182128429413; Time taken (s): 0.38924360275268555\n",
      "Dev Iteration 4000 complete. Mean Loss: 6.391266113488384; Mean Acc:0.17667020857334137; Time taken (s): 0.3947906494140625\n",
      "Dev Iteration 4500 complete. Mean Loss: 6.385381550159594; Mean Acc:0.17702767252922058; Time taken (s): 0.3930995464324951\n",
      "Dev Iteration 5000 complete. Mean Loss: 6.381299747440534; Mean Acc:0.17718222737312317; Time taken (s): 0.39043521881103516\n",
      "Dev Iteration 5500 complete. Mean Loss: 6.405785059651512; Mean Acc:0.17603082954883575; Time taken (s): 0.39320874214172363\n",
      "Dev Iteration 6000 complete. Mean Loss: 6.413984047792451; Mean Acc:0.17555151879787445; Time taken (s): 0.38854503631591797\n",
      "Epoch 11 complete! Development Accuracy: 0.17493757605552673; Development Loss: 6.420568390336522;  Development ppl: 614.3522067632574\n",
      "Best validation perplexity improved from 616.3736286975662 to 614.3522067632574, saving model...\n",
      "\n",
      "--- Training model Epoch: 13 ---\n",
      "Training Iteration 0 of epoch 12 complete. Loss: 8.399662017822266; Acc:0.17142857611179352; Time taken (s): 0.008036136627197266| ppl  4445.56\n",
      "Training Iteration 10000 of epoch 12 complete. Loss: 5.556906700134277; Acc:0.22857142984867096; Time taken (s): 68.72834587097168| ppl   259.02\n",
      "Training Iteration 20000 of epoch 12 complete. Loss: 7.037686824798584; Acc:0.22857142984867096; Time taken (s): 68.81447911262512| ppl  1138.75\n",
      "Training Iteration 30000 of epoch 12 complete. Loss: 4.601222515106201; Acc:0.3142857253551483; Time taken (s): 68.71235847473145| ppl    99.61\n",
      "Training Iteration 40000 of epoch 12 complete. Loss: 4.624669075012207; Acc:0.37142857909202576; Time taken (s): 68.78067255020142| ppl   101.97\n",
      "Training Iteration 50000 of epoch 12 complete. Loss: 6.9202880859375; Acc:0.17142857611179352; Time taken (s): 68.80126929283142| ppl  1012.61\n",
      "\n",
      "--- Evaluating model on dev data ---\n",
      "Dev Iteration 0 complete. Mean Loss: 5.466527462005615; Mean Acc:0.2571428716182709; Time taken (s): 0.0013129711151123047\n",
      "Dev Iteration 500 complete. Mean Loss: 6.360448171754559; Mean Acc:0.18078117072582245; Time taken (s): 0.389392614364624\n",
      "Dev Iteration 1000 complete. Mean Loss: 6.343886136175035; Mean Acc:0.17990557849407196; Time taken (s): 0.3909628391265869\n",
      "Dev Iteration 1500 complete. Mean Loss: 6.351569616103633; Mean Acc:0.17986072599887848; Time taken (s): 0.3945634365081787\n",
      "Dev Iteration 2000 complete. Mean Loss: 6.360989830185329; Mean Acc:0.17766793072223663; Time taken (s): 0.4005441665649414\n",
      "Dev Iteration 2500 complete. Mean Loss: 6.3457017614573585; Mean Acc:0.17960797250270844; Time taken (s): 0.39935755729675293\n",
      "Dev Iteration 3000 complete. Mean Loss: 6.3791848147801264; Mean Acc:0.17745493352413177; Time taken (s): 0.3949759006500244\n",
      "Dev Iteration 3500 complete. Mean Loss: 6.389327714559658; Mean Acc:0.1764800250530243; Time taken (s): 0.43694567680358887\n",
      "Dev Iteration 4000 complete. Mean Loss: 6.390513563150169; Mean Acc:0.17621318995952606; Time taken (s): 0.45943427085876465\n",
      "Dev Iteration 4500 complete. Mean Loss: 6.3868587240328445; Mean Acc:0.17709125578403473; Time taken (s): 0.40334630012512207\n",
      "Dev Iteration 5000 complete. Mean Loss: 6.384677008399247; Mean Acc:0.17691382765769958; Time taken (s): 0.392864465713501\n",
      "Dev Iteration 5500 complete. Mean Loss: 6.41082663058021; Mean Acc:0.17580755054950714; Time taken (s): 0.3909435272216797\n",
      "Dev Iteration 6000 complete. Mean Loss: 6.419060045809492; Mean Acc:0.17554204165935516; Time taken (s): 0.3948018550872803\n",
      "Epoch 12 complete! Development Accuracy: 0.17497439682483673; Development Loss: 6.425572572691415;  Development ppl: 617.434242338402\n",
      "\n",
      "--- Training model Epoch: 14 ---\n",
      "Training Iteration 0 of epoch 13 complete. Loss: 8.616828918457031; Acc:0.1428571492433548; Time taken (s): 0.00750732421875| ppl  5523.84\n",
      "Training Iteration 10000 of epoch 13 complete. Loss: 5.844199180603027; Acc:0.2571428716182709; Time taken (s): 69.00198674201965| ppl   345.23\n",
      "Training Iteration 20000 of epoch 13 complete. Loss: 7.137876033782959; Acc:0.20000000298023224; Time taken (s): 68.91253638267517| ppl  1258.75\n",
      "Training Iteration 30000 of epoch 13 complete. Loss: 4.65603494644165; Acc:0.2571428716182709; Time taken (s): 69.12939238548279| ppl   105.22\n",
      "Training Iteration 40000 of epoch 13 complete. Loss: 4.629688262939453; Acc:0.34285715222358704; Time taken (s): 69.01898455619812| ppl   102.48\n",
      "Training Iteration 50000 of epoch 13 complete. Loss: 6.713571071624756; Acc:0.20000000298023224; Time taken (s): 69.08888912200928| ppl   823.51\n",
      "\n",
      "--- Evaluating model on dev data ---\n",
      "Dev Iteration 0 complete. Mean Loss: 6.036502838134766; Mean Acc:0.22857142984867096; Time taken (s): 0.0013477802276611328\n",
      "Dev Iteration 500 complete. Mean Loss: 6.347104202725454; Mean Acc:0.18420295417308807; Time taken (s): 0.39292120933532715\n",
      "Dev Iteration 1000 complete. Mean Loss: 6.337865186261607; Mean Acc:0.18281686305999756; Time taken (s): 0.3960886001586914\n",
      "Dev Iteration 1500 complete. Mean Loss: 6.341696190325758; Mean Acc:0.1808314174413681; Time taken (s): 0.39285802841186523\n",
      "Dev Iteration 2000 complete. Mean Loss: 6.3496834415009715; Mean Acc:0.17821067571640015; Time taken (s): 0.3960866928100586\n",
      "Dev Iteration 2500 complete. Mean Loss: 6.33541180824385; Mean Acc:0.17977941036224365; Time taken (s): 0.3879234790802002\n",
      "Dev Iteration 3000 complete. Mean Loss: 6.372188062955442; Mean Acc:0.17780742049217224; Time taken (s): 0.39028286933898926\n",
      "Dev Iteration 3500 complete. Mean Loss: 6.383307819092693; Mean Acc:0.17700259387493134; Time taken (s): 0.3957529067993164\n",
      "Dev Iteration 4000 complete. Mean Loss: 6.382783096064868; Mean Acc:0.17689205706119537; Time taken (s): 0.38829946517944336\n",
      "Dev Iteration 4500 complete. Mean Loss: 6.3787787493216515; Mean Acc:0.1771487295627594; Time taken (s): 0.40755486488342285\n",
      "Dev Iteration 5000 complete. Mean Loss: 6.376000544019424; Mean Acc:0.1772397756576538; Time taken (s): 0.42577219009399414\n",
      "Dev Iteration 5500 complete. Mean Loss: 6.401344469624679; Mean Acc:0.17621301114559174; Time taken (s): 0.3946213722229004\n",
      "Dev Iteration 6000 complete. Mean Loss: 6.4099527039223565; Mean Acc:0.17571859061717987; Time taken (s): 0.3974184989929199\n",
      "Epoch 13 complete! Development Accuracy: 0.17511717975139618; Development Loss: 6.416759899429693;  Development ppl: 612.0169017868153\n",
      "Best validation perplexity improved from 614.3522067632574 to 612.0169017868153, saving model...\n",
      "\n",
      "--- Training model Epoch: 15 ---\n",
      "Training Iteration 0 of epoch 14 complete. Loss: 8.911161422729492; Acc:0.1428571492433548; Time taken (s): 0.00799703598022461| ppl  7414.27\n",
      "Training Iteration 10000 of epoch 14 complete. Loss: 5.527151107788086; Acc:0.22857142984867096; Time taken (s): 68.98475098609924| ppl   251.43\n",
      "Training Iteration 20000 of epoch 14 complete. Loss: 7.185687065124512; Acc:0.17142857611179352; Time taken (s): 68.90465974807739| ppl  1320.40\n",
      "Training Iteration 30000 of epoch 14 complete. Loss: 4.55738639831543; Acc:0.3142857253551483; Time taken (s): 68.8885612487793| ppl    95.33\n",
      "Training Iteration 40000 of epoch 14 complete. Loss: 4.5507121086120605; Acc:0.34285715222358704; Time taken (s): 68.94005870819092| ppl    94.70\n",
      "Training Iteration 50000 of epoch 14 complete. Loss: 6.969996452331543; Acc:0.08571428805589676; Time taken (s): 68.96445226669312| ppl  1064.22\n",
      "\n",
      "--- Evaluating model on dev data ---\n",
      "Dev Iteration 0 complete. Mean Loss: 5.915911674499512; Mean Acc:0.2571428716182709; Time taken (s): 0.0013210773468017578\n",
      "Dev Iteration 500 complete. Mean Loss: 6.349105910864656; Mean Acc:0.18237794935703278; Time taken (s): 0.3931291103363037\n",
      "Dev Iteration 1000 complete. Mean Loss: 6.335648835479439; Mean Acc:0.1824459433555603; Time taken (s): 0.39260077476501465\n",
      "Dev Iteration 1500 complete. Mean Loss: 6.335962426654503; Mean Acc:0.18090775609016418; Time taken (s): 0.3927731513977051\n",
      "Dev Iteration 2000 complete. Mean Loss: 6.3467085798164415; Mean Acc:0.17839644849300385; Time taken (s): 0.39501357078552246\n",
      "Dev Iteration 2500 complete. Mean Loss: 6.33708050292952; Mean Acc:0.18024788796901703; Time taken (s): 0.3880765438079834\n",
      "Dev Iteration 3000 complete. Mean Loss: 6.371455400914043; Mean Acc:0.17784540355205536; Time taken (s): 0.39199090003967285\n",
      "Dev Iteration 3500 complete. Mean Loss: 6.384041676518577; Mean Acc:0.17646369338035583; Time taken (s): 0.39371752738952637\n",
      "Dev Iteration 4000 complete. Mean Loss: 6.384315414775523; Mean Acc:0.1763201355934143; Time taken (s): 0.4202296733856201\n",
      "Dev Iteration 4500 complete. Mean Loss: 6.3800465458103135; Mean Acc:0.17620232701301575; Time taken (s): 0.39322876930236816\n",
      "Dev Iteration 5000 complete. Mean Loss: 6.375451221081811; Mean Acc:0.17625094950199127; Time taken (s): 0.3911139965057373\n",
      "Dev Iteration 5500 complete. Mean Loss: 6.401516747786725; Mean Acc:0.17499211430549622; Time taken (s): 0.3901057243347168\n",
      "Dev Iteration 6000 complete. Mean Loss: 6.41006602720109; Mean Acc:0.17477069795131683; Time taken (s): 0.3939244747161865\n",
      "Epoch 14 complete! Development Accuracy: 0.17424382269382477; Development Loss: 6.417643327750583;  Development ppl: 612.5578137440086\n"
     ]
    }
   ],
   "source": [
    "# Using negative log-likelihood loss\n",
    "loss_function = nn.NLLLoss()\n",
    "\n",
    "# create model\n",
    "ntokens = len(corpus.dictionary)\n",
    "model = FNNModel(ntokens, args.emsize, args.context_size, args.nhid).to(device)\n",
    "\n",
    "# # load it to gpu\n",
    "# model.cuda(gpu)\n",
    "\n",
    "# using ADAM optimizer\n",
    "optimizer = optim.Adam(model.parameters(), lr = 2e-3)\n",
    "\n",
    "#define epochs\n",
    "epochs = 15\n",
    "\n",
    "\n",
    "# ------------------------- TRAIN & SAVE MODEL ------------------------\n",
    "best_acc = 0\n",
    "best_per= 9999999999999999\n",
    "best_model_path = None\n",
    "#training set results \n",
    "loss_values=[]\n",
    "ppl_values=[]\n",
    "acc_values=[]\n",
    "\n",
    "#val set results\n",
    "val_loss = []\n",
    "val_ppl=[]\n",
    "val_acc=[]\n",
    "\n",
    "for epoch in range(epochs):\n",
    "    st = time.time()\n",
    "    running_loss = 0.0\n",
    "    running_ppl =0.0\n",
    "    running_acc=0.0\n",
    "    print(\"\\n--- Training model Epoch: {} ---\".format(epoch+1))\n",
    "    for it, data_tensor in enumerate(range(0, train_data.size(0) - 1, args.bptt)):\n",
    "        # context_tensor = data_tensor[:,0:2]\n",
    "        # target_tensor = data_tensor[:,2]\n",
    "        context_tensor, target_tensor= get_batch(train_data, data_tensor)\n",
    "\n",
    "        context_tensor, target_tensor = context_tensor.to(device), target_tensor.to(device)\n",
    "\n",
    "        # zero out the gradients from the old instance\n",
    "        model.zero_grad()\n",
    "\n",
    "        # get log probabilities over next words\n",
    "        log_probs = model(context_tensor)\n",
    "\n",
    "        # calculate current accuracy\n",
    "        acc = get_accuracy_from_log_probs(log_probs, target_tensor)\n",
    "\n",
    "        # compute loss function\n",
    "        loss = loss_function(log_probs, target_tensor)\n",
    "\n",
    "        # backward pass and update gradient\n",
    "        loss.backward()\n",
    "        optimizer.step()\n",
    "        \n",
    "        #getting thw total running loss and running perplexity\n",
    "        running_loss = running_loss + loss.item()\n",
    "        running_ppl = running_ppl + math.exp(loss.item())\n",
    "        running_acc = running_acc+ acc\n",
    "\n",
    "\n",
    "        if it % 10000 == 0: \n",
    "            print(\"Training Iteration {} of epoch {} complete. Loss: {}; Acc:{}; Time taken (s): {}| ppl {:8.2f}\".format(it, epoch, loss.item(), acc, (time.time()-st),  math.exp(loss.item())))\n",
    "            st = time.time()\n",
    "    \n",
    "    #Getting the total loss, perplexity and accuracy\n",
    "    total_runs = math.floor((train_data.size(0) - 1)/(args.bptt))\n",
    "    loss_values.append(running_loss / total_runs)\n",
    "    ppl_values.append(running_ppl / total_runs)\n",
    "    acc_values.append(running_acc/ total_runs)\n",
    "\n",
    "    #Evaluating the model on validation data set\n",
    "    print(\"\\n--- Evaluating model on dev data ---\")\n",
    "    dev_acc, dev_loss = evaluate(model, loss_function, val_data)\n",
    "    dev_per = math.exp(dev_loss)\n",
    "    print(\"Epoch {} complete! Development Accuracy: {}; Development Loss: {};  Development ppl: {}\".format(epoch, dev_acc, dev_loss, dev_per))\n",
    "    val_acc.append(dev_acc)\n",
    "    val_loss.append(dev_loss)\n",
    "    val_ppl.append(dev_per)\n",
    "\n",
    "    # saving the model with lowest perplexity\n",
    "    if dev_per < best_per:\n",
    "        print(\"Best validation perplexity improved from {} to {}, saving model...\".format(best_per, dev_per))\n",
    "        best_per = dev_per\n",
    "        with open(args.save, 'wb') as f:\n",
    "            torch.save(model, f)\n",
    "        # set best model path\n",
    "\n",
    "\n",
    "        \n",
    "#         best_model_path = 'best_model_{}.dat'.format(epoch)\n",
    "#         # saving best model\n",
    "#         torch.save(model.state_dict(), best_model_path)"
   ]
  },
  {
   "cell_type": "code",
   "execution_count": null,
   "metadata": {
    "colab": {
     "base_uri": "https://localhost:8080/",
     "height": 313
    },
    "executionInfo": {
     "elapsed": 941,
     "status": "ok",
     "timestamp": 1606628915982,
     "user": {
      "displayName": "yong wei",
      "photoUrl": "https://lh3.googleusercontent.com/a-/AOh14GhYJ6D3p-i8GPWEqh4u2s4VniV_lHZd6l3-eHSaqA=s64",
      "userId": "07110467073693299033"
     },
     "user_tz": -480
    },
    "id": "6Y8ffPM8skp7",
    "outputId": "794bd37a-65e9-4d25-a248-709ad7c72971"
   },
   "outputs": [
    {
     "data": {
      "image/png": "[encoded data removed]",
      "text/plain": [
       "<Figure size 432x288 with 1 Axes>"
      ]
     },
     "metadata": {
      "needs_background": "light",
      "tags": []
     },
     "output_type": "display_data"
    },
    {
     "data": {
      "text/plain": [
       "<Figure size 432x288 with 0 Axes>"
      ]
     },
     "metadata": {
      "tags": []
     },
     "output_type": "display_data"
    }
   ],
   "source": [
    "plt.plot(loss_values)\n",
    "plt.plot(val_loss)\n",
    "plt.title('model loss')\n",
    "plt.ylabel('loss')\n",
    "plt.xlabel('epoch')\n",
    "plt.legend(['train', 'test'], loc='upper right')\n",
    "plt.show()\n",
    "\n",
    "# plt.plot(loss_values)\n",
    "# plt.xlabel('Epochs')\n",
    "# plt.ylabel('Loss')\n",
    "# plt.title('Train loss graph')\n",
    "plt.savefig('/content/drive/MyDrive/Colab_Notebooks/NLP_assignment2/results/loss.png')"
   ]
  },
  {
   "cell_type": "code",
   "execution_count": null,
   "metadata": {
    "colab": {
     "base_uri": "https://localhost:8080/",
     "height": 313
    },
    "executionInfo": {
     "elapsed": 903,
     "status": "ok",
     "timestamp": 1606628919850,
     "user": {
      "displayName": "yong wei",
      "photoUrl": "https://lh3.googleusercontent.com/a-/AOh14GhYJ6D3p-i8GPWEqh4u2s4VniV_lHZd6l3-eHSaqA=s64",
      "userId": "07110467073693299033"
     },
     "user_tz": -480
    },
    "id": "_-ac3MXlskp7",
    "outputId": "60deed63-937d-4357-c616-4141df7b11a9"
   },
   "outputs": [
    {
     "data": {
      "image/png": "[encoded data removed]",
      "text/plain": [
       "<Figure size 432x288 with 1 Axes>"
      ]
     },
     "metadata": {
      "needs_background": "light",
      "tags": []
     },
     "output_type": "display_data"
    },
    {
     "data": {
      "text/plain": [
       "<Figure size 432x288 with 0 Axes>"
      ]
     },
     "metadata": {
      "tags": []
     },
     "output_type": "display_data"
    }
   ],
   "source": [
    "plt.plot(acc_values)\n",
    "plt.plot(val_acc)\n",
    "plt.title('model accuracy')\n",
    "plt.ylabel('accuracy')\n",
    "plt.xlabel('epoch')\n",
    "plt.legend(['train', 'test'], loc='upper left')\n",
    "plt.show()\n",
    "\n",
    "# plt.plot(acc_values)\n",
    "# plt.xlabel('Epochs')\n",
    "# plt.ylabel('Accuracy')\n",
    "# plt.title('Train accuracy graph')\n",
    "plt.savefig('/content/drive/MyDrive/Colab_Notebooks/NLP_assignment2/results/accuracy.png')"
   ]
  },
  {
   "cell_type": "code",
   "execution_count": null,
   "metadata": {
    "colab": {
     "base_uri": "https://localhost:8080/",
     "height": 313
    },
    "executionInfo": {
     "elapsed": 943,
     "status": "ok",
     "timestamp": 1606628923578,
     "user": {
      "displayName": "yong wei",
      "photoUrl": "https://lh3.googleusercontent.com/a-/AOh14GhYJ6D3p-i8GPWEqh4u2s4VniV_lHZd6l3-eHSaqA=s64",
      "userId": "07110467073693299033"
     },
     "user_tz": -480
    },
    "id": "jrZ_F2WBoAo2",
    "outputId": "8f1b3db3-3f42-459f-863a-3d41216d6eba"
   },
   "outputs": [
    {
     "data": {
      "image/png": "[encoded data removed]",
      "text/plain": [
       "<Figure size 432x288 with 1 Axes>"
      ]
     },
     "metadata": {
      "needs_background": "light",
      "tags": []
     },
     "output_type": "display_data"
    },
    {
     "data": {
      "text/plain": [
       "<Figure size 432x288 with 0 Axes>"
      ]
     },
     "metadata": {
      "tags": []
     },
     "output_type": "display_data"
    }
   ],
   "source": [
    "plt.plot(ppl_values)\n",
    "plt.plot(val_ppl)\n",
    "plt.title('model perplexity')\n",
    "plt.ylabel('perplexity')\n",
    "plt.xlabel('epoch')\n",
    "plt.legend(['train', 'test'], loc='upper right')\n",
    "plt.show()\n",
    "\n",
    "# plt.plot(ppl_values)\n",
    "# plt.xlabel('Epochs')\n",
    "# plt.ylabel('Perplexity')\n",
    "# plt.title('Train perplexity graph')\n",
    "plt.savefig('/content/drive/MyDrive/Colab_Notebooks/NLP_assignment2/results/ppl.png')"
   ]
  },
  {
   "cell_type": "markdown",
   "metadata": {
    "id": "n5A94g4D9HmI"
   },
   "source": [
    "# Evaluation on test set"
   ]
  },
  {
   "cell_type": "code",
   "execution_count": null,
   "metadata": {
    "id": "L4tq4ShaoMOs"
   },
   "outputs": [],
   "source": [
    "# Load the best saved model.\n",
    "with open(args.save, 'rb') as f:\n",
    "    model = torch.load(f)"
   ]
  },
  {
   "cell_type": "code",
   "execution_count": null,
   "metadata": {
    "colab": {
     "base_uri": "https://localhost:8080/"
    },
    "executionInfo": {
     "elapsed": 6419,
     "status": "ok",
     "timestamp": 1606630133113,
     "user": {
      "displayName": "yong wei",
      "photoUrl": "https://lh3.googleusercontent.com/a-/AOh14GhYJ6D3p-i8GPWEqh4u2s4VniV_lHZd6l3-eHSaqA=s64",
      "userId": "07110467073693299033"
     },
     "user_tz": -480
    },
    "id": "LZNBU_NB9hBL",
    "outputId": "24a849d1-71f5-4b68-d349-95c0b61b770f"
   },
   "outputs": [
    {
     "name": "stdout",
     "output_type": "stream",
     "text": [
      "Dev Iteration 0 complete. Mean Loss: 5.680124282836914; Mean Acc:0.20000000298023224; Time taken (s): 0.0035195350646972656\n",
      "Dev Iteration 500 complete. Mean Loss: 6.290098849408879; Mean Acc:0.17610502243041992; Time taken (s): 0.4769558906555176\n",
      "Dev Iteration 1000 complete. Mean Loss: 6.309255191258022; Mean Acc:0.1764804571866989; Time taken (s): 0.4161710739135742\n",
      "Dev Iteration 1500 complete. Mean Loss: 6.341735413994176; Mean Acc:0.17502592504024506; Time taken (s): 0.3851742744445801\n",
      "Dev Iteration 2000 complete. Mean Loss: 6.334310414134592; Mean Acc:0.1725277602672577; Time taken (s): 0.38787364959716797\n",
      "Dev Iteration 2500 complete. Mean Loss: 6.325337579182652; Mean Acc:0.1718510538339615; Time taken (s): 0.3876223564147949\n",
      "Dev Iteration 3000 complete. Mean Loss: 6.266843234169924; Mean Acc:0.1763506531715393; Time taken (s): 0.38656067848205566\n",
      "Dev Iteration 3500 complete. Mean Loss: 6.306699532776075; Mean Acc:0.17470096051692963; Time taken (s): 0.38921332359313965\n",
      "Dev Iteration 4000 complete. Mean Loss: 6.297940482499748; Mean Acc:0.17552050948143005; Time taken (s): 0.38689661026000977\n",
      "Dev Iteration 4500 complete. Mean Loss: 6.345192756580793; Mean Acc:0.1724885106086731; Time taken (s): 0.38851189613342285\n",
      "Dev Iteration 5000 complete. Mean Loss: 6.353614268410661; Mean Acc:0.17122295498847961; Time taken (s): 0.39373230934143066\n",
      "Dev Iteration 5500 complete. Mean Loss: 6.341883144775665; Mean Acc:0.17268046736717224; Time taken (s): 0.38503313064575195\n",
      "Dev Iteration 6000 complete. Mean Loss: 6.321306601064918; Mean Acc:0.17435690760612488; Time taken (s): 0.38462066650390625\n",
      "Dev Iteration 6500 complete. Mean Loss: 6.3322390850242005; Mean Acc:0.17509278655052185; Time taken (s): 0.3866288661956787\n",
      "Dev Iteration 7000 complete. Mean Loss: 6.336879749942415; Mean Acc:0.17554794251918793; Time taken (s): 0.4031965732574463\n",
      "=========================================================================================\n",
      "| End of training | test loss  6.34 | test ppl   564.95 | test acc  0.18\n",
      "=========================================================================================\n"
     ]
    }
   ],
   "source": [
    "# Run on test data.\n",
    "test_acc, test_loss = evaluate(model, loss_function, test_data)\n",
    "print('=' * 89)\n",
    "print('| End of training | test loss {:5.2f} | test ppl {:8.2f} | test acc {:5.2f}'.format(\n",
    "    test_loss, math.exp(test_loss), test_acc))\n",
    "print('=' * 89)"
   ]
  },
  {
   "cell_type": "markdown",
   "metadata": {
    "id": "o3PHXt9PAaEX"
   },
   "source": [
    "# sharing the input (look-up matrix) and output layerembeddings (final layer weights)"
   ]
  },
  {
   "cell_type": "code",
   "execution_count": 36,
   "metadata": {
    "colab": {
     "base_uri": "https://localhost:8080/"
    },
    "executionInfo": {
     "elapsed": 4239037,
     "status": "ok",
     "timestamp": 1606640620267,
     "user": {
      "displayName": "yong wei",
      "photoUrl": "https://lh3.googleusercontent.com/a-/AOh14GhYJ6D3p-i8GPWEqh4u2s4VniV_lHZd6l3-eHSaqA=s64",
      "userId": "07110467073693299033"
     },
     "user_tz": -480
    },
    "id": "gdW0iP-N8nP_",
    "outputId": "20395475-3b59-4763-ce98-f629555db618"
   },
   "outputs": [
    {
     "name": "stdout",
     "output_type": "stream",
     "text": [
      "\n",
      "--- Training model Epoch: 1 ---\n",
      "Training Iteration 0 of epoch 0 complete. Loss: 10.410841941833496; Acc:0.0; Time taken (s): 0.0063915252685546875| ppl 33217.83\n",
      "Training Iteration 10000 of epoch 0 complete. Loss: 6.150674343109131; Acc:0.22857142984867096; Time taken (s): 46.65420651435852| ppl   469.03\n",
      "Training Iteration 20000 of epoch 0 complete. Loss: 7.674670219421387; Acc:0.17142857611179352; Time taken (s): 46.616883993148804| ppl  2153.11\n",
      "Training Iteration 30000 of epoch 0 complete. Loss: 4.009619235992432; Acc:0.37142857909202576; Time taken (s): 46.66108202934265| ppl    55.13\n",
      "Training Iteration 40000 of epoch 0 complete. Loss: 4.795612812042236; Acc:0.34285715222358704; Time taken (s): 46.652491331100464| ppl   120.98\n",
      "Training Iteration 50000 of epoch 0 complete. Loss: 7.3600263595581055; Acc:0.17142857611179352; Time taken (s): 46.67134761810303| ppl  1571.88\n",
      "\n",
      "--- Evaluating model on dev data ---\n",
      "Dev Iteration 0 complete. Mean Loss: 5.449685573577881; Mean Acc:0.1428571492433548; Time taken (s): 0.001539468765258789\n",
      "Dev Iteration 500 complete. Mean Loss: 6.674084968433647; Mean Acc:0.1639007180929184; Time taken (s): 0.3962893486022949\n",
      "Dev Iteration 1000 complete. Mean Loss: 6.644557975746178; Mean Acc:0.16466380655765533; Time taken (s): 0.39743876457214355\n",
      "Dev Iteration 1500 complete. Mean Loss: 6.649162953730666; Mean Acc:0.16362400352954865; Time taken (s): 0.4034883975982666\n",
      "Dev Iteration 2000 complete. Mean Loss: 6.671514562700225; Mean Acc:0.16174732148647308; Time taken (s): 0.3978908061981201\n",
      "Dev Iteration 2500 complete. Mean Loss: 6.657418138835012; Mean Acc:0.1633286029100418; Time taken (s): 0.39742326736450195\n",
      "Dev Iteration 3000 complete. Mean Loss: 6.699207598668105; Mean Acc:0.16093654930591583; Time taken (s): 0.3958413600921631\n",
      "Dev Iteration 3500 complete. Mean Loss: 6.700864452663335; Mean Acc:0.16037845611572266; Time taken (s): 0.39376187324523926\n",
      "Dev Iteration 4000 complete. Mean Loss: 6.707635870041832; Mean Acc:0.15930993854999542; Time taken (s): 0.3991410732269287\n",
      "Dev Iteration 4500 complete. Mean Loss: 6.7005490487587505; Mean Acc:0.15965965390205383; Time taken (s): 0.39518022537231445\n",
      "Dev Iteration 5000 complete. Mean Loss: 6.7024036567942; Mean Acc:0.1591336578130722; Time taken (s): 0.3962738513946533\n",
      "Dev Iteration 5500 complete. Mean Loss: 6.725085933865948; Mean Acc:0.1581995189189911; Time taken (s): 0.4008917808532715\n",
      "Dev Iteration 6000 complete. Mean Loss: 6.727885450885368; Mean Acc:0.15792107582092285; Time taken (s): 0.4015967845916748\n",
      "Epoch 0 complete! Development Accuracy: 0.15760888159275055; Development Loss: 6.730680856966938;  Development ppl: 837.7174375831578\n",
      "Best validation perplexity improved from 9999999999999999 to 837.7174375831578, saving model...\n",
      "\n",
      "--- Training model Epoch: 2 ---\n",
      "Training Iteration 0 of epoch 1 complete. Loss: 10.32209300994873; Acc:0.1428571492433548; Time taken (s): 0.0057795047760009766| ppl 30396.81\n",
      "Training Iteration 10000 of epoch 1 complete. Loss: 5.800748348236084; Acc:0.17142857611179352; Time taken (s): 46.76062822341919| ppl   330.55\n",
      "Training Iteration 20000 of epoch 1 complete. Loss: 7.410038471221924; Acc:0.17142857611179352; Time taken (s): 46.72407269477844| ppl  1652.49\n",
      "Training Iteration 30000 of epoch 1 complete. Loss: 4.119683742523193; Acc:0.3142857253551483; Time taken (s): 46.694281816482544| ppl    61.54\n",
      "Training Iteration 40000 of epoch 1 complete. Loss: 4.839305400848389; Acc:0.4000000059604645; Time taken (s): 46.653645753860474| ppl   126.38\n",
      "Training Iteration 50000 of epoch 1 complete. Loss: 6.93270206451416; Acc:0.1428571492433548; Time taken (s): 46.64181613922119| ppl  1025.26\n",
      "\n",
      "--- Evaluating model on dev data ---\n",
      "Dev Iteration 0 complete. Mean Loss: 5.360635757446289; Mean Acc:0.2857142984867096; Time taken (s): 0.0013091564178466797\n",
      "Dev Iteration 500 complete. Mean Loss: 6.64320027423714; Mean Acc:0.15973766148090363; Time taken (s): 0.3937242031097412\n",
      "Dev Iteration 1000 complete. Mean Loss: 6.644209917013224; Mean Acc:0.15909796953201294; Time taken (s): 0.3950660228729248\n",
      "Dev Iteration 1500 complete. Mean Loss: 6.644616217235181; Mean Acc:0.15981696546077728; Time taken (s): 0.39461827278137207\n",
      "Dev Iteration 2000 complete. Mean Loss: 6.654819208523561; Mean Acc:0.1586916446685791; Time taken (s): 0.3936607837677002\n",
      "Dev Iteration 2500 complete. Mean Loss: 6.63742238566762; Mean Acc:0.15979868173599243; Time taken (s): 0.3999447822570801\n",
      "Dev Iteration 3000 complete. Mean Loss: 6.676994768153505; Mean Acc:0.1570330560207367; Time taken (s): 0.39463067054748535\n",
      "Dev Iteration 3500 complete. Mean Loss: 6.68340730020163; Mean Acc:0.15668149292469025; Time taken (s): 0.3912942409515381\n",
      "Dev Iteration 4000 complete. Mean Loss: 6.694049682416966; Mean Acc:0.15536795556545258; Time taken (s): 0.39455533027648926\n",
      "Dev Iteration 4500 complete. Mean Loss: 6.6881908155817165; Mean Acc:0.15501271188259125; Time taken (s): 0.39315009117126465\n",
      "Dev Iteration 5000 complete. Mean Loss: 6.687168851515646; Mean Acc:0.15472856163978577; Time taken (s): 0.39452052116394043\n",
      "Dev Iteration 5500 complete. Mean Loss: 6.7128759050256575; Mean Acc:0.15316610038280487; Time taken (s): 0.39800214767456055\n",
      "Dev Iteration 6000 complete. Mean Loss: 6.722391237677822; Mean Acc:0.15298780798912048; Time taken (s): 0.39144086837768555\n",
      "Epoch 1 complete! Development Accuracy: 0.15281175076961517; Development Loss: 6.726650143651108;  Development ppl: 834.3476346696589\n",
      "Best validation perplexity improved from 837.7174375831578 to 834.3476346696589, saving model...\n",
      "\n",
      "--- Training model Epoch: 3 ---\n",
      "Training Iteration 0 of epoch 2 complete. Loss: 10.313740730285645; Acc:0.1428571492433548; Time taken (s): 0.005697965621948242| ppl 30143.99\n",
      "Training Iteration 10000 of epoch 2 complete. Loss: 5.821382522583008; Acc:0.20000000298023224; Time taken (s): 46.62283992767334| ppl   337.44\n",
      "Training Iteration 20000 of epoch 2 complete. Loss: 7.267877578735352; Acc:0.20000000298023224; Time taken (s): 46.54273843765259| ppl  1433.50\n",
      "Training Iteration 30000 of epoch 2 complete. Loss: 4.54232120513916; Acc:0.22857142984867096; Time taken (s): 46.56882166862488| ppl    93.91\n",
      "Training Iteration 40000 of epoch 2 complete. Loss: 4.9624762535095215; Acc:0.34285715222358704; Time taken (s): 46.57425618171692| ppl   142.95\n",
      "Training Iteration 50000 of epoch 2 complete. Loss: 6.593637466430664; Acc:0.1428571492433548; Time taken (s): 46.566710233688354| ppl   730.43\n",
      "\n",
      "--- Evaluating model on dev data ---\n",
      "Dev Iteration 0 complete. Mean Loss: 5.396097183227539; Mean Acc:0.2571428716182709; Time taken (s): 0.0013136863708496094\n",
      "Dev Iteration 500 complete. Mean Loss: 6.728342504558449; Mean Acc:0.16509826481342316; Time taken (s): 0.4006204605102539\n",
      "Dev Iteration 1000 complete. Mean Loss: 6.711587652459845; Mean Acc:0.16412129998207092; Time taken (s): 0.39471912384033203\n",
      "Dev Iteration 1500 complete. Mean Loss: 6.717132485444986; Mean Acc:0.16272921860218048; Time taken (s): 0.39751482009887695\n",
      "Dev Iteration 2000 complete. Mean Loss: 6.73583064765587; Mean Acc:0.1596912294626236; Time taken (s): 0.3992953300476074\n",
      "Dev Iteration 2500 complete. Mean Loss: 6.71503806085598; Mean Acc:0.1605183482170105; Time taken (s): 0.3960874080657959\n",
      "Dev Iteration 3000 complete. Mean Loss: 6.755186829079155; Mean Acc:0.15801365673542023; Time taken (s): 0.39581799507141113\n",
      "Dev Iteration 3500 complete. Mean Loss: 6.760594125203969; Mean Acc:0.15784838795661926; Time taken (s): 0.3955247402191162\n",
      "Dev Iteration 4000 complete. Mean Loss: 6.771524472106727; Mean Acc:0.1567961871623993; Time taken (s): 0.3971374034881592\n",
      "Dev Iteration 4500 complete. Mean Loss: 6.766836368780723; Mean Acc:0.15614275634288788; Time taken (s): 0.3959803581237793\n",
      "Dev Iteration 5000 complete. Mean Loss: 6.770093494785997; Mean Acc:0.15604272484779358; Time taken (s): 0.39639711380004883\n",
      "Dev Iteration 5500 complete. Mean Loss: 6.796138043187788; Mean Acc:0.15515567362308502; Time taken (s): 0.4004244804382324\n",
      "Dev Iteration 6000 complete. Mean Loss: 6.801302466426685; Mean Acc:0.1552497297525406; Time taken (s): 0.39484572410583496\n",
      "Epoch 2 complete! Development Accuracy: 0.154966801404953; Development Loss: 6.805058543638777;  Development ppl: 902.4005981966309\n",
      "\n",
      "--- Training model Epoch: 4 ---\n",
      "Training Iteration 0 of epoch 3 complete. Loss: 10.124624252319336; Acc:0.17142857611179352; Time taken (s): 0.0053331851959228516| ppl 24949.88\n",
      "Training Iteration 10000 of epoch 3 complete. Loss: 5.827665328979492; Acc:0.22857142984867096; Time taken (s): 46.54453253746033| ppl   339.56\n",
      "Training Iteration 20000 of epoch 3 complete. Loss: 7.499151706695557; Acc:0.1428571492433548; Time taken (s): 46.5936233997345| ppl  1806.51\n",
      "Training Iteration 30000 of epoch 3 complete. Loss: 4.576850891113281; Acc:0.34285715222358704; Time taken (s): 46.58873772621155| ppl    97.21\n",
      "Training Iteration 40000 of epoch 3 complete. Loss: 5.090830326080322; Acc:0.34285715222358704; Time taken (s): 46.58051681518555| ppl   162.52\n",
      "Training Iteration 50000 of epoch 3 complete. Loss: 6.723501682281494; Acc:0.11428571492433548; Time taken (s): 46.54728150367737| ppl   831.72\n",
      "\n",
      "--- Evaluating model on dev data ---\n",
      "Dev Iteration 0 complete. Mean Loss: 5.639142990112305; Mean Acc:0.2571428716182709; Time taken (s): 0.0012907981872558594\n",
      "Dev Iteration 500 complete. Mean Loss: 6.755832495089776; Mean Acc:0.15471912920475006; Time taken (s): 0.3967297077178955\n",
      "Dev Iteration 1000 complete. Mean Loss: 6.740827573524727; Mean Acc:0.156243696808815; Time taken (s): 0.3956105709075928\n",
      "Dev Iteration 1500 complete. Mean Loss: 6.746664913235943; Mean Acc:0.15555325150489807; Time taken (s): 0.39969754219055176\n",
      "Dev Iteration 2000 complete. Mean Loss: 6.760490758367802; Mean Acc:0.15422256290912628; Time taken (s): 0.39778995513916016\n",
      "Dev Iteration 2500 complete. Mean Loss: 6.74109204804025; Mean Acc:0.15575462579727173; Time taken (s): 0.3938407897949219\n",
      "Dev Iteration 3000 complete. Mean Loss: 6.784096628060066; Mean Acc:0.15285362303256989; Time taken (s): 0.39589643478393555\n",
      "Dev Iteration 3500 complete. Mean Loss: 6.7873074981152275; Mean Acc:0.15237239003181458; Time taken (s): 0.3921775817871094\n",
      "Dev Iteration 4000 complete. Mean Loss: 6.797992433735324; Mean Acc:0.15092578530311584; Time taken (s): 0.39871859550476074\n",
      "Dev Iteration 4500 complete. Mean Loss: 6.791674014277735; Mean Acc:0.15058141946792603; Time taken (s): 0.4084789752960205\n",
      "Dev Iteration 5000 complete. Mean Loss: 6.793781039333896; Mean Acc:0.15027175843715668; Time taken (s): 0.39675354957580566\n",
      "Dev Iteration 5500 complete. Mean Loss: 6.8185118704443735; Mean Acc:0.14922355115413666; Time taken (s): 0.3985157012939453\n",
      "Dev Iteration 6000 complete. Mean Loss: 6.823205087288601; Mean Acc:0.1488880068063736; Time taken (s): 0.3914453983306885\n",
      "Epoch 3 complete! Development Accuracy: 0.148625910282135; Development Loss: 6.82762273075995;  Development ppl: 922.9939970648222\n",
      "\n",
      "--- Training model Epoch: 5 ---\n",
      "Training Iteration 0 of epoch 4 complete. Loss: 10.23622989654541; Acc:0.05714285746216774; Time taken (s): 0.005196809768676758| ppl 27895.76\n",
      "Training Iteration 10000 of epoch 4 complete. Loss: 5.910920143127441; Acc:0.17142857611179352; Time taken (s): 46.50884985923767| ppl   369.05\n",
      "Training Iteration 20000 of epoch 4 complete. Loss: 7.471729278564453; Acc:0.1428571492433548; Time taken (s): 46.52934455871582| ppl  1757.64\n",
      "Training Iteration 30000 of epoch 4 complete. Loss: 4.5096588134765625; Acc:0.20000000298023224; Time taken (s): 46.527689695358276| ppl    90.89\n",
      "Training Iteration 40000 of epoch 4 complete. Loss: 5.13974142074585; Acc:0.37142857909202576; Time taken (s): 46.46695351600647| ppl   170.67\n",
      "Training Iteration 50000 of epoch 4 complete. Loss: 6.8510003089904785; Acc:0.11428571492433548; Time taken (s): 46.50249695777893| ppl   944.83\n",
      "\n",
      "--- Evaluating model on dev data ---\n",
      "Dev Iteration 0 complete. Mean Loss: 5.804655075073242; Mean Acc:0.20000000298023224; Time taken (s): 0.0014102458953857422\n",
      "Dev Iteration 500 complete. Mean Loss: 6.812823054795255; Mean Acc:0.1579696536064148; Time taken (s): 0.39531683921813965\n",
      "Dev Iteration 1000 complete. Mean Loss: 6.7762844903128485; Mean Acc:0.1600397378206253; Time taken (s): 0.395275354385376\n",
      "Dev Iteration 1500 complete. Mean Loss: 6.779703935093279; Mean Acc:0.15875095129013062; Time taken (s): 0.39434051513671875\n",
      "Dev Iteration 2000 complete. Mean Loss: 6.789976199467977; Mean Acc:0.15679261088371277; Time taken (s): 0.3919355869293213\n",
      "Dev Iteration 2500 complete. Mean Loss: 6.765967732856199; Mean Acc:0.15829066932201385; Time taken (s): 0.3972024917602539\n",
      "Dev Iteration 3000 complete. Mean Loss: 6.801679572674561; Mean Acc:0.15537644922733307; Time taken (s): 0.3966023921966553\n",
      "Dev Iteration 3500 complete. Mean Loss: 6.799142390651316; Mean Acc:0.15513895452022552; Time taken (s): 0.40021395683288574\n",
      "Dev Iteration 4000 complete. Mean Loss: 6.8077433309505; Mean Acc:0.1540108323097229; Time taken (s): 0.39714717864990234\n",
      "Dev Iteration 4500 complete. Mean Loss: 6.803305722003353; Mean Acc:0.15383803844451904; Time taken (s): 0.39290547370910645\n",
      "Dev Iteration 5000 complete. Mean Loss: 6.806952035562965; Mean Acc:0.1534256637096405; Time taken (s): 0.3955116271972656\n",
      "Dev Iteration 5500 complete. Mean Loss: 6.832810923481525; Mean Acc:0.15224142372608185; Time taken (s): 0.39797043800354004\n",
      "Dev Iteration 6000 complete. Mean Loss: 6.837783981414462; Mean Acc:0.15206390619277954; Time taken (s): 0.3924570083618164\n",
      "Epoch 4 complete! Development Accuracy: 0.15180079638957977; Development Loss: 6.841632199337253;  Development ppl: 936.0156527275216\n",
      "\n",
      "--- Training model Epoch: 6 ---\n",
      "Training Iteration 0 of epoch 5 complete. Loss: 10.378204345703125; Acc:0.11428571492433548; Time taken (s): 0.00745844841003418| ppl 32151.18\n",
      "Training Iteration 10000 of epoch 5 complete. Loss: 5.566164493560791; Acc:0.20000000298023224; Time taken (s): 46.51003980636597| ppl   261.43\n",
      "Training Iteration 20000 of epoch 5 complete. Loss: 7.255465507507324; Acc:0.17142857611179352; Time taken (s): 46.48294019699097| ppl  1415.82\n",
      "Training Iteration 30000 of epoch 5 complete. Loss: 4.750480651855469; Acc:0.2571428716182709; Time taken (s): 46.514233350753784| ppl   115.64\n",
      "Training Iteration 40000 of epoch 5 complete. Loss: 4.942659854888916; Acc:0.4000000059604645; Time taken (s): 46.52067542076111| ppl   140.14\n",
      "Training Iteration 50000 of epoch 5 complete. Loss: 6.894420146942139; Acc:0.17142857611179352; Time taken (s): 46.465744972229004| ppl   986.75\n",
      "\n",
      "--- Evaluating model on dev data ---\n",
      "Dev Iteration 0 complete. Mean Loss: 5.605249404907227; Mean Acc:0.22857142984867096; Time taken (s): 0.0013318061828613281\n",
      "Dev Iteration 500 complete. Mean Loss: 6.888250064945031; Mean Acc:0.14975754916667938; Time taken (s): 0.3951718807220459\n",
      "Dev Iteration 1000 complete. Mean Loss: 6.864074260919363; Mean Acc:0.1497359275817871; Time taken (s): 0.3946194648742676\n",
      "Dev Iteration 1500 complete. Mean Loss: 6.871693284093817; Mean Acc:0.15007102489471436; Time taken (s): 0.39073681831359863\n",
      "Dev Iteration 2000 complete. Mean Loss: 6.8824732974432274; Mean Acc:0.14921079576015472; Time taken (s): 0.39824414253234863\n",
      "Dev Iteration 2500 complete. Mean Loss: 6.857693169032131; Mean Acc:0.15095645189285278; Time taken (s): 0.40114855766296387\n",
      "Dev Iteration 3000 complete. Mean Loss: 6.894584422348261; Mean Acc:0.14723613858222961; Time taken (s): 0.39382123947143555\n",
      "Dev Iteration 3500 complete. Mean Loss: 6.89180633532119; Mean Acc:0.1466676890850067; Time taken (s): 0.39626264572143555\n",
      "Dev Iteration 4000 complete. Mean Loss: 6.9006527902721855; Mean Acc:0.14577682316303253; Time taken (s): 0.39621877670288086\n",
      "Dev Iteration 4500 complete. Mean Loss: 6.896647636425863; Mean Acc:0.14566168189048767; Time taken (s): 0.3916618824005127\n",
      "Dev Iteration 5000 complete. Mean Loss: 6.899094630279342; Mean Acc:0.14543820917606354; Time taken (s): 0.39653563499450684\n",
      "Dev Iteration 5500 complete. Mean Loss: 6.9255716801556515; Mean Acc:0.14465777575969696; Time taken (s): 0.39741945266723633\n",
      "Dev Iteration 6000 complete. Mean Loss: 6.931997127482105; Mean Acc:0.14437390863895416; Time taken (s): 0.39453625679016113\n",
      "Epoch 5 complete! Development Accuracy: 0.14422404766082764; Development Loss: 6.936784066922375;  Development ppl: 1029.4542299154052\n",
      "\n",
      "--- Training model Epoch: 7 ---\n",
      "Training Iteration 0 of epoch 6 complete. Loss: 10.415021896362305; Acc:0.08571428805589676; Time taken (s): 0.005175113677978516| ppl 33356.97\n",
      "Training Iteration 10000 of epoch 6 complete. Loss: 5.7114667892456055; Acc:0.22857142984867096; Time taken (s): 46.48174023628235| ppl   302.31\n",
      "Training Iteration 20000 of epoch 6 complete. Loss: 7.296396732330322; Acc:0.20000000298023224; Time taken (s): 46.48734664916992| ppl  1474.98\n",
      "Training Iteration 30000 of epoch 6 complete. Loss: 4.922720909118652; Acc:0.2571428716182709; Time taken (s): 46.67535996437073| ppl   137.38\n",
      "Training Iteration 40000 of epoch 6 complete. Loss: 4.9326958656311035; Acc:0.37142857909202576; Time taken (s): 46.53223371505737| ppl   138.75\n",
      "Training Iteration 50000 of epoch 6 complete. Loss: 6.834136962890625; Acc:0.08571428805589676; Time taken (s): 46.518921852111816| ppl   929.03\n",
      "\n",
      "--- Evaluating model on dev data ---\n",
      "Dev Iteration 0 complete. Mean Loss: 5.709402084350586; Mean Acc:0.2857142984867096; Time taken (s): 0.00133514404296875\n",
      "Dev Iteration 500 complete. Mean Loss: 6.818924302350499; Mean Acc:0.16258904337882996; Time taken (s): 0.39677882194519043\n",
      "Dev Iteration 1000 complete. Mean Loss: 6.8169367260985325; Mean Acc:0.16003982722759247; Time taken (s): 0.39461302757263184\n",
      "Dev Iteration 1500 complete. Mean Loss: 6.826056690870485; Mean Acc:0.1595505177974701; Time taken (s): 0.3999216556549072\n",
      "Dev Iteration 2000 complete. Mean Loss: 6.829931405828572; Mean Acc:0.1551506072282791; Time taken (s): 0.3926692008972168\n",
      "Dev Iteration 2500 complete. Mean Loss: 6.801871764759977; Mean Acc:0.1572510153055191; Time taken (s): 0.3899829387664795\n",
      "Dev Iteration 3000 complete. Mean Loss: 6.841423393527256; Mean Acc:0.15422438085079193; Time taken (s): 0.3967161178588867\n",
      "Dev Iteration 3500 complete. Mean Loss: 6.841317707387014; Mean Acc:0.1541515290737152; Time taken (s): 0.39551615715026855\n",
      "Dev Iteration 4000 complete. Mean Loss: 6.8516945843695405; Mean Acc:0.1528468132019043; Time taken (s): 0.396759033203125\n",
      "Dev Iteration 4500 complete. Mean Loss: 6.845016028398515; Mean Acc:0.1526128351688385; Time taken (s): 0.3992743492126465\n",
      "Dev Iteration 5000 complete. Mean Loss: 6.847749360774284; Mean Acc:0.15233999490737915; Time taken (s): 0.3911583423614502\n",
      "Dev Iteration 5500 complete. Mean Loss: 6.878638403044248; Mean Acc:0.15129093825817108; Time taken (s): 0.39409470558166504\n",
      "Dev Iteration 6000 complete. Mean Loss: 6.888909988652824; Mean Acc:0.15109270811080933; Time taken (s): 0.39157748222351074\n",
      "Epoch 6 complete! Development Accuracy: 0.15077628195285797; Development Loss: 6.895713840234047;  Development ppl: 988.0307692554585\n",
      "\n",
      "--- Training model Epoch: 8 ---\n",
      "Training Iteration 0 of epoch 7 complete. Loss: 10.281993865966797; Acc:0.08571428805589676; Time taken (s): 0.00554347038269043| ppl 29202.04\n",
      "Training Iteration 10000 of epoch 7 complete. Loss: 5.758923530578613; Acc:0.20000000298023224; Time taken (s): 46.49277091026306| ppl   317.01\n",
      "Training Iteration 20000 of epoch 7 complete. Loss: 7.228124618530273; Acc:0.17142857611179352; Time taken (s): 46.49685859680176| ppl  1377.64\n",
      "Training Iteration 30000 of epoch 7 complete. Loss: 4.998366832733154; Acc:0.2571428716182709; Time taken (s): 46.489622831344604| ppl   148.17\n",
      "Training Iteration 40000 of epoch 7 complete. Loss: 4.9911789894104; Acc:0.3142857253551483; Time taken (s): 46.5307559967041| ppl   147.11\n",
      "Training Iteration 50000 of epoch 7 complete. Loss: 6.932286262512207; Acc:0.1428571492433548; Time taken (s): 46.50238919258118| ppl  1024.83\n",
      "\n",
      "--- Evaluating model on dev data ---\n",
      "Dev Iteration 0 complete. Mean Loss: 5.823365211486816; Mean Acc:0.20000000298023224; Time taken (s): 0.0013189315795898438\n",
      "Dev Iteration 500 complete. Mean Loss: 6.91756622900744; Mean Acc:0.1441117227077484; Time taken (s): 0.38960838317871094\n",
      "Dev Iteration 1000 complete. Mean Loss: 6.9020781988626; Mean Acc:0.14693880081176758; Time taken (s): 0.39107275009155273\n",
      "Dev Iteration 1500 complete. Mean Loss: 6.9115108822600835; Mean Acc:0.1462070196866989; Time taken (s): 0.39986085891723633\n",
      "Dev Iteration 2000 complete. Mean Loss: 6.915414648137052; Mean Acc:0.14442741870880127; Time taken (s): 0.391751766204834\n",
      "Dev Iteration 2500 complete. Mean Loss: 6.887073429524064; Mean Acc:0.14675244688987732; Time taken (s): 0.39356017112731934\n",
      "Dev Iteration 3000 complete. Mean Loss: 6.925696794846105; Mean Acc:0.14320896565914154; Time taken (s): 0.3957078456878662\n",
      "Dev Iteration 3500 complete. Mean Loss: 6.923445938178997; Mean Acc:0.14233432710170746; Time taken (s): 0.3913400173187256\n",
      "Dev Iteration 4000 complete. Mean Loss: 6.93266142073109; Mean Acc:0.14157074689865112; Time taken (s): 0.39614224433898926\n",
      "Dev Iteration 4500 complete. Mean Loss: 6.9269761536497985; Mean Acc:0.14127512276172638; Time taken (s): 0.39611005783081055\n",
      "Dev Iteration 5000 complete. Mean Loss: 6.9295492925970015; Mean Acc:0.14069029688835144; Time taken (s): 0.3916149139404297\n",
      "Dev Iteration 5500 complete. Mean Loss: 6.956527020146339; Mean Acc:0.13977013528347015; Time taken (s): 0.3946101665496826\n",
      "Dev Iteration 6000 complete. Mean Loss: 6.965247617048376; Mean Acc:0.13936029374599457; Time taken (s): 0.3917415142059326\n",
      "Epoch 7 complete! Development Accuracy: 0.13920703530311584; Development Loss: 6.970054947883298;  Development ppl: 1064.2812289322085\n",
      "\n",
      "--- Training model Epoch: 9 ---\n",
      "Training Iteration 0 of epoch 8 complete. Loss: 10.876296043395996; Acc:0.08571428805589676; Time taken (s): 0.005239963531494141| ppl 52907.27\n",
      "Training Iteration 10000 of epoch 8 complete. Loss: 5.8544182777404785; Acc:0.2857142984867096; Time taken (s): 46.47764015197754| ppl   348.77\n",
      "Training Iteration 20000 of epoch 8 complete. Loss: 7.130598545074463; Acc:0.17142857611179352; Time taken (s): 46.434539556503296| ppl  1249.62\n",
      "Training Iteration 30000 of epoch 8 complete. Loss: 4.894416332244873; Acc:0.2571428716182709; Time taken (s): 46.45454931259155| ppl   133.54\n",
      "Training Iteration 40000 of epoch 8 complete. Loss: 4.916365146636963; Acc:0.37142857909202576; Time taken (s): 46.437249422073364| ppl   136.51\n",
      "Training Iteration 50000 of epoch 8 complete. Loss: 7.011358261108398; Acc:0.05714285746216774; Time taken (s): 46.48580837249756| ppl  1109.16\n",
      "\n",
      "--- Evaluating model on dev data ---\n",
      "Dev Iteration 0 complete. Mean Loss: 5.712883949279785; Mean Acc:0.22857142984867096; Time taken (s): 0.0012576580047607422\n",
      "Dev Iteration 500 complete. Mean Loss: 6.968285104233823; Mean Acc:0.147248312830925; Time taken (s): 0.39522290229797363\n",
      "Dev Iteration 1000 complete. Mean Loss: 6.958294738660921; Mean Acc:0.1491364985704422; Time taken (s): 0.3928859233856201\n",
      "Dev Iteration 1500 complete. Mean Loss: 6.959064204243324; Mean Acc:0.1488528698682785; Time taken (s): 0.3977391719818115\n",
      "Dev Iteration 2000 complete. Mean Loss: 6.966372623734329; Mean Acc:0.1465405821800232; Time taken (s): 0.3990461826324463\n",
      "Dev Iteration 2500 complete. Mean Loss: 6.936177766118131; Mean Acc:0.1489342600107193; Time taken (s): 0.3974924087524414\n",
      "Dev Iteration 3000 complete. Mean Loss: 6.973783181135514; Mean Acc:0.14519867300987244; Time taken (s): 0.39440131187438965\n",
      "Dev Iteration 3500 complete. Mean Loss: 6.970904235770382; Mean Acc:0.14453773200511932; Time taken (s): 0.3977515697479248\n",
      "Dev Iteration 4000 complete. Mean Loss: 6.980241291435383; Mean Acc:0.14326316118240356; Time taken (s): 0.40353822708129883\n",
      "Dev Iteration 4500 complete. Mean Loss: 6.975270995535444; Mean Acc:0.1426970660686493; Time taken (s): 0.3946232795715332\n",
      "Dev Iteration 5000 complete. Mean Loss: 6.979173077628317; Mean Acc:0.14244431257247925; Time taken (s): 0.3968997001647949\n",
      "Dev Iteration 5500 complete. Mean Loss: 7.004711002051841; Mean Acc:0.14150506258010864; Time taken (s): 0.39484500885009766\n",
      "Dev Iteration 6000 complete. Mean Loss: 7.012803190788653; Mean Acc:0.14107932150363922; Time taken (s): 0.39357900619506836\n",
      "Epoch 8 complete! Development Accuracy: 0.14084739983081818; Development Loss: 7.0177207871981615;  Development ppl: 1116.2395687008093\n",
      "\n",
      "--- Training model Epoch: 10 ---\n",
      "Training Iteration 0 of epoch 9 complete. Loss: 10.862015724182129; Acc:0.05714285746216774; Time taken (s): 0.005269050598144531| ppl 52157.11\n",
      "Training Iteration 10000 of epoch 9 complete. Loss: 6.071315288543701; Acc:0.22857142984867096; Time taken (s): 46.481005907058716| ppl   433.25\n",
      "Training Iteration 20000 of epoch 9 complete. Loss: 7.449306964874268; Acc:0.17142857611179352; Time taken (s): 46.47709774971008| ppl  1718.67\n",
      "Training Iteration 30000 of epoch 9 complete. Loss: 4.862181186676025; Acc:0.22857142984867096; Time taken (s): 46.45086097717285| ppl   129.31\n",
      "Training Iteration 40000 of epoch 9 complete. Loss: 5.033058166503906; Acc:0.3142857253551483; Time taken (s): 46.471458196640015| ppl   153.40\n",
      "Training Iteration 50000 of epoch 9 complete. Loss: 7.2414703369140625; Acc:0.08571428805589676; Time taken (s): 46.475714445114136| ppl  1396.15\n",
      "\n",
      "--- Evaluating model on dev data ---\n",
      "Dev Iteration 0 complete. Mean Loss: 5.7477545738220215; Mean Acc:0.2571428716182709; Time taken (s): 0.0013685226440429688\n",
      "Dev Iteration 500 complete. Mean Loss: 6.966668369289406; Mean Acc:0.15112628042697906; Time taken (s): 0.3936629295349121\n",
      "Dev Iteration 1000 complete. Mean Loss: 6.9439765966379206; Mean Acc:0.15090622007846832; Time taken (s): 0.39932751655578613\n",
      "Dev Iteration 1500 complete. Mean Loss: 6.953206866364095; Mean Acc:0.14970940351486206; Time taken (s): 0.40312910079956055\n",
      "Dev Iteration 2000 complete. Mean Loss: 6.960676836764914; Mean Acc:0.14734017848968506; Time taken (s): 0.3952798843383789\n",
      "Dev Iteration 2500 complete. Mean Loss: 6.931145406827503; Mean Acc:0.14932288229465485; Time taken (s): 0.4013707637786865\n",
      "Dev Iteration 3000 complete. Mean Loss: 6.972551596081285; Mean Acc:0.14587490260601044; Time taken (s): 0.3963155746459961\n",
      "Dev Iteration 3500 complete. Mean Loss: 6.970284139180449; Mean Acc:0.1460559219121933; Time taken (s): 0.3988649845123291\n",
      "Dev Iteration 4000 complete. Mean Loss: 6.979188765504604; Mean Acc:0.14476323127746582; Time taken (s): 0.3955817222595215\n",
      "Dev Iteration 4500 complete. Mean Loss: 6.972167079222517; Mean Acc:0.14467817544937134; Time taken (s): 0.40199899673461914\n",
      "Dev Iteration 5000 complete. Mean Loss: 6.975980589471324; Mean Acc:0.14426718652248383; Time taken (s): 0.4006648063659668\n",
      "Dev Iteration 5500 complete. Mean Loss: 7.005136432614766; Mean Acc:0.143177792429924; Time taken (s): 0.3966829776763916\n",
      "Dev Iteration 6000 complete. Mean Loss: 7.015196049378289; Mean Acc:0.1429315209388733; Time taken (s): 0.3929173946380615\n",
      "Epoch 9 complete! Development Accuracy: 0.14266224205493927; Development Loss: 7.021854144772795;  Development ppl: 1120.8629344066564\n",
      "\n",
      "--- Training model Epoch: 11 ---\n",
      "Training Iteration 0 of epoch 10 complete. Loss: 10.863516807556152; Acc:0.1428571492433548; Time taken (s): 0.005199432373046875| ppl 52235.46\n",
      "Training Iteration 10000 of epoch 10 complete. Loss: 5.638213157653809; Acc:0.2857142984867096; Time taken (s): 46.497456312179565| ppl   280.96\n",
      "Training Iteration 20000 of epoch 10 complete. Loss: 7.463553428649902; Acc:0.17142857611179352; Time taken (s): 46.42073178291321| ppl  1743.33\n",
      "Training Iteration 30000 of epoch 10 complete. Loss: 4.853326320648193; Acc:0.3142857253551483; Time taken (s): 46.42692446708679| ppl   128.17\n",
      "Training Iteration 40000 of epoch 10 complete. Loss: 5.120112419128418; Acc:0.2857142984867096; Time taken (s): 46.426944732666016| ppl   167.35\n",
      "Training Iteration 50000 of epoch 10 complete. Loss: 7.007625102996826; Acc:0.08571428805589676; Time taken (s): 46.43011665344238| ppl  1105.03\n",
      "\n",
      "--- Evaluating model on dev data ---\n",
      "Dev Iteration 0 complete. Mean Loss: 6.084696292877197; Mean Acc:0.17142857611179352; Time taken (s): 0.0013010501861572266\n",
      "Dev Iteration 500 complete. Mean Loss: 7.019738766961469; Mean Acc:0.13384641706943512; Time taken (s): 0.3919196128845215\n",
      "Dev Iteration 1000 complete. Mean Loss: 6.996296124024824; Mean Acc:0.13517922163009644; Time taken (s): 0.39582061767578125\n",
      "Dev Iteration 1500 complete. Mean Loss: 7.001129363077152; Mean Acc:0.13450059294700623; Time taken (s): 0.39293885231018066\n",
      "Dev Iteration 2000 complete. Mean Loss: 7.005936733071414; Mean Acc:0.13286170363426208; Time taken (s): 0.394315242767334\n",
      "Dev Iteration 2500 complete. Mean Loss: 6.98136218258592; Mean Acc:0.1345742791891098; Time taken (s): 0.40387725830078125\n",
      "Dev Iteration 3000 complete. Mean Loss: 7.021680654108187; Mean Acc:0.1320696324110031; Time taken (s): 0.39167118072509766\n",
      "Dev Iteration 3500 complete. Mean Loss: 7.018420054619056; Mean Acc:0.1318882256746292; Time taken (s): 0.39873218536376953\n",
      "Dev Iteration 4000 complete. Mean Loss: 7.027879527854013; Mean Acc:0.13104507327079773; Time taken (s): 0.3921318054199219\n",
      "Dev Iteration 4500 complete. Mean Loss: 7.024401831271992; Mean Acc:0.13026809692382812; Time taken (s): 0.3931572437286377\n",
      "Dev Iteration 5000 complete. Mean Loss: 7.031783134835741; Mean Acc:0.12985792756080627; Time taken (s): 0.3983612060546875\n",
      "Dev Iteration 5500 complete. Mean Loss: 7.056541886075673; Mean Acc:0.1293768733739853; Time taken (s): 0.392880916595459\n",
      "Dev Iteration 6000 complete. Mean Loss: 7.063308968462163; Mean Acc:0.12923312187194824; Time taken (s): 0.38723134994506836\n",
      "Epoch 10 complete! Development Accuracy: 0.12920057773590088; Development Loss: 7.068545590644673;  Development ppl: 1174.4386768988907\n",
      "\n",
      "--- Training model Epoch: 12 ---\n",
      "Training Iteration 0 of epoch 11 complete. Loss: 10.706130027770996; Acc:0.11428571492433548; Time taken (s): 0.005180835723876953| ppl 44628.59\n",
      "Training Iteration 10000 of epoch 11 complete. Loss: 5.929779052734375; Acc:0.22857142984867096; Time taken (s): 46.479997873306274| ppl   376.07\n",
      "Training Iteration 20000 of epoch 11 complete. Loss: 7.545194149017334; Acc:0.17142857611179352; Time taken (s): 46.44589900970459| ppl  1891.63\n",
      "Training Iteration 30000 of epoch 11 complete. Loss: 5.225261688232422; Acc:0.17142857611179352; Time taken (s): 46.45364165306091| ppl   185.91\n",
      "Training Iteration 40000 of epoch 11 complete. Loss: 5.008129596710205; Acc:0.3142857253551483; Time taken (s): 46.44826340675354| ppl   149.62\n",
      "Training Iteration 50000 of epoch 11 complete. Loss: 6.84874153137207; Acc:0.08571428805589676; Time taken (s): 46.45784831047058| ppl   942.69\n",
      "\n",
      "--- Evaluating model on dev data ---\n",
      "Dev Iteration 0 complete. Mean Loss: 5.870872497558594; Mean Acc:0.20000000298023224; Time taken (s): 0.0012998580932617188\n",
      "Dev Iteration 500 complete. Mean Loss: 7.081790471981147; Mean Acc:0.1357853263616562; Time taken (s): 0.3894689083099365\n",
      "Dev Iteration 1000 complete. Mean Loss: 7.0532400674753255; Mean Acc:0.13649210333824158; Time taken (s): 0.3928806781768799\n",
      "Dev Iteration 1500 complete. Mean Loss: 7.060129557030746; Mean Acc:0.1348431408405304; Time taken (s): 0.3924560546875\n",
      "Dev Iteration 2000 complete. Mean Loss: 7.068301648988776; Mean Acc:0.13387544453144073; Time taken (s): 0.39588189125061035\n",
      "Dev Iteration 2500 complete. Mean Loss: 7.0427000322422; Mean Acc:0.13449430465698242; Time taken (s): 0.3937861919403076\n",
      "Dev Iteration 3000 complete. Mean Loss: 7.085998979182055; Mean Acc:0.13183163106441498; Time taken (s): 0.39440441131591797\n",
      "Dev Iteration 3500 complete. Mean Loss: 7.084345921622927; Mean Acc:0.13162699341773987; Time taken (s): 0.3954169750213623\n",
      "Dev Iteration 4000 complete. Mean Loss: 7.095098077997629; Mean Acc:0.13083083927631378; Time taken (s): 0.39359092712402344\n",
      "Dev Iteration 4500 complete. Mean Loss: 7.088977559834844; Mean Acc:0.1306554526090622; Time taken (s): 0.39176487922668457\n",
      "Dev Iteration 5000 complete. Mean Loss: 7.097157962177782; Mean Acc:0.13022370636463165; Time taken (s): 0.40140581130981445\n",
      "Dev Iteration 5500 complete. Mean Loss: 7.122339978475524; Mean Acc:0.1297145038843155; Time taken (s): 0.3918185234069824\n",
      "Dev Iteration 6000 complete. Mean Loss: 7.128322838147747; Mean Acc:0.12955690920352936; Time taken (s): 0.39134955406188965\n",
      "Epoch 11 complete! Development Accuracy: 0.1293567419052124; Development Loss: 7.133782029976165;  Development ppl: 1253.6092001218653\n",
      "\n",
      "--- Training model Epoch: 13 ---\n",
      "Training Iteration 0 of epoch 12 complete. Loss: 10.519611358642578; Acc:0.1428571492433548; Time taken (s): 0.005141019821166992| ppl 37034.73\n",
      "Training Iteration 10000 of epoch 12 complete. Loss: 5.760697841644287; Acc:0.22857142984867096; Time taken (s): 46.508594036102295| ppl   317.57\n",
      "Training Iteration 20000 of epoch 12 complete. Loss: 7.264448165893555; Acc:0.22857142984867096; Time taken (s): 46.4176390171051| ppl  1428.60\n",
      "Training Iteration 30000 of epoch 12 complete. Loss: 5.266085147857666; Acc:0.20000000298023224; Time taken (s): 46.44922924041748| ppl   193.66\n",
      "Training Iteration 40000 of epoch 12 complete. Loss: 5.069540977478027; Acc:0.34285715222358704; Time taken (s): 46.423487186431885| ppl   159.10\n",
      "Training Iteration 50000 of epoch 12 complete. Loss: 7.1720781326293945; Acc:0.11428571492433548; Time taken (s): 46.484994888305664| ppl  1302.55\n",
      "\n",
      "--- Evaluating model on dev data ---\n",
      "Dev Iteration 0 complete. Mean Loss: 5.843275547027588; Mean Acc:0.20000000298023224; Time taken (s): 0.0013301372528076172\n",
      "Dev Iteration 500 complete. Mean Loss: 7.048449860837407; Mean Acc:0.14160247147083282; Time taken (s): 0.3964054584503174\n",
      "Dev Iteration 1000 complete. Mean Loss: 7.035799227513515; Mean Acc:0.14114463329315186; Time taken (s): 0.3995225429534912\n",
      "Dev Iteration 1500 complete. Mean Loss: 7.03939228562972; Mean Acc:0.13952575623989105; Time taken (s): 0.39927053451538086\n",
      "Dev Iteration 2000 complete. Mean Loss: 7.0436822456577195; Mean Acc:0.13838738203048706; Time taken (s): 0.3993077278137207\n",
      "Dev Iteration 2500 complete. Mean Loss: 7.018709452139859; Mean Acc:0.13881251215934753; Time taken (s): 0.399860143661499\n",
      "Dev Iteration 3000 complete. Mean Loss: 7.061284189739055; Mean Acc:0.1357731819152832; Time taken (s): 0.39877986907958984\n",
      "Dev Iteration 3500 complete. Mean Loss: 7.05857608914886; Mean Acc:0.1357646882534027; Time taken (s): 0.4026639461517334\n",
      "Dev Iteration 4000 complete. Mean Loss: 7.068620180702305; Mean Acc:0.13442985713481903; Time taken (s): 0.4069674015045166\n",
      "Dev Iteration 4500 complete. Mean Loss: 7.064299299488648; Mean Acc:0.1338864266872406; Time taken (s): 0.39701223373413086\n",
      "Dev Iteration 5000 complete. Mean Loss: 7.0739692257919495; Mean Acc:0.13342314958572388; Time taken (s): 0.4030475616455078\n",
      "Dev Iteration 5500 complete. Mean Loss: 7.097646698152514; Mean Acc:0.13245698809623718; Time taken (s): 0.39867234230041504\n",
      "Dev Iteration 6000 complete. Mean Loss: 7.1041126483441435; Mean Acc:0.13231369853019714; Time taken (s): 0.3969893455505371\n",
      "Epoch 12 complete! Development Accuracy: 0.13226963579654694; Development Loss: 7.108190807945036;  Development ppl: 1221.9348302947149\n",
      "\n",
      "--- Training model Epoch: 14 ---\n",
      "Training Iteration 0 of epoch 13 complete. Loss: 10.717292785644531; Acc:0.08571428805589676; Time taken (s): 0.00528264045715332| ppl 45129.56\n",
      "Training Iteration 10000 of epoch 13 complete. Loss: 6.162580966949463; Acc:0.2571428716182709; Time taken (s): 46.5079185962677| ppl   474.65\n",
      "Training Iteration 20000 of epoch 13 complete. Loss: 7.31287145614624; Acc:0.20000000298023224; Time taken (s): 46.498101234436035| ppl  1499.48\n",
      "Training Iteration 30000 of epoch 13 complete. Loss: 5.249582290649414; Acc:0.20000000298023224; Time taken (s): 46.42147755622864| ppl   190.49\n",
      "Training Iteration 40000 of epoch 13 complete. Loss: 5.179019927978516; Acc:0.2857142984867096; Time taken (s): 46.449734926223755| ppl   177.51\n",
      "Training Iteration 50000 of epoch 13 complete. Loss: 7.036839485168457; Acc:0.08571428805589676; Time taken (s): 46.43949103355408| ppl  1137.79\n",
      "\n",
      "--- Evaluating model on dev data ---\n",
      "Dev Iteration 0 complete. Mean Loss: 5.9102349281311035; Mean Acc:0.20000000298023224; Time taken (s): 0.0013072490692138672\n",
      "Dev Iteration 500 complete. Mean Loss: 7.109684630544361; Mean Acc:0.1430281549692154; Time taken (s): 0.3922445774078369\n",
      "Dev Iteration 1000 complete. Mean Loss: 7.073701700130543; Mean Acc:0.14240048825740814; Time taken (s): 0.393418550491333\n",
      "Dev Iteration 1500 complete. Mean Loss: 7.070666585105169; Mean Acc:0.1415814459323883; Time taken (s): 0.39154958724975586\n",
      "Dev Iteration 2000 complete. Mean Loss: 7.0718931174766775; Mean Acc:0.1396295726299286; Time taken (s): 0.3903651237487793\n",
      "Dev Iteration 2500 complete. Mean Loss: 7.038749840106072; Mean Acc:0.14026343822479248; Time taken (s): 0.39343929290771484\n",
      "Dev Iteration 3000 complete. Mean Loss: 7.077406880379677; Mean Acc:0.1376013457775116; Time taken (s): 0.39441752433776855\n",
      "Dev Iteration 3500 complete. Mean Loss: 7.071589282702392; Mean Acc:0.13813158869743347; Time taken (s): 0.3932914733886719\n",
      "Dev Iteration 4000 complete. Mean Loss: 7.080505900548655; Mean Acc:0.13685785233974457; Time taken (s): 0.3943326473236084\n",
      "Dev Iteration 4500 complete. Mean Loss: 7.075234589378613; Mean Acc:0.13643822073936462; Time taken (s): 0.3936622142791748\n",
      "Dev Iteration 5000 complete. Mean Loss: 7.085277530055741; Mean Acc:0.1354854702949524; Time taken (s): 0.3938262462615967\n",
      "Dev Iteration 5500 complete. Mean Loss: 7.110791497741086; Mean Acc:0.13506944477558136; Time taken (s): 0.3923830986022949\n",
      "Dev Iteration 6000 complete. Mean Loss: 7.1165390104437805; Mean Acc:0.13490842282772064; Time taken (s): 0.39637184143066406\n",
      "Epoch 13 complete! Development Accuracy: 0.1347227543592453; Development Loss: 7.121783823153466;  Development ppl: 1238.6580107553236\n",
      "\n",
      "--- Training model Epoch: 15 ---\n",
      "Training Iteration 0 of epoch 14 complete. Loss: 10.868947982788086; Acc:0.08571428805589676; Time taken (s): 0.005178213119506836| ppl 52519.93\n",
      "Training Iteration 10000 of epoch 14 complete. Loss: 5.941437721252441; Acc:0.22857142984867096; Time taken (s): 46.447585105895996| ppl   380.48\n",
      "Training Iteration 20000 of epoch 14 complete. Loss: 7.448495864868164; Acc:0.17142857611179352; Time taken (s): 46.46366333961487| ppl  1717.28\n",
      "Training Iteration 30000 of epoch 14 complete. Loss: 5.161891937255859; Acc:0.20000000298023224; Time taken (s): 46.43601083755493| ppl   174.49\n",
      "Training Iteration 40000 of epoch 14 complete. Loss: 5.438538074493408; Acc:0.37142857909202576; Time taken (s): 46.420607805252075| ppl   230.11\n",
      "Training Iteration 50000 of epoch 14 complete. Loss: 7.081758975982666; Acc:0.08571428805589676; Time taken (s): 46.43386149406433| ppl  1190.06\n",
      "\n",
      "--- Evaluating model on dev data ---\n",
      "Dev Iteration 0 complete. Mean Loss: 5.858792781829834; Mean Acc:0.2571428716182709; Time taken (s): 0.0014014244079589844\n",
      "Dev Iteration 500 complete. Mean Loss: 7.077456105493024; Mean Acc:0.1374392956495285; Time taken (s): 0.3926427364349365\n",
      "Dev Iteration 1000 complete. Mean Loss: 7.064473967213969; Mean Acc:0.13837605714797974; Time taken (s): 0.39459991455078125\n",
      "Dev Iteration 1500 complete. Mean Loss: 7.07109382135085; Mean Acc:0.13689890503883362; Time taken (s): 0.38979291915893555\n",
      "Dev Iteration 2000 complete. Mean Loss: 7.073640973492898; Mean Acc:0.13516053557395935; Time taken (s): 0.3901195526123047\n",
      "Dev Iteration 2500 complete. Mean Loss: 7.045586387141616; Mean Acc:0.13653911650180817; Time taken (s): 0.3927464485168457\n",
      "Dev Iteration 3000 complete. Mean Loss: 7.083965247569582; Mean Acc:0.13345029950141907; Time taken (s): 0.3883483409881592\n",
      "Dev Iteration 3500 complete. Mean Loss: 7.079357525376857; Mean Acc:0.13334912061691284; Time taken (s): 0.3873631954193115\n",
      "Dev Iteration 4000 complete. Mean Loss: 7.08870467165952; Mean Acc:0.13193058967590332; Time taken (s): 0.39443373680114746\n",
      "Dev Iteration 4500 complete. Mean Loss: 7.083668856217156; Mean Acc:0.131321981549263; Time taken (s): 0.39058566093444824\n",
      "Dev Iteration 5000 complete. Mean Loss: 7.09164488317966; Mean Acc:0.13073229789733887; Time taken (s): 0.39161062240600586\n",
      "Dev Iteration 5500 complete. Mean Loss: 7.115658026351817; Mean Acc:0.13014057278633118; Time taken (s): 0.395601749420166\n",
      "Dev Iteration 6000 complete. Mean Loss: 7.122154115140686; Mean Acc:0.1296996772289276; Time taken (s): 0.38974881172180176\n",
      "Epoch 14 complete! Development Accuracy: 0.12948530912399292; Development Loss: 7.127686931381925;  Development ppl: 1245.991567143557\n"
     ]
    }
   ],
   "source": [
    "# Using negative log-likelihood loss\n",
    "loss_function = nn.NLLLoss()\n",
    "\n",
    "# create model\n",
    "ntokens = len(corpus.dictionary)\n",
    "# Take note model embedding size are the same \n",
    "model = FNNModel(ntokens, args.emsize, args.context_size, args.emsize , True).to(device)\n",
    "\n",
    "# # load it to gpu\n",
    "# model.cuda(gpu)\n",
    "\n",
    "# using ADAM optimizer\n",
    "optimizer = optim.Adam(model.parameters(), lr = 2e-3)\n",
    "\n",
    "#define epochs\n",
    "epochs = 15\n",
    "\n",
    "\n",
    "# ------------------------- TRAIN & SAVE MODEL ------------------------\n",
    "best_acc = 0\n",
    "best_per= 9999999999999999\n",
    "best_model_path = None\n",
    "#training set results \n",
    "loss_values=[]\n",
    "ppl_values=[]\n",
    "acc_values=[]\n",
    "\n",
    "#val set results\n",
    "val_loss = []\n",
    "val_ppl=[]\n",
    "val_acc=[]\n",
    "\n",
    "for epoch in range(epochs):\n",
    "    st = time.time()\n",
    "    running_loss = 0.0\n",
    "    running_ppl =0.0\n",
    "    running_acc=0.0\n",
    "    print(\"\\n--- Training model Epoch: {} ---\".format(epoch+1))\n",
    "    for it, data_tensor in enumerate(range(0, train_data.size(0) - 1, args.bptt)):\n",
    "        # context_tensor = data_tensor[:,0:2]\n",
    "        # target_tensor = data_tensor[:,2]\n",
    "        context_tensor, target_tensor= get_batch(train_data, data_tensor)\n",
    "\n",
    "        context_tensor, target_tensor = context_tensor.to(device), target_tensor.to(device)\n",
    "\n",
    "        # zero out the gradients from the old instance\n",
    "        model.zero_grad()\n",
    "\n",
    "        # get log probabilities over next words\n",
    "        log_probs = model(context_tensor)\n",
    "\n",
    "        # calculate current accuracy\n",
    "        acc = get_accuracy_from_log_probs(log_probs, target_tensor)\n",
    "\n",
    "        # compute loss function\n",
    "        loss = loss_function(log_probs, target_tensor)\n",
    "\n",
    "        # backward pass and update gradient\n",
    "        loss.backward()\n",
    "        optimizer.step()\n",
    "        \n",
    "        #getting thw total running loss and running perplexity\n",
    "        running_loss = running_loss + loss.item()\n",
    "        running_ppl = running_ppl + math.exp(loss.item())\n",
    "        running_acc = running_acc+ acc\n",
    "\n",
    "\n",
    "        if it % 10000 == 0: \n",
    "            print(\"Training Iteration {} of epoch {} complete. Loss: {}; Acc:{}; Time taken (s): {}| ppl {:8.2f}\".format(it, epoch, loss.item(), acc, (time.time()-st),  math.exp(loss.item())))\n",
    "            st = time.time()\n",
    "    \n",
    "    #Getting the total loss, perplexity and accuracy\n",
    "    total_runs = math.floor((train_data.size(0) - 1)/(args.bptt))\n",
    "    loss_values.append(running_loss / total_runs)\n",
    "    ppl_values.append(running_ppl / total_runs)\n",
    "    acc_values.append(running_acc/ total_runs)\n",
    "\n",
    "    #Evaluating the model on validation data set\n",
    "    print(\"\\n--- Evaluating model on dev data ---\")\n",
    "    dev_acc, dev_loss = evaluate(model, loss_function, val_data)\n",
    "    dev_per = math.exp(dev_loss)\n",
    "    print(\"Epoch {} complete! Development Accuracy: {}; Development Loss: {};  Development ppl: {}\".format(epoch, dev_acc, dev_loss, dev_per))\n",
    "    val_acc.append(dev_acc)\n",
    "    val_loss.append(dev_loss)\n",
    "    val_ppl.append(dev_per)\n",
    "\n",
    "    # saving the model with lowest perplexity\n",
    "    if dev_per < best_per:\n",
    "        print(\"Best validation perplexity improved from {} to {}, saving model...\".format(best_per, dev_per))\n",
    "        best_per = dev_per\n",
    "        with open(args.save, 'wb') as f:\n",
    "            torch.save(model, f)\n",
    "        # set best model path\n",
    "\n",
    "\n",
    "        \n",
    "#         best_model_path = 'best_model_{}.dat'.format(epoch)\n",
    "#         # saving best model\n",
    "#         torch.save(model.state_dict(), best_model_path)"
   ]
  },
  {
   "cell_type": "code",
   "execution_count": 37,
   "metadata": {
    "colab": {
     "base_uri": "https://localhost:8080/",
     "height": 313
    },
    "executionInfo": {
     "elapsed": 2521,
     "status": "ok",
     "timestamp": 1606640626922,
     "user": {
      "displayName": "yong wei",
      "photoUrl": "https://lh3.googleusercontent.com/a-/AOh14GhYJ6D3p-i8GPWEqh4u2s4VniV_lHZd6l3-eHSaqA=s64",
      "userId": "07110467073693299033"
     },
     "user_tz": -480
    },
    "id": "MZxWl-TL8wGH",
    "outputId": "8802f3f5-19b0-4a6f-d722-4ec757c824c0"
   },
   "outputs": [
    {
     "data": {
      "image/png": "[encoded data removed]",
      "text/plain": [
       "<Figure size 432x288 with 1 Axes>"
      ]
     },
     "metadata": {
      "needs_background": "light",
      "tags": []
     },
     "output_type": "display_data"
    },
    {
     "data": {
      "text/plain": [
       "<Figure size 432x288 with 0 Axes>"
      ]
     },
     "metadata": {
      "tags": []
     },
     "output_type": "display_data"
    }
   ],
   "source": [
    "plt.plot(loss_values)\n",
    "plt.plot(val_loss)\n",
    "plt.title('model loss')\n",
    "plt.ylabel('loss')\n",
    "plt.xlabel('epoch')\n",
    "plt.legend(['train', 'test'], loc='upper right')\n",
    "plt.show()\n",
    "\n",
    "# plt.plot(loss_values)\n",
    "# plt.xlabel('Epochs')\n",
    "# plt.ylabel('Loss')\n",
    "# plt.title('Train loss graph')\n",
    "plt.savefig('/content/drive/MyDrive/Colab_Notebooks/NLP_assignment2/results/loss_share.png')"
   ]
  },
  {
   "cell_type": "code",
   "execution_count": 38,
   "metadata": {
    "colab": {
     "base_uri": "https://localhost:8080/",
     "height": 313
    },
    "executionInfo": {
     "elapsed": 3343,
     "status": "ok",
     "timestamp": 1606640627749,
     "user": {
      "displayName": "yong wei",
      "photoUrl": "https://lh3.googleusercontent.com/a-/AOh14GhYJ6D3p-i8GPWEqh4u2s4VniV_lHZd6l3-eHSaqA=s64",
      "userId": "07110467073693299033"
     },
     "user_tz": -480
    },
    "id": "tlUufvQbPF7y",
    "outputId": "c9fcacf4-2093-442c-a328-9c6c14e9a6ca"
   },
   "outputs": [
    {
     "data": {
      "image/png": "[encoded data removed]",
      "text/plain": [
       "<Figure size 432x288 with 1 Axes>"
      ]
     },
     "metadata": {
      "needs_background": "light",
      "tags": []
     },
     "output_type": "display_data"
    },
    {
     "data": {
      "text/plain": [
       "<Figure size 432x288 with 0 Axes>"
      ]
     },
     "metadata": {
      "tags": []
     },
     "output_type": "display_data"
    }
   ],
   "source": [
    "plt.plot(acc_values)\n",
    "plt.plot(val_acc)\n",
    "plt.title('model accuracy')\n",
    "plt.ylabel('accuracy')\n",
    "plt.xlabel('epoch')\n",
    "plt.legend(['train', 'test'], loc='upper left')\n",
    "plt.show()\n",
    "\n",
    "# plt.plot(acc_values)\n",
    "# plt.xlabel('Epochs')\n",
    "# plt.ylabel('Accuracy')\n",
    "# plt.title('Train accuracy graph')\n",
    "plt.savefig('/content/drive/MyDrive/Colab_Notebooks/NLP_assignment2/results/accuracy_share.png')"
   ]
  },
  {
   "cell_type": "code",
   "execution_count": 39,
   "metadata": {
    "colab": {
     "base_uri": "https://localhost:8080/",
     "height": 313
    },
    "executionInfo": {
     "elapsed": 3341,
     "status": "ok",
     "timestamp": 1606640627749,
     "user": {
      "displayName": "yong wei",
      "photoUrl": "https://lh3.googleusercontent.com/a-/AOh14GhYJ6D3p-i8GPWEqh4u2s4VniV_lHZd6l3-eHSaqA=s64",
      "userId": "07110467073693299033"
     },
     "user_tz": -480
    },
    "id": "RSbCAYp5PKE4",
    "outputId": "37f3212e-04ef-4aea-c89d-8402da290257"
   },
   "outputs": [
    {
     "data": {
      "image/png": "[encoded data removed]",
      "text/plain": [
       "<Figure size 432x288 with 1 Axes>"
      ]
     },
     "metadata": {
      "needs_background": "light",
      "tags": []
     },
     "output_type": "display_data"
    },
    {
     "data": {
      "text/plain": [
       "<Figure size 432x288 with 0 Axes>"
      ]
     },
     "metadata": {
      "tags": []
     },
     "output_type": "display_data"
    }
   ],
   "source": [
    "plt.plot(ppl_values)\n",
    "plt.plot(val_ppl)\n",
    "plt.title('model perplexity')\n",
    "plt.ylabel('perplexity')\n",
    "plt.xlabel('epoch')\n",
    "plt.legend(['train', 'test'], loc='upper right')\n",
    "plt.show()\n",
    "\n",
    "# plt.plot(ppl_values)\n",
    "# plt.xlabel('Epochs')\n",
    "# plt.ylabel('Perplexity')\n",
    "# plt.title('Train perplexity graph')\n",
    "plt.savefig('/content/drive/MyDrive/Colab_Notebooks/NLP_assignment2/results/ppl_share.png')"
   ]
  },
  {
   "cell_type": "markdown",
   "metadata": {
    "id": "QSqiP5zCPTiY"
   },
   "source": [
    "# generate texts using your language model "
   ]
  },
  {
   "cell_type": "code",
   "execution_count": 19,
   "metadata": {
    "executionInfo": {
     "elapsed": 799,
     "status": "ok",
     "timestamp": 1606640913501,
     "user": {
      "displayName": "yong wei",
      "photoUrl": "https://lh3.googleusercontent.com/a-/AOh14GhYJ6D3p-i8GPWEqh4u2s4VniV_lHZd6l3-eHSaqA=s64",
      "userId": "07110467073693299033"
     },
     "user_tz": -480
    },
    "id": "8OsRNWPIPk2l"
   },
   "outputs": [],
   "source": [
    "class Args:\n",
    "  checkpoint = './model.pt'\n",
    "  outf = 'generated.txt'\n",
    "  words = 1000\n",
    "  seed = 1111\n",
    "  cuda =  True\n",
    "  temperature = 1.0\n",
    "  log_interval = 100\n",
    "\n",
    "args=Args()"
   ]
  },
  {
   "cell_type": "code",
   "execution_count": 21,
   "metadata": {
    "colab": {
     "base_uri": "https://localhost:8080/"
    },
    "executionInfo": {
     "elapsed": 1952,
     "status": "ok",
     "timestamp": 1606640916117,
     "user": {
      "displayName": "yong wei",
      "photoUrl": "https://lh3.googleusercontent.com/a-/AOh14GhYJ6D3p-i8GPWEqh4u2s4VniV_lHZd6l3-eHSaqA=s64",
      "userId": "07110467073693299033"
     },
     "user_tz": -480
    },
    "id": "bQrpi_BxPv6T",
    "outputId": "64675b03-1393-4551-e340-96ebd14a1c16"
   },
   "outputs": [
    {
     "name": "stdout",
     "output_type": "stream",
     "text": [
      "| Generated 0/1000 words\n",
      "| Generated 100/1000 words\n",
      "| Generated 200/1000 words\n",
      "| Generated 300/1000 words\n",
      "| Generated 400/1000 words\n",
      "| Generated 500/1000 words\n",
      "| Generated 600/1000 words\n",
      "| Generated 700/1000 words\n",
      "| Generated 800/1000 words\n",
      "| Generated 900/1000 words\n"
     ]
    }
   ],
   "source": [
    "with open(args.checkpoint, 'rb') as f:\n",
    "    model = torch.load(f)\n",
    "model.eval()\n",
    "\n",
    "ntokens = len(corpus.dictionary)\n",
    "\n",
    "input = torch.randint(ntokens, (1, 8), dtype=torch.long).to(device)\n",
    "with open(args.outf, 'w', encoding='utf-8') as outf:\n",
    "    with torch.no_grad():  # no tracking history\n",
    "        for i in range(args.words):\n",
    "#             if is_transformer_model:\n",
    "#                 output = model(input, False)\n",
    "#                 word_weights = output[-1].squeeze().div(args.temperature).exp().cpu()\n",
    "#                 word_idx = torch.multinomial(word_weights, 1)[0]\n",
    "#                 word_tensor = torch.Tensor([[word_idx]]).long().to(device)\n",
    "#                 input = torch.cat([input, word_tensor], 0)\n",
    "#             else:\n",
    "            output = model(input)\n",
    "            word_weights = output.squeeze().div(args.temperature).exp().cpu()\n",
    "            word_idx = torch.multinomial(word_weights, 1)[0]\n",
    "            input.fill_(word_idx)\n",
    "\n",
    "            word = corpus.dictionary.idx2word[word_idx]\n",
    "\n",
    "            outf.write(word + ('\\n' if i % 20 == 19 else ' '))\n",
    "\n",
    "            if i % args.log_interval == 0:\n",
    "                print('| Generated {}/{} words'.format(i, args.words))\n"
   ]
  },
  {
   "cell_type": "code",
   "execution_count": null,
   "metadata": {
    "id": "RPRSJzgMQUqY"
   },
   "outputs": [],
   "source": []
  }
 ],
 "metadata": {
  "accelerator": "GPU",
  "colab": {
   "collapsed_sections": [],
   "name": "FNNMain.ipynb",
   "provenance": [],
   "toc_visible": true
  },
  "kernelspec": {
   "display_name": "Python 3",
   "language": "python",
   "name": "python3"
  },
  "language_info": {
   "codemirror_mode": {
    "name": "ipython",
    "version": 3
   },
   "file_extension": ".py",
   "mimetype": "text/x-python",
   "name": "python",
   "nbconvert_exporter": "python",
   "pygments_lexer": "ipython3",
   "version": "3.8.5"
  }
 },
 "nbformat": 4,
 "nbformat_minor": 1
}
